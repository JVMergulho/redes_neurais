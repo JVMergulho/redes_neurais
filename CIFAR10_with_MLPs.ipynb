{
  "cells": [
    {
      "cell_type": "markdown",
      "metadata": {
        "id": "BjND-9CP7R7n"
      },
      "source": [
        "# CIFAR10 with MLPs\n",
        "Simple starter notebook to benchmark your own MLP with PyTorch on the CIFAR-10 dataset.\n",
        "\n",
        "OBS.:\n",
        "\n",
        "- The main code is basically done, so focus on training the models and searching for the best hyperparameters and architectures.\n",
        "- You are not required to use this exact code or even the PyTorch library.\n",
        "- It is recommended to use execution environments with GPU access (such as Google Colab), since larger models will take more time to train.\n",
        "- Remember to document the history of your experiments and which results motivated the changes in subsequent experiments."
      ]
    },
    {
      "cell_type": "markdown",
      "metadata": {
        "id": "C5XOl1tV9s2H"
      },
      "source": [
        "## Como tentamos melhorar o modelo:\n",
        "- Utilizamos o optuna para encontrar melhores hiperparâmetros: learning rate, número de nós em cada camada e função de ativação\n",
        "- Evitar overfiting:\n",
        "    - Regularização com weight_decay no otimizador para diminuir a magnitude dos pesos\n",
        "    - Uso de dropout para desativar 20% dos neurônios\n",
        "    - separação do dataset de treinamento em treinamento e validação\n",
        "    - Uso de early stopping levando em conta o loss da validação\n",
        "    - Uso de label smoothing para evitar confiança excessiva\n",
        "- Teste de diferentes otimizadores\n",
        "  - ADAM\n",
        "  - SGD com momentum\n",
        "- Alteração na Patience e número de épocas\n"
      ]
    },
    {
      "cell_type": "code",
      "execution_count": 1,
      "metadata": {
        "colab": {
          "base_uri": "https://localhost:8080/"
        },
        "id": "cwfccYED2ysj",
        "outputId": "030b4b66-175a-4fe5-d36b-ed82760f4f78"
      },
      "outputs": [
        {
          "output_type": "stream",
          "name": "stdout",
          "text": [
            "Collecting optuna\n",
            "  Downloading optuna-4.3.0-py3-none-any.whl.metadata (17 kB)\n",
            "Collecting alembic>=1.5.0 (from optuna)\n",
            "  Downloading alembic-1.16.1-py3-none-any.whl.metadata (7.3 kB)\n",
            "Collecting colorlog (from optuna)\n",
            "  Downloading colorlog-6.9.0-py3-none-any.whl.metadata (10 kB)\n",
            "Requirement already satisfied: numpy in /usr/local/lib/python3.11/dist-packages (from optuna) (2.0.2)\n",
            "Requirement already satisfied: packaging>=20.0 in /usr/local/lib/python3.11/dist-packages (from optuna) (24.2)\n",
            "Requirement already satisfied: sqlalchemy>=1.4.2 in /usr/local/lib/python3.11/dist-packages (from optuna) (2.0.41)\n",
            "Requirement already satisfied: tqdm in /usr/local/lib/python3.11/dist-packages (from optuna) (4.67.1)\n",
            "Requirement already satisfied: PyYAML in /usr/local/lib/python3.11/dist-packages (from optuna) (6.0.2)\n",
            "Requirement already satisfied: Mako in /usr/lib/python3/dist-packages (from alembic>=1.5.0->optuna) (1.1.3)\n",
            "Requirement already satisfied: typing-extensions>=4.12 in /usr/local/lib/python3.11/dist-packages (from alembic>=1.5.0->optuna) (4.13.2)\n",
            "Requirement already satisfied: greenlet>=1 in /usr/local/lib/python3.11/dist-packages (from sqlalchemy>=1.4.2->optuna) (3.2.2)\n",
            "Downloading optuna-4.3.0-py3-none-any.whl (386 kB)\n",
            "\u001b[2K   \u001b[90m━━━━━━━━━━━━━━━━━━━━━━━━━━━━━━━━━━━━━━━━\u001b[0m \u001b[32m386.6/386.6 kB\u001b[0m \u001b[31m6.3 MB/s\u001b[0m eta \u001b[36m0:00:00\u001b[0m\n",
            "\u001b[?25hDownloading alembic-1.16.1-py3-none-any.whl (242 kB)\n",
            "\u001b[2K   \u001b[90m━━━━━━━━━━━━━━━━━━━━━━━━━━━━━━━━━━━━━━━━\u001b[0m \u001b[32m242.5/242.5 kB\u001b[0m \u001b[31m10.6 MB/s\u001b[0m eta \u001b[36m0:00:00\u001b[0m\n",
            "\u001b[?25hDownloading colorlog-6.9.0-py3-none-any.whl (11 kB)\n",
            "Installing collected packages: colorlog, alembic, optuna\n",
            "Successfully installed alembic-1.16.1 colorlog-6.9.0 optuna-4.3.0\n",
            "Requirement already satisfied: torch in /usr/local/lib/python3.11/dist-packages (2.6.0+cu124)\n",
            "Requirement already satisfied: filelock in /usr/local/lib/python3.11/dist-packages (from torch) (3.18.0)\n",
            "Requirement already satisfied: typing-extensions>=4.10.0 in /usr/local/lib/python3.11/dist-packages (from torch) (4.13.2)\n",
            "Requirement already satisfied: networkx in /usr/local/lib/python3.11/dist-packages (from torch) (3.4.2)\n",
            "Requirement already satisfied: jinja2 in /usr/local/lib/python3.11/dist-packages (from torch) (3.1.6)\n",
            "Requirement already satisfied: fsspec in /usr/local/lib/python3.11/dist-packages (from torch) (2025.3.2)\n",
            "Collecting nvidia-cuda-nvrtc-cu12==12.4.127 (from torch)\n",
            "  Downloading nvidia_cuda_nvrtc_cu12-12.4.127-py3-none-manylinux2014_x86_64.whl.metadata (1.5 kB)\n",
            "Collecting nvidia-cuda-runtime-cu12==12.4.127 (from torch)\n",
            "  Downloading nvidia_cuda_runtime_cu12-12.4.127-py3-none-manylinux2014_x86_64.whl.metadata (1.5 kB)\n",
            "Collecting nvidia-cuda-cupti-cu12==12.4.127 (from torch)\n",
            "  Downloading nvidia_cuda_cupti_cu12-12.4.127-py3-none-manylinux2014_x86_64.whl.metadata (1.6 kB)\n",
            "Collecting nvidia-cudnn-cu12==9.1.0.70 (from torch)\n",
            "  Downloading nvidia_cudnn_cu12-9.1.0.70-py3-none-manylinux2014_x86_64.whl.metadata (1.6 kB)\n",
            "Collecting nvidia-cublas-cu12==12.4.5.8 (from torch)\n",
            "  Downloading nvidia_cublas_cu12-12.4.5.8-py3-none-manylinux2014_x86_64.whl.metadata (1.5 kB)\n",
            "Collecting nvidia-cufft-cu12==11.2.1.3 (from torch)\n",
            "  Downloading nvidia_cufft_cu12-11.2.1.3-py3-none-manylinux2014_x86_64.whl.metadata (1.5 kB)\n",
            "Collecting nvidia-curand-cu12==10.3.5.147 (from torch)\n",
            "  Downloading nvidia_curand_cu12-10.3.5.147-py3-none-manylinux2014_x86_64.whl.metadata (1.5 kB)\n",
            "Collecting nvidia-cusolver-cu12==11.6.1.9 (from torch)\n",
            "  Downloading nvidia_cusolver_cu12-11.6.1.9-py3-none-manylinux2014_x86_64.whl.metadata (1.6 kB)\n",
            "Collecting nvidia-cusparse-cu12==12.3.1.170 (from torch)\n",
            "  Downloading nvidia_cusparse_cu12-12.3.1.170-py3-none-manylinux2014_x86_64.whl.metadata (1.6 kB)\n",
            "Requirement already satisfied: nvidia-cusparselt-cu12==0.6.2 in /usr/local/lib/python3.11/dist-packages (from torch) (0.6.2)\n",
            "Requirement already satisfied: nvidia-nccl-cu12==2.21.5 in /usr/local/lib/python3.11/dist-packages (from torch) (2.21.5)\n",
            "Requirement already satisfied: nvidia-nvtx-cu12==12.4.127 in /usr/local/lib/python3.11/dist-packages (from torch) (12.4.127)\n",
            "Collecting nvidia-nvjitlink-cu12==12.4.127 (from torch)\n",
            "  Downloading nvidia_nvjitlink_cu12-12.4.127-py3-none-manylinux2014_x86_64.whl.metadata (1.5 kB)\n",
            "Requirement already satisfied: triton==3.2.0 in /usr/local/lib/python3.11/dist-packages (from torch) (3.2.0)\n",
            "Requirement already satisfied: sympy==1.13.1 in /usr/local/lib/python3.11/dist-packages (from torch) (1.13.1)\n",
            "Requirement already satisfied: mpmath<1.4,>=1.1.0 in /usr/local/lib/python3.11/dist-packages (from sympy==1.13.1->torch) (1.3.0)\n",
            "Requirement already satisfied: MarkupSafe>=2.0 in /usr/local/lib/python3.11/dist-packages (from jinja2->torch) (3.0.2)\n",
            "Downloading nvidia_cublas_cu12-12.4.5.8-py3-none-manylinux2014_x86_64.whl (363.4 MB)\n",
            "\u001b[2K   \u001b[90m━━━━━━━━━━━━━━━━━━━━━━━━━━━━━━━━━━━━━━━━\u001b[0m \u001b[32m363.4/363.4 MB\u001b[0m \u001b[31m3.5 MB/s\u001b[0m eta \u001b[36m0:00:00\u001b[0m\n",
            "\u001b[?25hDownloading nvidia_cuda_cupti_cu12-12.4.127-py3-none-manylinux2014_x86_64.whl (13.8 MB)\n",
            "\u001b[2K   \u001b[90m━━━━━━━━━━━━━━━━━━━━━━━━━━━━━━━━━━━━━━━━\u001b[0m \u001b[32m13.8/13.8 MB\u001b[0m \u001b[31m30.3 MB/s\u001b[0m eta \u001b[36m0:00:00\u001b[0m\n",
            "\u001b[?25hDownloading nvidia_cuda_nvrtc_cu12-12.4.127-py3-none-manylinux2014_x86_64.whl (24.6 MB)\n",
            "\u001b[2K   \u001b[90m━━━━━━━━━━━━━━━━━━━━━━━━━━━━━━━━━━━━━━━━\u001b[0m \u001b[32m24.6/24.6 MB\u001b[0m \u001b[31m51.2 MB/s\u001b[0m eta \u001b[36m0:00:00\u001b[0m\n",
            "\u001b[?25hDownloading nvidia_cuda_runtime_cu12-12.4.127-py3-none-manylinux2014_x86_64.whl (883 kB)\n",
            "\u001b[2K   \u001b[90m━━━━━━━━━━━━━━━━━━━━━━━━━━━━━━━━━━━━━━━━\u001b[0m \u001b[32m883.7/883.7 kB\u001b[0m \u001b[31m43.8 MB/s\u001b[0m eta \u001b[36m0:00:00\u001b[0m\n",
            "\u001b[?25hDownloading nvidia_cudnn_cu12-9.1.0.70-py3-none-manylinux2014_x86_64.whl (664.8 MB)\n",
            "\u001b[2K   \u001b[90m━━━━━━━━━━━━━━━━━━━━━━━━━━━━━━━━━━━━━━━━\u001b[0m \u001b[32m664.8/664.8 MB\u001b[0m \u001b[31m2.3 MB/s\u001b[0m eta \u001b[36m0:00:00\u001b[0m\n",
            "\u001b[?25hDownloading nvidia_cufft_cu12-11.2.1.3-py3-none-manylinux2014_x86_64.whl (211.5 MB)\n",
            "\u001b[2K   \u001b[90m━━━━━━━━━━━━━━━━━━━━━━━━━━━━━━━━━━━━━━━━\u001b[0m \u001b[32m211.5/211.5 MB\u001b[0m \u001b[31m5.5 MB/s\u001b[0m eta \u001b[36m0:00:00\u001b[0m\n",
            "\u001b[?25hDownloading nvidia_curand_cu12-10.3.5.147-py3-none-manylinux2014_x86_64.whl (56.3 MB)\n",
            "\u001b[2K   \u001b[90m━━━━━━━━━━━━━━━━━━━━━━━━━━━━━━━━━━━━━━━━\u001b[0m \u001b[32m56.3/56.3 MB\u001b[0m \u001b[31m13.3 MB/s\u001b[0m eta \u001b[36m0:00:00\u001b[0m\n",
            "\u001b[?25hDownloading nvidia_cusolver_cu12-11.6.1.9-py3-none-manylinux2014_x86_64.whl (127.9 MB)\n",
            "\u001b[2K   \u001b[90m━━━━━━━━━━━━━━━━━━━━━━━━━━━━━━━━━━━━━━━━\u001b[0m \u001b[32m127.9/127.9 MB\u001b[0m \u001b[31m7.5 MB/s\u001b[0m eta \u001b[36m0:00:00\u001b[0m\n",
            "\u001b[?25hDownloading nvidia_cusparse_cu12-12.3.1.170-py3-none-manylinux2014_x86_64.whl (207.5 MB)\n",
            "\u001b[2K   \u001b[90m━━━━━━━━━━━━━━━━━━━━━━━━━━━━━━━━━━━━━━━━\u001b[0m \u001b[32m207.5/207.5 MB\u001b[0m \u001b[31m5.4 MB/s\u001b[0m eta \u001b[36m0:00:00\u001b[0m\n",
            "\u001b[?25hDownloading nvidia_nvjitlink_cu12-12.4.127-py3-none-manylinux2014_x86_64.whl (21.1 MB)\n",
            "\u001b[2K   \u001b[90m━━━━━━━━━━━━━━━━━━━━━━━━━━━━━━━━━━━━━━━━\u001b[0m \u001b[32m21.1/21.1 MB\u001b[0m \u001b[31m82.2 MB/s\u001b[0m eta \u001b[36m0:00:00\u001b[0m\n",
            "\u001b[?25hInstalling collected packages: nvidia-nvjitlink-cu12, nvidia-curand-cu12, nvidia-cufft-cu12, nvidia-cuda-runtime-cu12, nvidia-cuda-nvrtc-cu12, nvidia-cuda-cupti-cu12, nvidia-cublas-cu12, nvidia-cusparse-cu12, nvidia-cudnn-cu12, nvidia-cusolver-cu12\n",
            "  Attempting uninstall: nvidia-nvjitlink-cu12\n",
            "    Found existing installation: nvidia-nvjitlink-cu12 12.5.82\n",
            "    Uninstalling nvidia-nvjitlink-cu12-12.5.82:\n",
            "      Successfully uninstalled nvidia-nvjitlink-cu12-12.5.82\n",
            "  Attempting uninstall: nvidia-curand-cu12\n",
            "    Found existing installation: nvidia-curand-cu12 10.3.6.82\n",
            "    Uninstalling nvidia-curand-cu12-10.3.6.82:\n",
            "      Successfully uninstalled nvidia-curand-cu12-10.3.6.82\n",
            "  Attempting uninstall: nvidia-cufft-cu12\n",
            "    Found existing installation: nvidia-cufft-cu12 11.2.3.61\n",
            "    Uninstalling nvidia-cufft-cu12-11.2.3.61:\n",
            "      Successfully uninstalled nvidia-cufft-cu12-11.2.3.61\n",
            "  Attempting uninstall: nvidia-cuda-runtime-cu12\n",
            "    Found existing installation: nvidia-cuda-runtime-cu12 12.5.82\n",
            "    Uninstalling nvidia-cuda-runtime-cu12-12.5.82:\n",
            "      Successfully uninstalled nvidia-cuda-runtime-cu12-12.5.82\n",
            "  Attempting uninstall: nvidia-cuda-nvrtc-cu12\n",
            "    Found existing installation: nvidia-cuda-nvrtc-cu12 12.5.82\n",
            "    Uninstalling nvidia-cuda-nvrtc-cu12-12.5.82:\n",
            "      Successfully uninstalled nvidia-cuda-nvrtc-cu12-12.5.82\n",
            "  Attempting uninstall: nvidia-cuda-cupti-cu12\n",
            "    Found existing installation: nvidia-cuda-cupti-cu12 12.5.82\n",
            "    Uninstalling nvidia-cuda-cupti-cu12-12.5.82:\n",
            "      Successfully uninstalled nvidia-cuda-cupti-cu12-12.5.82\n",
            "  Attempting uninstall: nvidia-cublas-cu12\n",
            "    Found existing installation: nvidia-cublas-cu12 12.5.3.2\n",
            "    Uninstalling nvidia-cublas-cu12-12.5.3.2:\n",
            "      Successfully uninstalled nvidia-cublas-cu12-12.5.3.2\n",
            "  Attempting uninstall: nvidia-cusparse-cu12\n",
            "    Found existing installation: nvidia-cusparse-cu12 12.5.1.3\n",
            "    Uninstalling nvidia-cusparse-cu12-12.5.1.3:\n",
            "      Successfully uninstalled nvidia-cusparse-cu12-12.5.1.3\n",
            "  Attempting uninstall: nvidia-cudnn-cu12\n",
            "    Found existing installation: nvidia-cudnn-cu12 9.3.0.75\n",
            "    Uninstalling nvidia-cudnn-cu12-9.3.0.75:\n",
            "      Successfully uninstalled nvidia-cudnn-cu12-9.3.0.75\n",
            "  Attempting uninstall: nvidia-cusolver-cu12\n",
            "    Found existing installation: nvidia-cusolver-cu12 11.6.3.83\n",
            "    Uninstalling nvidia-cusolver-cu12-11.6.3.83:\n",
            "      Successfully uninstalled nvidia-cusolver-cu12-11.6.3.83\n",
            "Successfully installed nvidia-cublas-cu12-12.4.5.8 nvidia-cuda-cupti-cu12-12.4.127 nvidia-cuda-nvrtc-cu12-12.4.127 nvidia-cuda-runtime-cu12-12.4.127 nvidia-cudnn-cu12-9.1.0.70 nvidia-cufft-cu12-11.2.1.3 nvidia-curand-cu12-10.3.5.147 nvidia-cusolver-cu12-11.6.1.9 nvidia-cusparse-cu12-12.3.1.170 nvidia-nvjitlink-cu12-12.4.127\n",
            "Requirement already satisfied: torchvision in /usr/local/lib/python3.11/dist-packages (0.21.0+cu124)\n",
            "Requirement already satisfied: numpy in /usr/local/lib/python3.11/dist-packages (from torchvision) (2.0.2)\n",
            "Requirement already satisfied: torch==2.6.0 in /usr/local/lib/python3.11/dist-packages (from torchvision) (2.6.0+cu124)\n",
            "Requirement already satisfied: pillow!=8.3.*,>=5.3.0 in /usr/local/lib/python3.11/dist-packages (from torchvision) (11.2.1)\n",
            "Requirement already satisfied: filelock in /usr/local/lib/python3.11/dist-packages (from torch==2.6.0->torchvision) (3.18.0)\n",
            "Requirement already satisfied: typing-extensions>=4.10.0 in /usr/local/lib/python3.11/dist-packages (from torch==2.6.0->torchvision) (4.13.2)\n",
            "Requirement already satisfied: networkx in /usr/local/lib/python3.11/dist-packages (from torch==2.6.0->torchvision) (3.4.2)\n",
            "Requirement already satisfied: jinja2 in /usr/local/lib/python3.11/dist-packages (from torch==2.6.0->torchvision) (3.1.6)\n",
            "Requirement already satisfied: fsspec in /usr/local/lib/python3.11/dist-packages (from torch==2.6.0->torchvision) (2025.3.2)\n",
            "Requirement already satisfied: nvidia-cuda-nvrtc-cu12==12.4.127 in /usr/local/lib/python3.11/dist-packages (from torch==2.6.0->torchvision) (12.4.127)\n",
            "Requirement already satisfied: nvidia-cuda-runtime-cu12==12.4.127 in /usr/local/lib/python3.11/dist-packages (from torch==2.6.0->torchvision) (12.4.127)\n",
            "Requirement already satisfied: nvidia-cuda-cupti-cu12==12.4.127 in /usr/local/lib/python3.11/dist-packages (from torch==2.6.0->torchvision) (12.4.127)\n",
            "Requirement already satisfied: nvidia-cudnn-cu12==9.1.0.70 in /usr/local/lib/python3.11/dist-packages (from torch==2.6.0->torchvision) (9.1.0.70)\n",
            "Requirement already satisfied: nvidia-cublas-cu12==12.4.5.8 in /usr/local/lib/python3.11/dist-packages (from torch==2.6.0->torchvision) (12.4.5.8)\n",
            "Requirement already satisfied: nvidia-cufft-cu12==11.2.1.3 in /usr/local/lib/python3.11/dist-packages (from torch==2.6.0->torchvision) (11.2.1.3)\n",
            "Requirement already satisfied: nvidia-curand-cu12==10.3.5.147 in /usr/local/lib/python3.11/dist-packages (from torch==2.6.0->torchvision) (10.3.5.147)\n",
            "Requirement already satisfied: nvidia-cusolver-cu12==11.6.1.9 in /usr/local/lib/python3.11/dist-packages (from torch==2.6.0->torchvision) (11.6.1.9)\n",
            "Requirement already satisfied: nvidia-cusparse-cu12==12.3.1.170 in /usr/local/lib/python3.11/dist-packages (from torch==2.6.0->torchvision) (12.3.1.170)\n",
            "Requirement already satisfied: nvidia-cusparselt-cu12==0.6.2 in /usr/local/lib/python3.11/dist-packages (from torch==2.6.0->torchvision) (0.6.2)\n",
            "Requirement already satisfied: nvidia-nccl-cu12==2.21.5 in /usr/local/lib/python3.11/dist-packages (from torch==2.6.0->torchvision) (2.21.5)\n",
            "Requirement already satisfied: nvidia-nvtx-cu12==12.4.127 in /usr/local/lib/python3.11/dist-packages (from torch==2.6.0->torchvision) (12.4.127)\n",
            "Requirement already satisfied: nvidia-nvjitlink-cu12==12.4.127 in /usr/local/lib/python3.11/dist-packages (from torch==2.6.0->torchvision) (12.4.127)\n",
            "Requirement already satisfied: triton==3.2.0 in /usr/local/lib/python3.11/dist-packages (from torch==2.6.0->torchvision) (3.2.0)\n",
            "Requirement already satisfied: sympy==1.13.1 in /usr/local/lib/python3.11/dist-packages (from torch==2.6.0->torchvision) (1.13.1)\n",
            "Requirement already satisfied: mpmath<1.4,>=1.1.0 in /usr/local/lib/python3.11/dist-packages (from sympy==1.13.1->torch==2.6.0->torchvision) (1.3.0)\n",
            "Requirement already satisfied: MarkupSafe>=2.0 in /usr/local/lib/python3.11/dist-packages (from jinja2->torch==2.6.0->torchvision) (3.0.2)\n",
            "Requirement already satisfied: scikit-learn in /usr/local/lib/python3.11/dist-packages (1.6.1)\n",
            "Requirement already satisfied: numpy>=1.19.5 in /usr/local/lib/python3.11/dist-packages (from scikit-learn) (2.0.2)\n",
            "Requirement already satisfied: scipy>=1.6.0 in /usr/local/lib/python3.11/dist-packages (from scikit-learn) (1.15.3)\n",
            "Requirement already satisfied: joblib>=1.2.0 in /usr/local/lib/python3.11/dist-packages (from scikit-learn) (1.5.0)\n",
            "Requirement already satisfied: threadpoolctl>=3.1.0 in /usr/local/lib/python3.11/dist-packages (from scikit-learn) (3.6.0)\n",
            "Requirement already satisfied: matplotlib in /usr/local/lib/python3.11/dist-packages (3.10.0)\n",
            "Requirement already satisfied: contourpy>=1.0.1 in /usr/local/lib/python3.11/dist-packages (from matplotlib) (1.3.2)\n",
            "Requirement already satisfied: cycler>=0.10 in /usr/local/lib/python3.11/dist-packages (from matplotlib) (0.12.1)\n",
            "Requirement already satisfied: fonttools>=4.22.0 in /usr/local/lib/python3.11/dist-packages (from matplotlib) (4.58.0)\n",
            "Requirement already satisfied: kiwisolver>=1.3.1 in /usr/local/lib/python3.11/dist-packages (from matplotlib) (1.4.8)\n",
            "Requirement already satisfied: numpy>=1.23 in /usr/local/lib/python3.11/dist-packages (from matplotlib) (2.0.2)\n",
            "Requirement already satisfied: packaging>=20.0 in /usr/local/lib/python3.11/dist-packages (from matplotlib) (24.2)\n",
            "Requirement already satisfied: pillow>=8 in /usr/local/lib/python3.11/dist-packages (from matplotlib) (11.2.1)\n",
            "Requirement already satisfied: pyparsing>=2.3.1 in /usr/local/lib/python3.11/dist-packages (from matplotlib) (3.2.3)\n",
            "Requirement already satisfied: python-dateutil>=2.7 in /usr/local/lib/python3.11/dist-packages (from matplotlib) (2.9.0.post0)\n",
            "Requirement already satisfied: six>=1.5 in /usr/local/lib/python3.11/dist-packages (from python-dateutil>=2.7->matplotlib) (1.17.0)\n",
            "Requirement already satisfied: numpy in /usr/local/lib/python3.11/dist-packages (2.0.2)\n",
            "Requirement already satisfied: tqdm in /usr/local/lib/python3.11/dist-packages (4.67.1)\n"
          ]
        }
      ],
      "source": [
        "%pip install optuna\n",
        "%pip install torch\n",
        "%pip install torchvision\n",
        "%pip install scikit-learn\n",
        "%pip install matplotlib\n",
        "%pip install numpy\n",
        "%pip install tqdm"
      ]
    },
    {
      "cell_type": "code",
      "execution_count": 2,
      "metadata": {
        "id": "_ErVptyZ7Npv"
      },
      "outputs": [],
      "source": [
        "#@title Libs\n",
        "\n",
        "import torch\n",
        "from torch.utils.data import DataLoader\n",
        "\n",
        "import torchvision\n",
        "import torch.nn as nn\n",
        "from torchvision import datasets, transforms\n",
        "\n",
        "from sklearn.model_selection import StratifiedShuffleSplit\n",
        "from sklearn.metrics import confusion_matrix, ConfusionMatrixDisplay\n",
        "from torch.utils.data import Subset\n",
        "\n",
        "import matplotlib.pyplot as plt\n",
        "import numpy as np\n",
        "from sklearn import metrics\n",
        "\n",
        "from tqdm import tqdm\n",
        "\n",
        "import os\n",
        "from collections import Counter\n",
        "\n",
        "import optuna"
      ]
    },
    {
      "cell_type": "markdown",
      "metadata": {
        "id": "e5EBeP3MLlf_"
      },
      "source": [
        "# Data exploration"
      ]
    },
    {
      "cell_type": "markdown",
      "metadata": {
        "id": "CrgBWBqjcE5t"
      },
      "source": [
        "Quando usamos transforms.ToTensor(), a imagem (que antes era H x W x C) vira um tensor com shape: C x H x W\n",
        "\n",
        "O matplotlib.pyplot.imshow() espera a imagem no formato H x W x C (como a maioria das bibliotecas de imagem em Python).\n"
      ]
    },
    {
      "cell_type": "code",
      "execution_count": 3,
      "metadata": {
        "id": "vUY45mRkZ9fV"
      },
      "outputs": [],
      "source": [
        "# Função para \"desnormalizar\" e mostrar imagens\n",
        "def imshow(img):\n",
        "    img = img / 2 + 0.5  # desfaz a normalização\n",
        "    img = torch.clamp(img, 0, 1)  # limita os valores ao intervalo [0, 1]\n",
        "    npimg = img.numpy()\n",
        "    plt.imshow(np.transpose(npimg, (1, 2, 0)))\n",
        "    plt.show()"
      ]
    },
    {
      "cell_type": "code",
      "execution_count": 4,
      "metadata": {
        "id": "u9ZDX-P-bZcb",
        "colab": {
          "base_uri": "https://localhost:8080/"
        },
        "outputId": "db23a354-0d8e-4a00-ecfe-6c5a5bbcb72e"
      },
      "outputs": [
        {
          "output_type": "stream",
          "name": "stderr",
          "text": [
            "100%|██████████| 170M/170M [00:04<00:00, 41.5MB/s]\n"
          ]
        }
      ],
      "source": [
        "transform = transforms.Compose([\n",
        "    transforms.ToTensor(),\n",
        "    transforms.Normalize((0.5,), (0.5,))\n",
        "])\n",
        "\n",
        "dataset = datasets.CIFAR10(root='./data', train=True, download=True, transform= transform)"
      ]
    },
    {
      "cell_type": "code",
      "execution_count": 5,
      "metadata": {
        "colab": {
          "base_uri": "https://localhost:8080/"
        },
        "id": "7iSgGi0fcrzw",
        "outputId": "baf3a211-c3c1-4973-c4f1-305f88f7e01e"
      },
      "outputs": [
        {
          "output_type": "stream",
          "name": "stdout",
          "text": [
            "frog: 5000 imagens\n",
            "truck: 5000 imagens\n",
            "deer: 5000 imagens\n",
            "automobile: 5000 imagens\n",
            "bird: 5000 imagens\n",
            "horse: 5000 imagens\n",
            "ship: 5000 imagens\n",
            "cat: 5000 imagens\n",
            "dog: 5000 imagens\n",
            "airplane: 5000 imagens\n"
          ]
        }
      ],
      "source": [
        "# Extraímos todos os rótulos do dataset de treino e ignoramos as imagens\n",
        "labels = [label for _, label in dataset]\n",
        "\n",
        "# Contamos quantas vezes cada rótulo aparece\n",
        "label_counts = Counter(labels)\n",
        "\n",
        "# Imprimimos o resultado com nome da classe\n",
        "for class_idx, count in label_counts.items():\n",
        "    class_name = dataset.classes[class_idx]\n",
        "    print(f'{class_name}: {count} imagens')"
      ]
    },
    {
      "cell_type": "code",
      "execution_count": 6,
      "metadata": {
        "colab": {
          "base_uri": "https://localhost:8080/"
        },
        "id": "P3kbTBVicUYj",
        "outputId": "caf09f14-f6cc-45aa-fb44-be94b7938426"
      },
      "outputs": [
        {
          "output_type": "stream",
          "name": "stdout",
          "text": [
            "['airplane', 'automobile', 'bird', 'cat', 'deer', 'dog', 'frog', 'horse', 'ship', 'truck']\n"
          ]
        }
      ],
      "source": [
        "print(dataset.classes)"
      ]
    },
    {
      "cell_type": "code",
      "execution_count": 7,
      "metadata": {
        "id": "KNiPDg6absHC"
      },
      "outputs": [],
      "source": [
        "def showImagesInLoader(loader):\n",
        "    # Itera no loader e mostra imagens\n",
        "    dataiter = iter(loader)\n",
        "    images, labels = next(dataiter)\n",
        "\n",
        "    # Mostra as imagens\n",
        "    imshow(torchvision.utils.make_grid(images))\n",
        "\n",
        "    # Mostra os rótulos correspondentes\n",
        "    print(' '.join(f'{dataset.classes[label]}' for label in labels))"
      ]
    },
    {
      "cell_type": "code",
      "execution_count": 8,
      "metadata": {
        "colab": {
          "base_uri": "https://localhost:8080/",
          "height": 210
        },
        "id": "OfmL1DeW9s2K",
        "outputId": "5dec80ed-8995-4b23-e4a9-fe9ddd5373ce"
      },
      "outputs": [
        {
          "output_type": "display_data",
          "data": {
            "text/plain": [
              "<Figure size 640x480 with 1 Axes>"
            ],
            "image/png": "[encoded data removed]"
          },
          "metadata": {}
        },
        {
          "output_type": "stream",
          "name": "stdout",
          "text": [
            "frog truck truck deer\n"
          ]
        }
      ],
      "source": [
        "loader = DataLoader(dataset, batch_size=4, shuffle=False)\n",
        "\n",
        "showImagesInLoader(loader)"
      ]
    },
    {
      "cell_type": "markdown",
      "metadata": {
        "id": "PqHhBntbZAoa"
      },
      "source": [
        "Scores of the first model:\n",
        "  'accuracy': 0.474, 'balanced_accuracy': np.float64(0.47400000000000003), 'precision': 0.4788458695520801, 'recall': 0.474, 'f1_score': 0.4749641894435279\n",
        "\n"
      ]
    },
    {
      "cell_type": "markdown",
      "metadata": {
        "id": "C0L4JU7C9s2K"
      },
      "source": [
        "Adding Gaussinan Noise:\n",
        "Scores of your model\n",
        " {'accuracy': 0.529, 'balanced_accuracy': np.float64(0.5289999999999999), 'precision': 0.5276866099986426, 'recall': 0.529, 'f1_score': 0.5264172516467065}"
      ]
    },
    {
      "cell_type": "markdown",
      "metadata": {
        "id": "cQ8s5u8FOMee"
      },
      "source": [
        "Começamos a treinar uma mlp com 4 camadas usando imagens com 3 canais (RGB) , depois transformamos as imagens para a escala de cinza"
      ]
    },
    {
      "cell_type": "code",
      "execution_count": 9,
      "metadata": {
        "id": "MufiLCqV9s2L"
      },
      "outputs": [],
      "source": [
        "class AddGaussianNoise(object):\n",
        "    def __init__(self, mean=0., std=0.1):\n",
        "        self.mean = mean\n",
        "        self.std = std\n",
        "\n",
        "    def __call__(self, tensor):\n",
        "        noise = torch.randn(tensor.size()) * self.std + self.mean\n",
        "        return tensor + noise\n",
        "\n",
        "    def __repr__(self):\n",
        "        return self.__class__.__name__ + f'(mean={self.mean}, std={self.std})'"
      ]
    },
    {
      "cell_type": "code",
      "execution_count": 10,
      "metadata": {
        "colab": {
          "base_uri": "https://localhost:8080/",
          "height": 210
        },
        "id": "0Ah4jmwG9s2L",
        "outputId": "5b28be95-7832-467d-bb81-e9c2e86cd0d3"
      },
      "outputs": [
        {
          "output_type": "display_data",
          "data": {
            "text/plain": [
              "<Figure size 640x480 with 1 Axes>"
            ],
            "image/png": "[encoded data removed]"
          },
          "metadata": {}
        },
        {
          "output_type": "stream",
          "name": "stdout",
          "text": [
            "frog truck truck deer\n"
          ]
        }
      ],
      "source": [
        "#@title Dataset Setup\n",
        "\n",
        "transform = transforms.Compose([\n",
        "    transforms.ToTensor(),\n",
        "    transforms.Normalize((0.5,), (0.5,)),\n",
        "    AddGaussianNoise(mean=0.0, std=0.05)\n",
        "])\n",
        "\n",
        "dataset = torchvision.datasets.CIFAR10(root='./data', train=True,\n",
        "                                        download=True, transform=transform)\n",
        "\n",
        "                                       # Itera no loader e mostra imagens\n",
        "loader = torch.utils.data.DataLoader(dataset, batch_size=4, shuffle=False)\n",
        "\n",
        "showImagesInLoader(loader)\n"
      ]
    },
    {
      "cell_type": "code",
      "execution_count": 11,
      "metadata": {
        "colab": {
          "base_uri": "https://localhost:8080/",
          "height": 210
        },
        "id": "34XW59XS9s2L",
        "outputId": "d4bf990a-b70c-404d-eed6-448bce4f19f1"
      },
      "outputs": [
        {
          "output_type": "display_data",
          "data": {
            "text/plain": [
              "<Figure size 640x480 with 1 Axes>"
            ],
            "image/png": "[encoded data removed]"
          },
          "metadata": {}
        },
        {
          "output_type": "stream",
          "name": "stdout",
          "text": [
            "cat frog airplane ship\n"
          ]
        }
      ],
      "source": [
        "# Definindo transformações de data augmentation com gaussian noise\n",
        "transform = transforms.Compose([\n",
        "    transforms.RandomHorizontalFlip(p=0.5),\n",
        "    transforms.RandomResizedCrop(32, scale=(0.8, 1.0)),\n",
        "    transforms.ColorJitter(brightness=0.2, contrast=0.2, saturation=0.2, hue=0.1),\n",
        "    transforms.RandomRotation(15),\n",
        "    transforms.RandomAffine(degrees=0, shear=5),\n",
        "    transforms.RandomApply([transforms.RandomGrayscale(p=1.0)], p=0.2),\n",
        "    transforms.RandomApply([transforms.GaussianBlur(kernel_size=(1, 1), sigma=(0.1, 2.0))], p=0.3),\n",
        "    transforms.ToTensor(),\n",
        "    transforms.Normalize((0.5,), (0.5,)),\n",
        "    AddGaussianNoise(mean=0.0, std=0.05)\n",
        "])\n",
        "\n",
        "dataset = torchvision.datasets.CIFAR10(root='./data', train=True, download=True, transform=transform)\n",
        "\n",
        "augmented_loader = torch.utils.data.DataLoader(dataset, batch_size=4, shuffle=True)\n",
        "showImagesInLoader(augmented_loader)"
      ]
    },
    {
      "cell_type": "code",
      "execution_count": 12,
      "metadata": {
        "id": "fcH-AHUK8eGn"
      },
      "outputs": [],
      "source": [
        "#@title Dataset Setup\n",
        "\n",
        "transform = transforms.Compose([\n",
        "    transforms.ToTensor(),\n",
        "    transforms.Normalize((0.5,), (0.5,)),\n",
        "    AddGaussianNoise(mean=0.0, std=0.05)\n",
        "])\n",
        "\n",
        "train_val_dataset = torchvision.datasets.CIFAR10(root='./data', train=True,\n",
        "                                        download=True, transform=transform)\n",
        "\n",
        "test_dataset = torchvision.datasets.CIFAR10(root='./data', train=False,\n",
        "                                       download=True, transform=transform)\n"
      ]
    },
    {
      "cell_type": "code",
      "execution_count": 13,
      "metadata": {
        "id": "KOnFo7eLgaLN"
      },
      "outputs": [],
      "source": [
        "# Extrai os rótulos\n",
        "targets = np.array(train_val_dataset.targets)\n",
        "\n",
        "# Cria o validador estratificado\n",
        "splitter = StratifiedShuffleSplit(n_splits=1, test_size=0.2, random_state=42)\n",
        "\n",
        "# Gera os índices\n",
        "for train_idx, val_idx in splitter.split(np.zeros(len(targets)), targets):\n",
        "    train_dataset = Subset(train_val_dataset, train_idx)\n",
        "    val_dataset = Subset(train_val_dataset, val_idx)"
      ]
    },
    {
      "cell_type": "code",
      "execution_count": 14,
      "metadata": {
        "colab": {
          "base_uri": "https://localhost:8080/"
        },
        "id": "YjgmrkvZ9s2M",
        "outputId": "d76716fb-0462-4e41-eb89-8097e9f334c0"
      },
      "outputs": [
        {
          "output_type": "stream",
          "name": "stdout",
          "text": [
            "Distribuição de classes no val_dataset:\n",
            "Classe 0: 1000 amostras\n",
            "Classe 1: 1000 amostras\n",
            "Classe 2: 1000 amostras\n",
            "Classe 3: 1000 amostras\n",
            "Classe 4: 1000 amostras\n",
            "Classe 5: 1000 amostras\n",
            "Classe 6: 1000 amostras\n",
            "Classe 7: 1000 amostras\n",
            "Classe 8: 1000 amostras\n",
            "Classe 9: 1000 amostras\n"
          ]
        }
      ],
      "source": [
        "# Acessa os rótulos (targets) do val_dataset\n",
        "val_targets = [train_val_dataset[idx][1] for idx in val_dataset.indices]\n",
        "\n",
        "# Conta quantas vezes cada classe aparece\n",
        "val_distribution = Counter(val_targets)\n",
        "\n",
        "print(\"Distribuição de classes no val_dataset:\")\n",
        "for label, count in sorted(val_distribution.items()):\n",
        "    print(f\"Classe {label}: {count} amostras\")"
      ]
    },
    {
      "cell_type": "code",
      "execution_count": 15,
      "metadata": {
        "id": "OYk-5ANCMIRY"
      },
      "outputs": [],
      "source": [
        "#@title Loaders\n",
        "batch_size = 16\n",
        "\n",
        "train_loader = torch.utils.data.DataLoader(train_dataset, batch_size=batch_size, shuffle=True)\n",
        "val_loader = torch.utils.data.DataLoader(val_dataset, batch_size=batch_size, shuffle=True)\n",
        "test_loader = torch.utils.data.DataLoader(test_dataset, batch_size=batch_size, shuffle=False)"
      ]
    },
    {
      "cell_type": "code",
      "execution_count": 16,
      "metadata": {
        "id": "KLjycMiT8zo-"
      },
      "outputs": [],
      "source": [
        "#@title Defining the MLP model\n",
        "\n",
        "class MLP(nn.Module):\n",
        "    def __init__(self, input_size, hidden1, hidden2, num_classes, activation_function):\n",
        "        super(MLP, self).__init__()\n",
        "\n",
        "        self.network = nn.Sequential(\n",
        "            nn.Linear(input_size, hidden1),\n",
        "            activation_function,\n",
        "            nn.Dropout(0.2),\n",
        "            nn.Linear(hidden1, hidden2),\n",
        "            activation_function,\n",
        "            nn.Dropout(0.2),\n",
        "            nn.Linear(hidden2, num_classes)\n",
        "        )\n",
        "\n",
        "    def forward(self, x):\n",
        "        x = x.view(x.size(0), -1)\n",
        "        return self.network(x)"
      ]
    },
    {
      "cell_type": "markdown",
      "metadata": {
        "id": "MUmXx9Ep25Tj"
      },
      "source": [
        "## Hyperparameters Study\n",
        "\n"
      ]
    },
    {
      "cell_type": "code",
      "execution_count": 24,
      "metadata": {
        "id": "X_vuhmnl3N56",
        "colab": {
          "base_uri": "https://localhost:8080/"
        },
        "outputId": "698d6bef-f9c2-4bb0-f182-8eee9e6fc758"
      },
      "outputs": [
        {
          "output_type": "stream",
          "name": "stdout",
          "text": [
            "cuda\n"
          ]
        }
      ],
      "source": [
        "device = torch.device(\"cuda\" if torch.cuda.is_available() else \"cpu\")\n",
        "print(device)\n",
        "\n",
        "input_size = 32*32*3 # 32*32 RGB images\n",
        "\n",
        "def objective(trial):\n",
        "\n",
        "    # Hiperparâmetros sugeridos pelo Optuna\n",
        "    lr = trial.suggest_float(\"lr\", 1e-5, 1e-2, log=True)\n",
        "    hidden1 = trial.suggest_int(\"hidden1\", 64, 256)\n",
        "    hidden2 = trial.suggest_int(\"hidden2\", 64, 256)\n",
        "    activation_name = trial.suggest_categorical(\"activation\", [\"ReLU\", \"LeakyReLU\", \"ELU\"])\n",
        "\n",
        "    activation_fn = getattr(nn, activation_name)()\n",
        "\n",
        "    # Dataset e DataLoader (usa apenas um subset para acelerar)\n",
        "    transform = transforms.Compose([\n",
        "        transforms.ToTensor(),\n",
        "        transforms.Normalize((0.5,), (0.5,))\n",
        "    ])\n",
        "\n",
        "    train_dataset = datasets.CIFAR10(root='./data', train=True, download=True, transform=transform)\n",
        "    val_dataset, _ = torch.utils.data.random_split(train_dataset, [5000, len(train_dataset)-5000])\n",
        "    train_loader = DataLoader(val_dataset, batch_size=64, shuffle=True)\n",
        "\n",
        "    model = MLP(input_size,\n",
        "                hidden1= hidden1,\n",
        "                hidden2= hidden2,\n",
        "                num_classes = 10,\n",
        "                activation_function = activation_fn)\n",
        "\n",
        "    model.to(device)\n",
        "    #optimizer = torch.optim.Adam(model.parameters(), lr=lr)\n",
        "    optimizer = torch.optim.SGD(model.parameters(), lr=lr, momentum=0.9)\n",
        "    criterion = nn.CrossEntropyLoss()\n",
        "\n",
        "    # Treinamento simples de 1-3 épocas (rápido)\n",
        "    for epoch in range(3):\n",
        "        model.train()\n",
        "        running_loss = 0.0\n",
        "        for images, labels in train_loader:\n",
        "            images = images.view(-1, input_size).to(device)\n",
        "            labels = labels.to(device)\n",
        "\n",
        "            optimizer.zero_grad()\n",
        "            outputs = model(images)\n",
        "            loss = criterion(outputs, labels)\n",
        "            loss.backward()\n",
        "            optimizer.step()\n",
        "            running_loss += loss.item()\n",
        "\n",
        "    # Retorna a perda média como métrica a minimizar\n",
        "    return running_loss / len(train_loader)"
      ]
    },
    {
      "cell_type": "code",
      "execution_count": 25,
      "metadata": {
        "colab": {
          "base_uri": "https://localhost:8080/"
        },
        "id": "x9EoJr78kmFc",
        "outputId": "b3d84442-4c0e-4ce9-b527-6a2b5aaa0e1e"
      },
      "outputs": [
        {
          "output_type": "stream",
          "name": "stderr",
          "text": [
            "[I 2025-06-02 00:31:39,723] A new study created in memory with name: no-name-3a1edbef-045e-4532-a37c-5cd27e52dd30\n",
            "[I 2025-06-02 00:31:44,669] Trial 0 finished with value: 1.8122791263121594 and parameters: {'lr': 0.005254209477984414, 'hidden1': 101, 'hidden2': 66, 'activation': 'ELU'}. Best is trial 0 with value: 1.8122791263121594.\n",
            "[I 2025-06-02 00:31:49,271] Trial 1 finished with value: 2.304768148856827 and parameters: {'lr': 4.713396629897016e-05, 'hidden1': 240, 'hidden2': 125, 'activation': 'LeakyReLU'}. Best is trial 0 with value: 1.8122791263121594.\n",
            "[I 2025-06-02 00:31:53,743] Trial 2 finished with value: 2.267505087429964 and parameters: {'lr': 3.9279052162108286e-05, 'hidden1': 82, 'hidden2': 85, 'activation': 'ELU'}. Best is trial 0 with value: 1.8122791263121594.\n",
            "[I 2025-06-02 00:31:58,838] Trial 3 finished with value: 2.2204473682596713 and parameters: {'lr': 0.0006710521643794112, 'hidden1': 129, 'hidden2': 133, 'activation': 'ReLU'}. Best is trial 0 with value: 1.8122791263121594.\n",
            "[I 2025-06-02 00:32:03,259] Trial 4 finished with value: 1.9111163646359988 and parameters: {'lr': 0.0037559930241543938, 'hidden1': 170, 'hidden2': 251, 'activation': 'LeakyReLU'}. Best is trial 0 with value: 1.8122791263121594.\n",
            "[I 2025-06-02 00:32:07,705] Trial 5 finished with value: 2.293400731267808 and parameters: {'lr': 0.0001072756229525718, 'hidden1': 149, 'hidden2': 247, 'activation': 'LeakyReLU'}. Best is trial 0 with value: 1.8122791263121594.\n",
            "[I 2025-06-02 00:32:12,700] Trial 6 finished with value: 1.851429919653301 and parameters: {'lr': 0.004888737579622867, 'hidden1': 253, 'hidden2': 212, 'activation': 'LeakyReLU'}. Best is trial 0 with value: 1.8122791263121594.\n",
            "[I 2025-06-02 00:32:17,187] Trial 7 finished with value: 1.8095426725435861 and parameters: {'lr': 0.0074207081085631245, 'hidden1': 225, 'hidden2': 167, 'activation': 'LeakyReLU'}. Best is trial 7 with value: 1.8095426725435861.\n",
            "[I 2025-06-02 00:32:22,283] Trial 8 finished with value: 2.26469182666344 and parameters: {'lr': 0.0003626702924218113, 'hidden1': 181, 'hidden2': 157, 'activation': 'LeakyReLU'}. Best is trial 7 with value: 1.8095426725435861.\n",
            "[I 2025-06-02 00:32:26,696] Trial 9 finished with value: 2.271402186985257 and parameters: {'lr': 0.00027448354217231085, 'hidden1': 150, 'hidden2': 226, 'activation': 'LeakyReLU'}. Best is trial 7 with value: 1.8095426725435861.\n",
            "[I 2025-06-02 00:32:31,055] Trial 10 finished with value: 2.149213428738751 and parameters: {'lr': 0.0012847231595407027, 'hidden1': 211, 'hidden2': 177, 'activation': 'ReLU'}. Best is trial 7 with value: 1.8095426725435861.\n",
            "[I 2025-06-02 00:32:36,181] Trial 11 finished with value: 1.7931898998308786 and parameters: {'lr': 0.008710859997920959, 'hidden1': 64, 'hidden2': 74, 'activation': 'ELU'}. Best is trial 11 with value: 1.7931898998308786.\n",
            "[I 2025-06-02 00:32:40,567] Trial 12 finished with value: 1.7461017747468586 and parameters: {'lr': 0.008839457296873902, 'hidden1': 65, 'hidden2': 105, 'activation': 'ELU'}. Best is trial 12 with value: 1.7461017747468586.\n",
            "[I 2025-06-02 00:32:45,267] Trial 13 finished with value: 1.9382735083374796 and parameters: {'lr': 0.0016348482760260986, 'hidden1': 71, 'hidden2': 100, 'activation': 'ELU'}. Best is trial 12 with value: 1.7461017747468586.\n",
            "[I 2025-06-02 00:32:49,856] Trial 14 finished with value: 2.3050291870213764 and parameters: {'lr': 1.1469030907854555e-05, 'hidden1': 106, 'hidden2': 105, 'activation': 'ELU'}. Best is trial 12 with value: 1.7461017747468586.\n",
            "[I 2025-06-02 00:32:54,276] Trial 15 finished with value: 1.9420236424554753 and parameters: {'lr': 0.0018940009147915618, 'hidden1': 64, 'hidden2': 64, 'activation': 'ELU'}. Best is trial 12 with value: 1.7461017747468586.\n",
            "[I 2025-06-02 00:32:59,409] Trial 16 finished with value: 1.7244495862646947 and parameters: {'lr': 0.009882075590277466, 'hidden1': 98, 'hidden2': 128, 'activation': 'ELU'}. Best is trial 16 with value: 1.7244495862646947.\n",
            "[I 2025-06-02 00:33:03,828] Trial 17 finished with value: 1.9080447079260139 and parameters: {'lr': 0.002305042398062337, 'hidden1': 98, 'hidden2': 133, 'activation': 'ELU'}. Best is trial 16 with value: 1.7244495862646947.\n",
            "[I 2025-06-02 00:33:08,298] Trial 18 finished with value: 2.026142069056064 and parameters: {'lr': 0.0008125888236380261, 'hidden1': 120, 'hidden2': 105, 'activation': 'ELU'}. Best is trial 16 with value: 1.7244495862646947.\n",
            "[I 2025-06-02 00:33:13,281] Trial 19 finished with value: 1.7757167499276656 and parameters: {'lr': 0.009802688372845774, 'hidden1': 88, 'hidden2': 192, 'activation': 'ReLU'}. Best is trial 16 with value: 1.7244495862646947.\n",
            "[I 2025-06-02 00:33:17,699] Trial 20 finished with value: 1.81917012190517 and parameters: {'lr': 0.0032967702872750545, 'hidden1': 125, 'hidden2': 142, 'activation': 'ELU'}. Best is trial 16 with value: 1.7244495862646947.\n",
            "[I 2025-06-02 00:33:22,741] Trial 21 finished with value: 1.7997755536550208 and parameters: {'lr': 0.007605601151913438, 'hidden1': 87, 'hidden2': 196, 'activation': 'ReLU'}. Best is trial 16 with value: 1.7244495862646947.\n",
            "[I 2025-06-02 00:33:27,166] Trial 22 finished with value: 1.7757299489612821 and parameters: {'lr': 0.009895680935476985, 'hidden1': 86, 'hidden2': 195, 'activation': 'ReLU'}. Best is trial 16 with value: 1.7244495862646947.\n",
            "[I 2025-06-02 00:33:31,703] Trial 23 finished with value: 1.9266500820087482 and parameters: {'lr': 0.0037427714685981423, 'hidden1': 113, 'hidden2': 118, 'activation': 'ReLU'}. Best is trial 16 with value: 1.7244495862646947.\n",
            "[I 2025-06-02 00:33:36,849] Trial 24 finished with value: 1.9849357967135273 and parameters: {'lr': 0.0028886734225381672, 'hidden1': 137, 'hidden2': 158, 'activation': 'ReLU'}. Best is trial 16 with value: 1.7244495862646947.\n",
            "[I 2025-06-02 00:33:41,293] Trial 25 finished with value: 1.7817972068545185 and parameters: {'lr': 0.005460956255622219, 'hidden1': 81, 'hidden2': 145, 'activation': 'ELU'}. Best is trial 16 with value: 1.7244495862646947.\n",
            "[I 2025-06-02 00:33:46,081] Trial 26 finished with value: 1.7949602649181704 and parameters: {'lr': 0.00970256079953679, 'hidden1': 95, 'hidden2': 182, 'activation': 'ReLU'}. Best is trial 16 with value: 1.7244495862646947.\n",
            "[I 2025-06-02 00:33:50,686] Trial 27 finished with value: 1.9742098367666896 and parameters: {'lr': 0.0012275583242769977, 'hidden1': 189, 'hidden2': 90, 'activation': 'ELU'}. Best is trial 16 with value: 1.7244495862646947.\n",
            "[I 2025-06-02 00:33:55,117] Trial 28 finished with value: 2.252730079844028 and parameters: {'lr': 0.000435041406395263, 'hidden1': 75, 'hidden2': 116, 'activation': 'ReLU'}. Best is trial 16 with value: 1.7244495862646947.\n",
            "[I 2025-06-02 00:34:00,237] Trial 29 finished with value: 1.7890357201612448 and parameters: {'lr': 0.0057712864814116836, 'hidden1': 105, 'hidden2': 228, 'activation': 'ELU'}. Best is trial 16 with value: 1.7244495862646947.\n"
          ]
        }
      ],
      "source": [
        "study = optuna.create_study(direction=\"minimize\")\n",
        "study.optimize(objective, n_trials=30)"
      ]
    },
    {
      "cell_type": "code",
      "execution_count": 26,
      "metadata": {
        "colab": {
          "base_uri": "https://localhost:8080/"
        },
        "id": "-RDeJnibl1zE",
        "outputId": "f2981ee8-3e78-446e-d0ee-162a295f3e32"
      },
      "outputs": [
        {
          "output_type": "stream",
          "name": "stdout",
          "text": [
            "Melhores hiperparâmetros:\n",
            "{'lr': 0.009882075590277466, 'hidden1': 98, 'hidden2': 128, 'activation': 'ELU'}\n"
          ]
        }
      ],
      "source": [
        "print(\"Melhores hiperparâmetros:\")\n",
        "print(study.best_params)"
      ]
    },
    {
      "cell_type": "code",
      "execution_count": 18,
      "metadata": {
        "id": "tyat2KDLL92I"
      },
      "outputs": [],
      "source": [
        "#@title Hyperparameters\n",
        "num_classes = 10\n",
        "\n",
        "learning_rate = 0.00079\n",
        "num_epochs = 50\n",
        "hidden1 = 236\n",
        "hidden2 = 227\n",
        "\n",
        "activation_function = nn.LeakyReLU()\n",
        "\n",
        "loss_function = nn.CrossEntropyLoss(label_smoothing=0.1)"
      ]
    },
    {
      "cell_type": "code",
      "execution_count": 19,
      "metadata": {
        "id": "_NHf0ZLJbYWd"
      },
      "outputs": [],
      "source": [
        "def evaluate(model, val_loader, loss_function):\n",
        "    model.eval()\n",
        "    val_loss = 0.0\n",
        "    with torch.no_grad():\n",
        "        for images, labels in val_loader:\n",
        "            images = images.view(-1, input_size).to(device)\n",
        "            labels = labels.to(device)\n",
        "            outputs = model(images)\n",
        "            loss = loss_function(outputs, labels)\n",
        "            val_loss += loss.item()\n",
        "    model.train()\n",
        "    return val_loss / len(val_loader)"
      ]
    },
    {
      "cell_type": "code",
      "execution_count": 20,
      "metadata": {
        "colab": {
          "base_uri": "https://localhost:8080/"
        },
        "id": "XjTJpiboLmSF",
        "outputId": "8507d21e-31bb-4e9c-910a-c56ea2d8b27f"
      },
      "outputs": [
        {
          "output_type": "stream",
          "name": "stdout",
          "text": [
            "cuda\n"
          ]
        },
        {
          "output_type": "stream",
          "name": "stderr",
          "text": [
            "  0%|          | 0/50 [00:09<?, ?it/s]"
          ]
        },
        {
          "output_type": "stream",
          "name": "stdout",
          "text": [
            " Epoch 1/50, Step 1000/2500, Loss: 2.318272352218628\n"
          ]
        },
        {
          "output_type": "stream",
          "name": "stderr",
          "text": [
            "  0%|          | 0/50 [00:16<?, ?it/s]"
          ]
        },
        {
          "output_type": "stream",
          "name": "stdout",
          "text": [
            " Epoch 1/50, Step 2000/2500, Loss: 1.8997761011123657\n"
          ]
        },
        {
          "output_type": "stream",
          "name": "stderr",
          "text": [
            "  0%|          | 0/50 [00:20<?, ?it/s]"
          ]
        },
        {
          "output_type": "stream",
          "name": "stdout",
          "text": [
            "Epoch 1 average loss: 1.9987\n"
          ]
        },
        {
          "output_type": "stream",
          "name": "stderr",
          "text": [
            "  2%|▏         | 1/50 [00:23<19:18, 23.65s/it]"
          ]
        },
        {
          "output_type": "stream",
          "name": "stdout",
          "text": [
            "Epoch 1 validation loss: 1.8350\n"
          ]
        },
        {
          "output_type": "stream",
          "name": "stderr",
          "text": [
            "  2%|▏         | 1/50 [00:30<19:18, 23.65s/it]"
          ]
        },
        {
          "output_type": "stream",
          "name": "stdout",
          "text": [
            " Epoch 2/50, Step 1000/2500, Loss: 2.0159106254577637\n"
          ]
        },
        {
          "output_type": "stream",
          "name": "stderr",
          "text": [
            "  2%|▏         | 1/50 [00:37<19:18, 23.65s/it]"
          ]
        },
        {
          "output_type": "stream",
          "name": "stdout",
          "text": [
            " Epoch 2/50, Step 2000/2500, Loss: 1.8363337516784668\n"
          ]
        },
        {
          "output_type": "stream",
          "name": "stderr",
          "text": [
            "  2%|▏         | 1/50 [00:41<19:18, 23.65s/it]"
          ]
        },
        {
          "output_type": "stream",
          "name": "stdout",
          "text": [
            "Epoch 2 average loss: 1.8113\n"
          ]
        },
        {
          "output_type": "stream",
          "name": "stderr",
          "text": [
            "  4%|▍         | 2/50 [00:44<17:39, 22.08s/it]"
          ]
        },
        {
          "output_type": "stream",
          "name": "stdout",
          "text": [
            "Epoch 2 validation loss: 1.7486\n"
          ]
        },
        {
          "output_type": "stream",
          "name": "stderr",
          "text": [
            "  4%|▍         | 2/50 [00:55<17:39, 22.08s/it]"
          ]
        },
        {
          "output_type": "stream",
          "name": "stdout",
          "text": [
            " Epoch 3/50, Step 1000/2500, Loss: 1.883551836013794\n"
          ]
        },
        {
          "output_type": "stream",
          "name": "stderr",
          "text": [
            "  4%|▍         | 2/50 [01:02<17:39, 22.08s/it]"
          ]
        },
        {
          "output_type": "stream",
          "name": "stdout",
          "text": [
            " Epoch 3/50, Step 2000/2500, Loss: 1.7782313823699951\n"
          ]
        },
        {
          "output_type": "stream",
          "name": "stderr",
          "text": [
            "  4%|▍         | 2/50 [01:05<17:39, 22.08s/it]"
          ]
        },
        {
          "output_type": "stream",
          "name": "stdout",
          "text": [
            "Epoch 3 average loss: 1.7387\n"
          ]
        },
        {
          "output_type": "stream",
          "name": "stderr",
          "text": [
            "  6%|▌         | 3/50 [01:09<18:11, 23.22s/it]"
          ]
        },
        {
          "output_type": "stream",
          "name": "stdout",
          "text": [
            "Epoch 3 validation loss: 1.6986\n"
          ]
        },
        {
          "output_type": "stream",
          "name": "stderr",
          "text": [
            "  6%|▌         | 3/50 [01:16<18:11, 23.22s/it]"
          ]
        },
        {
          "output_type": "stream",
          "name": "stdout",
          "text": [
            " Epoch 4/50, Step 1000/2500, Loss: 1.878528356552124\n"
          ]
        },
        {
          "output_type": "stream",
          "name": "stderr",
          "text": [
            "  6%|▌         | 3/50 [01:23<18:11, 23.22s/it]"
          ]
        },
        {
          "output_type": "stream",
          "name": "stdout",
          "text": [
            " Epoch 4/50, Step 2000/2500, Loss: 2.181734561920166\n"
          ]
        },
        {
          "output_type": "stream",
          "name": "stderr",
          "text": [
            "  6%|▌         | 3/50 [01:27<18:11, 23.22s/it]"
          ]
        },
        {
          "output_type": "stream",
          "name": "stdout",
          "text": [
            "Epoch 4 average loss: 1.6922\n"
          ]
        },
        {
          "output_type": "stream",
          "name": "stderr",
          "text": [
            "  8%|▊         | 4/50 [01:30<17:09, 22.38s/it]"
          ]
        },
        {
          "output_type": "stream",
          "name": "stdout",
          "text": [
            "Epoch 4 validation loss: 1.6668\n"
          ]
        },
        {
          "output_type": "stream",
          "name": "stderr",
          "text": [
            "  8%|▊         | 4/50 [01:37<17:09, 22.38s/it]"
          ]
        },
        {
          "output_type": "stream",
          "name": "stdout",
          "text": [
            " Epoch 5/50, Step 1000/2500, Loss: 1.5856733322143555\n"
          ]
        },
        {
          "output_type": "stream",
          "name": "stderr",
          "text": [
            "  8%|▊         | 4/50 [01:44<17:09, 22.38s/it]"
          ]
        },
        {
          "output_type": "stream",
          "name": "stdout",
          "text": [
            " Epoch 5/50, Step 2000/2500, Loss: 1.559889316558838\n"
          ]
        },
        {
          "output_type": "stream",
          "name": "stderr",
          "text": [
            "  8%|▊         | 4/50 [01:47<17:09, 22.38s/it]"
          ]
        },
        {
          "output_type": "stream",
          "name": "stdout",
          "text": [
            "Epoch 5 average loss: 1.6552\n"
          ]
        },
        {
          "output_type": "stream",
          "name": "stderr",
          "text": [
            " 10%|█         | 5/50 [01:51<16:29, 21.98s/it]"
          ]
        },
        {
          "output_type": "stream",
          "name": "stdout",
          "text": [
            "Epoch 5 validation loss: 1.6455\n"
          ]
        },
        {
          "output_type": "stream",
          "name": "stderr",
          "text": [
            " 10%|█         | 5/50 [01:58<16:29, 21.98s/it]"
          ]
        },
        {
          "output_type": "stream",
          "name": "stdout",
          "text": [
            " Epoch 6/50, Step 1000/2500, Loss: 1.9000678062438965\n"
          ]
        },
        {
          "output_type": "stream",
          "name": "stderr",
          "text": [
            " 10%|█         | 5/50 [02:05<16:29, 21.98s/it]"
          ]
        },
        {
          "output_type": "stream",
          "name": "stdout",
          "text": [
            " Epoch 6/50, Step 2000/2500, Loss: 1.7936961650848389\n"
          ]
        },
        {
          "output_type": "stream",
          "name": "stderr",
          "text": [
            " 10%|█         | 5/50 [02:08<16:29, 21.98s/it]"
          ]
        },
        {
          "output_type": "stream",
          "name": "stdout",
          "text": [
            "Epoch 6 average loss: 1.6225\n"
          ]
        },
        {
          "output_type": "stream",
          "name": "stderr",
          "text": [
            " 12%|█▏        | 6/50 [02:12<15:45, 21.50s/it]"
          ]
        },
        {
          "output_type": "stream",
          "name": "stdout",
          "text": [
            "Epoch 6 validation loss: 1.6243\n"
          ]
        },
        {
          "output_type": "stream",
          "name": "stderr",
          "text": [
            " 12%|█▏        | 6/50 [02:19<15:45, 21.50s/it]"
          ]
        },
        {
          "output_type": "stream",
          "name": "stdout",
          "text": [
            " Epoch 7/50, Step 1000/2500, Loss: 1.4894132614135742\n"
          ]
        },
        {
          "output_type": "stream",
          "name": "stderr",
          "text": [
            " 12%|█▏        | 6/50 [02:26<15:45, 21.50s/it]"
          ]
        },
        {
          "output_type": "stream",
          "name": "stdout",
          "text": [
            " Epoch 7/50, Step 2000/2500, Loss: 1.6189510822296143\n"
          ]
        },
        {
          "output_type": "stream",
          "name": "stderr",
          "text": [
            " 12%|█▏        | 6/50 [02:29<15:45, 21.50s/it]"
          ]
        },
        {
          "output_type": "stream",
          "name": "stdout",
          "text": [
            "Epoch 7 average loss: 1.5938\n"
          ]
        },
        {
          "output_type": "stream",
          "name": "stderr",
          "text": [
            " 14%|█▍        | 7/50 [02:33<15:24, 21.50s/it]"
          ]
        },
        {
          "output_type": "stream",
          "name": "stdout",
          "text": [
            "Epoch 7 validation loss: 1.6017\n"
          ]
        },
        {
          "output_type": "stream",
          "name": "stderr",
          "text": [
            " 14%|█▍        | 7/50 [02:40<15:24, 21.50s/it]"
          ]
        },
        {
          "output_type": "stream",
          "name": "stdout",
          "text": [
            " Epoch 8/50, Step 1000/2500, Loss: 1.913085699081421\n"
          ]
        },
        {
          "output_type": "stream",
          "name": "stderr",
          "text": [
            " 14%|█▍        | 7/50 [02:47<15:24, 21.50s/it]"
          ]
        },
        {
          "output_type": "stream",
          "name": "stdout",
          "text": [
            " Epoch 8/50, Step 2000/2500, Loss: 1.5376229286193848\n"
          ]
        },
        {
          "output_type": "stream",
          "name": "stderr",
          "text": [
            " 14%|█▍        | 7/50 [02:51<15:24, 21.50s/it]"
          ]
        },
        {
          "output_type": "stream",
          "name": "stdout",
          "text": [
            "Epoch 8 average loss: 1.5704\n"
          ]
        },
        {
          "output_type": "stream",
          "name": "stderr",
          "text": [
            " 16%|█▌        | 8/50 [02:54<14:58, 21.38s/it]"
          ]
        },
        {
          "output_type": "stream",
          "name": "stdout",
          "text": [
            "Epoch 8 validation loss: 1.5922\n"
          ]
        },
        {
          "output_type": "stream",
          "name": "stderr",
          "text": [
            " 16%|█▌        | 8/50 [03:01<14:58, 21.38s/it]"
          ]
        },
        {
          "output_type": "stream",
          "name": "stdout",
          "text": [
            " Epoch 9/50, Step 1000/2500, Loss: 1.342438817024231\n"
          ]
        },
        {
          "output_type": "stream",
          "name": "stderr",
          "text": [
            " 16%|█▌        | 8/50 [03:08<14:58, 21.38s/it]"
          ]
        },
        {
          "output_type": "stream",
          "name": "stdout",
          "text": [
            " Epoch 9/50, Step 2000/2500, Loss: 1.3717753887176514\n"
          ]
        },
        {
          "output_type": "stream",
          "name": "stderr",
          "text": [
            " 16%|█▌        | 8/50 [03:12<14:58, 21.38s/it]"
          ]
        },
        {
          "output_type": "stream",
          "name": "stdout",
          "text": [
            "Epoch 9 average loss: 1.5479\n"
          ]
        },
        {
          "output_type": "stream",
          "name": "stderr",
          "text": [
            " 18%|█▊        | 9/50 [03:16<14:34, 21.34s/it]"
          ]
        },
        {
          "output_type": "stream",
          "name": "stdout",
          "text": [
            "Epoch 9 validation loss: 1.5746\n"
          ]
        },
        {
          "output_type": "stream",
          "name": "stderr",
          "text": [
            " 18%|█▊        | 9/50 [03:22<14:34, 21.34s/it]"
          ]
        },
        {
          "output_type": "stream",
          "name": "stdout",
          "text": [
            " Epoch 10/50, Step 1000/2500, Loss: 1.4141590595245361\n"
          ]
        },
        {
          "output_type": "stream",
          "name": "stderr",
          "text": [
            " 18%|█▊        | 9/50 [03:29<14:34, 21.34s/it]"
          ]
        },
        {
          "output_type": "stream",
          "name": "stdout",
          "text": [
            " Epoch 10/50, Step 2000/2500, Loss: 1.561901330947876\n"
          ]
        },
        {
          "output_type": "stream",
          "name": "stderr",
          "text": [
            " 18%|█▊        | 9/50 [03:33<14:34, 21.34s/it]"
          ]
        },
        {
          "output_type": "stream",
          "name": "stdout",
          "text": [
            "Epoch 10 average loss: 1.5265\n"
          ]
        },
        {
          "output_type": "stream",
          "name": "stderr",
          "text": [
            " 20%|██        | 10/50 [03:36<14:02, 21.07s/it]"
          ]
        },
        {
          "output_type": "stream",
          "name": "stdout",
          "text": [
            "Epoch 10 validation loss: 1.5636\n"
          ]
        },
        {
          "output_type": "stream",
          "name": "stderr",
          "text": [
            " 20%|██        | 10/50 [03:43<14:02, 21.07s/it]"
          ]
        },
        {
          "output_type": "stream",
          "name": "stdout",
          "text": [
            " Epoch 11/50, Step 1000/2500, Loss: 1.8536279201507568\n"
          ]
        },
        {
          "output_type": "stream",
          "name": "stderr",
          "text": [
            " 20%|██        | 10/50 [03:50<14:02, 21.07s/it]"
          ]
        },
        {
          "output_type": "stream",
          "name": "stdout",
          "text": [
            " Epoch 11/50, Step 2000/2500, Loss: 1.751986026763916\n"
          ]
        },
        {
          "output_type": "stream",
          "name": "stderr",
          "text": [
            " 20%|██        | 10/50 [03:54<14:02, 21.07s/it]"
          ]
        },
        {
          "output_type": "stream",
          "name": "stdout",
          "text": [
            "Epoch 11 average loss: 1.5053\n"
          ]
        },
        {
          "output_type": "stream",
          "name": "stderr",
          "text": [
            " 22%|██▏       | 11/50 [03:57<13:41, 21.06s/it]"
          ]
        },
        {
          "output_type": "stream",
          "name": "stdout",
          "text": [
            "Epoch 11 validation loss: 1.5633\n"
          ]
        },
        {
          "output_type": "stream",
          "name": "stderr",
          "text": [
            " 22%|██▏       | 11/50 [04:04<13:41, 21.06s/it]"
          ]
        },
        {
          "output_type": "stream",
          "name": "stdout",
          "text": [
            " Epoch 12/50, Step 1000/2500, Loss: 1.5871940851211548\n"
          ]
        },
        {
          "output_type": "stream",
          "name": "stderr",
          "text": [
            " 22%|██▏       | 11/50 [04:11<13:41, 21.06s/it]"
          ]
        },
        {
          "output_type": "stream",
          "name": "stdout",
          "text": [
            " Epoch 12/50, Step 2000/2500, Loss: 1.3722403049468994\n"
          ]
        },
        {
          "output_type": "stream",
          "name": "stderr",
          "text": [
            " 22%|██▏       | 11/50 [04:15<13:41, 21.06s/it]"
          ]
        },
        {
          "output_type": "stream",
          "name": "stdout",
          "text": [
            "Epoch 12 average loss: 1.4881\n"
          ]
        },
        {
          "output_type": "stream",
          "name": "stderr",
          "text": [
            " 24%|██▍       | 12/50 [04:18<13:23, 21.14s/it]"
          ]
        },
        {
          "output_type": "stream",
          "name": "stdout",
          "text": [
            "Epoch 12 validation loss: 1.5440\n"
          ]
        },
        {
          "output_type": "stream",
          "name": "stderr",
          "text": [
            " 24%|██▍       | 12/50 [04:25<13:23, 21.14s/it]"
          ]
        },
        {
          "output_type": "stream",
          "name": "stdout",
          "text": [
            " Epoch 13/50, Step 1000/2500, Loss: 1.3481998443603516\n"
          ]
        },
        {
          "output_type": "stream",
          "name": "stderr",
          "text": [
            " 24%|██▍       | 12/50 [04:32<13:23, 21.14s/it]"
          ]
        },
        {
          "output_type": "stream",
          "name": "stdout",
          "text": [
            " Epoch 13/50, Step 2000/2500, Loss: 1.4732059240341187\n"
          ]
        },
        {
          "output_type": "stream",
          "name": "stderr",
          "text": [
            " 24%|██▍       | 12/50 [04:36<13:23, 21.14s/it]"
          ]
        },
        {
          "output_type": "stream",
          "name": "stdout",
          "text": [
            "Epoch 13 average loss: 1.4713\n"
          ]
        },
        {
          "output_type": "stream",
          "name": "stderr",
          "text": [
            " 26%|██▌       | 13/50 [04:39<13:01, 21.13s/it]"
          ]
        },
        {
          "output_type": "stream",
          "name": "stdout",
          "text": [
            "Epoch 13 validation loss: 1.5367\n"
          ]
        },
        {
          "output_type": "stream",
          "name": "stderr",
          "text": [
            " 26%|██▌       | 13/50 [04:46<13:01, 21.13s/it]"
          ]
        },
        {
          "output_type": "stream",
          "name": "stdout",
          "text": [
            " Epoch 14/50, Step 1000/2500, Loss: 1.4849573373794556\n"
          ]
        },
        {
          "output_type": "stream",
          "name": "stderr",
          "text": [
            " 26%|██▌       | 13/50 [04:53<13:01, 21.13s/it]"
          ]
        },
        {
          "output_type": "stream",
          "name": "stdout",
          "text": [
            " Epoch 14/50, Step 2000/2500, Loss: 1.5705959796905518\n"
          ]
        },
        {
          "output_type": "stream",
          "name": "stderr",
          "text": [
            " 26%|██▌       | 13/50 [04:57<13:01, 21.13s/it]"
          ]
        },
        {
          "output_type": "stream",
          "name": "stdout",
          "text": [
            "Epoch 14 average loss: 1.4577\n"
          ]
        },
        {
          "output_type": "stream",
          "name": "stderr",
          "text": [
            " 28%|██▊       | 14/50 [05:00<12:33, 20.93s/it]"
          ]
        },
        {
          "output_type": "stream",
          "name": "stdout",
          "text": [
            "Epoch 14 validation loss: 1.5405\n"
          ]
        },
        {
          "output_type": "stream",
          "name": "stderr",
          "text": [
            " 28%|██▊       | 14/50 [05:07<12:33, 20.93s/it]"
          ]
        },
        {
          "output_type": "stream",
          "name": "stdout",
          "text": [
            " Epoch 15/50, Step 1000/2500, Loss: 1.2257612943649292\n"
          ]
        },
        {
          "output_type": "stream",
          "name": "stderr",
          "text": [
            " 28%|██▊       | 14/50 [05:14<12:33, 20.93s/it]"
          ]
        },
        {
          "output_type": "stream",
          "name": "stdout",
          "text": [
            " Epoch 15/50, Step 2000/2500, Loss: 1.4102177619934082\n"
          ]
        },
        {
          "output_type": "stream",
          "name": "stderr",
          "text": [
            " 28%|██▊       | 14/50 [05:18<12:33, 20.93s/it]"
          ]
        },
        {
          "output_type": "stream",
          "name": "stdout",
          "text": [
            "Epoch 15 average loss: 1.4423\n"
          ]
        },
        {
          "output_type": "stream",
          "name": "stderr",
          "text": [
            " 30%|███       | 15/50 [05:21<12:14, 20.98s/it]"
          ]
        },
        {
          "output_type": "stream",
          "name": "stdout",
          "text": [
            "Epoch 15 validation loss: 1.5271\n"
          ]
        },
        {
          "output_type": "stream",
          "name": "stderr",
          "text": [
            " 30%|███       | 15/50 [05:28<12:14, 20.98s/it]"
          ]
        },
        {
          "output_type": "stream",
          "name": "stdout",
          "text": [
            " Epoch 16/50, Step 1000/2500, Loss: 1.1736751794815063\n"
          ]
        },
        {
          "output_type": "stream",
          "name": "stderr",
          "text": [
            " 30%|███       | 15/50 [05:35<12:14, 20.98s/it]"
          ]
        },
        {
          "output_type": "stream",
          "name": "stdout",
          "text": [
            " Epoch 16/50, Step 2000/2500, Loss: 1.4299979209899902\n"
          ]
        },
        {
          "output_type": "stream",
          "name": "stderr",
          "text": [
            " 30%|███       | 15/50 [05:38<12:14, 20.98s/it]"
          ]
        },
        {
          "output_type": "stream",
          "name": "stdout",
          "text": [
            "Epoch 16 average loss: 1.4255\n"
          ]
        },
        {
          "output_type": "stream",
          "name": "stderr",
          "text": [
            " 32%|███▏      | 16/50 [05:42<11:53, 20.98s/it]"
          ]
        },
        {
          "output_type": "stream",
          "name": "stdout",
          "text": [
            "Epoch 16 validation loss: 1.5285\n"
          ]
        },
        {
          "output_type": "stream",
          "name": "stderr",
          "text": [
            " 32%|███▏      | 16/50 [05:49<11:53, 20.98s/it]"
          ]
        },
        {
          "output_type": "stream",
          "name": "stdout",
          "text": [
            " Epoch 17/50, Step 1000/2500, Loss: 1.4222205877304077\n"
          ]
        },
        {
          "output_type": "stream",
          "name": "stderr",
          "text": [
            " 32%|███▏      | 16/50 [05:56<11:53, 20.98s/it]"
          ]
        },
        {
          "output_type": "stream",
          "name": "stdout",
          "text": [
            " Epoch 17/50, Step 2000/2500, Loss: 1.132777214050293\n"
          ]
        },
        {
          "output_type": "stream",
          "name": "stderr",
          "text": [
            " 32%|███▏      | 16/50 [05:59<11:53, 20.98s/it]"
          ]
        },
        {
          "output_type": "stream",
          "name": "stdout",
          "text": [
            "Epoch 17 average loss: 1.4146\n"
          ]
        },
        {
          "output_type": "stream",
          "name": "stderr",
          "text": [
            " 34%|███▍      | 17/50 [06:03<11:28, 20.87s/it]"
          ]
        },
        {
          "output_type": "stream",
          "name": "stdout",
          "text": [
            "Epoch 17 validation loss: 1.5224\n"
          ]
        },
        {
          "output_type": "stream",
          "name": "stderr",
          "text": [
            " 34%|███▍      | 17/50 [06:09<11:28, 20.87s/it]"
          ]
        },
        {
          "output_type": "stream",
          "name": "stdout",
          "text": [
            " Epoch 18/50, Step 1000/2500, Loss: 1.2335255146026611\n"
          ]
        },
        {
          "output_type": "stream",
          "name": "stderr",
          "text": [
            " 34%|███▍      | 17/50 [06:17<11:28, 20.87s/it]"
          ]
        },
        {
          "output_type": "stream",
          "name": "stdout",
          "text": [
            " Epoch 18/50, Step 2000/2500, Loss: 1.4011707305908203\n"
          ]
        },
        {
          "output_type": "stream",
          "name": "stderr",
          "text": [
            " 34%|███▍      | 17/50 [06:20<11:28, 20.87s/it]"
          ]
        },
        {
          "output_type": "stream",
          "name": "stdout",
          "text": [
            "Epoch 18 average loss: 1.4011\n"
          ]
        },
        {
          "output_type": "stream",
          "name": "stderr",
          "text": [
            " 36%|███▌      | 18/50 [06:23<11:05, 20.80s/it]"
          ]
        },
        {
          "output_type": "stream",
          "name": "stdout",
          "text": [
            "Epoch 18 validation loss: 1.5139\n"
          ]
        },
        {
          "output_type": "stream",
          "name": "stderr",
          "text": [
            " 36%|███▌      | 18/50 [06:30<11:05, 20.80s/it]"
          ]
        },
        {
          "output_type": "stream",
          "name": "stdout",
          "text": [
            " Epoch 19/50, Step 1000/2500, Loss: 1.5107536315917969\n"
          ]
        },
        {
          "output_type": "stream",
          "name": "stderr",
          "text": [
            " 36%|███▌      | 18/50 [06:37<11:05, 20.80s/it]"
          ]
        },
        {
          "output_type": "stream",
          "name": "stdout",
          "text": [
            " Epoch 19/50, Step 2000/2500, Loss: 1.5138840675354004\n"
          ]
        },
        {
          "output_type": "stream",
          "name": "stderr",
          "text": [
            " 36%|███▌      | 18/50 [06:41<11:05, 20.80s/it]"
          ]
        },
        {
          "output_type": "stream",
          "name": "stdout",
          "text": [
            "Epoch 19 average loss: 1.3868\n"
          ]
        },
        {
          "output_type": "stream",
          "name": "stderr",
          "text": [
            " 38%|███▊      | 19/50 [06:44<10:46, 20.84s/it]"
          ]
        },
        {
          "output_type": "stream",
          "name": "stdout",
          "text": [
            "Epoch 19 validation loss: 1.5107\n"
          ]
        },
        {
          "output_type": "stream",
          "name": "stderr",
          "text": [
            " 38%|███▊      | 19/50 [06:51<10:46, 20.84s/it]"
          ]
        },
        {
          "output_type": "stream",
          "name": "stdout",
          "text": [
            " Epoch 20/50, Step 1000/2500, Loss: 1.4341334104537964\n"
          ]
        },
        {
          "output_type": "stream",
          "name": "stderr",
          "text": [
            " 38%|███▊      | 19/50 [06:58<10:46, 20.84s/it]"
          ]
        },
        {
          "output_type": "stream",
          "name": "stdout",
          "text": [
            " Epoch 20/50, Step 2000/2500, Loss: 1.4267308712005615\n"
          ]
        },
        {
          "output_type": "stream",
          "name": "stderr",
          "text": [
            " 38%|███▊      | 19/50 [07:01<10:46, 20.84s/it]"
          ]
        },
        {
          "output_type": "stream",
          "name": "stdout",
          "text": [
            "Epoch 20 average loss: 1.3718\n"
          ]
        },
        {
          "output_type": "stream",
          "name": "stderr",
          "text": [
            " 40%|████      | 20/50 [07:05<10:26, 20.88s/it]"
          ]
        },
        {
          "output_type": "stream",
          "name": "stdout",
          "text": [
            "Epoch 20 validation loss: 1.5148\n"
          ]
        },
        {
          "output_type": "stream",
          "name": "stderr",
          "text": [
            " 40%|████      | 20/50 [07:12<10:26, 20.88s/it]"
          ]
        },
        {
          "output_type": "stream",
          "name": "stdout",
          "text": [
            " Epoch 21/50, Step 1000/2500, Loss: 1.384629249572754\n"
          ]
        },
        {
          "output_type": "stream",
          "name": "stderr",
          "text": [
            " 40%|████      | 20/50 [07:19<10:26, 20.88s/it]"
          ]
        },
        {
          "output_type": "stream",
          "name": "stdout",
          "text": [
            " Epoch 21/50, Step 2000/2500, Loss: 1.2264925241470337\n"
          ]
        },
        {
          "output_type": "stream",
          "name": "stderr",
          "text": [
            " 40%|████      | 20/50 [07:22<10:26, 20.88s/it]"
          ]
        },
        {
          "output_type": "stream",
          "name": "stdout",
          "text": [
            "Epoch 21 average loss: 1.3575\n"
          ]
        },
        {
          "output_type": "stream",
          "name": "stderr",
          "text": [
            " 42%|████▏     | 21/50 [07:26<10:01, 20.75s/it]"
          ]
        },
        {
          "output_type": "stream",
          "name": "stdout",
          "text": [
            "Epoch 21 validation loss: 1.5089\n"
          ]
        },
        {
          "output_type": "stream",
          "name": "stderr",
          "text": [
            " 42%|████▏     | 21/50 [07:33<10:01, 20.75s/it]"
          ]
        },
        {
          "output_type": "stream",
          "name": "stdout",
          "text": [
            " Epoch 22/50, Step 1000/2500, Loss: 1.1244159936904907\n"
          ]
        },
        {
          "output_type": "stream",
          "name": "stderr",
          "text": [
            " 42%|████▏     | 21/50 [07:40<10:01, 20.75s/it]"
          ]
        },
        {
          "output_type": "stream",
          "name": "stdout",
          "text": [
            " Epoch 22/50, Step 2000/2500, Loss: 1.5687342882156372\n"
          ]
        },
        {
          "output_type": "stream",
          "name": "stderr",
          "text": [
            " 42%|████▏     | 21/50 [07:43<10:01, 20.75s/it]"
          ]
        },
        {
          "output_type": "stream",
          "name": "stdout",
          "text": [
            "Epoch 22 average loss: 1.3477\n"
          ]
        },
        {
          "output_type": "stream",
          "name": "stderr",
          "text": [
            " 44%|████▍     | 22/50 [07:46<09:41, 20.76s/it]"
          ]
        },
        {
          "output_type": "stream",
          "name": "stdout",
          "text": [
            "Epoch 22 validation loss: 1.5095\n"
          ]
        },
        {
          "output_type": "stream",
          "name": "stderr",
          "text": [
            " 44%|████▍     | 22/50 [07:54<09:41, 20.76s/it]"
          ]
        },
        {
          "output_type": "stream",
          "name": "stdout",
          "text": [
            " Epoch 23/50, Step 1000/2500, Loss: 1.133277177810669\n"
          ]
        },
        {
          "output_type": "stream",
          "name": "stderr",
          "text": [
            " 44%|████▍     | 22/50 [08:00<09:41, 20.76s/it]"
          ]
        },
        {
          "output_type": "stream",
          "name": "stdout",
          "text": [
            " Epoch 23/50, Step 2000/2500, Loss: 1.5723694562911987\n"
          ]
        },
        {
          "output_type": "stream",
          "name": "stderr",
          "text": [
            " 44%|████▍     | 22/50 [08:04<09:41, 20.76s/it]"
          ]
        },
        {
          "output_type": "stream",
          "name": "stdout",
          "text": [
            "Epoch 23 average loss: 1.3348\n"
          ]
        },
        {
          "output_type": "stream",
          "name": "stderr",
          "text": [
            " 46%|████▌     | 23/50 [08:07<09:21, 20.79s/it]"
          ]
        },
        {
          "output_type": "stream",
          "name": "stdout",
          "text": [
            "Epoch 23 validation loss: 1.5186\n"
          ]
        },
        {
          "output_type": "stream",
          "name": "stderr",
          "text": [
            " 46%|████▌     | 23/50 [08:14<09:21, 20.79s/it]"
          ]
        },
        {
          "output_type": "stream",
          "name": "stdout",
          "text": [
            " Epoch 24/50, Step 1000/2500, Loss: 1.4174449443817139\n"
          ]
        },
        {
          "output_type": "stream",
          "name": "stderr",
          "text": [
            " 46%|████▌     | 23/50 [08:21<09:21, 20.79s/it]"
          ]
        },
        {
          "output_type": "stream",
          "name": "stdout",
          "text": [
            " Epoch 24/50, Step 2000/2500, Loss: 1.3788305521011353\n"
          ]
        },
        {
          "output_type": "stream",
          "name": "stderr",
          "text": [
            " 46%|████▌     | 23/50 [08:24<09:21, 20.79s/it]"
          ]
        },
        {
          "output_type": "stream",
          "name": "stdout",
          "text": [
            "Epoch 24 average loss: 1.3252\n"
          ]
        },
        {
          "output_type": "stream",
          "name": "stderr",
          "text": [
            " 48%|████▊     | 24/50 [08:28<09:00, 20.79s/it]"
          ]
        },
        {
          "output_type": "stream",
          "name": "stdout",
          "text": [
            "Epoch 24 validation loss: 1.5035\n"
          ]
        },
        {
          "output_type": "stream",
          "name": "stderr",
          "text": [
            " 48%|████▊     | 24/50 [08:35<09:00, 20.79s/it]"
          ]
        },
        {
          "output_type": "stream",
          "name": "stdout",
          "text": [
            " Epoch 25/50, Step 1000/2500, Loss: 1.141361951828003\n"
          ]
        },
        {
          "output_type": "stream",
          "name": "stderr",
          "text": [
            " 48%|████▊     | 24/50 [08:42<09:00, 20.79s/it]"
          ]
        },
        {
          "output_type": "stream",
          "name": "stdout",
          "text": [
            " Epoch 25/50, Step 2000/2500, Loss: 1.3410760164260864\n"
          ]
        },
        {
          "output_type": "stream",
          "name": "stderr",
          "text": [
            " 48%|████▊     | 24/50 [08:45<09:00, 20.79s/it]"
          ]
        },
        {
          "output_type": "stream",
          "name": "stdout",
          "text": [
            "Epoch 25 average loss: 1.3145\n"
          ]
        },
        {
          "output_type": "stream",
          "name": "stderr",
          "text": [
            " 50%|█████     | 25/50 [08:49<08:37, 20.69s/it]"
          ]
        },
        {
          "output_type": "stream",
          "name": "stdout",
          "text": [
            "Epoch 25 validation loss: 1.5048\n"
          ]
        },
        {
          "output_type": "stream",
          "name": "stderr",
          "text": [
            " 50%|█████     | 25/50 [08:56<08:37, 20.69s/it]"
          ]
        },
        {
          "output_type": "stream",
          "name": "stdout",
          "text": [
            " Epoch 26/50, Step 1000/2500, Loss: 1.3850409984588623\n"
          ]
        },
        {
          "output_type": "stream",
          "name": "stderr",
          "text": [
            " 50%|█████     | 25/50 [09:02<08:37, 20.69s/it]"
          ]
        },
        {
          "output_type": "stream",
          "name": "stdout",
          "text": [
            " Epoch 26/50, Step 2000/2500, Loss: 1.260919451713562\n"
          ]
        },
        {
          "output_type": "stream",
          "name": "stderr",
          "text": [
            " 50%|█████     | 25/50 [09:06<08:37, 20.69s/it]"
          ]
        },
        {
          "output_type": "stream",
          "name": "stdout",
          "text": [
            "Epoch 26 average loss: 1.3052\n"
          ]
        },
        {
          "output_type": "stream",
          "name": "stderr",
          "text": [
            " 52%|█████▏    | 26/50 [09:10<08:18, 20.79s/it]"
          ]
        },
        {
          "output_type": "stream",
          "name": "stdout",
          "text": [
            "Epoch 26 validation loss: 1.4995\n"
          ]
        },
        {
          "output_type": "stream",
          "name": "stderr",
          "text": [
            " 52%|█████▏    | 26/50 [09:17<08:18, 20.79s/it]"
          ]
        },
        {
          "output_type": "stream",
          "name": "stdout",
          "text": [
            " Epoch 27/50, Step 1000/2500, Loss: 1.2562898397445679\n"
          ]
        },
        {
          "output_type": "stream",
          "name": "stderr",
          "text": [
            " 52%|█████▏    | 26/50 [09:23<08:18, 20.79s/it]"
          ]
        },
        {
          "output_type": "stream",
          "name": "stdout",
          "text": [
            " Epoch 27/50, Step 2000/2500, Loss: 1.3373310565948486\n"
          ]
        },
        {
          "output_type": "stream",
          "name": "stderr",
          "text": [
            " 52%|█████▏    | 26/50 [09:27<08:18, 20.79s/it]"
          ]
        },
        {
          "output_type": "stream",
          "name": "stdout",
          "text": [
            "Epoch 27 average loss: 1.2913\n"
          ]
        },
        {
          "output_type": "stream",
          "name": "stderr",
          "text": [
            " 54%|█████▍    | 27/50 [09:30<07:59, 20.84s/it]"
          ]
        },
        {
          "output_type": "stream",
          "name": "stdout",
          "text": [
            "Epoch 27 validation loss: 1.5198\n"
          ]
        },
        {
          "output_type": "stream",
          "name": "stderr",
          "text": [
            " 54%|█████▍    | 27/50 [09:37<07:59, 20.84s/it]"
          ]
        },
        {
          "output_type": "stream",
          "name": "stdout",
          "text": [
            " Epoch 28/50, Step 1000/2500, Loss: 1.4116102457046509\n"
          ]
        },
        {
          "output_type": "stream",
          "name": "stderr",
          "text": [
            " 54%|█████▍    | 27/50 [09:44<07:59, 20.84s/it]"
          ]
        },
        {
          "output_type": "stream",
          "name": "stdout",
          "text": [
            " Epoch 28/50, Step 2000/2500, Loss: 1.2911614179611206\n"
          ]
        },
        {
          "output_type": "stream",
          "name": "stderr",
          "text": [
            " 54%|█████▍    | 27/50 [09:48<07:59, 20.84s/it]"
          ]
        },
        {
          "output_type": "stream",
          "name": "stdout",
          "text": [
            "Epoch 28 average loss: 1.2833\n"
          ]
        },
        {
          "output_type": "stream",
          "name": "stderr",
          "text": [
            " 56%|█████▌    | 28/50 [09:51<07:35, 20.70s/it]"
          ]
        },
        {
          "output_type": "stream",
          "name": "stdout",
          "text": [
            "Epoch 28 validation loss: 1.5021\n"
          ]
        },
        {
          "output_type": "stream",
          "name": "stderr",
          "text": [
            " 56%|█████▌    | 28/50 [09:58<07:35, 20.70s/it]"
          ]
        },
        {
          "output_type": "stream",
          "name": "stdout",
          "text": [
            " Epoch 29/50, Step 1000/2500, Loss: 1.3914958238601685\n"
          ]
        },
        {
          "output_type": "stream",
          "name": "stderr",
          "text": [
            " 56%|█████▌    | 28/50 [10:05<07:35, 20.70s/it]"
          ]
        },
        {
          "output_type": "stream",
          "name": "stdout",
          "text": [
            " Epoch 29/50, Step 2000/2500, Loss: 1.2220301628112793\n"
          ]
        },
        {
          "output_type": "stream",
          "name": "stderr",
          "text": [
            " 56%|█████▌    | 28/50 [10:09<07:35, 20.70s/it]"
          ]
        },
        {
          "output_type": "stream",
          "name": "stdout",
          "text": [
            "Epoch 29 average loss: 1.2732\n"
          ]
        },
        {
          "output_type": "stream",
          "name": "stderr",
          "text": [
            " 58%|█████▊    | 29/50 [10:12<07:16, 20.78s/it]"
          ]
        },
        {
          "output_type": "stream",
          "name": "stdout",
          "text": [
            "Epoch 29 validation loss: 1.5080\n"
          ]
        },
        {
          "output_type": "stream",
          "name": "stderr",
          "text": [
            " 58%|█████▊    | 29/50 [10:19<07:16, 20.78s/it]"
          ]
        },
        {
          "output_type": "stream",
          "name": "stdout",
          "text": [
            " Epoch 30/50, Step 1000/2500, Loss: 1.3302862644195557\n"
          ]
        },
        {
          "output_type": "stream",
          "name": "stderr",
          "text": [
            " 58%|█████▊    | 29/50 [10:26<07:16, 20.78s/it]"
          ]
        },
        {
          "output_type": "stream",
          "name": "stdout",
          "text": [
            " Epoch 30/50, Step 2000/2500, Loss: 1.0704164505004883\n"
          ]
        },
        {
          "output_type": "stream",
          "name": "stderr",
          "text": [
            " 58%|█████▊    | 29/50 [10:29<07:16, 20.78s/it]"
          ]
        },
        {
          "output_type": "stream",
          "name": "stdout",
          "text": [
            "Epoch 30 average loss: 1.2647\n"
          ]
        },
        {
          "output_type": "stream",
          "name": "stderr",
          "text": [
            " 60%|██████    | 30/50 [10:33<06:56, 20.85s/it]"
          ]
        },
        {
          "output_type": "stream",
          "name": "stdout",
          "text": [
            "Epoch 30 validation loss: 1.5059\n"
          ]
        },
        {
          "output_type": "stream",
          "name": "stderr",
          "text": [
            " 60%|██████    | 30/50 [10:40<06:56, 20.85s/it]"
          ]
        },
        {
          "output_type": "stream",
          "name": "stdout",
          "text": [
            " Epoch 31/50, Step 1000/2500, Loss: 0.961858868598938\n"
          ]
        },
        {
          "output_type": "stream",
          "name": "stderr",
          "text": [
            " 60%|██████    | 30/50 [10:47<06:56, 20.85s/it]"
          ]
        },
        {
          "output_type": "stream",
          "name": "stdout",
          "text": [
            " Epoch 31/50, Step 2000/2500, Loss: 1.0378148555755615\n"
          ]
        },
        {
          "output_type": "stream",
          "name": "stderr",
          "text": [
            " 60%|██████    | 30/50 [10:50<06:56, 20.85s/it]"
          ]
        },
        {
          "output_type": "stream",
          "name": "stdout",
          "text": [
            "Epoch 31 average loss: 1.2547\n"
          ]
        },
        {
          "output_type": "stream",
          "name": "stderr",
          "text": [
            " 62%|██████▏   | 31/50 [10:54<06:37, 20.91s/it]"
          ]
        },
        {
          "output_type": "stream",
          "name": "stdout",
          "text": [
            "Epoch 31 validation loss: 1.5169\n"
          ]
        },
        {
          "output_type": "stream",
          "name": "stderr",
          "text": [
            " 62%|██████▏   | 31/50 [11:00<06:37, 20.91s/it]"
          ]
        },
        {
          "output_type": "stream",
          "name": "stdout",
          "text": [
            " Epoch 32/50, Step 1000/2500, Loss: 1.3577563762664795\n"
          ]
        },
        {
          "output_type": "stream",
          "name": "stderr",
          "text": [
            " 62%|██████▏   | 31/50 [11:08<06:37, 20.91s/it]"
          ]
        },
        {
          "output_type": "stream",
          "name": "stdout",
          "text": [
            " Epoch 32/50, Step 2000/2500, Loss: 1.524707555770874\n"
          ]
        },
        {
          "output_type": "stream",
          "name": "stderr",
          "text": [
            " 62%|██████▏   | 31/50 [11:11<06:37, 20.91s/it]"
          ]
        },
        {
          "output_type": "stream",
          "name": "stdout",
          "text": [
            "Epoch 32 average loss: 1.2458\n"
          ]
        },
        {
          "output_type": "stream",
          "name": "stderr",
          "text": [
            " 64%|██████▍   | 32/50 [11:14<06:13, 20.74s/it]"
          ]
        },
        {
          "output_type": "stream",
          "name": "stdout",
          "text": [
            "Epoch 32 validation loss: 1.5002\n"
          ]
        },
        {
          "output_type": "stream",
          "name": "stderr",
          "text": [
            " 64%|██████▍   | 32/50 [11:21<06:13, 20.74s/it]"
          ]
        },
        {
          "output_type": "stream",
          "name": "stdout",
          "text": [
            " Epoch 33/50, Step 1000/2500, Loss: 1.196081280708313\n"
          ]
        },
        {
          "output_type": "stream",
          "name": "stderr",
          "text": [
            " 64%|██████▍   | 32/50 [11:28<06:13, 20.74s/it]"
          ]
        },
        {
          "output_type": "stream",
          "name": "stdout",
          "text": [
            " Epoch 33/50, Step 2000/2500, Loss: 1.5839399099349976\n"
          ]
        },
        {
          "output_type": "stream",
          "name": "stderr",
          "text": [
            " 64%|██████▍   | 32/50 [11:32<06:13, 20.74s/it]"
          ]
        },
        {
          "output_type": "stream",
          "name": "stdout",
          "text": [
            "Epoch 33 average loss: 1.2361\n"
          ]
        },
        {
          "output_type": "stream",
          "name": "stderr",
          "text": [
            " 66%|██████▌   | 33/50 [11:35<05:53, 20.79s/it]"
          ]
        },
        {
          "output_type": "stream",
          "name": "stdout",
          "text": [
            "Epoch 33 validation loss: 1.5186\n"
          ]
        },
        {
          "output_type": "stream",
          "name": "stderr",
          "text": [
            " 66%|██████▌   | 33/50 [11:42<05:53, 20.79s/it]"
          ]
        },
        {
          "output_type": "stream",
          "name": "stdout",
          "text": [
            " Epoch 34/50, Step 1000/2500, Loss: 1.2387555837631226\n"
          ]
        },
        {
          "output_type": "stream",
          "name": "stderr",
          "text": [
            " 66%|██████▌   | 33/50 [11:49<05:53, 20.79s/it]"
          ]
        },
        {
          "output_type": "stream",
          "name": "stdout",
          "text": [
            " Epoch 34/50, Step 2000/2500, Loss: 0.9933732748031616\n"
          ]
        },
        {
          "output_type": "stream",
          "name": "stderr",
          "text": [
            " 66%|██████▌   | 33/50 [11:52<05:53, 20.79s/it]"
          ]
        },
        {
          "output_type": "stream",
          "name": "stdout",
          "text": [
            "Epoch 34 average loss: 1.2289\n"
          ]
        },
        {
          "output_type": "stream",
          "name": "stderr",
          "text": [
            " 68%|██████▊   | 34/50 [11:56<05:33, 20.83s/it]"
          ]
        },
        {
          "output_type": "stream",
          "name": "stdout",
          "text": [
            "Epoch 34 validation loss: 1.5041\n"
          ]
        },
        {
          "output_type": "stream",
          "name": "stderr",
          "text": [
            " 68%|██████▊   | 34/50 [12:03<05:33, 20.83s/it]"
          ]
        },
        {
          "output_type": "stream",
          "name": "stdout",
          "text": [
            " Epoch 35/50, Step 1000/2500, Loss: 1.2152366638183594\n"
          ]
        },
        {
          "output_type": "stream",
          "name": "stderr",
          "text": [
            " 68%|██████▊   | 34/50 [12:10<05:33, 20.83s/it]"
          ]
        },
        {
          "output_type": "stream",
          "name": "stdout",
          "text": [
            " Epoch 35/50, Step 2000/2500, Loss: 1.4112613201141357\n"
          ]
        },
        {
          "output_type": "stream",
          "name": "stderr",
          "text": [
            " 68%|██████▊   | 34/50 [12:13<05:33, 20.83s/it]"
          ]
        },
        {
          "output_type": "stream",
          "name": "stdout",
          "text": [
            "Epoch 35 average loss: 1.2189\n"
          ]
        },
        {
          "output_type": "stream",
          "name": "stderr",
          "text": [
            " 70%|███████   | 35/50 [12:17<05:11, 20.78s/it]"
          ]
        },
        {
          "output_type": "stream",
          "name": "stdout",
          "text": [
            "Epoch 35 validation loss: 1.5118\n"
          ]
        },
        {
          "output_type": "stream",
          "name": "stderr",
          "text": [
            " 70%|███████   | 35/50 [12:24<05:11, 20.78s/it]"
          ]
        },
        {
          "output_type": "stream",
          "name": "stdout",
          "text": [
            " Epoch 36/50, Step 1000/2500, Loss: 1.10566246509552\n"
          ]
        },
        {
          "output_type": "stream",
          "name": "stderr",
          "text": [
            " 70%|███████   | 35/50 [12:31<05:11, 20.78s/it]"
          ]
        },
        {
          "output_type": "stream",
          "name": "stdout",
          "text": [
            " Epoch 36/50, Step 2000/2500, Loss: 1.3652976751327515\n"
          ]
        },
        {
          "output_type": "stream",
          "name": "stderr",
          "text": [
            " 70%|███████   | 35/50 [12:34<05:11, 20.78s/it]"
          ]
        },
        {
          "output_type": "stream",
          "name": "stdout",
          "text": [
            "Epoch 36 average loss: 1.2104\n"
          ]
        },
        {
          "output_type": "stream",
          "name": "stderr",
          "text": [
            " 70%|███████   | 35/50 [12:37<05:24, 21.66s/it]"
          ]
        },
        {
          "output_type": "stream",
          "name": "stdout",
          "text": [
            "Epoch 36 validation loss: 1.5123\n",
            "Early stopping triggered.\n"
          ]
        },
        {
          "output_type": "stream",
          "name": "stderr",
          "text": [
            "\n"
          ]
        }
      ],
      "source": [
        "#@title Training loop\n",
        "device = torch.device(\"cuda\" if torch.cuda.is_available() else \"cpu\")\n",
        "print(device)\n",
        "\n",
        "# Build the model\n",
        "mlp = MLP(input_size,\n",
        "                hidden1= hidden1,\n",
        "                hidden2= hidden2,\n",
        "                num_classes = 10,\n",
        "                activation_function = activation_function)\n",
        "mlp.to(device)\n",
        "\n",
        "# Setting optimizer up\n",
        "#optimizer = torch.optim.AdamW(mlp.parameters(), lr=learning_rate, weight_decay = 1e-4)\n",
        "optimizer = torch.optim.SGD(mlp.parameters(), lr=learning_rate, momentum=0.9, weight_decay=1e-4)\n",
        "\n",
        "# Early stopping setup\n",
        "best_loss = float('inf')\n",
        "patience = 10\n",
        "patience_counter = 0\n",
        "best_model_state = None\n",
        "\n",
        "train_losses = []\n",
        "val_losses = []\n",
        "\n",
        "# Start training epochs loop\n",
        "for epoch in tqdm(range(num_epochs)):\n",
        "  epoch_loss = 0.0\n",
        "  for i, (images, labels) in enumerate(train_loader):\n",
        "    images = images.view(-1,input_size).to(device) # flattenning images\n",
        "    labels = labels.to(device)\n",
        "\n",
        "    # Forward pass\n",
        "    optimizer.zero_grad()\n",
        "    outputs = mlp(images)\n",
        "\n",
        "    # Backward pass\n",
        "    loss = loss_function(outputs, labels)\n",
        "    loss.backward()\n",
        "    optimizer.step()\n",
        "\n",
        "    epoch_loss += loss.item()\n",
        "\n",
        "    if (i+1) % 1000 == 0:\n",
        "      tqdm.write(f' Epoch {epoch + 1}/{num_epochs}, Step {i+1}/{len(train_dataset) // batch_size}, Loss: {loss}')\n",
        "\n",
        "  epoch_loss /= len(train_loader)\n",
        "  tqdm.write(f'Epoch {epoch+1} average loss: {epoch_loss:.4f}')\n",
        "  train_losses.append(epoch_loss)\n",
        "\n",
        "  val_loss = evaluate(mlp, val_loader, loss_function)\n",
        "  tqdm.write(f'Epoch {epoch+1} validation loss: {val_loss:.4f}')\n",
        "  val_losses.append(val_loss)\n",
        "\n",
        "  # Early stopping using loss value\n",
        "  if val_loss < best_loss:\n",
        "    best_loss = val_loss\n",
        "    patience_counter = 0\n",
        "    best_model_state = mlp.state_dict()\n",
        "  else:\n",
        "    patience_counter += 1\n",
        "    if patience_counter >= patience:\n",
        "      tqdm.write(\"Early stopping triggered.\")\n",
        "      break\n",
        "\n",
        "if best_model_state is not None:\n",
        "    mlp.load_state_dict(best_model_state)\n",
        "    torch.save(mlp.state_dict(), \"melhor_modelo.pth\")\n"
      ]
    },
    {
      "cell_type": "code",
      "execution_count": 21,
      "metadata": {
        "id": "zaxCer_mddbq",
        "colab": {
          "base_uri": "https://localhost:8080/",
          "height": 564
        },
        "outputId": "2b354e2e-bc46-4e01-f5ec-7199c1a79481"
      },
      "outputs": [
        {
          "output_type": "display_data",
          "data": {
            "text/plain": [
              "<Figure size 1000x600 with 1 Axes>"
            ],
            "image/png": "[encoded data removed]"
          },
          "metadata": {}
        }
      ],
      "source": [
        "plt.figure(figsize=(10,6))\n",
        "plt.plot(train_losses, label='Train Loss')\n",
        "plt.plot(val_losses, label='Validation Loss')\n",
        "plt.xlabel('Epoch')\n",
        "plt.ylabel('Loss')\n",
        "plt.title('Train vs Validation Loss')\n",
        "plt.legend()\n",
        "plt.grid(True)\n",
        "plt.show()"
      ]
    },
    {
      "cell_type": "code",
      "execution_count": null,
      "metadata": {
        "colab": {
          "base_uri": "https://localhost:8080/"
        },
        "id": "vxYFc_r5KCzS",
        "outputId": "f7ea8fa5-087b-41ce-e286-de4a69659ba5"
      },
      "outputs": [
        {
          "name": "stdout",
          "output_type": "stream",
          "text": [
            "cuda\n"
          ]
        }
      ],
      "source": [
        "print(device)"
      ]
    },
    {
      "cell_type": "code",
      "execution_count": 22,
      "metadata": {
        "id": "13FaQlXcNvM6"
      },
      "outputs": [],
      "source": [
        "#@title Defining metrics helper\n",
        "\n",
        "def get_scores(targets, predictions):\n",
        "    return {\n",
        "        \"accuracy\": metrics.accuracy_score(targets, predictions),\n",
        "        \"balanced_accuracy\": metrics.balanced_accuracy_score(targets, predictions),\n",
        "        \"precision\": metrics.precision_score(targets, predictions, average=\"weighted\"),\n",
        "        \"recall\": metrics.recall_score(targets, predictions, average=\"weighted\"),\n",
        "        \"f1_score\": metrics.f1_score(targets, predictions, average=\"weighted\")\n",
        "    }"
      ]
    },
    {
      "cell_type": "code",
      "execution_count": 23,
      "metadata": {
        "colab": {
          "base_uri": "https://localhost:8080/"
        },
        "id": "jMA-DgwPhkVm",
        "outputId": "5c2cb588-f115-438a-dc84-5264a634eaa6"
      },
      "outputs": [
        {
          "output_type": "stream",
          "name": "stdout",
          "text": [
            "cuda\n",
            "Pesos carregados com sucesso.\n",
            "Scores of your model\n",
            " {'accuracy': 0.5533, 'balanced_accuracy': np.float64(0.5532999999999999), 'precision': 0.5549836670738871, 'recall': 0.5533, 'f1_score': 0.5521826788849169}\n"
          ]
        }
      ],
      "source": [
        "#@title Evaluate model (accuracy, precision, recall)\n",
        "device = torch.device(\"cuda\" if torch.cuda.is_available() else \"cpu\")\n",
        "print(device)\n",
        "\n",
        "mlp = MLP(input_size,\n",
        "          hidden1= hidden1,\n",
        "          hidden2= hidden2,\n",
        "          num_classes = 10,\n",
        "          activation_function = activation_function)\n",
        "\n",
        "mlp.to(device)\n",
        "\n",
        "if os.path.exists(\"melhor_modelo.pth\"):\n",
        "    mlp.load_state_dict(torch.load(\"melhor_modelo.pth\"))\n",
        "    print(\"Pesos carregados com sucesso.\")\n",
        "else:\n",
        "    print(\"Arquivo de pesos não encontrado. Modelo será inicializado do zero.\")\n",
        "\n",
        "mlp.eval()\n",
        "predictions = []\n",
        "labels = []\n",
        "for images, label in val_loader:\n",
        "  images = images.view(-1,input_size).to(device)\n",
        "  label = label.to(device)\n",
        "\n",
        "  output = mlp(images)\n",
        "  _, predicted = torch.max(output,1)\n",
        "\n",
        "  predictions.extend(predicted.cpu().numpy())\n",
        "  labels.extend(label.cpu().numpy())\n",
        "\n",
        "scores = get_scores(labels, predictions)\n",
        "print(\"Scores of your model\\n\", scores)"
      ]
    },
    {
      "cell_type": "code",
      "execution_count": null,
      "metadata": {
        "id": "Jaht861Y9s2O",
        "outputId": "57d80f88-43e2-4267-a43c-337ee0c17e82"
      },
      "outputs": [
        {
          "data": {
            "image/png": "[encoded data removed]",
            "text/plain": [
              "<Figure size 640x480 with 2 Axes>"
            ]
          },
          "metadata": {},
          "output_type": "display_data"
        }
      ],
      "source": [
        "cm = confusion_matrix(labels, predictions)\n",
        "\n",
        "# Plotar a matriz de confusão\n",
        "disp = ConfusionMatrixDisplay(confusion_matrix=cm)\n",
        "disp.plot(cmap=plt.cm.Blues)  # pode mudar o colormap se quiser\n",
        "plt.title(\"Matriz de Confusão\")\n",
        "plt.show()"
      ]
    },
    {
      "cell_type": "code",
      "execution_count": null,
      "metadata": {
        "id": "aNEdi3-I9s2O",
        "outputId": "9d365e6a-1d8b-47f4-e02a-fd7f274976bf"
      },
      "outputs": [
        {
          "name": "stdout",
          "output_type": "stream",
          "text": [
            "0: airplane\n",
            "1: automobile\n",
            "2: bird\n",
            "3: cat\n",
            "4: deer\n",
            "5: dog\n",
            "6: frog\n",
            "7: horse\n",
            "8: ship\n",
            "9: truck\n"
          ]
        }
      ],
      "source": [
        "for label in range(10):\n",
        "    print(f\"{label}: {test_dataset.classes[label]}\")"
      ]
    },
    {
      "cell_type": "code",
      "execution_count": null,
      "metadata": {
        "id": "D-NBpt719s2O",
        "outputId": "ec869b90-ba2e-4d83-e6dd-6a1bccfd3371"
      },
      "outputs": [
        {
          "name": "stderr",
          "output_type": "stream",
          "text": [
            "Clipping input data to the valid range for imshow with RGB data ([0..1] for floats or [0..255] for integers). Got range [-0.92526716..1.0537698].\n"
          ]
        },
        {
          "data": {
            "image/png": "[encoded data removed]",
            "text/plain": [
              "<Figure size 640x480 with 1 Axes>"
            ]
          },
          "metadata": {},
          "output_type": "display_data"
        },
        {
          "name": "stderr",
          "output_type": "stream",
          "text": [
            "Clipping input data to the valid range for imshow with RGB data ([0..1] for floats or [0..255] for integers). Got range [-1.1052287..1.0334064].\n"
          ]
        },
        {
          "data": {
            "image/png": "[encoded data removed]",
            "text/plain": [
              "<Figure size 640x480 with 1 Axes>"
            ]
          },
          "metadata": {},
          "output_type": "display_data"
        }
      ],
      "source": [
        "# Lista com nomes das classes (exemplo para CIFAR-10)\n",
        "class_names = ['airplane', 'automobile', 'bird', 'cat', 'deer',\n",
        "               'dog', 'frog', 'horse', 'ship', 'truck']\n",
        "\n",
        "# Detecta o dispositivo\n",
        "device = torch.device(\"cuda\" if torch.cuda.is_available() else \"cpu\")\n",
        "\n",
        "# Move o modelo para o dispositivo\n",
        "mlp.to(device)\n",
        "mlp.eval()\n",
        "\n",
        "correct_image = None\n",
        "incorrect_image = None\n",
        "\n",
        "# Sem gradientes para avaliação\n",
        "with torch.no_grad():\n",
        "    for images, labels in test_loader:\n",
        "        images = images.to(device)\n",
        "        labels = labels.to(device)\n",
        "\n",
        "        outputs = mlp(images)\n",
        "        _, preds = torch.max(outputs, 1)\n",
        "\n",
        "        for i in range(len(labels)):\n",
        "            if preds[i] == labels[i] and correct_image is None:\n",
        "                correct_image = images[i].cpu()\n",
        "                correct_label = labels[i].cpu()\n",
        "                predicted_correct = preds[i].cpu()\n",
        "            elif preds[i] != labels[i] and incorrect_image is None:\n",
        "                incorrect_image = images[i].cpu()\n",
        "                true_label = labels[i].cpu()\n",
        "                predicted_incorrect = preds[i].cpu()\n",
        "\n",
        "            if correct_image is not None and incorrect_image is not None:\n",
        "                break\n",
        "        if correct_image is not None and incorrect_image is not None:\n",
        "            break\n",
        "\n",
        "# Função para exibir imagem\n",
        "def show_image(img_tensor, title=\"\"):\n",
        "    img = img_tensor.permute(1, 2, 0)  # de (C, H, W) para (H, W, C)\n",
        "    plt.imshow(img.numpy())\n",
        "    plt.title(title)\n",
        "    plt.axis('off')\n",
        "    plt.show()\n",
        "\n",
        "# Mostra imagens com nomes das classes\n",
        "show_image(correct_image, f\"Correta: {class_names[predicted_correct.item()]}\")\n",
        "show_image(incorrect_image, f\"Incorreta: Previsto {class_names[predicted_incorrect.item()]}, Real {class_names[true_label.item()]}\")\n"
      ]
    },
    {
      "cell_type": "markdown",
      "metadata": {
        "id": "bA8HgFj-MjYc"
      },
      "source": [
        "# You can change/optimize this as you want\n",
        "- Different optimizers, activation functions, etc\n",
        "- Automatic hyperparameters optimization (Optuna)\n",
        "- Regularization techniques\n",
        "- Validation set to track metrics during epochs\n",
        "- Transform input data\n",
        "- ..."
      ]
    }
  ],
  "metadata": {
    "accelerator": "GPU",
    "colab": {
      "gpuType": "T4",
      "provenance": []
    },
    "kernelspec": {
      "display_name": "Python 3",
      "name": "python3"
    },
    "language_info": {
      "codemirror_mode": {
        "name": "ipython",
        "version": 3
      },
      "file_extension": ".py",
      "mimetype": "text/x-python",
      "name": "python",
      "nbconvert_exporter": "python",
      "pygments_lexer": "ipython3",
      "version": "3.13.3"
    }
  },
  "nbformat": 4,
  "nbformat_minor": 0
}