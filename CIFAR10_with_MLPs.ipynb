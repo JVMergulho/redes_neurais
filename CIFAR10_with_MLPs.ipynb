{
  "cells": [
    {
      "cell_type": "markdown",
      "metadata": {
        "id": "BjND-9CP7R7n"
      },
      "source": [
        "# CIFAR10 with MLPs\n",
        "Simple starter notebook to benchmark your own MLP with PyTorch on the CIFAR-10 dataset.\n",
        "\n",
        "OBS.:\n",
        "\n",
        "- The main code is basically done, so focus on training the models and searching for the best hyperparameters and architectures.\n",
        "- You are not required to use this exact code or even the PyTorch library.\n",
        "- It is recommended to use execution environments with GPU access (such as Google Colab), since larger models will take more time to train.\n",
        "- Remember to document the history of your experiments and which results motivated the changes in subsequent experiments."
      ]
    },
    {
      "cell_type": "markdown",
      "metadata": {},
      "source": [
        "## Como tentamos melhorar o modelo:\n",
        "- Utilizamos o optuna para encontrar melhores hiperparâmetros: learning rate, número de nós em cada camada e função de ativação\n",
        "- Evitar overfiting:\n",
        "    - Regularização com weight_decay no otimizador para diminuir a magnitude dos pesos\n",
        "    - Uso de dropout para desativar 20% dos neurônios\n",
        "    - separação do dataset de treinamento em treinamento e validação\n",
        "    - Uso de early stopping levando em conta o loss da validação"
      ]
    },
    {
      "cell_type": "code",
      "execution_count": null,
      "metadata": {
        "colab": {
          "base_uri": "https://localhost:8080/"
        },
        "id": "cwfccYED2ysj",
        "outputId": "d39d0704-61a5-4c90-b925-bb4438958bac"
      },
      "outputs": [
        {
          "name": "stdout",
          "output_type": "stream",
          "text": [
            "Requirement already satisfied: optuna in c:\\users\\anaso\\appdata\\local\\programs\\python\\python313\\lib\\site-packages (4.3.0)\n",
            "Requirement already satisfied: alembic>=1.5.0 in c:\\users\\anaso\\appdata\\local\\programs\\python\\python313\\lib\\site-packages (from optuna) (1.16.1)\n",
            "Requirement already satisfied: colorlog in c:\\users\\anaso\\appdata\\local\\programs\\python\\python313\\lib\\site-packages (from optuna) (6.9.0)\n",
            "Requirement already satisfied: numpy in c:\\users\\anaso\\appdata\\local\\programs\\python\\python313\\lib\\site-packages (from optuna) (2.2.6)\n",
            "Requirement already satisfied: packaging>=20.0 in c:\\users\\anaso\\appdata\\roaming\\python\\python313\\site-packages (from optuna) (25.0)\n",
            "Requirement already satisfied: sqlalchemy>=1.4.2 in c:\\users\\anaso\\appdata\\local\\programs\\python\\python313\\lib\\site-packages (from optuna) (2.0.41)\n",
            "Requirement already satisfied: tqdm in c:\\users\\anaso\\appdata\\local\\programs\\python\\python313\\lib\\site-packages (from optuna) (4.67.1)\n",
            "Requirement already satisfied: PyYAML in c:\\users\\anaso\\appdata\\local\\programs\\python\\python313\\lib\\site-packages (from optuna) (6.0.2)\n",
            "Requirement already satisfied: Mako in c:\\users\\anaso\\appdata\\local\\programs\\python\\python313\\lib\\site-packages (from alembic>=1.5.0->optuna) (1.3.10)\n",
            "Requirement already satisfied: typing-extensions>=4.12 in c:\\users\\anaso\\appdata\\local\\programs\\python\\python313\\lib\\site-packages (from alembic>=1.5.0->optuna) (4.13.2)\n",
            "Requirement already satisfied: greenlet>=1 in c:\\users\\anaso\\appdata\\local\\programs\\python\\python313\\lib\\site-packages (from sqlalchemy>=1.4.2->optuna) (3.2.2)\n",
            "Requirement already satisfied: colorama in c:\\users\\anaso\\appdata\\roaming\\python\\python313\\site-packages (from colorlog->optuna) (0.4.6)\n",
            "Requirement already satisfied: MarkupSafe>=0.9.2 in c:\\users\\anaso\\appdata\\local\\programs\\python\\python313\\lib\\site-packages (from Mako->alembic>=1.5.0->optuna) (3.0.2)\n",
            "Note: you may need to restart the kernel to use updated packages.\n",
            "Requirement already satisfied: torch in c:\\users\\anaso\\appdata\\local\\programs\\python\\python313\\lib\\site-packages (2.7.0)\n",
            "Requirement already satisfied: filelock in c:\\users\\anaso\\appdata\\local\\programs\\python\\python313\\lib\\site-packages (from torch) (3.18.0)\n",
            "Requirement already satisfied: typing-extensions>=4.10.0 in c:\\users\\anaso\\appdata\\local\\programs\\python\\python313\\lib\\site-packages (from torch) (4.13.2)\n",
            "Requirement already satisfied: sympy>=1.13.3 in c:\\users\\anaso\\appdata\\local\\programs\\python\\python313\\lib\\site-packages (from torch) (1.14.0)\n",
            "Requirement already satisfied: networkx in c:\\users\\anaso\\appdata\\local\\programs\\python\\python313\\lib\\site-packages (from torch) (3.5)\n",
            "Requirement already satisfied: jinja2 in c:\\users\\anaso\\appdata\\local\\programs\\python\\python313\\lib\\site-packages (from torch) (3.1.6)\n",
            "Requirement already satisfied: fsspec in c:\\users\\anaso\\appdata\\local\\programs\\python\\python313\\lib\\site-packages (from torch) (2025.5.1)\n",
            "Requirement already satisfied: setuptools in c:\\users\\anaso\\appdata\\local\\programs\\python\\python313\\lib\\site-packages (from torch) (80.9.0)\n",
            "Requirement already satisfied: mpmath<1.4,>=1.1.0 in c:\\users\\anaso\\appdata\\local\\programs\\python\\python313\\lib\\site-packages (from sympy>=1.13.3->torch) (1.3.0)\n",
            "Requirement already satisfied: MarkupSafe>=2.0 in c:\\users\\anaso\\appdata\\local\\programs\\python\\python313\\lib\\site-packages (from jinja2->torch) (3.0.2)\n",
            "Note: you may need to restart the kernel to use updated packages.\n",
            "Requirement already satisfied: torchvision in c:\\users\\anaso\\appdata\\local\\programs\\python\\python313\\lib\\site-packages (0.22.0)\n",
            "Requirement already satisfied: numpy in c:\\users\\anaso\\appdata\\local\\programs\\python\\python313\\lib\\site-packages (from torchvision) (2.2.6)\n",
            "Requirement already satisfied: torch==2.7.0 in c:\\users\\anaso\\appdata\\local\\programs\\python\\python313\\lib\\site-packages (from torchvision) (2.7.0)\n",
            "Requirement already satisfied: pillow!=8.3.*,>=5.3.0 in c:\\users\\anaso\\appdata\\local\\programs\\python\\python313\\lib\\site-packages (from torchvision) (11.2.1)\n",
            "Requirement already satisfied: filelock in c:\\users\\anaso\\appdata\\local\\programs\\python\\python313\\lib\\site-packages (from torch==2.7.0->torchvision) (3.18.0)\n",
            "Requirement already satisfied: typing-extensions>=4.10.0 in c:\\users\\anaso\\appdata\\local\\programs\\python\\python313\\lib\\site-packages (from torch==2.7.0->torchvision) (4.13.2)\n",
            "Requirement already satisfied: sympy>=1.13.3 in c:\\users\\anaso\\appdata\\local\\programs\\python\\python313\\lib\\site-packages (from torch==2.7.0->torchvision) (1.14.0)\n",
            "Requirement already satisfied: networkx in c:\\users\\anaso\\appdata\\local\\programs\\python\\python313\\lib\\site-packages (from torch==2.7.0->torchvision) (3.5)\n",
            "Requirement already satisfied: jinja2 in c:\\users\\anaso\\appdata\\local\\programs\\python\\python313\\lib\\site-packages (from torch==2.7.0->torchvision) (3.1.6)\n",
            "Requirement already satisfied: fsspec in c:\\users\\anaso\\appdata\\local\\programs\\python\\python313\\lib\\site-packages (from torch==2.7.0->torchvision) (2025.5.1)\n",
            "Requirement already satisfied: setuptools in c:\\users\\anaso\\appdata\\local\\programs\\python\\python313\\lib\\site-packages (from torch==2.7.0->torchvision) (80.9.0)\n",
            "Requirement already satisfied: mpmath<1.4,>=1.1.0 in c:\\users\\anaso\\appdata\\local\\programs\\python\\python313\\lib\\site-packages (from sympy>=1.13.3->torch==2.7.0->torchvision) (1.3.0)\n",
            "Requirement already satisfied: MarkupSafe>=2.0 in c:\\users\\anaso\\appdata\\local\\programs\\python\\python313\\lib\\site-packages (from jinja2->torch==2.7.0->torchvision) (3.0.2)\n",
            "Note: you may need to restart the kernel to use updated packages.\n",
            "Requirement already satisfied: scikit-learn in c:\\users\\anaso\\appdata\\local\\programs\\python\\python313\\lib\\site-packages (1.6.1)\n",
            "Requirement already satisfied: numpy>=1.19.5 in c:\\users\\anaso\\appdata\\local\\programs\\python\\python313\\lib\\site-packages (from scikit-learn) (2.2.6)\n",
            "Requirement already satisfied: scipy>=1.6.0 in c:\\users\\anaso\\appdata\\local\\programs\\python\\python313\\lib\\site-packages (from scikit-learn) (1.15.3)\n",
            "Requirement already satisfied: joblib>=1.2.0 in c:\\users\\anaso\\appdata\\local\\programs\\python\\python313\\lib\\site-packages (from scikit-learn) (1.5.1)\n",
            "Requirement already satisfied: threadpoolctl>=3.1.0 in c:\\users\\anaso\\appdata\\local\\programs\\python\\python313\\lib\\site-packages (from scikit-learn) (3.6.0)\n",
            "Note: you may need to restart the kernel to use updated packages.\n",
            "Requirement already satisfied: matplotlib in c:\\users\\anaso\\appdata\\local\\programs\\python\\python313\\lib\\site-packages (3.10.3)\n",
            "Requirement already satisfied: contourpy>=1.0.1 in c:\\users\\anaso\\appdata\\local\\programs\\python\\python313\\lib\\site-packages (from matplotlib) (1.3.2)\n",
            "Requirement already satisfied: cycler>=0.10 in c:\\users\\anaso\\appdata\\local\\programs\\python\\python313\\lib\\site-packages (from matplotlib) (0.12.1)\n",
            "Requirement already satisfied: fonttools>=4.22.0 in c:\\users\\anaso\\appdata\\local\\programs\\python\\python313\\lib\\site-packages (from matplotlib) (4.58.1)\n",
            "Requirement already satisfied: kiwisolver>=1.3.1 in c:\\users\\anaso\\appdata\\local\\programs\\python\\python313\\lib\\site-packages (from matplotlib) (1.4.8)\n",
            "Requirement already satisfied: numpy>=1.23 in c:\\users\\anaso\\appdata\\local\\programs\\python\\python313\\lib\\site-packages (from matplotlib) (2.2.6)\n",
            "Requirement already satisfied: packaging>=20.0 in c:\\users\\anaso\\appdata\\roaming\\python\\python313\\site-packages (from matplotlib) (25.0)\n",
            "Requirement already satisfied: pillow>=8 in c:\\users\\anaso\\appdata\\local\\programs\\python\\python313\\lib\\site-packages (from matplotlib) (11.2.1)\n",
            "Requirement already satisfied: pyparsing>=2.3.1 in c:\\users\\anaso\\appdata\\local\\programs\\python\\python313\\lib\\site-packages (from matplotlib) (3.2.3)\n",
            "Requirement already satisfied: python-dateutil>=2.7 in c:\\users\\anaso\\appdata\\roaming\\python\\python313\\site-packages (from matplotlib) (2.9.0.post0)\n",
            "Requirement already satisfied: six>=1.5 in c:\\users\\anaso\\appdata\\roaming\\python\\python313\\site-packages (from python-dateutil>=2.7->matplotlib) (1.17.0)\n",
            "Note: you may need to restart the kernel to use updated packages.\n",
            "Requirement already satisfied: numpy in c:\\users\\anaso\\appdata\\local\\programs\\python\\python313\\lib\\site-packages (2.2.6)\n",
            "Note: you may need to restart the kernel to use updated packages.\n",
            "Requirement already satisfied: tqdm in c:\\users\\anaso\\appdata\\local\\programs\\python\\python313\\lib\\site-packages (4.67.1)\n",
            "Requirement already satisfied: colorama in c:\\users\\anaso\\appdata\\roaming\\python\\python313\\site-packages (from tqdm) (0.4.6)\n",
            "Note: you may need to restart the kernel to use updated packages.\n",
            "Note: you may need to restart the kernel to use updated packages.\n"
          ]
        },
        {
          "name": "stderr",
          "output_type": "stream",
          "text": [
            "ERROR: Could not find a version that satisfies the requirement os (from versions: none)\n",
            "ERROR: No matching distribution found for os\n"
          ]
        }
      ],
      "source": [
        "%pip install optuna\n",
        "%pip install torch\n",
        "%pip install torchvision\n",
        "%pip install scikit-learn\n",
        "%pip install matplotlib\n",
        "%pip install numpy\n",
        "%pip install tqdm"
      ]
    },
    {
      "cell_type": "code",
      "execution_count": 2,
      "metadata": {
        "id": "_ErVptyZ7Npv"
      },
      "outputs": [
        {
          "name": "stderr",
          "output_type": "stream",
          "text": [
            "c:\\Users\\anaso\\AppData\\Local\\Programs\\Python\\Python313\\Lib\\site-packages\\tqdm\\auto.py:21: TqdmWarning: IProgress not found. Please update jupyter and ipywidgets. See https://ipywidgets.readthedocs.io/en/stable/user_install.html\n",
            "  from .autonotebook import tqdm as notebook_tqdm\n"
          ]
        }
      ],
      "source": [
        "#@title Libs\n",
        "\n",
        "import torch \n",
        "from torch.utils.data import DataLoader\n",
        "\n",
        "import torchvision\n",
        "import torch.nn as nn\n",
        "from torchvision import datasets, transforms\n",
        "\n",
        "from sklearn.model_selection import StratifiedShuffleSplit\n",
        "from torch.utils.data import Subset\n",
        "\n",
        "import matplotlib.pyplot as plt\n",
        "import numpy as np\n",
        "from sklearn import metrics\n",
        "\n",
        "from tqdm import tqdm\n",
        "\n",
        "import os\n",
        "from collections import Counter\n",
        "\n",
        "import optuna"
      ]
    },
    {
      "cell_type": "markdown",
      "metadata": {
        "id": "e5EBeP3MLlf_"
      },
      "source": [
        "# Data exploration"
      ]
    },
    {
      "cell_type": "markdown",
      "metadata": {
        "id": "CrgBWBqjcE5t"
      },
      "source": [
        "Quando usamos transforms.ToTensor(), a imagem (que antes era H x W x C) vira um tensor com shape: C x H x W\n",
        "\n",
        "O matplotlib.pyplot.imshow() espera a imagem no formato H x W x C (como a maioria das bibliotecas de imagem em Python).\n"
      ]
    },
    {
      "cell_type": "code",
      "execution_count": 3,
      "metadata": {
        "id": "vUY45mRkZ9fV"
      },
      "outputs": [],
      "source": [
        "# Função para \"desnormalizar\" e mostrar imagens\n",
        "def imshow(img):\n",
        "    img = img / 2 + 0.5  # desfaz a normalização\n",
        "    img = torch.clamp(img, 0, 1)  # limita os valores ao intervalo [0, 1]\n",
        "    npimg = img.numpy()\n",
        "    plt.imshow(np.transpose(npimg, (1, 2, 0)))\n",
        "    plt.show()"
      ]
    },
    {
      "cell_type": "code",
      "execution_count": 4,
      "metadata": {
        "id": "u9ZDX-P-bZcb"
      },
      "outputs": [
        {
          "name": "stderr",
          "output_type": "stream",
          "text": [
            "100%|██████████| 170M/170M [00:10<00:00, 16.4MB/s] \n"
          ]
        }
      ],
      "source": [
        "transform = transforms.Compose([\n",
        "    transforms.ToTensor(),\n",
        "    transforms.Normalize((0.5,), (0.5,))  \n",
        "])\n",
        "\n",
        "dataset = datasets.CIFAR10(root='./data', train=True, download=True, transform= transform)\n",
        "loader = DataLoader(dataset, batch_size=4, shuffle=True)"
      ]
    },
    {
      "cell_type": "code",
      "execution_count": 5,
      "metadata": {
        "colab": {
          "base_uri": "https://localhost:8080/",
          "height": 210
        },
        "id": "KNiPDg6absHC",
        "outputId": "e5affeae-fadf-49a0-e98d-376ead921e15"
      },
      "outputs": [
        {
          "data": {
            "image/png": "[encoded data removed]",
            "text/plain": [
              "<Figure size 640x480 with 1 Axes>"
            ]
          },
          "metadata": {},
          "output_type": "display_data"
        },
        {
          "name": "stdout",
          "output_type": "stream",
          "text": [
            "deer airplane automobile horse\n"
          ]
        }
      ],
      "source": [
        "# Itera no loader e mostra imagens\n",
        "dataiter = iter(loader)\n",
        "images, labels = next(dataiter)\n",
        "\n",
        "# Mostra as imagens\n",
        "imshow(torchvision.utils.make_grid(images))\n",
        "\n",
        "# Mostra os rótulos correspondentes\n",
        "print(' '.join(f'{dataset.classes[label]}' for label in labels))"
      ]
    },
    {
      "cell_type": "code",
      "execution_count": 6,
      "metadata": {
        "colab": {
          "base_uri": "https://localhost:8080/"
        },
        "id": "P3kbTBVicUYj",
        "outputId": "3d1425e2-0b16-4c33-f4ac-3d82cf9c27e5"
      },
      "outputs": [
        {
          "name": "stdout",
          "output_type": "stream",
          "text": [
            "['airplane', 'automobile', 'bird', 'cat', 'deer', 'dog', 'frog', 'horse', 'ship', 'truck']\n"
          ]
        }
      ],
      "source": [
        "print(dataset.classes)"
      ]
    },
    {
      "cell_type": "code",
      "execution_count": 7,
      "metadata": {
        "colab": {
          "base_uri": "https://localhost:8080/"
        },
        "id": "7iSgGi0fcrzw",
        "outputId": "31b43fee-67c9-413b-db3f-4a08da26a1c9"
      },
      "outputs": [
        {
          "name": "stdout",
          "output_type": "stream",
          "text": [
            "frog: 5000 imagens\n",
            "truck: 5000 imagens\n",
            "deer: 5000 imagens\n",
            "automobile: 5000 imagens\n",
            "bird: 5000 imagens\n",
            "horse: 5000 imagens\n",
            "ship: 5000 imagens\n",
            "cat: 5000 imagens\n",
            "dog: 5000 imagens\n",
            "airplane: 5000 imagens\n"
          ]
        }
      ],
      "source": [
        "# Extraímos todos os rótulos do dataset de treino e ignoramos as imagens\n",
        "labels = [label for _, label in dataset]\n",
        "\n",
        "# Contamos quantas vezes cada rótulo aparece\n",
        "label_counts = Counter(labels)\n",
        "\n",
        "# Imprimimos o resultado com nome da classe\n",
        "for class_idx, count in label_counts.items():\n",
        "    class_name = dataset.classes[class_idx]\n",
        "    print(f'{class_name}: {count} imagens')"
      ]
    },
    {
      "cell_type": "markdown",
      "metadata": {
        "id": "PqHhBntbZAoa"
      },
      "source": [
        "Scores of the first model:\n",
        "  'accuracy': 0.474, 'balanced_accuracy': np.float64(0.47400000000000003), 'precision': 0.4788458695520801, 'recall': 0.474, 'f1_score': 0.4749641894435279\n",
        "\n"
      ]
    },
    {
      "cell_type": "markdown",
      "metadata": {
        "id": "cQ8s5u8FOMee"
      },
      "source": [
        "Começamos a treinar uma mlp com 4 camadas usando imagens com 3 canais (RGB) , depois transformamos as imagens para a escala de cinza"
      ]
    },
    {
      "cell_type": "code",
      "execution_count": 8,
      "metadata": {
        "id": "KLjycMiT8zo-"
      },
      "outputs": [],
      "source": [
        "#@title Defining the MLP model\n",
        "\n",
        "class MLP(nn.Module):\n",
        "    def __init__(self, input_size, hidden1, hidden2, num_classes, activation_function):\n",
        "        super(MLP, self).__init__()\n",
        "\n",
        "        self.network = nn.Sequential(\n",
        "            nn.Linear(input_size, hidden1),\n",
        "            activation_function,\n",
        "            nn.Dropout(0.2),\n",
        "            nn.Linear(hidden1, hidden2),\n",
        "            activation_function,\n",
        "            nn.Dropout(0.2),\n",
        "            nn.Linear(hidden2, num_classes)\n",
        "        )\n",
        "\n",
        "    def forward(self, x):\n",
        "        return self.network(x)"
      ]
    },
    {
      "cell_type": "markdown",
      "metadata": {
        "id": "MUmXx9Ep25Tj"
      },
      "source": [
        "## Hyperparameters Study\n",
        "\n"
      ]
    },
    {
      "cell_type": "code",
      "execution_count": 9,
      "metadata": {
        "id": "X_vuhmnl3N56"
      },
      "outputs": [],
      "source": [
        "device = torch.device(\"cuda\" if torch.cuda.is_available() else \"cpu\")\n",
        "\n",
        "def objective(trial):\n",
        "\n",
        "    # Hiperparâmetros sugeridos pelo Optuna\n",
        "    lr = trial.suggest_float(\"lr\", 1e-5, 1e-2, log=True)\n",
        "    hidden1 = trial.suggest_int(\"hidden1\", 64, 256)\n",
        "    hidden2 = trial.suggest_int(\"hidden2\", 64, 256)\n",
        "    activation_name = trial.suggest_categorical(\"activation\", [\"ReLU\", \"LeakyReLU\", \"ELU\"])\n",
        "\n",
        "    activation_fn = getattr(nn, activation_name)()\n",
        "\n",
        "    # Dataset e DataLoader (usa apenas um subset para acelerar)\n",
        "    transform = transforms.Compose([\n",
        "        transforms.ToTensor(),\n",
        "        transforms.Normalize((0.5,), (0.5,))\n",
        "    ])\n",
        "\n",
        "    train_dataset = datasets.CIFAR10(root='./data', train=True, download=True, transform=transform)\n",
        "    val_dataset, _ = torch.utils.data.random_split(train_dataset, [5000, len(train_dataset)-5000])\n",
        "    train_loader = DataLoader(val_dataset, batch_size=64, shuffle=True)\n",
        "\n",
        "    model = MLP(32*32*3,\n",
        "                hidden1= hidden1,\n",
        "                hidden2= hidden2,\n",
        "                num_classes = 10,\n",
        "                activation_function = activation_fn)\n",
        "\n",
        "    model.to(device)\n",
        "    optimizer = torch.optim.Adam(model.parameters(), lr=lr)\n",
        "    criterion = nn.CrossEntropyLoss()\n",
        "\n",
        "    # Treinamento simples de 1-3 épocas (rápido)\n",
        "    for epoch in range(3):\n",
        "        model.train()\n",
        "        running_loss = 0.0\n",
        "        for images, labels in train_loader:\n",
        "            images = images.view(-1, 32*32*3).to(device)\n",
        "            labels = labels.to(device)\n",
        "\n",
        "            optimizer.zero_grad()\n",
        "            outputs = model(images)\n",
        "            loss = criterion(outputs, labels)\n",
        "            loss.backward()\n",
        "            optimizer.step()\n",
        "            running_loss += loss.item()\n",
        "\n",
        "    # Retorna a perda média como métrica a minimizar\n",
        "    return running_loss / len(train_loader)"
      ]
    },
    {
      "cell_type": "code",
      "execution_count": 10,
      "metadata": {
        "colab": {
          "base_uri": "https://localhost:8080/"
        },
        "id": "x9EoJr78kmFc",
        "outputId": "cdb95e82-de0e-4ad5-e144-9b446b07f6b2"
      },
      "outputs": [
        {
          "name": "stderr",
          "output_type": "stream",
          "text": [
            "[I 2025-05-31 16:05:07,857] A new study created in memory with name: no-name-fcc6b38c-0eb7-49f3-bb88-4fb9310cfb51\n",
            "[I 2025-05-31 16:05:14,753] Trial 0 finished with value: 1.753482859345931 and parameters: {'lr': 0.0005327036667632498, 'hidden1': 118, 'hidden2': 67, 'activation': 'LeakyReLU'}. Best is trial 0 with value: 1.753482859345931.\n",
            "[I 2025-05-31 16:05:21,363] Trial 1 finished with value: 1.6457125205027907 and parameters: {'lr': 0.0010192132541430078, 'hidden1': 186, 'hidden2': 105, 'activation': 'ReLU'}. Best is trial 1 with value: 1.6457125205027907.\n",
            "[I 2025-05-31 16:05:28,781] Trial 2 finished with value: 1.917522689964198 and parameters: {'lr': 9.640445097076418e-05, 'hidden1': 78, 'hidden2': 228, 'activation': 'LeakyReLU'}. Best is trial 1 with value: 1.6457125205027907.\n",
            "[I 2025-05-31 16:05:35,010] Trial 3 finished with value: 1.8443338116513024 and parameters: {'lr': 9.575655114446811e-05, 'hidden1': 195, 'hidden2': 106, 'activation': 'ReLU'}. Best is trial 1 with value: 1.6457125205027907.\n",
            "[I 2025-05-31 16:05:41,780] Trial 4 finished with value: 1.799822241445131 and parameters: {'lr': 0.00011833779005254361, 'hidden1': 216, 'hidden2': 181, 'activation': 'ReLU'}. Best is trial 1 with value: 1.6457125205027907.\n",
            "[I 2025-05-31 16:05:48,723] Trial 5 finished with value: 2.090321996543981 and parameters: {'lr': 1.3919329366622685e-05, 'hidden1': 88, 'hidden2': 235, 'activation': 'ELU'}. Best is trial 1 with value: 1.6457125205027907.\n",
            "[I 2025-05-31 16:05:55,475] Trial 6 finished with value: 2.200940334344212 and parameters: {'lr': 1.1277879286904813e-05, 'hidden1': 225, 'hidden2': 166, 'activation': 'ReLU'}. Best is trial 1 with value: 1.6457125205027907.\n",
            "[I 2025-05-31 16:06:02,358] Trial 7 finished with value: 1.6322926343241824 and parameters: {'lr': 0.00047850758892509254, 'hidden1': 226, 'hidden2': 173, 'activation': 'ReLU'}. Best is trial 7 with value: 1.6322926343241824.\n",
            "[I 2025-05-31 16:06:08,800] Trial 8 finished with value: 1.695970378344572 and parameters: {'lr': 0.0004216720498097502, 'hidden1': 180, 'hidden2': 78, 'activation': 'ReLU'}. Best is trial 7 with value: 1.6322926343241824.\n",
            "[I 2025-05-31 16:06:15,745] Trial 9 finished with value: 2.1230606006670603 and parameters: {'lr': 1.9196860488194696e-05, 'hidden1': 226, 'hidden2': 168, 'activation': 'LeakyReLU'}. Best is trial 7 with value: 1.6322926343241824.\n",
            "[I 2025-05-31 16:06:23,729] Trial 10 finished with value: 2.191823435735099 and parameters: {'lr': 0.007888722247577116, 'hidden1': 254, 'hidden2': 207, 'activation': 'ELU'}. Best is trial 7 with value: 1.6322926343241824.\n",
            "[I 2025-05-31 16:06:29,714] Trial 11 finished with value: 1.6894421637812747 and parameters: {'lr': 0.001961383412907964, 'hidden1': 144, 'hidden2': 125, 'activation': 'ReLU'}. Best is trial 7 with value: 1.6322926343241824.\n",
            "[I 2025-05-31 16:06:36,126] Trial 12 finished with value: 1.6798683525640754 and parameters: {'lr': 0.0011471971472360692, 'hidden1': 159, 'hidden2': 125, 'activation': 'ReLU'}. Best is trial 7 with value: 1.6322926343241824.\n",
            "[I 2025-05-31 16:06:43,050] Trial 13 finished with value: 1.8170403528817092 and parameters: {'lr': 0.0035490539958838896, 'hidden1': 256, 'hidden2': 129, 'activation': 'ReLU'}. Best is trial 7 with value: 1.6322926343241824.\n",
            "[I 2025-05-31 16:06:50,010] Trial 14 finished with value: 1.6114389956751956 and parameters: {'lr': 0.0010662856271949424, 'hidden1': 194, 'hidden2': 195, 'activation': 'ELU'}. Best is trial 14 with value: 1.6114389956751956.\n",
            "[I 2025-05-31 16:06:56,921] Trial 15 finished with value: 1.7288768095306204 and parameters: {'lr': 0.00020318749762911716, 'hidden1': 209, 'hidden2': 197, 'activation': 'ELU'}. Best is trial 14 with value: 1.6114389956751956.\n",
            "[I 2025-05-31 16:07:03,639] Trial 16 finished with value: 1.7087025793292854 and parameters: {'lr': 0.0037465128053483262, 'hidden1': 145, 'hidden2': 210, 'activation': 'ELU'}. Best is trial 14 with value: 1.6114389956751956.\n",
            "[I 2025-05-31 16:07:10,736] Trial 17 finished with value: 1.5934103229377843 and parameters: {'lr': 0.0007881996634636053, 'hidden1': 231, 'hidden2': 253, 'activation': 'ELU'}. Best is trial 17 with value: 1.5934103229377843.\n",
            "[I 2025-05-31 16:07:18,625] Trial 18 finished with value: 1.6259418243094335 and parameters: {'lr': 0.0010072317172480953, 'hidden1': 169, 'hidden2': 249, 'activation': 'ELU'}. Best is trial 17 with value: 1.5934103229377843.\n",
            "[I 2025-05-31 16:07:26,119] Trial 19 finished with value: 1.857460363001763 and parameters: {'lr': 4.908416993157958e-05, 'hidden1': 243, 'hidden2': 254, 'activation': 'ELU'}. Best is trial 17 with value: 1.5934103229377843.\n",
            "[I 2025-05-31 16:07:33,590] Trial 20 finished with value: 2.1421867548664912 and parameters: {'lr': 0.008991458940018921, 'hidden1': 200, 'hidden2': 228, 'activation': 'ELU'}. Best is trial 17 with value: 1.5934103229377843.\n",
            "[I 2025-05-31 16:07:41,653] Trial 21 finished with value: 1.6211739280555821 and parameters: {'lr': 0.0010162390022740529, 'hidden1': 160, 'hidden2': 256, 'activation': 'ELU'}. Best is trial 17 with value: 1.5934103229377843.\n",
            "[I 2025-05-31 16:07:48,971] Trial 22 finished with value: 1.6222323737566984 and parameters: {'lr': 0.001848403874664179, 'hidden1': 117, 'hidden2': 240, 'activation': 'ELU'}. Best is trial 17 with value: 1.5934103229377843.\n",
            "[I 2025-05-31 16:07:57,022] Trial 23 finished with value: 1.7100319726557671 and parameters: {'lr': 0.0002473340105728413, 'hidden1': 163, 'hidden2': 217, 'activation': 'ELU'}. Best is trial 17 with value: 1.5934103229377843.\n",
            "[I 2025-05-31 16:08:03,818] Trial 24 finished with value: 1.6372808972491493 and parameters: {'lr': 0.0008484089767404407, 'hidden1': 134, 'hidden2': 195, 'activation': 'ELU'}. Best is trial 17 with value: 1.5934103229377843.\n",
            "[I 2025-05-31 16:08:10,377] Trial 25 finished with value: 1.6113726534420931 and parameters: {'lr': 0.002360240381066266, 'hidden1': 187, 'hidden2': 144, 'activation': 'ELU'}. Best is trial 17 with value: 1.5934103229377843.\n",
            "[I 2025-05-31 16:08:17,064] Trial 26 finished with value: 1.7614311462716212 and parameters: {'lr': 0.0039313403194675325, 'hidden1': 240, 'hidden2': 143, 'activation': 'ELU'}. Best is trial 17 with value: 1.5934103229377843.\n",
            "[I 2025-05-31 16:08:24,140] Trial 27 finished with value: 1.6264091428322127 and parameters: {'lr': 0.002202196819124535, 'hidden1': 180, 'hidden2': 150, 'activation': 'ELU'}. Best is trial 17 with value: 1.5934103229377843.\n",
            "[I 2025-05-31 16:15:47,485] Trial 28 finished with value: 1.6624736831158022 and parameters: {'lr': 0.0006221540377912414, 'hidden1': 205, 'hidden2': 188, 'activation': 'LeakyReLU'}. Best is trial 17 with value: 1.5934103229377843.\n",
            "[I 2025-05-31 16:19:59,332] Trial 29 finished with value: 1.7048253032225598 and parameters: {'lr': 0.0003205675709995551, 'hidden1': 188, 'hidden2': 151, 'activation': 'LeakyReLU'}. Best is trial 17 with value: 1.5934103229377843.\n"
          ]
        }
      ],
      "source": [
        "study = optuna.create_study(direction=\"minimize\")\n",
        "study.optimize(objective, n_trials=30)"
      ]
    },
    {
      "cell_type": "code",
      "execution_count": 11,
      "metadata": {
        "colab": {
          "base_uri": "https://localhost:8080/"
        },
        "id": "-RDeJnibl1zE",
        "outputId": "c8fd5b51-768e-4c00-e69d-5028e03d2f8c"
      },
      "outputs": [
        {
          "name": "stdout",
          "output_type": "stream",
          "text": [
            "Melhores hiperparâmetros:\n",
            "{'lr': 0.0007881996634636053, 'hidden1': 231, 'hidden2': 253, 'activation': 'ELU'}\n"
          ]
        }
      ],
      "source": [
        "print(\"Melhores hiperparâmetros:\")\n",
        "print(study.best_params)"
      ]
    },
    {
      "cell_type": "code",
      "execution_count": 19,
      "metadata": {
        "id": "tyat2KDLL92I"
      },
      "outputs": [],
      "source": [
        "#@title Hyperparameters\n",
        "input_size = 32*32*3 # 32x32 RGB images\n",
        "num_classes = 10\n",
        "\n",
        "learning_rate = 0.0007\n",
        "num_epochs = 30\n",
        "batch_size = 16\n",
        "hidden1 = 231\n",
        "hidden2 = 253\n",
        "\n",
        "activation_function = nn.ELU()\n",
        "\n",
        "loss_function = nn.CrossEntropyLoss()"
      ]
    },
    {
      "cell_type": "code",
      "execution_count": 20,
      "metadata": {
        "id": "fcH-AHUK8eGn"
      },
      "outputs": [],
      "source": [
        "#@title Dataset Setup\n",
        "\n",
        "transform = transforms.Compose([\n",
        "    transforms.ToTensor(),\n",
        "    transforms.Normalize((0.5,), (0.5,))\n",
        "])\n",
        "\n",
        "train_val_dataset = torchvision.datasets.CIFAR10(root='./data', train=True,\n",
        "                                        download=True, transform=transform)\n",
        "\n",
        "test_dataset = torchvision.datasets.CIFAR10(root='./data', train=False,\n",
        "                                       download=True, transform=transform)\n"
      ]
    },
    {
      "cell_type": "code",
      "execution_count": 21,
      "metadata": {
        "id": "_NHf0ZLJbYWd"
      },
      "outputs": [],
      "source": [
        "def evaluate(model, val_loader, loss_function):\n",
        "    model.eval()\n",
        "    val_loss = 0.0\n",
        "    with torch.no_grad():\n",
        "        for images, labels in val_loader:\n",
        "            images = images.view(-1, 32*32*3).to(device)\n",
        "            labels = labels.to(device)\n",
        "            outputs = model(images)\n",
        "            loss = loss_function(outputs, labels)\n",
        "            val_loss += loss.item()\n",
        "    model.train()\n",
        "    return val_loss / len(val_loader)"
      ]
    },
    {
      "cell_type": "code",
      "execution_count": 22,
      "metadata": {
        "id": "KOnFo7eLgaLN"
      },
      "outputs": [],
      "source": [
        "# Extrai os rótulos\n",
        "targets = np.array(train_val_dataset.targets)\n",
        "\n",
        "# Cria o validador estratificado\n",
        "splitter = StratifiedShuffleSplit(n_splits=1, test_size=0.2, random_state=42)\n",
        "\n",
        "# Gera os índices\n",
        "for train_idx, val_idx in splitter.split(np.zeros(len(targets)), targets):\n",
        "    train_dataset = Subset(train_val_dataset, train_idx)\n",
        "    val_dataset = Subset(train_val_dataset, val_idx)"
      ]
    },
    {
      "cell_type": "code",
      "execution_count": 23,
      "metadata": {},
      "outputs": [
        {
          "name": "stdout",
          "output_type": "stream",
          "text": [
            "Distribuição de classes no val_dataset:\n",
            "Classe 0: 1000 amostras\n",
            "Classe 1: 1000 amostras\n",
            "Classe 2: 1000 amostras\n",
            "Classe 3: 1000 amostras\n",
            "Classe 4: 1000 amostras\n",
            "Classe 5: 1000 amostras\n",
            "Classe 6: 1000 amostras\n",
            "Classe 7: 1000 amostras\n",
            "Classe 8: 1000 amostras\n",
            "Classe 9: 1000 amostras\n"
          ]
        }
      ],
      "source": [
        "# Acessa os rótulos (targets) do val_dataset\n",
        "val_targets = [train_val_dataset[idx][1] for idx in val_dataset.indices]\n",
        "\n",
        "# Conta quantas vezes cada classe aparece\n",
        "val_distribution = Counter(val_targets)\n",
        "\n",
        "print(\"Distribuição de classes no val_dataset:\")\n",
        "for label, count in sorted(val_distribution.items()):\n",
        "    print(f\"Classe {label}: {count} amostras\")"
      ]
    },
    {
      "cell_type": "code",
      "execution_count": 24,
      "metadata": {
        "id": "OYk-5ANCMIRY"
      },
      "outputs": [],
      "source": [
        "#@title Loaders\n",
        "\n",
        "train_loader = torch.utils.data.DataLoader(train_dataset, batch_size=batch_size, shuffle=True)\n",
        "val_loader = torch.utils.data.DataLoader(val_dataset, batch_size=batch_size, shuffle=True)\n",
        "test_loader = torch.utils.data.DataLoader(test_dataset, batch_size=batch_size, shuffle=False)"
      ]
    },
    {
      "cell_type": "code",
      "execution_count": 25,
      "metadata": {
        "colab": {
          "base_uri": "https://localhost:8080/"
        },
        "id": "XjTJpiboLmSF",
        "outputId": "112cb28e-7492-4d8c-c7ca-aba13a9be96e"
      },
      "outputs": [
        {
          "name": "stderr",
          "output_type": "stream",
          "text": [
            "  0%|          | 0/30 [00:16<?, ?it/s]"
          ]
        },
        {
          "name": "stdout",
          "output_type": "stream",
          "text": [
            " Epoch 1/30, Step 1000/2500, Loss: 1.9184983968734741\n"
          ]
        },
        {
          "name": "stderr",
          "output_type": "stream",
          "text": [
            "  0%|          | 0/30 [00:32<?, ?it/s]"
          ]
        },
        {
          "name": "stdout",
          "output_type": "stream",
          "text": [
            " Epoch 1/30, Step 2000/2500, Loss: 1.4398701190948486\n"
          ]
        },
        {
          "name": "stderr",
          "output_type": "stream",
          "text": [
            "  0%|          | 0/30 [00:40<?, ?it/s]"
          ]
        },
        {
          "name": "stdout",
          "output_type": "stream",
          "text": [
            "Epoch 1 average loss: 1.7143\n"
          ]
        },
        {
          "name": "stderr",
          "output_type": "stream",
          "text": [
            "  3%|▎         | 1/30 [00:44<21:34, 44.63s/it]"
          ]
        },
        {
          "name": "stdout",
          "output_type": "stream",
          "text": [
            "Epoch 1 validation loss: 1.5713\n"
          ]
        },
        {
          "name": "stderr",
          "output_type": "stream",
          "text": [
            "  3%|▎         | 1/30 [01:00<21:34, 44.63s/it]"
          ]
        },
        {
          "name": "stdout",
          "output_type": "stream",
          "text": [
            " Epoch 2/30, Step 1000/2500, Loss: 1.3480767011642456\n"
          ]
        },
        {
          "name": "stderr",
          "output_type": "stream",
          "text": [
            "  3%|▎         | 1/30 [01:16<21:34, 44.63s/it]"
          ]
        },
        {
          "name": "stdout",
          "output_type": "stream",
          "text": [
            " Epoch 2/30, Step 2000/2500, Loss: 1.3839051723480225\n"
          ]
        },
        {
          "name": "stderr",
          "output_type": "stream",
          "text": [
            "  3%|▎         | 1/30 [01:23<21:34, 44.63s/it]"
          ]
        },
        {
          "name": "stdout",
          "output_type": "stream",
          "text": [
            "Epoch 2 average loss: 1.5440\n"
          ]
        },
        {
          "name": "stderr",
          "output_type": "stream",
          "text": [
            "  7%|▋         | 2/30 [01:26<20:07, 43.12s/it]"
          ]
        },
        {
          "name": "stdout",
          "output_type": "stream",
          "text": [
            "Epoch 2 validation loss: 1.4750\n"
          ]
        },
        {
          "name": "stderr",
          "output_type": "stream",
          "text": [
            "  7%|▋         | 2/30 [01:42<20:07, 43.12s/it]"
          ]
        },
        {
          "name": "stdout",
          "output_type": "stream",
          "text": [
            " Epoch 3/30, Step 1000/2500, Loss: 1.1840499639511108\n"
          ]
        },
        {
          "name": "stderr",
          "output_type": "stream",
          "text": [
            "  7%|▋         | 2/30 [01:56<20:07, 43.12s/it]"
          ]
        },
        {
          "name": "stdout",
          "output_type": "stream",
          "text": [
            " Epoch 3/30, Step 2000/2500, Loss: 1.3716251850128174\n"
          ]
        },
        {
          "name": "stderr",
          "output_type": "stream",
          "text": [
            "  7%|▋         | 2/30 [02:04<20:07, 43.12s/it]"
          ]
        },
        {
          "name": "stdout",
          "output_type": "stream",
          "text": [
            "Epoch 3 average loss: 1.4669\n"
          ]
        },
        {
          "name": "stderr",
          "output_type": "stream",
          "text": [
            " 10%|█         | 3/30 [02:07<18:53, 42.00s/it]"
          ]
        },
        {
          "name": "stdout",
          "output_type": "stream",
          "text": [
            "Epoch 3 validation loss: 1.4690\n"
          ]
        },
        {
          "name": "stderr",
          "output_type": "stream",
          "text": [
            " 10%|█         | 3/30 [02:20<18:53, 42.00s/it]"
          ]
        },
        {
          "name": "stdout",
          "output_type": "stream",
          "text": [
            " Epoch 4/30, Step 1000/2500, Loss: 1.6387979984283447\n"
          ]
        },
        {
          "name": "stderr",
          "output_type": "stream",
          "text": [
            " 10%|█         | 3/30 [02:35<18:53, 42.00s/it]"
          ]
        },
        {
          "name": "stdout",
          "output_type": "stream",
          "text": [
            " Epoch 4/30, Step 2000/2500, Loss: 1.7782464027404785\n"
          ]
        },
        {
          "name": "stderr",
          "output_type": "stream",
          "text": [
            " 10%|█         | 3/30 [02:43<18:53, 42.00s/it]"
          ]
        },
        {
          "name": "stdout",
          "output_type": "stream",
          "text": [
            "Epoch 4 average loss: 1.4095\n"
          ]
        },
        {
          "name": "stderr",
          "output_type": "stream",
          "text": [
            " 13%|█▎        | 4/30 [02:47<17:50, 41.15s/it]"
          ]
        },
        {
          "name": "stdout",
          "output_type": "stream",
          "text": [
            "Epoch 4 validation loss: 1.4495\n"
          ]
        },
        {
          "name": "stderr",
          "output_type": "stream",
          "text": [
            " 13%|█▎        | 4/30 [03:02<17:50, 41.15s/it]"
          ]
        },
        {
          "name": "stdout",
          "output_type": "stream",
          "text": [
            " Epoch 5/30, Step 1000/2500, Loss: 1.383375644683838\n"
          ]
        },
        {
          "name": "stderr",
          "output_type": "stream",
          "text": [
            " 13%|█▎        | 4/30 [03:17<17:50, 41.15s/it]"
          ]
        },
        {
          "name": "stdout",
          "output_type": "stream",
          "text": [
            " Epoch 5/30, Step 2000/2500, Loss: 0.7733078002929688\n"
          ]
        },
        {
          "name": "stderr",
          "output_type": "stream",
          "text": [
            " 13%|█▎        | 4/30 [03:25<17:50, 41.15s/it]"
          ]
        },
        {
          "name": "stdout",
          "output_type": "stream",
          "text": [
            "Epoch 5 average loss: 1.3642\n"
          ]
        },
        {
          "name": "stderr",
          "output_type": "stream",
          "text": [
            " 17%|█▋        | 5/30 [03:29<17:15, 41.41s/it]"
          ]
        },
        {
          "name": "stdout",
          "output_type": "stream",
          "text": [
            "Epoch 5 validation loss: 1.3935\n"
          ]
        },
        {
          "name": "stderr",
          "output_type": "stream",
          "text": [
            " 17%|█▋        | 5/30 [03:43<17:15, 41.41s/it]"
          ]
        },
        {
          "name": "stdout",
          "output_type": "stream",
          "text": [
            " Epoch 6/30, Step 1000/2500, Loss: 1.0162593126296997\n"
          ]
        },
        {
          "name": "stderr",
          "output_type": "stream",
          "text": [
            " 17%|█▋        | 5/30 [04:01<17:15, 41.41s/it]"
          ]
        },
        {
          "name": "stdout",
          "output_type": "stream",
          "text": [
            " Epoch 6/30, Step 2000/2500, Loss: 1.3943172693252563\n"
          ]
        },
        {
          "name": "stderr",
          "output_type": "stream",
          "text": [
            " 17%|█▋        | 5/30 [04:10<17:15, 41.41s/it]"
          ]
        },
        {
          "name": "stdout",
          "output_type": "stream",
          "text": [
            "Epoch 6 average loss: 1.3241\n"
          ]
        },
        {
          "name": "stderr",
          "output_type": "stream",
          "text": [
            " 20%|██        | 6/30 [04:14<17:07, 42.80s/it]"
          ]
        },
        {
          "name": "stdout",
          "output_type": "stream",
          "text": [
            "Epoch 6 validation loss: 1.3938\n"
          ]
        },
        {
          "name": "stderr",
          "output_type": "stream",
          "text": [
            " 20%|██        | 6/30 [04:33<17:07, 42.80s/it]"
          ]
        },
        {
          "name": "stdout",
          "output_type": "stream",
          "text": [
            " Epoch 7/30, Step 1000/2500, Loss: 1.0782444477081299\n"
          ]
        },
        {
          "name": "stderr",
          "output_type": "stream",
          "text": [
            " 20%|██        | 6/30 [04:51<17:07, 42.80s/it]"
          ]
        },
        {
          "name": "stdout",
          "output_type": "stream",
          "text": [
            " Epoch 7/30, Step 2000/2500, Loss: 0.8960513472557068\n"
          ]
        },
        {
          "name": "stderr",
          "output_type": "stream",
          "text": [
            " 20%|██        | 6/30 [05:00<17:07, 42.80s/it]"
          ]
        },
        {
          "name": "stdout",
          "output_type": "stream",
          "text": [
            "Epoch 7 average loss: 1.2952\n"
          ]
        },
        {
          "name": "stderr",
          "output_type": "stream",
          "text": [
            " 23%|██▎       | 7/30 [05:04<17:20, 45.23s/it]"
          ]
        },
        {
          "name": "stdout",
          "output_type": "stream",
          "text": [
            "Epoch 7 validation loss: 1.3797\n"
          ]
        },
        {
          "name": "stderr",
          "output_type": "stream",
          "text": [
            " 23%|██▎       | 7/30 [05:22<17:20, 45.23s/it]"
          ]
        },
        {
          "name": "stdout",
          "output_type": "stream",
          "text": [
            " Epoch 8/30, Step 1000/2500, Loss: 0.9977728724479675\n"
          ]
        },
        {
          "name": "stderr",
          "output_type": "stream",
          "text": [
            " 23%|██▎       | 7/30 [05:39<17:20, 45.23s/it]"
          ]
        },
        {
          "name": "stdout",
          "output_type": "stream",
          "text": [
            " Epoch 8/30, Step 2000/2500, Loss: 1.0750291347503662\n"
          ]
        },
        {
          "name": "stderr",
          "output_type": "stream",
          "text": [
            " 23%|██▎       | 7/30 [05:48<17:20, 45.23s/it]"
          ]
        },
        {
          "name": "stdout",
          "output_type": "stream",
          "text": [
            "Epoch 8 average loss: 1.2571\n"
          ]
        },
        {
          "name": "stderr",
          "output_type": "stream",
          "text": [
            " 27%|██▋       | 8/30 [05:52<16:55, 46.15s/it]"
          ]
        },
        {
          "name": "stdout",
          "output_type": "stream",
          "text": [
            "Epoch 8 validation loss: 1.3827\n"
          ]
        },
        {
          "name": "stderr",
          "output_type": "stream",
          "text": [
            " 27%|██▋       | 8/30 [06:10<16:55, 46.15s/it]"
          ]
        },
        {
          "name": "stdout",
          "output_type": "stream",
          "text": [
            " Epoch 9/30, Step 1000/2500, Loss: 0.7323523163795471\n"
          ]
        },
        {
          "name": "stderr",
          "output_type": "stream",
          "text": [
            " 27%|██▋       | 8/30 [06:28<16:55, 46.15s/it]"
          ]
        },
        {
          "name": "stdout",
          "output_type": "stream",
          "text": [
            " Epoch 9/30, Step 2000/2500, Loss: 1.3071883916854858\n"
          ]
        },
        {
          "name": "stderr",
          "output_type": "stream",
          "text": [
            " 27%|██▋       | 8/30 [06:37<16:55, 46.15s/it]"
          ]
        },
        {
          "name": "stdout",
          "output_type": "stream",
          "text": [
            "Epoch 9 average loss: 1.2292\n"
          ]
        },
        {
          "name": "stderr",
          "output_type": "stream",
          "text": [
            " 30%|███       | 9/30 [06:41<16:26, 46.97s/it]"
          ]
        },
        {
          "name": "stdout",
          "output_type": "stream",
          "text": [
            "Epoch 9 validation loss: 1.3838\n"
          ]
        },
        {
          "name": "stderr",
          "output_type": "stream",
          "text": [
            " 30%|███       | 9/30 [06:57<16:26, 46.97s/it]"
          ]
        },
        {
          "name": "stdout",
          "output_type": "stream",
          "text": [
            " Epoch 10/30, Step 1000/2500, Loss: 1.2234749794006348\n"
          ]
        },
        {
          "name": "stderr",
          "output_type": "stream",
          "text": [
            " 30%|███       | 9/30 [07:10<16:26, 46.97s/it]"
          ]
        },
        {
          "name": "stdout",
          "output_type": "stream",
          "text": [
            " Epoch 10/30, Step 2000/2500, Loss: 1.235769271850586\n"
          ]
        },
        {
          "name": "stderr",
          "output_type": "stream",
          "text": [
            " 30%|███       | 9/30 [07:18<16:26, 46.97s/it]"
          ]
        },
        {
          "name": "stdout",
          "output_type": "stream",
          "text": [
            "Epoch 10 average loss: 1.2078\n"
          ]
        },
        {
          "name": "stderr",
          "output_type": "stream",
          "text": [
            " 33%|███▎      | 10/30 [07:21<14:57, 44.89s/it]"
          ]
        },
        {
          "name": "stdout",
          "output_type": "stream",
          "text": [
            "Epoch 10 validation loss: 1.3669\n"
          ]
        },
        {
          "name": "stderr",
          "output_type": "stream",
          "text": [
            " 33%|███▎      | 10/30 [07:36<14:57, 44.89s/it]"
          ]
        },
        {
          "name": "stdout",
          "output_type": "stream",
          "text": [
            " Epoch 11/30, Step 1000/2500, Loss: 1.8212642669677734\n"
          ]
        },
        {
          "name": "stderr",
          "output_type": "stream",
          "text": [
            " 33%|███▎      | 10/30 [07:51<14:57, 44.89s/it]"
          ]
        },
        {
          "name": "stdout",
          "output_type": "stream",
          "text": [
            " Epoch 11/30, Step 2000/2500, Loss: 1.5856726169586182\n"
          ]
        },
        {
          "name": "stderr",
          "output_type": "stream",
          "text": [
            " 33%|███▎      | 10/30 [07:58<14:57, 44.89s/it]"
          ]
        },
        {
          "name": "stdout",
          "output_type": "stream",
          "text": [
            "Epoch 11 average loss: 1.1878\n"
          ]
        },
        {
          "name": "stderr",
          "output_type": "stream",
          "text": [
            " 37%|███▋      | 11/30 [08:02<13:46, 43.50s/it]"
          ]
        },
        {
          "name": "stdout",
          "output_type": "stream",
          "text": [
            "Epoch 11 validation loss: 1.3788\n"
          ]
        },
        {
          "name": "stderr",
          "output_type": "stream",
          "text": [
            " 37%|███▋      | 11/30 [08:20<13:46, 43.50s/it]"
          ]
        },
        {
          "name": "stdout",
          "output_type": "stream",
          "text": [
            " Epoch 12/30, Step 1000/2500, Loss: 1.500320553779602\n"
          ]
        },
        {
          "name": "stderr",
          "output_type": "stream",
          "text": [
            " 37%|███▋      | 11/30 [08:40<13:46, 43.50s/it]"
          ]
        },
        {
          "name": "stdout",
          "output_type": "stream",
          "text": [
            " Epoch 12/30, Step 2000/2500, Loss: 1.3681526184082031\n"
          ]
        },
        {
          "name": "stderr",
          "output_type": "stream",
          "text": [
            " 37%|███▋      | 11/30 [08:50<13:46, 43.50s/it]"
          ]
        },
        {
          "name": "stdout",
          "output_type": "stream",
          "text": [
            "Epoch 12 average loss: 1.1591\n"
          ]
        },
        {
          "name": "stderr",
          "output_type": "stream",
          "text": [
            " 40%|████      | 12/30 [08:55<13:54, 46.35s/it]"
          ]
        },
        {
          "name": "stdout",
          "output_type": "stream",
          "text": [
            "Epoch 12 validation loss: 1.3918\n"
          ]
        },
        {
          "name": "stderr",
          "output_type": "stream",
          "text": [
            " 40%|████      | 12/30 [09:16<13:54, 46.35s/it]"
          ]
        },
        {
          "name": "stdout",
          "output_type": "stream",
          "text": [
            " Epoch 13/30, Step 1000/2500, Loss: 1.7027229070663452\n"
          ]
        },
        {
          "name": "stderr",
          "output_type": "stream",
          "text": [
            " 40%|████      | 12/30 [09:39<13:54, 46.35s/it]"
          ]
        },
        {
          "name": "stdout",
          "output_type": "stream",
          "text": [
            " Epoch 13/30, Step 2000/2500, Loss: 0.7232646346092224\n"
          ]
        },
        {
          "name": "stderr",
          "output_type": "stream",
          "text": [
            " 40%|████      | 12/30 [09:50<13:54, 46.35s/it]"
          ]
        },
        {
          "name": "stdout",
          "output_type": "stream",
          "text": [
            "Epoch 13 average loss: 1.1406\n"
          ]
        },
        {
          "name": "stderr",
          "output_type": "stream",
          "text": [
            " 43%|████▎     | 13/30 [09:54<14:13, 50.21s/it]"
          ]
        },
        {
          "name": "stdout",
          "output_type": "stream",
          "text": [
            "Epoch 13 validation loss: 1.3827\n"
          ]
        },
        {
          "name": "stderr",
          "output_type": "stream",
          "text": [
            " 43%|████▎     | 13/30 [10:08<14:13, 50.21s/it]"
          ]
        },
        {
          "name": "stdout",
          "output_type": "stream",
          "text": [
            " Epoch 14/30, Step 1000/2500, Loss: 1.2027333974838257\n"
          ]
        },
        {
          "name": "stderr",
          "output_type": "stream",
          "text": [
            " 43%|████▎     | 13/30 [10:24<14:13, 50.21s/it]"
          ]
        },
        {
          "name": "stdout",
          "output_type": "stream",
          "text": [
            " Epoch 14/30, Step 2000/2500, Loss: 1.1786515712738037\n"
          ]
        },
        {
          "name": "stderr",
          "output_type": "stream",
          "text": [
            " 43%|████▎     | 13/30 [10:32<14:13, 50.21s/it]"
          ]
        },
        {
          "name": "stdout",
          "output_type": "stream",
          "text": [
            "Epoch 14 average loss: 1.1273\n"
          ]
        },
        {
          "name": "stderr",
          "output_type": "stream",
          "text": [
            " 47%|████▋     | 14/30 [10:36<12:44, 47.76s/it]"
          ]
        },
        {
          "name": "stdout",
          "output_type": "stream",
          "text": [
            "Epoch 14 validation loss: 1.3816\n"
          ]
        },
        {
          "name": "stderr",
          "output_type": "stream",
          "text": [
            " 47%|████▋     | 14/30 [10:53<12:44, 47.76s/it]"
          ]
        },
        {
          "name": "stdout",
          "output_type": "stream",
          "text": [
            " Epoch 15/30, Step 1000/2500, Loss: 0.8017592430114746\n"
          ]
        },
        {
          "name": "stderr",
          "output_type": "stream",
          "text": [
            " 47%|████▋     | 14/30 [11:09<12:44, 47.76s/it]"
          ]
        },
        {
          "name": "stdout",
          "output_type": "stream",
          "text": [
            " Epoch 15/30, Step 2000/2500, Loss: 0.8045498132705688\n"
          ]
        },
        {
          "name": "stderr",
          "output_type": "stream",
          "text": [
            " 47%|████▋     | 14/30 [11:17<12:44, 47.76s/it]"
          ]
        },
        {
          "name": "stdout",
          "output_type": "stream",
          "text": [
            "Epoch 15 average loss: 1.1058\n"
          ]
        },
        {
          "name": "stderr",
          "output_type": "stream",
          "text": [
            " 47%|████▋     | 14/30 [11:21<12:58, 48.66s/it]"
          ]
        },
        {
          "name": "stdout",
          "output_type": "stream",
          "text": [
            "Epoch 15 validation loss: 1.3803\n",
            "Early stopping triggered.\n"
          ]
        },
        {
          "name": "stderr",
          "output_type": "stream",
          "text": [
            "\n"
          ]
        }
      ],
      "source": [
        "#@title Training loop\n",
        "device = torch.device(\"cuda\" if torch.cuda.is_available() else \"cpu\")\n",
        "\n",
        "# Build the model\n",
        "mlp = MLP(32*32*3,\n",
        "                hidden1= hidden1,\n",
        "                hidden2= hidden2,\n",
        "                num_classes = 10,\n",
        "                activation_function = activation_function)\n",
        "mlp.to(device)\n",
        "\n",
        "# Setting optimizer up\n",
        "optimizer = torch.optim.AdamW(mlp.parameters(), lr=learning_rate, weight_decay = 1e-4)\n",
        "\n",
        "# Early stopping setup\n",
        "best_loss = float('inf')\n",
        "patience = 5\n",
        "patience_counter = 0\n",
        "best_model_state = None\n",
        "\n",
        "train_losses = []\n",
        "val_losses = []\n",
        "\n",
        "# Start training epochs loop\n",
        "for epoch in tqdm(range(num_epochs)):\n",
        "  epoch_loss = 0.0\n",
        "  for i, (images, labels) in enumerate(train_loader):\n",
        "    images = images.view(-1,32*32*3).to(device) # flattenning images\n",
        "    labels = labels.to(device)\n",
        "\n",
        "    # Forward pass\n",
        "    optimizer.zero_grad()\n",
        "    outputs = mlp(images)\n",
        "\n",
        "    # Backward pass\n",
        "    loss = loss_function(outputs, labels)\n",
        "    loss.backward()\n",
        "    optimizer.step()\n",
        "\n",
        "    epoch_loss += loss.item()\n",
        "\n",
        "    if (i+1) % 1000 == 0:\n",
        "      tqdm.write(f' Epoch {epoch + 1}/{num_epochs}, Step {i+1}/{len(train_dataset) // batch_size}, Loss: {loss}')\n",
        "\n",
        "  epoch_loss /= len(train_loader)\n",
        "  tqdm.write(f'Epoch {epoch+1} average loss: {epoch_loss:.4f}')\n",
        "  train_losses.append(epoch_loss)\n",
        "\n",
        "  val_loss = evaluate(mlp, val_loader, loss_function)\n",
        "  tqdm.write(f'Epoch {epoch+1} validation loss: {val_loss:.4f}')\n",
        "  val_losses.append(val_loss)\n",
        "\n",
        "  # Early stopping using loss value\n",
        "  if val_loss < best_loss:\n",
        "    best_loss = val_loss\n",
        "    patience_counter = 0\n",
        "    best_model_state = mlp.state_dict()\n",
        "  else:\n",
        "    patience_counter += 1\n",
        "    if patience_counter >= patience:\n",
        "      tqdm.write(\"Early stopping triggered.\")\n",
        "      break\n",
        "\n",
        "if best_model_state is not None:\n",
        "    mlp.load_state_dict(best_model_state)\n",
        "    torch.save(mlp.state_dict(), \"melhor_modelo.pth\")\n"
      ]
    },
    {
      "cell_type": "code",
      "execution_count": 26,
      "metadata": {
        "id": "zaxCer_mddbq"
      },
      "outputs": [
        {
          "data": {
            "image/png": "[encoded data removed]",
            "text/plain": [
              "<Figure size 1000x600 with 1 Axes>"
            ]
          },
          "metadata": {},
          "output_type": "display_data"
        }
      ],
      "source": [
        "plt.figure(figsize=(10,6))\n",
        "plt.plot(train_losses, label='Train Loss')\n",
        "plt.plot(val_losses, label='Validation Loss')\n",
        "plt.xlabel('Epoch')\n",
        "plt.ylabel('Loss')\n",
        "plt.title('Train vs Validation Loss')\n",
        "plt.legend()\n",
        "plt.grid(True)\n",
        "plt.show()"
      ]
    },
    {
      "cell_type": "code",
      "execution_count": 27,
      "metadata": {
        "colab": {
          "base_uri": "https://localhost:8080/"
        },
        "id": "vxYFc_r5KCzS",
        "outputId": "f7ea8fa5-087b-41ce-e286-de4a69659ba5"
      },
      "outputs": [
        {
          "name": "stdout",
          "output_type": "stream",
          "text": [
            "cpu\n"
          ]
        }
      ],
      "source": [
        "print(device)"
      ]
    },
    {
      "cell_type": "code",
      "execution_count": 28,
      "metadata": {
        "id": "13FaQlXcNvM6"
      },
      "outputs": [],
      "source": [
        "#@title Defining metrics helper\n",
        "\n",
        "def get_scores(targets, predictions):\n",
        "    return {\n",
        "        \"accuracy\": metrics.accuracy_score(targets, predictions),\n",
        "        \"balanced_accuracy\": metrics.balanced_accuracy_score(targets, predictions),\n",
        "        \"precision\": metrics.precision_score(targets, predictions, average=\"weighted\"),\n",
        "        \"recall\": metrics.recall_score(targets, predictions, average=\"weighted\"),\n",
        "        \"f1_score\": metrics.f1_score(targets, predictions, average=\"weighted\")\n",
        "    }"
      ]
    },
    {
      "cell_type": "code",
      "execution_count": 29,
      "metadata": {
        "colab": {
          "base_uri": "https://localhost:8080/"
        },
        "id": "jMA-DgwPhkVm",
        "outputId": "12804488-1ba5-46d7-cce9-a6238e7dba18"
      },
      "outputs": [
        {
          "name": "stdout",
          "output_type": "stream",
          "text": [
            "Pesos carregados com sucesso.\n",
            "Scores of your model\n",
            " {'accuracy': 0.5191, 'balanced_accuracy': np.float64(0.5191000000000001), 'precision': 0.5352035101686355, 'recall': 0.5191, 'f1_score': 0.5190616927825459}\n"
          ]
        }
      ],
      "source": [
        "#@title Evaluate model (accuracy, precision, recall)\n",
        "device = torch.device(\"cuda\" if torch.cuda.is_available() else \"cpu\")\n",
        "\n",
        "mlp = MLP(32*32*3,\n",
        "          hidden1= hidden1,\n",
        "          hidden2= hidden2,\n",
        "          num_classes = 10,\n",
        "          activation_function = activation_function)\n",
        "\n",
        "mlp.to(device)\n",
        "\n",
        "if os.path.exists(\"melhor_modelo.pth\"):\n",
        "    mlp.load_state_dict(torch.load(\"melhor_modelo.pth\"))\n",
        "    print(\"Pesos carregados com sucesso.\")\n",
        "else:\n",
        "    print(\"Arquivo de pesos não encontrado. Modelo será inicializado do zero.\")\n",
        "\n",
        "mlp.eval()\n",
        "predictions = []\n",
        "labels = []\n",
        "for images, label in val_loader:\n",
        "  images = images.view(-1,32*32*3).to(device)\n",
        "  label = label.to(device)\n",
        "\n",
        "  output = mlp(images)\n",
        "  _, predicted = torch.max(output,1)\n",
        "\n",
        "  predictions.extend(predicted.cpu().numpy())\n",
        "  labels.extend(label.cpu().numpy())\n",
        "\n",
        "scores = get_scores(labels, predictions)\n",
        "print(\"Scores of your model\\n\", scores)"
      ]
    },
    {
      "cell_type": "markdown",
      "metadata": {
        "id": "bA8HgFj-MjYc"
      },
      "source": [
        "# You can change/optimize this as you want\n",
        "- Different optimizers, activation functions, etc\n",
        "- Automatic hyperparameters optimization (Optuna)\n",
        "- Regularization techniques\n",
        "- Validation set to track metrics during epochs\n",
        "- Transform input data\n",
        "- ..."
      ]
    }
  ],
  "metadata": {
    "accelerator": "GPU",
    "colab": {
      "gpuType": "T4",
      "provenance": []
    },
    "kernelspec": {
      "display_name": "Python 3",
      "name": "python3"
    },
    "language_info": {
      "codemirror_mode": {
        "name": "ipython",
        "version": 3
      },
      "file_extension": ".py",
      "mimetype": "text/x-python",
      "name": "python",
      "nbconvert_exporter": "python",
      "pygments_lexer": "ipython3",
      "version": "3.13.3"
    }
  },
  "nbformat": 4,
  "nbformat_minor": 0
}
