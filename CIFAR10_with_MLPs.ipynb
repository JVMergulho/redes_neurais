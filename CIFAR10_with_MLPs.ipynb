{
  "cells": [
    {
      "cell_type": "markdown",
      "metadata": {
        "id": "BjND-9CP7R7n"
      },
      "source": [
        "# CIFAR10 with MLPs\n",
        "Simple starter notebook to benchmark your own MLP with PyTorch on the CIFAR-10 dataset.\n",
        "\n",
        "OBS.:\n",
        "\n",
        "- The main code is basically done, so focus on training the models and searching for the best hyperparameters and architectures.\n",
        "- You are not required to use this exact code or even the PyTorch library.\n",
        "- It is recommended to use execution environments with GPU access (such as Google Colab), since larger models will take more time to train.\n",
        "- Remember to document the history of your experiments and which results motivated the changes in subsequent experiments."
      ]
    },
    {
      "cell_type": "markdown",
      "metadata": {},
      "source": [
        "## Como tentamos melhorar o modelo:\n",
        "- Utilizamos o optuna para encontrar melhores hiperparâmetros: learning rate, número de nós em cada camada e função de ativação\n",
        "- Evitar overfiting:\n",
        "    - Regularização com weight_decay no otimizador para diminuir a magnitude dos pesos\n",
        "    - Uso de dropout para desativar 20% dos neurônios\n",
        "    - separação do dataset de treinamento em treinamento e validação\n",
        "    - Uso de early stopping levando em conta o loss da validação"
      ]
    },
    {
      "cell_type": "code",
      "execution_count": 33,
      "metadata": {
        "colab": {
          "base_uri": "https://localhost:8080/"
        },
        "id": "cwfccYED2ysj",
        "outputId": "d39d0704-61a5-4c90-b925-bb4438958bac"
      },
      "outputs": [
        {
          "name": "stdout",
          "output_type": "stream",
          "text": [
            "Requirement already satisfied: optuna in /system/conda/miniconda3/envs/cloudspace/lib/python3.10/site-packages (4.3.0)\n",
            "Requirement already satisfied: alembic>=1.5.0 in /system/conda/miniconda3/envs/cloudspace/lib/python3.10/site-packages (from optuna) (1.16.1)\n",
            "Requirement already satisfied: colorlog in /system/conda/miniconda3/envs/cloudspace/lib/python3.10/site-packages (from optuna) (6.9.0)\n",
            "Requirement already satisfied: numpy in /system/conda/miniconda3/envs/cloudspace/lib/python3.10/site-packages (from optuna) (1.26.4)\n",
            "Requirement already satisfied: packaging>=20.0 in /system/conda/miniconda3/envs/cloudspace/lib/python3.10/site-packages (from optuna) (24.2)\n",
            "Requirement already satisfied: sqlalchemy>=1.4.2 in /system/conda/miniconda3/envs/cloudspace/lib/python3.10/site-packages (from optuna) (2.0.41)\n",
            "Requirement already satisfied: tqdm in /system/conda/miniconda3/envs/cloudspace/lib/python3.10/site-packages (from optuna) (4.67.1)\n",
            "Requirement already satisfied: PyYAML in /system/conda/miniconda3/envs/cloudspace/lib/python3.10/site-packages (from optuna) (6.0.2)\n",
            "Requirement already satisfied: Mako in /system/conda/miniconda3/envs/cloudspace/lib/python3.10/site-packages (from alembic>=1.5.0->optuna) (1.3.10)\n",
            "Requirement already satisfied: typing-extensions>=4.12 in /system/conda/miniconda3/envs/cloudspace/lib/python3.10/site-packages (from alembic>=1.5.0->optuna) (4.13.2)\n",
            "Requirement already satisfied: tomli in /system/conda/miniconda3/envs/cloudspace/lib/python3.10/site-packages (from alembic>=1.5.0->optuna) (2.2.1)\n",
            "Requirement already satisfied: greenlet>=1 in /system/conda/miniconda3/envs/cloudspace/lib/python3.10/site-packages (from sqlalchemy>=1.4.2->optuna) (3.2.2)\n",
            "Requirement already satisfied: MarkupSafe>=0.9.2 in /system/conda/miniconda3/envs/cloudspace/lib/python3.10/site-packages (from Mako->alembic>=1.5.0->optuna) (3.0.2)\n"
          ]
        }
      ],
      "source": [
        "!pip install optuna"
      ]
    },
    {
      "cell_type": "code",
      "execution_count": 34,
      "metadata": {
        "id": "_ErVptyZ7Npv"
      },
      "outputs": [],
      "source": [
        "#@title Libs\n",
        "\n",
        "import torch\n",
        "from torch.utils.data import DataLoader\n",
        "\n",
        "import torchvision\n",
        "import torch.nn as nn\n",
        "from torchvision import datasets, transforms\n",
        "\n",
        "from sklearn.model_selection import StratifiedShuffleSplit\n",
        "from torch.utils.data import Subset\n",
        "\n",
        "import matplotlib.pyplot as plt\n",
        "import numpy as np\n",
        "from sklearn import metrics\n",
        "\n",
        "from tqdm import tqdm\n",
        "\n",
        "import os\n",
        "from collections import Counter\n",
        "\n",
        "import optuna"
      ]
    },
    {
      "cell_type": "markdown",
      "metadata": {
        "id": "e5EBeP3MLlf_"
      },
      "source": [
        "# Data exploration"
      ]
    },
    {
      "cell_type": "markdown",
      "metadata": {
        "id": "CrgBWBqjcE5t"
      },
      "source": [
        "Quando usamos transforms.ToTensor(), a imagem (que antes era H x W x C) vira um tensor com shape: C x H x W\n",
        "\n",
        "O matplotlib.pyplot.imshow() espera a imagem no formato H x W x C (como a maioria das bibliotecas de imagem em Python).\n"
      ]
    },
    {
      "cell_type": "code",
      "execution_count": 4,
      "metadata": {
        "id": "vUY45mRkZ9fV"
      },
      "outputs": [],
      "source": [
        "# Função para \"desnormalizar\" e mostrar imagens\n",
        "def imshow(img):\n",
        "    img = img / 2 + 0.5  # desfaz a normalização\n",
        "    img = torch.clamp(img, 0, 1)  # limita os valores ao intervalo [0, 1]\n",
        "    npimg = img.numpy()\n",
        "    plt.imshow(np.transpose(npimg, (1, 2, 0)))\n",
        "    plt.show()"
      ]
    },
    {
      "cell_type": "code",
      "execution_count": 5,
      "metadata": {
        "id": "u9ZDX-P-bZcb"
      },
      "outputs": [],
      "source": [
        "transform = transforms.Compose([\n",
        "    transforms.ToTensor(),\n",
        "    transforms.Normalize((0.5,), (0.5,))  \n",
        "])\n",
        "\n",
        "dataset = datasets.CIFAR10(root='./data', train=True, download=True, transform= transform)\n",
        "loader = DataLoader(dataset, batch_size=4, shuffle=True)"
      ]
    },
    {
      "cell_type": "code",
      "execution_count": 6,
      "metadata": {
        "colab": {
          "base_uri": "https://localhost:8080/",
          "height": 210
        },
        "id": "KNiPDg6absHC",
        "outputId": "e5affeae-fadf-49a0-e98d-376ead921e15"
      },
      "outputs": [
        {
          "data": {
            "image/png": "[encoded data removed]",
            "text/plain": [
              "<Figure size 640x480 with 1 Axes>"
            ]
          },
          "metadata": {},
          "output_type": "display_data"
        },
        {
          "name": "stdout",
          "output_type": "stream",
          "text": [
            "airplane horse dog ship\n"
          ]
        }
      ],
      "source": [
        "# Itera no loader e mostra imagens\n",
        "dataiter = iter(loader)\n",
        "images, labels = next(dataiter)\n",
        "\n",
        "# Mostra as imagens\n",
        "imshow(torchvision.utils.make_grid(images))\n",
        "\n",
        "# Mostra os rótulos correspondentes\n",
        "print(' '.join(f'{dataset.classes[label]}' for label in labels))"
      ]
    },
    {
      "cell_type": "code",
      "execution_count": 31,
      "metadata": {
        "colab": {
          "base_uri": "https://localhost:8080/"
        },
        "id": "P3kbTBVicUYj",
        "outputId": "3d1425e2-0b16-4c33-f4ac-3d82cf9c27e5"
      },
      "outputs": [
        {
          "name": "stdout",
          "output_type": "stream",
          "text": [
            "['airplane', 'automobile', 'bird', 'cat', 'deer', 'dog', 'frog', 'horse', 'ship', 'truck']\n"
          ]
        }
      ],
      "source": [
        "print(dataset.classes)"
      ]
    },
    {
      "cell_type": "code",
      "execution_count": 32,
      "metadata": {
        "colab": {
          "base_uri": "https://localhost:8080/"
        },
        "id": "7iSgGi0fcrzw",
        "outputId": "31b43fee-67c9-413b-db3f-4a08da26a1c9"
      },
      "outputs": [
        {
          "name": "stdout",
          "output_type": "stream",
          "text": [
            "frog: 5000 imagens\n",
            "truck: 5000 imagens\n",
            "deer: 5000 imagens\n",
            "automobile: 5000 imagens\n",
            "bird: 5000 imagens\n",
            "horse: 5000 imagens\n",
            "ship: 5000 imagens\n",
            "cat: 5000 imagens\n",
            "dog: 5000 imagens\n",
            "airplane: 5000 imagens\n"
          ]
        }
      ],
      "source": [
        "# Extraímos todos os rótulos do dataset de treino e ignoramos as imagens\n",
        "labels = [label for _, label in dataset]\n",
        "\n",
        "# Contamos quantas vezes cada rótulo aparece\n",
        "label_counts = Counter(labels)\n",
        "\n",
        "# Imprimimos o resultado com nome da classe\n",
        "for class_idx, count in label_counts.items():\n",
        "    class_name = dataset.classes[class_idx]\n",
        "    print(f'{class_name}: {count} imagens')"
      ]
    },
    {
      "cell_type": "markdown",
      "metadata": {
        "id": "PqHhBntbZAoa"
      },
      "source": [
        "Scores of the first model:\n",
        "  'accuracy': 0.474, 'balanced_accuracy': np.float64(0.47400000000000003), 'precision': 0.4788458695520801, 'recall': 0.474, 'f1_score': 0.4749641894435279\n",
        "\n"
      ]
    },
    {
      "cell_type": "markdown",
      "metadata": {
        "id": "cQ8s5u8FOMee"
      },
      "source": [
        "Começamos a treinar uma mlp com 4 camadas usando imagens com 3 canais (RGB) , depois transformamos as imagens para a escala de cinza"
      ]
    },
    {
      "cell_type": "code",
      "execution_count": 6,
      "metadata": {
        "id": "KLjycMiT8zo-"
      },
      "outputs": [],
      "source": [
        "#@title Defining the MLP model\n",
        "\n",
        "class MLP(nn.Module):\n",
        "    def __init__(self, input_size, hidden1, hidden2, num_classes, activation_function):\n",
        "        super(MLP, self).__init__()\n",
        "\n",
        "        self.network = nn.Sequential(\n",
        "            nn.Linear(input_size, hidden1),\n",
        "            activation_function,\n",
        "            nn.Dropout(0.2),\n",
        "            nn.Linear(hidden1, hidden2),\n",
        "            activation_function,\n",
        "            nn.Dropout(0.2),\n",
        "            nn.Linear(hidden2, num_classes)\n",
        "        )\n",
        "\n",
        "    def forward(self, x):\n",
        "        return self.network(x)"
      ]
    },
    {
      "cell_type": "markdown",
      "metadata": {
        "id": "MUmXx9Ep25Tj"
      },
      "source": [
        "## Hyperparameters Study\n",
        "\n"
      ]
    },
    {
      "cell_type": "code",
      "execution_count": 7,
      "metadata": {
        "id": "X_vuhmnl3N56"
      },
      "outputs": [],
      "source": [
        "device = torch.device(\"cuda\" if torch.cuda.is_available() else \"cpu\")\n",
        "\n",
        "def objective(trial):\n",
        "\n",
        "    # Hiperparâmetros sugeridos pelo Optuna\n",
        "    lr = trial.suggest_float(\"lr\", 1e-5, 1e-2, log=True)\n",
        "    hidden1 = trial.suggest_int(\"hidden1\", 64, 256)\n",
        "    hidden2 = trial.suggest_int(\"hidden2\", 64, 256)\n",
        "    activation_name = trial.suggest_categorical(\"activation\", [\"ReLU\", \"LeakyReLU\", \"ELU\"])\n",
        "\n",
        "    activation_fn = getattr(nn, activation_name)()\n",
        "\n",
        "    # Dataset e DataLoader (usa apenas um subset para acelerar)\n",
        "    transform = transforms.Compose([\n",
        "        transforms.ToTensor(),\n",
        "        transforms.Normalize((0.5,), (0.5,))\n",
        "    ])\n",
        "\n",
        "    train_dataset = datasets.CIFAR10(root='./data', train=True, download=True, transform=transform)\n",
        "    val_dataset, _ = torch.utils.data.random_split(train_dataset, [5000, len(train_dataset)-5000])\n",
        "    train_loader = DataLoader(val_dataset, batch_size=64, shuffle=True)\n",
        "\n",
        "    model = MLP(32*32*3,\n",
        "                hidden1= hidden1,\n",
        "                hidden2= hidden2,\n",
        "                num_classes = 10,\n",
        "                activation_function = activation_fn)\n",
        "\n",
        "    model.to(device)\n",
        "    optimizer = torch.optim.Adam(model.parameters(), lr=lr)\n",
        "    criterion = nn.CrossEntropyLoss()\n",
        "\n",
        "    # Treinamento simples de 1-3 épocas (rápido)\n",
        "    for epoch in range(3):\n",
        "        model.train()\n",
        "        running_loss = 0.0\n",
        "        for images, labels in train_loader:\n",
        "            images = images.view(-1, 32*32*3).to(device)\n",
        "            labels = labels.to(device)\n",
        "\n",
        "            optimizer.zero_grad()\n",
        "            outputs = model(images)\n",
        "            loss = criterion(outputs, labels)\n",
        "            loss.backward()\n",
        "            optimizer.step()\n",
        "            running_loss += loss.item()\n",
        "\n",
        "    # Retorna a perda média como métrica a minimizar\n",
        "    return running_loss / len(train_loader)"
      ]
    },
    {
      "cell_type": "code",
      "execution_count": 8,
      "metadata": {
        "colab": {
          "base_uri": "https://localhost:8080/"
        },
        "id": "x9EoJr78kmFc",
        "outputId": "cdb95e82-de0e-4ad5-e144-9b446b07f6b2"
      },
      "outputs": [
        {
          "name": "stderr",
          "output_type": "stream",
          "text": [
            "[I 2025-05-28 19:37:05,369] A new study created in memory with name: no-name-ee79bd67-3590-4b9b-b55c-270804498c11\n",
            "[I 2025-05-28 19:37:08,969] Trial 0 finished with value: 1.6627939169919943 and parameters: {'lr': 0.00354294282916484, 'hidden1': 200, 'hidden2': 126, 'activation': 'ELU'}. Best is trial 0 with value: 1.6627939169919943.\n",
            "[I 2025-05-28 19:37:12,193] Trial 1 finished with value: 2.2131995762450787 and parameters: {'lr': 1.576471340752689e-05, 'hidden1': 86, 'hidden2': 164, 'activation': 'LeakyReLU'}. Best is trial 0 with value: 1.6627939169919943.\n",
            "[I 2025-05-28 19:37:15,417] Trial 2 finished with value: 2.1194818291483046 and parameters: {'lr': 2.5717943523055473e-05, 'hidden1': 155, 'hidden2': 129, 'activation': 'ReLU'}. Best is trial 0 with value: 1.6627939169919943.\n",
            "[I 2025-05-28 19:37:18,623] Trial 3 finished with value: 1.7613909485973889 and parameters: {'lr': 0.0036795222414442775, 'hidden1': 132, 'hidden2': 221, 'activation': 'LeakyReLU'}. Best is trial 0 with value: 1.6627939169919943.\n",
            "[I 2025-05-28 19:37:21,826] Trial 4 finished with value: 2.1632368323169175 and parameters: {'lr': 2.271045602046711e-05, 'hidden1': 106, 'hidden2': 83, 'activation': 'ReLU'}. Best is trial 0 with value: 1.6627939169919943.\n",
            "[I 2025-05-28 19:37:25,049] Trial 5 finished with value: 1.8611686938925633 and parameters: {'lr': 6.796139633215375e-05, 'hidden1': 236, 'hidden2': 196, 'activation': 'ReLU'}. Best is trial 0 with value: 1.6627939169919943.\n",
            "[I 2025-05-28 19:37:28,226] Trial 6 finished with value: 1.6885328896438019 and parameters: {'lr': 0.0021603474043314893, 'hidden1': 167, 'hidden2': 154, 'activation': 'LeakyReLU'}. Best is trial 0 with value: 1.6627939169919943.\n",
            "[I 2025-05-28 19:37:31,412] Trial 7 finished with value: 1.7268065033079703 and parameters: {'lr': 0.0002767560803315753, 'hidden1': 152, 'hidden2': 188, 'activation': 'LeakyReLU'}. Best is trial 0 with value: 1.6627939169919943.\n",
            "[I 2025-05-28 19:37:34,602] Trial 8 finished with value: 2.038857820667798 and parameters: {'lr': 4.696534610639253e-05, 'hidden1': 153, 'hidden2': 86, 'activation': 'ReLU'}. Best is trial 0 with value: 1.6627939169919943.\n",
            "[I 2025-05-28 19:37:37,800] Trial 9 finished with value: 1.7166349465333963 and parameters: {'lr': 0.004015348990707563, 'hidden1': 111, 'hidden2': 251, 'activation': 'ELU'}. Best is trial 0 with value: 1.6627939169919943.\n",
            "[I 2025-05-28 19:37:41,033] Trial 10 finished with value: 1.5891511078122296 and parameters: {'lr': 0.0007981108590240665, 'hidden1': 218, 'hidden2': 119, 'activation': 'ELU'}. Best is trial 10 with value: 1.5891511078122296.\n",
            "[I 2025-05-28 19:37:44,220] Trial 11 finished with value: 1.6482782499699653 and parameters: {'lr': 0.0008093321734870545, 'hidden1': 220, 'hidden2': 119, 'activation': 'ELU'}. Best is trial 10 with value: 1.5891511078122296.\n",
            "[I 2025-05-28 19:37:47,436] Trial 12 finished with value: 1.611242003078702 and parameters: {'lr': 0.0009096800657026795, 'hidden1': 250, 'hidden2': 110, 'activation': 'ELU'}. Best is trial 10 with value: 1.5891511078122296.\n",
            "[I 2025-05-28 19:37:50,681] Trial 13 finished with value: 1.6491366277767132 and parameters: {'lr': 0.0003829555921524847, 'hidden1': 252, 'hidden2': 64, 'activation': 'ELU'}. Best is trial 10 with value: 1.5891511078122296.\n",
            "[I 2025-05-28 19:37:53,880] Trial 14 finished with value: 1.6536713687679436 and parameters: {'lr': 0.0008584665831627404, 'hidden1': 198, 'hidden2': 103, 'activation': 'ELU'}. Best is trial 10 with value: 1.5891511078122296.\n",
            "[I 2025-05-28 19:37:57,131] Trial 15 finished with value: 1.733661438845381 and parameters: {'lr': 0.00018142134401336437, 'hidden1': 255, 'hidden2': 154, 'activation': 'ELU'}. Best is trial 10 with value: 1.5891511078122296.\n",
            "[I 2025-05-28 19:38:00,417] Trial 16 finished with value: 1.5984445553791673 and parameters: {'lr': 0.0010874603121630356, 'hidden1': 208, 'hidden2': 102, 'activation': 'ELU'}. Best is trial 10 with value: 1.5891511078122296.\n",
            "[I 2025-05-28 19:38:03,676] Trial 17 finished with value: 2.157546493071544 and parameters: {'lr': 0.009277758244949433, 'hidden1': 191, 'hidden2': 140, 'activation': 'ELU'}. Best is trial 10 with value: 1.5891511078122296.\n",
            "[I 2025-05-28 19:38:06,891] Trial 18 finished with value: 1.6231344319597076 and parameters: {'lr': 0.0014027880464273278, 'hidden1': 224, 'hidden2': 100, 'activation': 'ELU'}. Best is trial 10 with value: 1.5891511078122296.\n",
            "[I 2025-05-28 19:38:10,108] Trial 19 finished with value: 1.8269299525248854 and parameters: {'lr': 0.00012374802998042582, 'hidden1': 189, 'hidden2': 64, 'activation': 'ELU'}. Best is trial 10 with value: 1.5891511078122296.\n",
            "[I 2025-05-28 19:38:13,286] Trial 20 finished with value: 1.6838847474206853 and parameters: {'lr': 0.0003645677860456895, 'hidden1': 215, 'hidden2': 181, 'activation': 'ELU'}. Best is trial 10 with value: 1.5891511078122296.\n",
            "[I 2025-05-28 19:38:16,495] Trial 21 finished with value: 1.6020986324624171 and parameters: {'lr': 0.0007166803614876583, 'hidden1': 242, 'hidden2': 111, 'activation': 'ELU'}. Best is trial 10 with value: 1.5891511078122296.\n",
            "[I 2025-05-28 19:38:19,713] Trial 22 finished with value: 1.595644884471652 and parameters: {'lr': 0.0016756935001046404, 'hidden1': 230, 'hidden2': 89, 'activation': 'ELU'}. Best is trial 10 with value: 1.5891511078122296.\n",
            "[I 2025-05-28 19:38:22,931] Trial 23 finished with value: 1.6201381834247444 and parameters: {'lr': 0.0018104984886636777, 'hidden1': 173, 'hidden2': 87, 'activation': 'ELU'}. Best is trial 10 with value: 1.5891511078122296.\n",
            "[I 2025-05-28 19:38:26,143] Trial 24 finished with value: 1.9671565973306004 and parameters: {'lr': 0.007445853057340007, 'hidden1': 211, 'hidden2': 136, 'activation': 'ELU'}. Best is trial 10 with value: 1.5891511078122296.\n",
            "[I 2025-05-28 19:38:29,334] Trial 25 finished with value: 1.639403738553011 and parameters: {'lr': 0.0005251101667367496, 'hidden1': 229, 'hidden2': 92, 'activation': 'ELU'}. Best is trial 10 with value: 1.5891511078122296.\n",
            "[I 2025-05-28 19:38:32,533] Trial 26 finished with value: 1.6222013295451296 and parameters: {'lr': 0.0014272442786462506, 'hidden1': 179, 'hidden2': 77, 'activation': 'ELU'}. Best is trial 10 with value: 1.5891511078122296.\n",
            "[I 2025-05-28 19:38:35,727] Trial 27 finished with value: 1.6438389307335963 and parameters: {'lr': 0.0024630986244660387, 'hidden1': 210, 'hidden2': 116, 'activation': 'ELU'}. Best is trial 10 with value: 1.5891511078122296.\n",
            "[I 2025-05-28 19:38:38,951] Trial 28 finished with value: 1.7513077062896536 and parameters: {'lr': 0.0001771089851157934, 'hidden1': 239, 'hidden2': 144, 'activation': 'ReLU'}. Best is trial 10 with value: 1.5891511078122296.\n",
            "[I 2025-05-28 19:38:42,166] Trial 29 finished with value: 1.8933961466897893 and parameters: {'lr': 0.0057354790707569055, 'hidden1': 203, 'hidden2': 125, 'activation': 'LeakyReLU'}. Best is trial 10 with value: 1.5891511078122296.\n"
          ]
        }
      ],
      "source": [
        "study = optuna.create_study(direction=\"minimize\")\n",
        "study.optimize(objective, n_trials=30)"
      ]
    },
    {
      "cell_type": "code",
      "execution_count": 9,
      "metadata": {
        "colab": {
          "base_uri": "https://localhost:8080/"
        },
        "id": "-RDeJnibl1zE",
        "outputId": "c8fd5b51-768e-4c00-e69d-5028e03d2f8c"
      },
      "outputs": [
        {
          "name": "stdout",
          "output_type": "stream",
          "text": [
            "Melhores hiperparâmetros:\n",
            "{'lr': 0.0007981108590240665, 'hidden1': 218, 'hidden2': 119, 'activation': 'ELU'}\n"
          ]
        }
      ],
      "source": [
        "print(\"Melhores hiperparâmetros:\")\n",
        "print(study.best_params)"
      ]
    },
    {
      "cell_type": "code",
      "execution_count": 27,
      "metadata": {
        "id": "tyat2KDLL92I"
      },
      "outputs": [],
      "source": [
        "#@title Hyperparameters\n",
        "input_size = 32*32*3 # 32x32 RGB images\n",
        "num_classes = 10\n",
        "\n",
        "learning_rate = 0.0008\n",
        "num_epochs = 30\n",
        "batch_size = 16\n",
        "hidden1 = 218\n",
        "hidden2 = 119\n",
        "\n",
        "activation_function = nn.LeakyReLU()\n",
        "\n",
        "loss_function = nn.CrossEntropyLoss()"
      ]
    },
    {
      "cell_type": "code",
      "execution_count": 11,
      "metadata": {
        "id": "fcH-AHUK8eGn"
      },
      "outputs": [],
      "source": [
        "#@title Dataset Setup\n",
        "\n",
        "transform = transforms.Compose([\n",
        "    transforms.ToTensor(),\n",
        "    transforms.Normalize((0.5,), (0.5,))\n",
        "])\n",
        "\n",
        "train_val_dataset = torchvision.datasets.CIFAR10(root='./data', train=True,\n",
        "                                        download=True, transform=transform)\n",
        "\n",
        "test_dataset = torchvision.datasets.CIFAR10(root='./data', train=False,\n",
        "                                       download=True, transform=transform)\n"
      ]
    },
    {
      "cell_type": "code",
      "execution_count": 12,
      "metadata": {
        "id": "_NHf0ZLJbYWd"
      },
      "outputs": [],
      "source": [
        "def evaluate(model, val_loader, loss_function):\n",
        "    model.eval()\n",
        "    val_loss = 0.0\n",
        "    with torch.no_grad():\n",
        "        for images, labels in val_loader:\n",
        "            images = images.view(-1, 32*32*3).to(device)\n",
        "            labels = labels.to(device)\n",
        "            outputs = model(images)\n",
        "            loss = loss_function(outputs, labels)\n",
        "            val_loss += loss.item()\n",
        "    model.train()\n",
        "    return val_loss / len(val_loader)"
      ]
    },
    {
      "cell_type": "code",
      "execution_count": 13,
      "metadata": {
        "id": "KOnFo7eLgaLN"
      },
      "outputs": [],
      "source": [
        "# Extrai os rótulos\n",
        "targets = np.array(train_val_dataset.targets)\n",
        "\n",
        "# Cria o validador estratificado\n",
        "splitter = StratifiedShuffleSplit(n_splits=1, test_size=0.2, random_state=42)\n",
        "\n",
        "# Gera os índices\n",
        "for train_idx, val_idx in splitter.split(np.zeros(len(targets)), targets):\n",
        "    train_dataset = Subset(train_val_dataset, train_idx)\n",
        "    val_dataset = Subset(train_val_dataset, val_idx)"
      ]
    },
    {
      "cell_type": "code",
      "execution_count": 14,
      "metadata": {},
      "outputs": [
        {
          "name": "stdout",
          "output_type": "stream",
          "text": [
            "Distribuição de classes no val_dataset:\n",
            "Classe 0: 1000 amostras\n",
            "Classe 1: 1000 amostras\n",
            "Classe 2: 1000 amostras\n",
            "Classe 3: 1000 amostras\n",
            "Classe 4: 1000 amostras\n",
            "Classe 5: 1000 amostras\n",
            "Classe 6: 1000 amostras\n",
            "Classe 7: 1000 amostras\n",
            "Classe 8: 1000 amostras\n",
            "Classe 9: 1000 amostras\n"
          ]
        }
      ],
      "source": [
        "# Acessa os rótulos (targets) do val_dataset\n",
        "val_targets = [train_val_dataset[idx][1] for idx in val_dataset.indices]\n",
        "\n",
        "# Conta quantas vezes cada classe aparece\n",
        "val_distribution = Counter(val_targets)\n",
        "\n",
        "print(\"Distribuição de classes no val_dataset:\")\n",
        "for label, count in sorted(val_distribution.items()):\n",
        "    print(f\"Classe {label}: {count} amostras\")"
      ]
    },
    {
      "cell_type": "code",
      "execution_count": 15,
      "metadata": {
        "id": "OYk-5ANCMIRY"
      },
      "outputs": [],
      "source": [
        "#@title Loaders\n",
        "\n",
        "train_loader = torch.utils.data.DataLoader(train_dataset, batch_size=batch_size, shuffle=True)\n",
        "val_loader = torch.utils.data.DataLoader(val_dataset, batch_size=batch_size, shuffle=True)\n",
        "test_loader = torch.utils.data.DataLoader(test_dataset, batch_size=batch_size, shuffle=False)"
      ]
    },
    {
      "cell_type": "code",
      "execution_count": 35,
      "metadata": {
        "colab": {
          "base_uri": "https://localhost:8080/"
        },
        "id": "XjTJpiboLmSF",
        "outputId": "112cb28e-7492-4d8c-c7ca-aba13a9be96e"
      },
      "outputs": [
        {
          "name": "stderr",
          "output_type": "stream",
          "text": [
            "  0%|          | 0/30 [00:03<?, ?it/s]"
          ]
        },
        {
          "name": "stdout",
          "output_type": "stream",
          "text": [
            " Epoch 1/30, Step 1000/2500, Loss: 1.7219336032867432\n"
          ]
        },
        {
          "name": "stderr",
          "output_type": "stream",
          "text": [
            "  0%|          | 0/30 [00:07<?, ?it/s]"
          ]
        },
        {
          "name": "stdout",
          "output_type": "stream",
          "text": [
            " Epoch 1/30, Step 2000/2500, Loss: 1.892439842224121\n"
          ]
        },
        {
          "name": "stderr",
          "output_type": "stream",
          "text": [
            "  0%|          | 0/30 [00:09<?, ?it/s]"
          ]
        },
        {
          "name": "stdout",
          "output_type": "stream",
          "text": [
            "Epoch 1 average loss: 1.7713\n"
          ]
        },
        {
          "name": "stderr",
          "output_type": "stream",
          "text": [
            "  3%|▎         | 1/30 [00:11<05:22, 11.12s/it]"
          ]
        },
        {
          "name": "stdout",
          "output_type": "stream",
          "text": [
            "Epoch 1 validation loss: 1.6168\n"
          ]
        },
        {
          "name": "stderr",
          "output_type": "stream",
          "text": [
            "  3%|▎         | 1/30 [00:14<05:22, 11.12s/it]"
          ]
        },
        {
          "name": "stdout",
          "output_type": "stream",
          "text": [
            " Epoch 2/30, Step 1000/2500, Loss: 1.720942497253418\n"
          ]
        },
        {
          "name": "stderr",
          "output_type": "stream",
          "text": [
            "  3%|▎         | 1/30 [00:18<05:22, 11.12s/it]"
          ]
        },
        {
          "name": "stdout",
          "output_type": "stream",
          "text": [
            " Epoch 2/30, Step 2000/2500, Loss: 2.048656940460205\n"
          ]
        },
        {
          "name": "stderr",
          "output_type": "stream",
          "text": [
            "  3%|▎         | 1/30 [00:20<05:22, 11.12s/it]"
          ]
        },
        {
          "name": "stdout",
          "output_type": "stream",
          "text": [
            "Epoch 2 average loss: 1.6237\n"
          ]
        },
        {
          "name": "stderr",
          "output_type": "stream",
          "text": [
            "  7%|▋         | 2/30 [00:22<05:08, 11.03s/it]"
          ]
        },
        {
          "name": "stdout",
          "output_type": "stream",
          "text": [
            "Epoch 2 validation loss: 1.5486\n"
          ]
        },
        {
          "name": "stderr",
          "output_type": "stream",
          "text": [
            "  7%|▋         | 2/30 [00:25<05:08, 11.03s/it]"
          ]
        },
        {
          "name": "stdout",
          "output_type": "stream",
          "text": [
            " Epoch 3/30, Step 1000/2500, Loss: 1.5627554655075073\n"
          ]
        },
        {
          "name": "stderr",
          "output_type": "stream",
          "text": [
            "  7%|▋         | 2/30 [00:29<05:08, 11.03s/it]"
          ]
        },
        {
          "name": "stdout",
          "output_type": "stream",
          "text": [
            " Epoch 3/30, Step 2000/2500, Loss: 1.9237468242645264\n"
          ]
        },
        {
          "name": "stderr",
          "output_type": "stream",
          "text": [
            "  7%|▋         | 2/30 [00:31<05:08, 11.03s/it]"
          ]
        },
        {
          "name": "stdout",
          "output_type": "stream",
          "text": [
            "Epoch 3 average loss: 1.5529\n"
          ]
        },
        {
          "name": "stderr",
          "output_type": "stream",
          "text": [
            " 10%|█         | 3/30 [00:33<04:56, 11.00s/it]"
          ]
        },
        {
          "name": "stdout",
          "output_type": "stream",
          "text": [
            "Epoch 3 validation loss: 1.5114\n"
          ]
        },
        {
          "name": "stderr",
          "output_type": "stream",
          "text": [
            " 10%|█         | 3/30 [00:36<04:56, 11.00s/it]"
          ]
        },
        {
          "name": "stdout",
          "output_type": "stream",
          "text": [
            " Epoch 4/30, Step 1000/2500, Loss: 0.9892741441726685\n"
          ]
        },
        {
          "name": "stderr",
          "output_type": "stream",
          "text": [
            " 10%|█         | 3/30 [00:40<04:56, 11.00s/it]"
          ]
        },
        {
          "name": "stdout",
          "output_type": "stream",
          "text": [
            " Epoch 4/30, Step 2000/2500, Loss: 1.4918653964996338\n"
          ]
        },
        {
          "name": "stderr",
          "output_type": "stream",
          "text": [
            " 10%|█         | 3/30 [00:42<04:56, 11.00s/it]"
          ]
        },
        {
          "name": "stdout",
          "output_type": "stream",
          "text": [
            "Epoch 4 average loss: 1.5077\n"
          ]
        },
        {
          "name": "stderr",
          "output_type": "stream",
          "text": [
            " 13%|█▎        | 4/30 [00:44<04:45, 11.00s/it]"
          ]
        },
        {
          "name": "stdout",
          "output_type": "stream",
          "text": [
            "Epoch 4 validation loss: 1.4821\n"
          ]
        },
        {
          "name": "stderr",
          "output_type": "stream",
          "text": [
            " 13%|█▎        | 4/30 [00:47<04:45, 11.00s/it]"
          ]
        },
        {
          "name": "stdout",
          "output_type": "stream",
          "text": [
            " Epoch 5/30, Step 1000/2500, Loss: 1.594865322113037\n"
          ]
        },
        {
          "name": "stderr",
          "output_type": "stream",
          "text": [
            " 13%|█▎        | 4/30 [00:51<04:45, 11.00s/it]"
          ]
        },
        {
          "name": "stdout",
          "output_type": "stream",
          "text": [
            " Epoch 5/30, Step 2000/2500, Loss: 1.5088127851486206\n"
          ]
        },
        {
          "name": "stderr",
          "output_type": "stream",
          "text": [
            " 13%|█▎        | 4/30 [00:53<04:45, 11.00s/it]"
          ]
        },
        {
          "name": "stdout",
          "output_type": "stream",
          "text": [
            "Epoch 5 average loss: 1.4635\n"
          ]
        },
        {
          "name": "stderr",
          "output_type": "stream",
          "text": [
            " 17%|█▋        | 5/30 [00:54<04:33, 10.95s/it]"
          ]
        },
        {
          "name": "stdout",
          "output_type": "stream",
          "text": [
            "Epoch 5 validation loss: 1.4479\n"
          ]
        },
        {
          "name": "stderr",
          "output_type": "stream",
          "text": [
            " 17%|█▋        | 5/30 [00:58<04:33, 10.95s/it]"
          ]
        },
        {
          "name": "stdout",
          "output_type": "stream",
          "text": [
            " Epoch 6/30, Step 1000/2500, Loss: 1.2642837762832642\n"
          ]
        },
        {
          "name": "stderr",
          "output_type": "stream",
          "text": [
            " 17%|█▋        | 5/30 [01:02<04:33, 10.95s/it]"
          ]
        },
        {
          "name": "stdout",
          "output_type": "stream",
          "text": [
            " Epoch 6/30, Step 2000/2500, Loss: 1.0808861255645752\n"
          ]
        },
        {
          "name": "stderr",
          "output_type": "stream",
          "text": [
            " 17%|█▋        | 5/30 [01:04<04:33, 10.95s/it]"
          ]
        },
        {
          "name": "stdout",
          "output_type": "stream",
          "text": [
            "Epoch 6 average loss: 1.4273\n"
          ]
        },
        {
          "name": "stderr",
          "output_type": "stream",
          "text": [
            " 20%|██        | 6/30 [01:05<04:22, 10.93s/it]"
          ]
        },
        {
          "name": "stdout",
          "output_type": "stream",
          "text": [
            "Epoch 6 validation loss: 1.4471\n"
          ]
        },
        {
          "name": "stderr",
          "output_type": "stream",
          "text": [
            " 20%|██        | 6/30 [01:09<04:22, 10.93s/it]"
          ]
        },
        {
          "name": "stdout",
          "output_type": "stream",
          "text": [
            " Epoch 7/30, Step 1000/2500, Loss: 1.938637375831604\n"
          ]
        },
        {
          "name": "stderr",
          "output_type": "stream",
          "text": [
            " 20%|██        | 6/30 [01:13<04:22, 10.93s/it]"
          ]
        },
        {
          "name": "stdout",
          "output_type": "stream",
          "text": [
            " Epoch 7/30, Step 2000/2500, Loss: 1.4837533235549927\n"
          ]
        },
        {
          "name": "stderr",
          "output_type": "stream",
          "text": [
            " 20%|██        | 6/30 [01:14<04:22, 10.93s/it]"
          ]
        },
        {
          "name": "stdout",
          "output_type": "stream",
          "text": [
            "Epoch 7 average loss: 1.3961\n"
          ]
        },
        {
          "name": "stderr",
          "output_type": "stream",
          "text": [
            " 23%|██▎       | 7/30 [01:16<04:11, 10.94s/it]"
          ]
        },
        {
          "name": "stdout",
          "output_type": "stream",
          "text": [
            "Epoch 7 validation loss: 1.4218\n"
          ]
        },
        {
          "name": "stderr",
          "output_type": "stream",
          "text": [
            " 23%|██▎       | 7/30 [01:20<04:11, 10.94s/it]"
          ]
        },
        {
          "name": "stdout",
          "output_type": "stream",
          "text": [
            " Epoch 8/30, Step 1000/2500, Loss: 1.2308146953582764\n"
          ]
        },
        {
          "name": "stderr",
          "output_type": "stream",
          "text": [
            " 23%|██▎       | 7/30 [01:24<04:11, 10.94s/it]"
          ]
        },
        {
          "name": "stdout",
          "output_type": "stream",
          "text": [
            " Epoch 8/30, Step 2000/2500, Loss: 1.240495204925537\n"
          ]
        },
        {
          "name": "stderr",
          "output_type": "stream",
          "text": [
            " 23%|██▎       | 7/30 [01:25<04:11, 10.94s/it]"
          ]
        },
        {
          "name": "stdout",
          "output_type": "stream",
          "text": [
            "Epoch 8 average loss: 1.3712\n"
          ]
        },
        {
          "name": "stderr",
          "output_type": "stream",
          "text": [
            " 27%|██▋       | 8/30 [01:27<04:00, 10.94s/it]"
          ]
        },
        {
          "name": "stdout",
          "output_type": "stream",
          "text": [
            "Epoch 8 validation loss: 1.4282\n"
          ]
        },
        {
          "name": "stderr",
          "output_type": "stream",
          "text": [
            " 27%|██▋       | 8/30 [01:31<04:00, 10.94s/it]"
          ]
        },
        {
          "name": "stdout",
          "output_type": "stream",
          "text": [
            " Epoch 9/30, Step 1000/2500, Loss: 1.7334609031677246\n"
          ]
        },
        {
          "name": "stderr",
          "output_type": "stream",
          "text": [
            " 27%|██▋       | 8/30 [01:35<04:00, 10.94s/it]"
          ]
        },
        {
          "name": "stdout",
          "output_type": "stream",
          "text": [
            " Epoch 9/30, Step 2000/2500, Loss: 1.1717748641967773\n"
          ]
        },
        {
          "name": "stderr",
          "output_type": "stream",
          "text": [
            " 27%|██▋       | 8/30 [01:36<04:00, 10.94s/it]"
          ]
        },
        {
          "name": "stdout",
          "output_type": "stream",
          "text": [
            "Epoch 9 average loss: 1.3470\n"
          ]
        },
        {
          "name": "stderr",
          "output_type": "stream",
          "text": [
            " 30%|███       | 9/30 [01:38<03:50, 10.97s/it]"
          ]
        },
        {
          "name": "stdout",
          "output_type": "stream",
          "text": [
            "Epoch 9 validation loss: 1.4174\n"
          ]
        },
        {
          "name": "stderr",
          "output_type": "stream",
          "text": [
            " 30%|███       | 9/30 [01:42<03:50, 10.97s/it]"
          ]
        },
        {
          "name": "stdout",
          "output_type": "stream",
          "text": [
            " Epoch 10/30, Step 1000/2500, Loss: 1.224642276763916\n"
          ]
        },
        {
          "name": "stderr",
          "output_type": "stream",
          "text": [
            " 30%|███       | 9/30 [01:46<03:50, 10.97s/it]"
          ]
        },
        {
          "name": "stdout",
          "output_type": "stream",
          "text": [
            " Epoch 10/30, Step 2000/2500, Loss: 1.1883020401000977\n"
          ]
        },
        {
          "name": "stderr",
          "output_type": "stream",
          "text": [
            " 30%|███       | 9/30 [01:47<03:50, 10.97s/it]"
          ]
        },
        {
          "name": "stdout",
          "output_type": "stream",
          "text": [
            "Epoch 10 average loss: 1.3218\n"
          ]
        },
        {
          "name": "stderr",
          "output_type": "stream",
          "text": [
            " 33%|███▎      | 10/30 [01:49<03:39, 10.97s/it]"
          ]
        },
        {
          "name": "stdout",
          "output_type": "stream",
          "text": [
            "Epoch 10 validation loss: 1.4159\n"
          ]
        },
        {
          "name": "stderr",
          "output_type": "stream",
          "text": [
            " 33%|███▎      | 10/30 [01:53<03:39, 10.97s/it]"
          ]
        },
        {
          "name": "stdout",
          "output_type": "stream",
          "text": [
            " Epoch 11/30, Step 1000/2500, Loss: 1.3167527914047241\n"
          ]
        },
        {
          "name": "stderr",
          "output_type": "stream",
          "text": [
            " 33%|███▎      | 10/30 [01:57<03:39, 10.97s/it]"
          ]
        },
        {
          "name": "stdout",
          "output_type": "stream",
          "text": [
            " Epoch 11/30, Step 2000/2500, Loss: 1.335680365562439\n"
          ]
        },
        {
          "name": "stderr",
          "output_type": "stream",
          "text": [
            " 33%|███▎      | 10/30 [01:58<03:39, 10.97s/it]"
          ]
        },
        {
          "name": "stdout",
          "output_type": "stream",
          "text": [
            "Epoch 11 average loss: 1.2963\n"
          ]
        },
        {
          "name": "stderr",
          "output_type": "stream",
          "text": [
            " 37%|███▋      | 11/30 [02:00<03:28, 10.97s/it]"
          ]
        },
        {
          "name": "stdout",
          "output_type": "stream",
          "text": [
            "Epoch 11 validation loss: 1.4093\n"
          ]
        },
        {
          "name": "stderr",
          "output_type": "stream",
          "text": [
            " 37%|███▋      | 11/30 [02:04<03:28, 10.97s/it]"
          ]
        },
        {
          "name": "stdout",
          "output_type": "stream",
          "text": [
            " Epoch 12/30, Step 1000/2500, Loss: 1.2968254089355469\n"
          ]
        },
        {
          "name": "stderr",
          "output_type": "stream",
          "text": [
            " 37%|███▋      | 11/30 [02:08<03:28, 10.97s/it]"
          ]
        },
        {
          "name": "stdout",
          "output_type": "stream",
          "text": [
            " Epoch 12/30, Step 2000/2500, Loss: 1.2631438970565796\n"
          ]
        },
        {
          "name": "stderr",
          "output_type": "stream",
          "text": [
            " 37%|███▋      | 11/30 [02:09<03:28, 10.97s/it]"
          ]
        },
        {
          "name": "stdout",
          "output_type": "stream",
          "text": [
            "Epoch 12 average loss: 1.2895\n"
          ]
        },
        {
          "name": "stderr",
          "output_type": "stream",
          "text": [
            " 40%|████      | 12/30 [02:11<03:17, 10.95s/it]"
          ]
        },
        {
          "name": "stdout",
          "output_type": "stream",
          "text": [
            "Epoch 12 validation loss: 1.4056\n"
          ]
        },
        {
          "name": "stderr",
          "output_type": "stream",
          "text": [
            " 40%|████      | 12/30 [02:15<03:17, 10.95s/it]"
          ]
        },
        {
          "name": "stdout",
          "output_type": "stream",
          "text": [
            " Epoch 13/30, Step 1000/2500, Loss: 1.1714823246002197\n"
          ]
        },
        {
          "name": "stderr",
          "output_type": "stream",
          "text": [
            " 40%|████      | 12/30 [02:18<03:17, 10.95s/it]"
          ]
        },
        {
          "name": "stdout",
          "output_type": "stream",
          "text": [
            " Epoch 13/30, Step 2000/2500, Loss: 1.2012635469436646\n"
          ]
        },
        {
          "name": "stderr",
          "output_type": "stream",
          "text": [
            " 40%|████      | 12/30 [02:20<03:17, 10.95s/it]"
          ]
        },
        {
          "name": "stdout",
          "output_type": "stream",
          "text": [
            "Epoch 13 average loss: 1.2694\n"
          ]
        },
        {
          "name": "stderr",
          "output_type": "stream",
          "text": [
            " 43%|████▎     | 13/30 [02:22<03:05, 10.94s/it]"
          ]
        },
        {
          "name": "stdout",
          "output_type": "stream",
          "text": [
            "Epoch 13 validation loss: 1.3907\n"
          ]
        },
        {
          "name": "stderr",
          "output_type": "stream",
          "text": [
            " 43%|████▎     | 13/30 [02:26<03:05, 10.94s/it]"
          ]
        },
        {
          "name": "stdout",
          "output_type": "stream",
          "text": [
            " Epoch 14/30, Step 1000/2500, Loss: 0.8982652425765991\n"
          ]
        },
        {
          "name": "stderr",
          "output_type": "stream",
          "text": [
            " 43%|████▎     | 13/30 [02:29<03:05, 10.94s/it]"
          ]
        },
        {
          "name": "stdout",
          "output_type": "stream",
          "text": [
            " Epoch 14/30, Step 2000/2500, Loss: 0.9931753873825073\n"
          ]
        },
        {
          "name": "stderr",
          "output_type": "stream",
          "text": [
            " 43%|████▎     | 13/30 [02:31<03:05, 10.94s/it]"
          ]
        },
        {
          "name": "stdout",
          "output_type": "stream",
          "text": [
            "Epoch 14 average loss: 1.2529\n"
          ]
        },
        {
          "name": "stderr",
          "output_type": "stream",
          "text": [
            " 47%|████▋     | 14/30 [02:33<02:54, 10.93s/it]"
          ]
        },
        {
          "name": "stdout",
          "output_type": "stream",
          "text": [
            "Epoch 14 validation loss: 1.4013\n"
          ]
        },
        {
          "name": "stderr",
          "output_type": "stream",
          "text": [
            " 47%|████▋     | 14/30 [02:37<02:54, 10.93s/it]"
          ]
        },
        {
          "name": "stdout",
          "output_type": "stream",
          "text": [
            " Epoch 15/30, Step 1000/2500, Loss: 1.1667535305023193\n"
          ]
        },
        {
          "name": "stderr",
          "output_type": "stream",
          "text": [
            " 47%|████▋     | 14/30 [02:40<02:54, 10.93s/it]"
          ]
        },
        {
          "name": "stdout",
          "output_type": "stream",
          "text": [
            " Epoch 15/30, Step 2000/2500, Loss: 1.0814149379730225\n"
          ]
        },
        {
          "name": "stderr",
          "output_type": "stream",
          "text": [
            " 47%|████▋     | 14/30 [02:42<02:54, 10.93s/it]"
          ]
        },
        {
          "name": "stdout",
          "output_type": "stream",
          "text": [
            "Epoch 15 average loss: 1.2323\n"
          ]
        },
        {
          "name": "stderr",
          "output_type": "stream",
          "text": [
            " 50%|█████     | 15/30 [02:44<02:45, 11.00s/it]"
          ]
        },
        {
          "name": "stdout",
          "output_type": "stream",
          "text": [
            "Epoch 15 validation loss: 1.4191\n"
          ]
        },
        {
          "name": "stderr",
          "output_type": "stream",
          "text": [
            " 50%|█████     | 15/30 [02:48<02:45, 11.00s/it]"
          ]
        },
        {
          "name": "stdout",
          "output_type": "stream",
          "text": [
            " Epoch 16/30, Step 1000/2500, Loss: 1.063239336013794\n"
          ]
        },
        {
          "name": "stderr",
          "output_type": "stream",
          "text": [
            " 50%|█████     | 15/30 [02:51<02:45, 11.00s/it]"
          ]
        },
        {
          "name": "stdout",
          "output_type": "stream",
          "text": [
            " Epoch 16/30, Step 2000/2500, Loss: 1.2758105993270874\n"
          ]
        },
        {
          "name": "stderr",
          "output_type": "stream",
          "text": [
            " 50%|█████     | 15/30 [02:53<02:45, 11.00s/it]"
          ]
        },
        {
          "name": "stdout",
          "output_type": "stream",
          "text": [
            "Epoch 16 average loss: 1.2223\n"
          ]
        },
        {
          "name": "stderr",
          "output_type": "stream",
          "text": [
            " 53%|█████▎    | 16/30 [02:55<02:34, 11.01s/it]"
          ]
        },
        {
          "name": "stdout",
          "output_type": "stream",
          "text": [
            "Epoch 16 validation loss: 1.3857\n"
          ]
        },
        {
          "name": "stderr",
          "output_type": "stream",
          "text": [
            " 53%|█████▎    | 16/30 [02:59<02:34, 11.01s/it]"
          ]
        },
        {
          "name": "stdout",
          "output_type": "stream",
          "text": [
            " Epoch 17/30, Step 1000/2500, Loss: 1.092605710029602\n"
          ]
        },
        {
          "name": "stderr",
          "output_type": "stream",
          "text": [
            " 53%|█████▎    | 16/30 [03:02<02:34, 11.01s/it]"
          ]
        },
        {
          "name": "stdout",
          "output_type": "stream",
          "text": [
            " Epoch 17/30, Step 2000/2500, Loss: 1.0146515369415283\n"
          ]
        },
        {
          "name": "stderr",
          "output_type": "stream",
          "text": [
            " 53%|█████▎    | 16/30 [03:04<02:34, 11.01s/it]"
          ]
        },
        {
          "name": "stdout",
          "output_type": "stream",
          "text": [
            "Epoch 17 average loss: 1.2051\n"
          ]
        },
        {
          "name": "stderr",
          "output_type": "stream",
          "text": [
            " 57%|█████▋    | 17/30 [03:06<02:22, 10.98s/it]"
          ]
        },
        {
          "name": "stdout",
          "output_type": "stream",
          "text": [
            "Epoch 17 validation loss: 1.3951\n"
          ]
        },
        {
          "name": "stderr",
          "output_type": "stream",
          "text": [
            " 57%|█████▋    | 17/30 [03:10<02:22, 10.98s/it]"
          ]
        },
        {
          "name": "stdout",
          "output_type": "stream",
          "text": [
            " Epoch 18/30, Step 1000/2500, Loss: 1.3889745473861694\n"
          ]
        },
        {
          "name": "stderr",
          "output_type": "stream",
          "text": [
            " 57%|█████▋    | 17/30 [03:13<02:22, 10.98s/it]"
          ]
        },
        {
          "name": "stdout",
          "output_type": "stream",
          "text": [
            " Epoch 18/30, Step 2000/2500, Loss: 1.003133773803711\n"
          ]
        },
        {
          "name": "stderr",
          "output_type": "stream",
          "text": [
            " 57%|█████▋    | 17/30 [03:15<02:22, 10.98s/it]"
          ]
        },
        {
          "name": "stdout",
          "output_type": "stream",
          "text": [
            "Epoch 18 average loss: 1.1937\n"
          ]
        },
        {
          "name": "stderr",
          "output_type": "stream",
          "text": [
            " 60%|██████    | 18/30 [03:17<02:11, 10.92s/it]"
          ]
        },
        {
          "name": "stdout",
          "output_type": "stream",
          "text": [
            "Epoch 18 validation loss: 1.3993\n"
          ]
        },
        {
          "name": "stderr",
          "output_type": "stream",
          "text": [
            " 60%|██████    | 18/30 [03:20<02:11, 10.92s/it]"
          ]
        },
        {
          "name": "stdout",
          "output_type": "stream",
          "text": [
            " Epoch 19/30, Step 1000/2500, Loss: 0.9657109379768372\n"
          ]
        },
        {
          "name": "stderr",
          "output_type": "stream",
          "text": [
            " 60%|██████    | 18/30 [03:24<02:11, 10.92s/it]"
          ]
        },
        {
          "name": "stdout",
          "output_type": "stream",
          "text": [
            " Epoch 19/30, Step 2000/2500, Loss: 0.7446482181549072\n"
          ]
        },
        {
          "name": "stderr",
          "output_type": "stream",
          "text": [
            " 60%|██████    | 18/30 [03:26<02:11, 10.92s/it]"
          ]
        },
        {
          "name": "stdout",
          "output_type": "stream",
          "text": [
            "Epoch 19 average loss: 1.1751\n"
          ]
        },
        {
          "name": "stderr",
          "output_type": "stream",
          "text": [
            " 63%|██████▎   | 19/30 [03:28<01:59, 10.90s/it]"
          ]
        },
        {
          "name": "stdout",
          "output_type": "stream",
          "text": [
            "Epoch 19 validation loss: 1.4058\n"
          ]
        },
        {
          "name": "stderr",
          "output_type": "stream",
          "text": [
            " 63%|██████▎   | 19/30 [03:31<01:59, 10.90s/it]"
          ]
        },
        {
          "name": "stdout",
          "output_type": "stream",
          "text": [
            " Epoch 20/30, Step 1000/2500, Loss: 1.497275710105896\n"
          ]
        },
        {
          "name": "stderr",
          "output_type": "stream",
          "text": [
            " 63%|██████▎   | 19/30 [03:35<01:59, 10.90s/it]"
          ]
        },
        {
          "name": "stdout",
          "output_type": "stream",
          "text": [
            " Epoch 20/30, Step 2000/2500, Loss: 1.1396396160125732\n"
          ]
        },
        {
          "name": "stderr",
          "output_type": "stream",
          "text": [
            " 63%|██████▎   | 19/30 [03:37<01:59, 10.90s/it]"
          ]
        },
        {
          "name": "stdout",
          "output_type": "stream",
          "text": [
            "Epoch 20 average loss: 1.1657\n"
          ]
        },
        {
          "name": "stderr",
          "output_type": "stream",
          "text": [
            " 67%|██████▋   | 20/30 [03:38<01:48, 10.88s/it]"
          ]
        },
        {
          "name": "stdout",
          "output_type": "stream",
          "text": [
            "Epoch 20 validation loss: 1.4102\n"
          ]
        },
        {
          "name": "stderr",
          "output_type": "stream",
          "text": [
            " 67%|██████▋   | 20/30 [03:42<01:48, 10.88s/it]"
          ]
        },
        {
          "name": "stdout",
          "output_type": "stream",
          "text": [
            " Epoch 21/30, Step 1000/2500, Loss: 0.9438828825950623\n"
          ]
        },
        {
          "name": "stderr",
          "output_type": "stream",
          "text": [
            " 67%|██████▋   | 20/30 [03:46<01:48, 10.88s/it]"
          ]
        },
        {
          "name": "stdout",
          "output_type": "stream",
          "text": [
            " Epoch 21/30, Step 2000/2500, Loss: 1.3132126331329346\n"
          ]
        },
        {
          "name": "stderr",
          "output_type": "stream",
          "text": [
            " 67%|██████▋   | 20/30 [03:48<01:48, 10.88s/it]"
          ]
        },
        {
          "name": "stdout",
          "output_type": "stream",
          "text": [
            "Epoch 21 average loss: 1.1597\n"
          ]
        },
        {
          "name": "stderr",
          "output_type": "stream",
          "text": [
            " 67%|██████▋   | 20/30 [03:49<01:54, 11.49s/it]"
          ]
        },
        {
          "name": "stdout",
          "output_type": "stream",
          "text": [
            "Epoch 21 validation loss: 1.3983\n",
            "Early stopping triggered.\n"
          ]
        },
        {
          "name": "stderr",
          "output_type": "stream",
          "text": [
            "\n"
          ]
        }
      ],
      "source": [
        "#@title Training loop\n",
        "device = torch.device(\"cuda\" if torch.cuda.is_available() else \"cpu\")\n",
        "\n",
        "# Build the model\n",
        "mlp = MLP(32*32*3,\n",
        "                hidden1= hidden1,\n",
        "                hidden2= hidden2,\n",
        "                num_classes = 10,\n",
        "                activation_function = activation_function)\n",
        "mlp.to(device)\n",
        "\n",
        "# Setting optimizer up\n",
        "optimizer = torch.optim.AdamW(mlp.parameters(), lr=learning_rate, weight_decay = 1e-4)\n",
        "\n",
        "# Early stopping setup\n",
        "best_loss = float('inf')\n",
        "patience = 5\n",
        "patience_counter = 0\n",
        "best_model_state = None\n",
        "\n",
        "train_losses = []\n",
        "val_losses = []\n",
        "\n",
        "# Start training epochs loop\n",
        "for epoch in tqdm(range(num_epochs)):\n",
        "  epoch_loss = 0.0\n",
        "  for i, (images, labels) in enumerate(train_loader):\n",
        "    images = images.view(-1,32*32*3).to(device) # flattenning images\n",
        "    labels = labels.to(device)\n",
        "\n",
        "    # Forward pass\n",
        "    optimizer.zero_grad()\n",
        "    outputs = mlp(images)\n",
        "\n",
        "    # Backward pass\n",
        "    loss = loss_function(outputs, labels)\n",
        "    loss.backward()\n",
        "    optimizer.step()\n",
        "\n",
        "    epoch_loss += loss.item()\n",
        "\n",
        "    if (i+1) % 1000 == 0:\n",
        "      tqdm.write(f' Epoch {epoch + 1}/{num_epochs}, Step {i+1}/{len(train_dataset) // batch_size}, Loss: {loss}')\n",
        "\n",
        "  epoch_loss /= len(train_loader)\n",
        "  tqdm.write(f'Epoch {epoch+1} average loss: {epoch_loss:.4f}')\n",
        "  train_losses.append(epoch_loss)\n",
        "\n",
        "  val_loss = evaluate(mlp, val_loader, loss_function)\n",
        "  tqdm.write(f'Epoch {epoch+1} validation loss: {val_loss:.4f}')\n",
        "  val_losses.append(val_loss)\n",
        "\n",
        "  # Early stopping using loss value\n",
        "  if val_loss < best_loss:\n",
        "    best_loss = val_loss\n",
        "    patience_counter = 0\n",
        "    best_model_state = mlp.state_dict()\n",
        "  else:\n",
        "    patience_counter += 1\n",
        "    if patience_counter >= patience:\n",
        "      tqdm.write(\"Early stopping triggered.\")\n",
        "      break\n",
        "\n",
        "if best_model_state is not None:\n",
        "    mlp.load_state_dict(best_model_state)\n",
        "    torch.save(mlp.state_dict(), \"melhor_modelo.pth\")\n"
      ]
    },
    {
      "cell_type": "code",
      "execution_count": 29,
      "metadata": {
        "id": "zaxCer_mddbq"
      },
      "outputs": [
        {
          "data": {
            "image/png": "[encoded data removed]",
            "text/plain": [
              "<Figure size 1000x600 with 1 Axes>"
            ]
          },
          "metadata": {},
          "output_type": "display_data"
        }
      ],
      "source": [
        "plt.figure(figsize=(10,6))\n",
        "plt.plot(train_losses, label='Train Loss')\n",
        "plt.plot(val_losses, label='Validation Loss')\n",
        "plt.xlabel('Epoch')\n",
        "plt.ylabel('Loss')\n",
        "plt.title('Train vs Validation Loss')\n",
        "plt.legend()\n",
        "plt.grid(True)\n",
        "plt.show()"
      ]
    },
    {
      "cell_type": "code",
      "execution_count": 30,
      "metadata": {
        "colab": {
          "base_uri": "https://localhost:8080/"
        },
        "id": "vxYFc_r5KCzS",
        "outputId": "f7ea8fa5-087b-41ce-e286-de4a69659ba5"
      },
      "outputs": [
        {
          "name": "stdout",
          "output_type": "stream",
          "text": [
            "cuda\n"
          ]
        }
      ],
      "source": [
        "print(device)"
      ]
    },
    {
      "cell_type": "code",
      "execution_count": 31,
      "metadata": {
        "id": "13FaQlXcNvM6"
      },
      "outputs": [],
      "source": [
        "#@title Defining metrics helper\n",
        "\n",
        "def get_scores(targets, predictions):\n",
        "    return {\n",
        "        \"accuracy\": metrics.accuracy_score(targets, predictions),\n",
        "        \"balanced_accuracy\": metrics.balanced_accuracy_score(targets, predictions),\n",
        "        \"precision\": metrics.precision_score(targets, predictions, average=\"weighted\"),\n",
        "        \"recall\": metrics.recall_score(targets, predictions, average=\"weighted\"),\n",
        "        \"f1_score\": metrics.f1_score(targets, predictions, average=\"weighted\")\n",
        "    }"
      ]
    },
    {
      "cell_type": "code",
      "execution_count": 32,
      "metadata": {
        "colab": {
          "base_uri": "https://localhost:8080/"
        },
        "id": "jMA-DgwPhkVm",
        "outputId": "12804488-1ba5-46d7-cce9-a6238e7dba18"
      },
      "outputs": [
        {
          "name": "stdout",
          "output_type": "stream",
          "text": [
            "Pesos carregados com sucesso.\n"
          ]
        },
        {
          "name": "stdout",
          "output_type": "stream",
          "text": [
            "Scores of your model\n",
            " {'accuracy': 0.5052, 'balanced_accuracy': 0.5052, 'precision': 0.5184337339451633, 'recall': 0.5052, 'f1_score': 0.500145069759003}\n"
          ]
        }
      ],
      "source": [
        "#@title Evaluate model (accuracy, precision, recall)\n",
        "device = torch.device(\"cuda\" if torch.cuda.is_available() else \"cpu\")\n",
        "\n",
        "mlp = MLP(32*32*3,\n",
        "          hidden1= hidden1,\n",
        "          hidden2= hidden2,\n",
        "          num_classes = 10,\n",
        "          activation_function = activation_function)\n",
        "\n",
        "mlp.to(device)\n",
        "\n",
        "if os.path.exists(\"melhor_modelo.pth\"):\n",
        "    mlp.load_state_dict(torch.load(\"melhor_modelo.pth\"))\n",
        "    print(\"Pesos carregados com sucesso.\")\n",
        "else:\n",
        "    print(\"Arquivo de pesos não encontrado. Modelo será inicializado do zero.\")\n",
        "\n",
        "mlp.eval()\n",
        "predictions = []\n",
        "labels = []\n",
        "for images, label in val_loader:\n",
        "  images = images.view(-1,32*32*3).to(device)\n",
        "  label = label.to(device)\n",
        "\n",
        "  output = mlp(images)\n",
        "  _, predicted = torch.max(output,1)\n",
        "\n",
        "  predictions.extend(predicted.cpu().numpy())\n",
        "  labels.extend(label.cpu().numpy())\n",
        "\n",
        "scores = get_scores(labels, predictions)\n",
        "print(\"Scores of your model\\n\", scores)"
      ]
    },
    {
      "cell_type": "markdown",
      "metadata": {
        "id": "bA8HgFj-MjYc"
      },
      "source": [
        "# You can change/optimize this as you want\n",
        "- Different optimizers, activation functions, etc\n",
        "- Automatic hyperparameters optimization (Optuna)\n",
        "- Regularization techniques\n",
        "- Validation set to track metrics during epochs\n",
        "- Transform input data\n",
        "- ..."
      ]
    }
  ],
  "metadata": {
    "accelerator": "GPU",
    "colab": {
      "gpuType": "T4",
      "provenance": []
    },
    "kernelspec": {
      "display_name": "Python 3",
      "name": "python3"
    },
    "language_info": {
      "name": "python"
    }
  },
  "nbformat": 4,
  "nbformat_minor": 0
}
