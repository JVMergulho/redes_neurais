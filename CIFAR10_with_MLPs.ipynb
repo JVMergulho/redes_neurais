{
  "cells": [
    {
      "cell_type": "markdown",
      "metadata": {
        "id": "BjND-9CP7R7n"
      },
      "source": [
        "# CIFAR10 with MLPs\n",
        "Simple starter notebook to benchmark your own MLP with PyTorch on the CIFAR-10 dataset.\n",
        "\n",
        "OBS.:\n",
        "\n",
        "- The main code is basically done, so focus on training the models and searching for the best hyperparameters and architectures.\n",
        "- You are not required to use this exact code or even the PyTorch library.\n",
        "- It is recommended to use execution environments with GPU access (such as Google Colab), since larger models will take more time to train.\n",
        "- Remember to document the history of your experiments and which results motivated the changes in subsequent experiments."
      ]
    },
    {
      "cell_type": "markdown",
      "metadata": {},
      "source": [
        "## Como tentamos melhorar o modelo:\n",
        "- Utilizamos o optuna para encontrar melhores hiperparâmetros: learning rate, número de nós em cada camada e função de ativação\n",
        "- Evitar overfiting:\n",
        "    - Regularização com weight_decay no otimizador para diminuir a magnitude dos pesos\n",
        "    - Uso de dropout para desativar 20% dos neurônios\n",
        "    - separação do dataset de treinamento em treinamento e validação\n",
        "    - Uso de early stopping levando em conta o loss da validação"
      ]
    },
    {
      "cell_type": "code",
      "execution_count": 52,
      "metadata": {
        "colab": {
          "base_uri": "https://localhost:8080/"
        },
        "id": "cwfccYED2ysj",
        "outputId": "d39d0704-61a5-4c90-b925-bb4438958bac"
      },
      "outputs": [
        {
          "name": "stdout",
          "output_type": "stream",
          "text": [
            "Requirement already satisfied: optuna in c:\\users\\anaso\\appdata\\local\\programs\\python\\python313\\lib\\site-packages (4.3.0)\n",
            "Requirement already satisfied: alembic>=1.5.0 in c:\\users\\anaso\\appdata\\local\\programs\\python\\python313\\lib\\site-packages (from optuna) (1.16.1)\n",
            "Requirement already satisfied: colorlog in c:\\users\\anaso\\appdata\\local\\programs\\python\\python313\\lib\\site-packages (from optuna) (6.9.0)\n",
            "Requirement already satisfied: numpy in c:\\users\\anaso\\appdata\\local\\programs\\python\\python313\\lib\\site-packages (from optuna) (2.2.6)\n",
            "Requirement already satisfied: packaging>=20.0 in c:\\users\\anaso\\appdata\\roaming\\python\\python313\\site-packages (from optuna) (25.0)\n",
            "Requirement already satisfied: sqlalchemy>=1.4.2 in c:\\users\\anaso\\appdata\\local\\programs\\python\\python313\\lib\\site-packages (from optuna) (2.0.41)\n",
            "Requirement already satisfied: tqdm in c:\\users\\anaso\\appdata\\local\\programs\\python\\python313\\lib\\site-packages (from optuna) (4.67.1)\n",
            "Requirement already satisfied: PyYAML in c:\\users\\anaso\\appdata\\local\\programs\\python\\python313\\lib\\site-packages (from optuna) (6.0.2)\n",
            "Requirement already satisfied: Mako in c:\\users\\anaso\\appdata\\local\\programs\\python\\python313\\lib\\site-packages (from alembic>=1.5.0->optuna) (1.3.10)\n",
            "Requirement already satisfied: typing-extensions>=4.12 in c:\\users\\anaso\\appdata\\local\\programs\\python\\python313\\lib\\site-packages (from alembic>=1.5.0->optuna) (4.13.2)\n",
            "Requirement already satisfied: greenlet>=1 in c:\\users\\anaso\\appdata\\local\\programs\\python\\python313\\lib\\site-packages (from sqlalchemy>=1.4.2->optuna) (3.2.2)\n",
            "Requirement already satisfied: colorama in c:\\users\\anaso\\appdata\\roaming\\python\\python313\\site-packages (from colorlog->optuna) (0.4.6)\n",
            "Requirement already satisfied: MarkupSafe>=0.9.2 in c:\\users\\anaso\\appdata\\local\\programs\\python\\python313\\lib\\site-packages (from Mako->alembic>=1.5.0->optuna) (3.0.2)\n",
            "Note: you may need to restart the kernel to use updated packages.\n",
            "Requirement already satisfied: torch in c:\\users\\anaso\\appdata\\roaming\\python\\python313\\site-packages (2.7.0+cu118)\n",
            "Requirement already satisfied: filelock in c:\\users\\anaso\\appdata\\local\\programs\\python\\python313\\lib\\site-packages (from torch) (3.18.0)\n",
            "Requirement already satisfied: typing-extensions>=4.10.0 in c:\\users\\anaso\\appdata\\local\\programs\\python\\python313\\lib\\site-packages (from torch) (4.13.2)\n",
            "Requirement already satisfied: sympy>=1.13.3 in c:\\users\\anaso\\appdata\\local\\programs\\python\\python313\\lib\\site-packages (from torch) (1.14.0)\n",
            "Requirement already satisfied: networkx in c:\\users\\anaso\\appdata\\local\\programs\\python\\python313\\lib\\site-packages (from torch) (3.5)\n",
            "Requirement already satisfied: jinja2 in c:\\users\\anaso\\appdata\\local\\programs\\python\\python313\\lib\\site-packages (from torch) (3.1.6)\n",
            "Requirement already satisfied: fsspec in c:\\users\\anaso\\appdata\\local\\programs\\python\\python313\\lib\\site-packages (from torch) (2025.5.1)\n",
            "Requirement already satisfied: setuptools in c:\\users\\anaso\\appdata\\local\\programs\\python\\python313\\lib\\site-packages (from torch) (80.9.0)\n",
            "Requirement already satisfied: mpmath<1.4,>=1.1.0 in c:\\users\\anaso\\appdata\\local\\programs\\python\\python313\\lib\\site-packages (from sympy>=1.13.3->torch) (1.3.0)\n",
            "Requirement already satisfied: MarkupSafe>=2.0 in c:\\users\\anaso\\appdata\\local\\programs\\python\\python313\\lib\\site-packages (from jinja2->torch) (3.0.2)\n",
            "Note: you may need to restart the kernel to use updated packages.\n",
            "Requirement already satisfied: torchvision in c:\\users\\anaso\\appdata\\local\\programs\\python\\python313\\lib\\site-packages (0.22.0)\n",
            "Requirement already satisfied: numpy in c:\\users\\anaso\\appdata\\local\\programs\\python\\python313\\lib\\site-packages (from torchvision) (2.2.6)\n",
            "Requirement already satisfied: torch==2.7.0 in c:\\users\\anaso\\appdata\\roaming\\python\\python313\\site-packages (from torchvision) (2.7.0+cu118)\n",
            "Requirement already satisfied: pillow!=8.3.*,>=5.3.0 in c:\\users\\anaso\\appdata\\local\\programs\\python\\python313\\lib\\site-packages (from torchvision) (11.2.1)\n",
            "Requirement already satisfied: filelock in c:\\users\\anaso\\appdata\\local\\programs\\python\\python313\\lib\\site-packages (from torch==2.7.0->torchvision) (3.18.0)\n",
            "Requirement already satisfied: typing-extensions>=4.10.0 in c:\\users\\anaso\\appdata\\local\\programs\\python\\python313\\lib\\site-packages (from torch==2.7.0->torchvision) (4.13.2)\n",
            "Requirement already satisfied: sympy>=1.13.3 in c:\\users\\anaso\\appdata\\local\\programs\\python\\python313\\lib\\site-packages (from torch==2.7.0->torchvision) (1.14.0)\n",
            "Requirement already satisfied: networkx in c:\\users\\anaso\\appdata\\local\\programs\\python\\python313\\lib\\site-packages (from torch==2.7.0->torchvision) (3.5)\n",
            "Requirement already satisfied: jinja2 in c:\\users\\anaso\\appdata\\local\\programs\\python\\python313\\lib\\site-packages (from torch==2.7.0->torchvision) (3.1.6)\n",
            "Requirement already satisfied: fsspec in c:\\users\\anaso\\appdata\\local\\programs\\python\\python313\\lib\\site-packages (from torch==2.7.0->torchvision) (2025.5.1)\n",
            "Requirement already satisfied: setuptools in c:\\users\\anaso\\appdata\\local\\programs\\python\\python313\\lib\\site-packages (from torch==2.7.0->torchvision) (80.9.0)\n",
            "Requirement already satisfied: mpmath<1.4,>=1.1.0 in c:\\users\\anaso\\appdata\\local\\programs\\python\\python313\\lib\\site-packages (from sympy>=1.13.3->torch==2.7.0->torchvision) (1.3.0)\n",
            "Requirement already satisfied: MarkupSafe>=2.0 in c:\\users\\anaso\\appdata\\local\\programs\\python\\python313\\lib\\site-packages (from jinja2->torch==2.7.0->torchvision) (3.0.2)\n",
            "Note: you may need to restart the kernel to use updated packages.\n",
            "Requirement already satisfied: scikit-learn in c:\\users\\anaso\\appdata\\local\\programs\\python\\python313\\lib\\site-packages (1.6.1)\n",
            "Requirement already satisfied: numpy>=1.19.5 in c:\\users\\anaso\\appdata\\local\\programs\\python\\python313\\lib\\site-packages (from scikit-learn) (2.2.6)\n",
            "Requirement already satisfied: scipy>=1.6.0 in c:\\users\\anaso\\appdata\\local\\programs\\python\\python313\\lib\\site-packages (from scikit-learn) (1.15.3)\n",
            "Requirement already satisfied: joblib>=1.2.0 in c:\\users\\anaso\\appdata\\local\\programs\\python\\python313\\lib\\site-packages (from scikit-learn) (1.5.1)\n",
            "Requirement already satisfied: threadpoolctl>=3.1.0 in c:\\users\\anaso\\appdata\\local\\programs\\python\\python313\\lib\\site-packages (from scikit-learn) (3.6.0)\n",
            "Note: you may need to restart the kernel to use updated packages.\n",
            "Requirement already satisfied: matplotlib in c:\\users\\anaso\\appdata\\local\\programs\\python\\python313\\lib\\site-packages (3.10.3)\n",
            "Requirement already satisfied: contourpy>=1.0.1 in c:\\users\\anaso\\appdata\\local\\programs\\python\\python313\\lib\\site-packages (from matplotlib) (1.3.2)\n",
            "Requirement already satisfied: cycler>=0.10 in c:\\users\\anaso\\appdata\\local\\programs\\python\\python313\\lib\\site-packages (from matplotlib) (0.12.1)\n",
            "Requirement already satisfied: fonttools>=4.22.0 in c:\\users\\anaso\\appdata\\local\\programs\\python\\python313\\lib\\site-packages (from matplotlib) (4.58.1)\n",
            "Requirement already satisfied: kiwisolver>=1.3.1 in c:\\users\\anaso\\appdata\\local\\programs\\python\\python313\\lib\\site-packages (from matplotlib) (1.4.8)\n",
            "Requirement already satisfied: numpy>=1.23 in c:\\users\\anaso\\appdata\\local\\programs\\python\\python313\\lib\\site-packages (from matplotlib) (2.2.6)\n",
            "Requirement already satisfied: packaging>=20.0 in c:\\users\\anaso\\appdata\\roaming\\python\\python313\\site-packages (from matplotlib) (25.0)\n",
            "Requirement already satisfied: pillow>=8 in c:\\users\\anaso\\appdata\\local\\programs\\python\\python313\\lib\\site-packages (from matplotlib) (11.2.1)\n",
            "Requirement already satisfied: pyparsing>=2.3.1 in c:\\users\\anaso\\appdata\\local\\programs\\python\\python313\\lib\\site-packages (from matplotlib) (3.2.3)\n",
            "Requirement already satisfied: python-dateutil>=2.7 in c:\\users\\anaso\\appdata\\roaming\\python\\python313\\site-packages (from matplotlib) (2.9.0.post0)\n",
            "Requirement already satisfied: six>=1.5 in c:\\users\\anaso\\appdata\\roaming\\python\\python313\\site-packages (from python-dateutil>=2.7->matplotlib) (1.17.0)\n",
            "Note: you may need to restart the kernel to use updated packages.\n",
            "Requirement already satisfied: numpy in c:\\users\\anaso\\appdata\\local\\programs\\python\\python313\\lib\\site-packages (2.2.6)\n",
            "Note: you may need to restart the kernel to use updated packages.\n",
            "Requirement already satisfied: tqdm in c:\\users\\anaso\\appdata\\local\\programs\\python\\python313\\lib\\site-packages (4.67.1)\n",
            "Requirement already satisfied: colorama in c:\\users\\anaso\\appdata\\roaming\\python\\python313\\site-packages (from tqdm) (0.4.6)\n",
            "Note: you may need to restart the kernel to use updated packages.\n"
          ]
        }
      ],
      "source": [
        "%pip install optuna\n",
        "%pip install torch\n",
        "%pip install torchvision\n",
        "%pip install scikit-learn\n",
        "%pip install matplotlib\n",
        "%pip install numpy\n",
        "%pip install tqdm"
      ]
    },
    {
      "cell_type": "code",
      "execution_count": 53,
      "metadata": {
        "id": "_ErVptyZ7Npv"
      },
      "outputs": [],
      "source": [
        "#@title Libs\n",
        "\n",
        "import torch\n",
        "from torch.utils.data import DataLoader\n",
        "\n",
        "import torchvision\n",
        "import torch.nn as nn\n",
        "from torchvision import datasets, transforms\n",
        "\n",
        "from sklearn.model_selection import StratifiedShuffleSplit\n",
        "from sklearn.metrics import confusion_matrix, ConfusionMatrixDisplay\n",
        "from torch.utils.data import Subset\n",
        "\n",
        "import matplotlib.pyplot as plt\n",
        "import numpy as np\n",
        "from sklearn import metrics\n",
        "\n",
        "from tqdm import tqdm\n",
        "\n",
        "import os\n",
        "from collections import Counter\n",
        "\n",
        "import optuna"
      ]
    },
    {
      "cell_type": "markdown",
      "metadata": {
        "id": "e5EBeP3MLlf_"
      },
      "source": [
        "# Data exploration"
      ]
    },
    {
      "cell_type": "markdown",
      "metadata": {
        "id": "CrgBWBqjcE5t"
      },
      "source": [
        "Quando usamos transforms.ToTensor(), a imagem (que antes era H x W x C) vira um tensor com shape: C x H x W\n",
        "\n",
        "O matplotlib.pyplot.imshow() espera a imagem no formato H x W x C (como a maioria das bibliotecas de imagem em Python).\n"
      ]
    },
    {
      "cell_type": "code",
      "execution_count": 54,
      "metadata": {
        "id": "vUY45mRkZ9fV"
      },
      "outputs": [],
      "source": [
        "# Função para \"desnormalizar\" e mostrar imagens\n",
        "def imshow(img):\n",
        "    img = img / 2 + 0.5  # desfaz a normalização\n",
        "    img = torch.clamp(img, 0, 1)  # limita os valores ao intervalo [0, 1]\n",
        "    npimg = img.numpy()\n",
        "    plt.imshow(np.transpose(npimg, (1, 2, 0)))\n",
        "    plt.show()"
      ]
    },
    {
      "cell_type": "code",
      "execution_count": 109,
      "metadata": {
        "id": "u9ZDX-P-bZcb"
      },
      "outputs": [],
      "source": [
        "transform = transforms.Compose([\n",
        "    transforms.ToTensor(),\n",
        "    transforms.Normalize((0.5,), (0.5,))  \n",
        "])\n",
        "\n",
        "dataset = datasets.CIFAR10(root='./data', train=True, download=True, transform= transform)"
      ]
    },
    {
      "cell_type": "code",
      "execution_count": 110,
      "metadata": {
        "colab": {
          "base_uri": "https://localhost:8080/"
        },
        "id": "7iSgGi0fcrzw",
        "outputId": "31b43fee-67c9-413b-db3f-4a08da26a1c9"
      },
      "outputs": [
        {
          "name": "stdout",
          "output_type": "stream",
          "text": [
            "frog: 5000 imagens\n",
            "truck: 5000 imagens\n",
            "deer: 5000 imagens\n",
            "automobile: 5000 imagens\n",
            "bird: 5000 imagens\n",
            "horse: 5000 imagens\n",
            "ship: 5000 imagens\n",
            "cat: 5000 imagens\n",
            "dog: 5000 imagens\n",
            "airplane: 5000 imagens\n"
          ]
        }
      ],
      "source": [
        "# Extraímos todos os rótulos do dataset de treino e ignoramos as imagens\n",
        "labels = [label for _, label in dataset]\n",
        "\n",
        "# Contamos quantas vezes cada rótulo aparece\n",
        "label_counts = Counter(labels)\n",
        "\n",
        "# Imprimimos o resultado com nome da classe\n",
        "for class_idx, count in label_counts.items():\n",
        "    class_name = dataset.classes[class_idx]\n",
        "    print(f'{class_name}: {count} imagens')"
      ]
    },
    {
      "cell_type": "code",
      "execution_count": 111,
      "metadata": {
        "colab": {
          "base_uri": "https://localhost:8080/"
        },
        "id": "P3kbTBVicUYj",
        "outputId": "3d1425e2-0b16-4c33-f4ac-3d82cf9c27e5"
      },
      "outputs": [
        {
          "name": "stdout",
          "output_type": "stream",
          "text": [
            "['airplane', 'automobile', 'bird', 'cat', 'deer', 'dog', 'frog', 'horse', 'ship', 'truck']\n"
          ]
        }
      ],
      "source": [
        "print(dataset.classes)"
      ]
    },
    {
      "cell_type": "code",
      "execution_count": 112,
      "metadata": {
        "colab": {
          "base_uri": "https://localhost:8080/",
          "height": 210
        },
        "id": "KNiPDg6absHC",
        "outputId": "e5affeae-fadf-49a0-e98d-376ead921e15"
      },
      "outputs": [],
      "source": [
        "def showImagesInLoader(loader):\n",
        "    # Itera no loader e mostra imagens\n",
        "    dataiter = iter(loader)\n",
        "    images, labels = next(dataiter)\n",
        "\n",
        "    # Mostra as imagens\n",
        "    imshow(torchvision.utils.make_grid(images))\n",
        "\n",
        "    # Mostra os rótulos correspondentes\n",
        "    print(' '.join(f'{dataset.classes[label]}' for label in labels))"
      ]
    },
    {
      "cell_type": "code",
      "execution_count": 113,
      "metadata": {},
      "outputs": [
        {
          "data": {
            "image/png": "[encoded data removed]",
            "text/plain": [
              "<Figure size 640x480 with 1 Axes>"
            ]
          },
          "metadata": {},
          "output_type": "display_data"
        },
        {
          "name": "stdout",
          "output_type": "stream",
          "text": [
            "frog truck truck deer\n"
          ]
        }
      ],
      "source": [
        "loader = DataLoader(dataset, batch_size=4, shuffle=False)\n",
        "\n",
        "showImagesInLoader(loader)"
      ]
    },
    {
      "cell_type": "markdown",
      "metadata": {
        "id": "PqHhBntbZAoa"
      },
      "source": [
        "Scores of the first model:\n",
        "  'accuracy': 0.474, 'balanced_accuracy': np.float64(0.47400000000000003), 'precision': 0.4788458695520801, 'recall': 0.474, 'f1_score': 0.4749641894435279\n",
        "\n"
      ]
    },
    {
      "cell_type": "markdown",
      "metadata": {},
      "source": [
        "Adding Gaussinan Noise: \n",
        "Scores of your model\n",
        " {'accuracy': 0.529, 'balanced_accuracy': np.float64(0.5289999999999999), 'precision': 0.5276866099986426, 'recall': 0.529, 'f1_score': 0.5264172516467065}"
      ]
    },
    {
      "cell_type": "markdown",
      "metadata": {
        "id": "cQ8s5u8FOMee"
      },
      "source": [
        "Começamos a treinar uma mlp com 4 camadas usando imagens com 3 canais (RGB) , depois transformamos as imagens para a escala de cinza"
      ]
    },
    {
      "cell_type": "code",
      "execution_count": 60,
      "metadata": {},
      "outputs": [],
      "source": [
        "class AddGaussianNoise(object):\n",
        "    def __init__(self, mean=0., std=0.1):\n",
        "        self.mean = mean\n",
        "        self.std = std\n",
        "\n",
        "    def __call__(self, tensor):\n",
        "        noise = torch.randn(tensor.size()) * self.std + self.mean\n",
        "        return tensor + noise\n",
        "\n",
        "    def __repr__(self):\n",
        "        return self.__class__.__name__ + f'(mean={self.mean}, std={self.std})'"
      ]
    },
    {
      "cell_type": "code",
      "execution_count": 114,
      "metadata": {},
      "outputs": [
        {
          "data": {
            "image/png": "[encoded data removed]",
            "text/plain": [
              "<Figure size 640x480 with 1 Axes>"
            ]
          },
          "metadata": {},
          "output_type": "display_data"
        },
        {
          "name": "stdout",
          "output_type": "stream",
          "text": [
            "frog truck truck deer\n"
          ]
        }
      ],
      "source": [
        "#@title Dataset Setup\n",
        "\n",
        "transform = transforms.Compose([\n",
        "    transforms.ToTensor(),\n",
        "    transforms.Normalize((0.5,), (0.5,)),\n",
        "    AddGaussianNoise(mean=0.0, std=0.05)\n",
        "])\n",
        "\n",
        "dataset = torchvision.datasets.CIFAR10(root='./data', train=True,\n",
        "                                        download=True, transform=transform)\n",
        "\n",
        "                                       # Itera no loader e mostra imagens\n",
        "loader = torch.utils.data.DataLoader(dataset, batch_size=4, shuffle=False)\n",
        "\n",
        "showImagesInLoader(loader)\n"
      ]
    },
    {
      "cell_type": "code",
      "execution_count": 148,
      "metadata": {},
      "outputs": [
        {
          "data": {
            "image/png": "[encoded data removed]",
            "text/plain": [
              "<Figure size 640x480 with 1 Axes>"
            ]
          },
          "metadata": {},
          "output_type": "display_data"
        },
        {
          "name": "stdout",
          "output_type": "stream",
          "text": [
            "airplane automobile horse deer\n"
          ]
        }
      ],
      "source": [
        "# Definindo transformações de data augmentation com gaussian noise\n",
        "transform = transforms.Compose([\n",
        "    transforms.RandomHorizontalFlip(p=0.5),\n",
        "    transforms.RandomResizedCrop(32, scale=(0.8, 1.0)),\n",
        "    transforms.ColorJitter(brightness=0.2, contrast=0.2, saturation=0.2, hue=0.1),\n",
        "    transforms.RandomRotation(15),\n",
        "    transforms.RandomAffine(degrees=0, shear=5), \n",
        "    transforms.RandomApply([transforms.RandomGrayscale(p=1.0)], p=0.2),\n",
        "    transforms.RandomApply([transforms.GaussianBlur(kernel_size=(1, 1), sigma=(0.1, 2.0))], p=0.3),\n",
        "    transforms.ToTensor(),\n",
        "    transforms.Normalize((0.5,), (0.5,)),\n",
        "    AddGaussianNoise(mean=0.0, std=0.05)\n",
        "])\n",
        "\n",
        "dataset = torchvision.datasets.CIFAR10(root='./data', train=True, download=True, transform=transform)\n",
        "\n",
        "augmented_loader = torch.utils.data.DataLoader(dataset, batch_size=4, shuffle=True)\n",
        "showImagesInLoader(augmented_loader)"
      ]
    },
    {
      "cell_type": "code",
      "execution_count": 160,
      "metadata": {
        "id": "fcH-AHUK8eGn"
      },
      "outputs": [],
      "source": [
        "#@title Dataset Setup\n",
        "\n",
        "transform = transforms.Compose([\n",
        "    transforms.ToTensor(),\n",
        "    transforms.Normalize((0.5,), (0.5,)),\n",
        "    AddGaussianNoise(mean=0.0, std=0.05)\n",
        "])\n",
        "\n",
        "train_val_dataset = torchvision.datasets.CIFAR10(root='./data', train=True,\n",
        "                                        download=True, transform=transform)\n",
        "\n",
        "test_dataset = torchvision.datasets.CIFAR10(root='./data', train=False,\n",
        "                                       download=True, transform=transform)\n"
      ]
    },
    {
      "cell_type": "code",
      "execution_count": 161,
      "metadata": {
        "id": "KOnFo7eLgaLN"
      },
      "outputs": [],
      "source": [
        "# Extrai os rótulos\n",
        "targets = np.array(train_val_dataset.targets)\n",
        "\n",
        "# Cria o validador estratificado\n",
        "splitter = StratifiedShuffleSplit(n_splits=1, test_size=0.2, random_state=42)\n",
        "\n",
        "# Gera os índices\n",
        "for train_idx, val_idx in splitter.split(np.zeros(len(targets)), targets):\n",
        "    train_dataset = Subset(train_val_dataset, train_idx)\n",
        "    val_dataset = Subset(train_val_dataset, val_idx)"
      ]
    },
    {
      "cell_type": "code",
      "execution_count": 162,
      "metadata": {},
      "outputs": [
        {
          "name": "stdout",
          "output_type": "stream",
          "text": [
            "Distribuição de classes no val_dataset:\n",
            "Classe 0: 1000 amostras\n",
            "Classe 1: 1000 amostras\n",
            "Classe 2: 1000 amostras\n",
            "Classe 3: 1000 amostras\n",
            "Classe 4: 1000 amostras\n",
            "Classe 5: 1000 amostras\n",
            "Classe 6: 1000 amostras\n",
            "Classe 7: 1000 amostras\n",
            "Classe 8: 1000 amostras\n",
            "Classe 9: 1000 amostras\n"
          ]
        }
      ],
      "source": [
        "# Acessa os rótulos (targets) do val_dataset\n",
        "val_targets = [train_val_dataset[idx][1] for idx in val_dataset.indices]\n",
        "\n",
        "# Conta quantas vezes cada classe aparece\n",
        "val_distribution = Counter(val_targets)\n",
        "\n",
        "print(\"Distribuição de classes no val_dataset:\")\n",
        "for label, count in sorted(val_distribution.items()):\n",
        "    print(f\"Classe {label}: {count} amostras\")"
      ]
    },
    {
      "cell_type": "code",
      "execution_count": 163,
      "metadata": {
        "id": "OYk-5ANCMIRY"
      },
      "outputs": [],
      "source": [
        "#@title Loaders\n",
        "batch_size = 16\n",
        "\n",
        "train_loader = torch.utils.data.DataLoader(train_dataset, batch_size=batch_size, shuffle=True)\n",
        "val_loader = torch.utils.data.DataLoader(val_dataset, batch_size=batch_size, shuffle=True)\n",
        "test_loader = torch.utils.data.DataLoader(test_dataset, batch_size=batch_size, shuffle=False)"
      ]
    },
    {
      "cell_type": "code",
      "execution_count": 164,
      "metadata": {
        "id": "KLjycMiT8zo-"
      },
      "outputs": [],
      "source": [
        "#@title Defining the MLP model\n",
        "\n",
        "class MLP(nn.Module):\n",
        "    def __init__(self, input_size, hidden1, hidden2, num_classes, activation_function):\n",
        "        super(MLP, self).__init__()\n",
        "\n",
        "        self.network = nn.Sequential(\n",
        "            nn.Linear(input_size, hidden1),\n",
        "            activation_function,\n",
        "            nn.Dropout(0.2),\n",
        "            nn.Linear(hidden1, hidden2),\n",
        "            activation_function,\n",
        "            nn.Dropout(0.2),\n",
        "            nn.Linear(hidden2, num_classes)\n",
        "        )\n",
        "\n",
        "    def forward(self, x):\n",
        "        x = x.view(x.size(0), -1)\n",
        "        return self.network(x)"
      ]
    },
    {
      "cell_type": "markdown",
      "metadata": {
        "id": "MUmXx9Ep25Tj"
      },
      "source": [
        "## Hyperparameters Study\n",
        "\n"
      ]
    },
    {
      "cell_type": "code",
      "execution_count": 166,
      "metadata": {
        "id": "X_vuhmnl3N56"
      },
      "outputs": [
        {
          "name": "stdout",
          "output_type": "stream",
          "text": [
            "cuda\n"
          ]
        }
      ],
      "source": [
        "device = torch.device(\"cuda\" if torch.cuda.is_available() else \"cpu\")\n",
        "print(device)\n",
        "\n",
        "input_size = 32*32*3 # 32*32 RGB images \n",
        "\n",
        "def objective(trial):\n",
        "\n",
        "    # Hiperparâmetros sugeridos pelo Optuna\n",
        "    lr = trial.suggest_float(\"lr\", 1e-5, 1e-2, log=True)\n",
        "    hidden1 = trial.suggest_int(\"hidden1\", 64, 256)\n",
        "    hidden2 = trial.suggest_int(\"hidden2\", 64, 256)\n",
        "    activation_name = trial.suggest_categorical(\"activation\", [\"ReLU\", \"LeakyReLU\", \"ELU\"])\n",
        "\n",
        "    activation_fn = getattr(nn, activation_name)()\n",
        "\n",
        "    # Dataset e DataLoader (usa apenas um subset para acelerar)\n",
        "    transform = transforms.Compose([\n",
        "        transforms.ToTensor(),\n",
        "        transforms.Normalize((0.5,), (0.5,))\n",
        "    ])\n",
        "\n",
        "    train_dataset = datasets.CIFAR10(root='./data', train=True, download=True, transform=transform)\n",
        "    val_dataset, _ = torch.utils.data.random_split(train_dataset, [5000, len(train_dataset)-5000])\n",
        "    train_loader = DataLoader(val_dataset, batch_size=64, shuffle=True)\n",
        "\n",
        "    model = MLP(input_size,\n",
        "                hidden1= hidden1,\n",
        "                hidden2= hidden2,\n",
        "                num_classes = 10,\n",
        "                activation_function = activation_fn)\n",
        "\n",
        "    model.to(device)\n",
        "    optimizer = torch.optim.Adam(model.parameters(), lr=lr)\n",
        "    criterion = nn.CrossEntropyLoss()\n",
        "\n",
        "    # Treinamento simples de 1-3 épocas (rápido)\n",
        "    for epoch in range(3):\n",
        "        model.train()\n",
        "        running_loss = 0.0\n",
        "        for images, labels in train_loader:\n",
        "            images = images.view(-1, input_size).to(device)\n",
        "            labels = labels.to(device)\n",
        "\n",
        "            optimizer.zero_grad()\n",
        "            outputs = model(images)\n",
        "            loss = criterion(outputs, labels)\n",
        "            loss.backward()\n",
        "            optimizer.step()\n",
        "            running_loss += loss.item()\n",
        "\n",
        "    # Retorna a perda média como métrica a minimizar\n",
        "    return running_loss / len(train_loader)"
      ]
    },
    {
      "cell_type": "code",
      "execution_count": 167,
      "metadata": {
        "colab": {
          "base_uri": "https://localhost:8080/"
        },
        "id": "x9EoJr78kmFc",
        "outputId": "cdb95e82-de0e-4ad5-e144-9b446b07f6b2"
      },
      "outputs": [
        {
          "name": "stderr",
          "output_type": "stream",
          "text": [
            "[I 2025-05-31 23:22:43,440] A new study created in memory with name: no-name-fc34062a-61e6-4ae9-9f8f-296454cad802\n",
            "[I 2025-05-31 23:22:48,314] Trial 0 finished with value: 1.807344536238079 and parameters: {'lr': 0.0001628450931215813, 'hidden1': 118, 'hidden2': 250, 'activation': 'ReLU'}. Best is trial 0 with value: 1.807344536238079.\n",
            "[I 2025-05-31 23:22:52,658] Trial 1 finished with value: 1.7463832806937303 and parameters: {'lr': 0.00022775550834556473, 'hidden1': 181, 'hidden2': 152, 'activation': 'LeakyReLU'}. Best is trial 1 with value: 1.7463832806937303.\n",
            "[I 2025-05-31 23:22:56,774] Trial 2 finished with value: 2.0921438902239258 and parameters: {'lr': 2.9952288437778803e-05, 'hidden1': 94, 'hidden2': 244, 'activation': 'LeakyReLU'}. Best is trial 1 with value: 1.7463832806937303.\n",
            "[I 2025-05-31 23:23:00,856] Trial 3 finished with value: 1.934250550934031 and parameters: {'lr': 9.154254428068276e-05, 'hidden1': 121, 'hidden2': 121, 'activation': 'ReLU'}. Best is trial 1 with value: 1.7463832806937303.\n",
            "[I 2025-05-31 23:23:04,987] Trial 4 finished with value: 1.8080823315849788 and parameters: {'lr': 0.00011336334209642572, 'hidden1': 185, 'hidden2': 158, 'activation': 'ReLU'}. Best is trial 1 with value: 1.7463832806937303.\n",
            "[I 2025-05-31 23:23:09,627] Trial 5 finished with value: 2.1595257988458947 and parameters: {'lr': 2.5142819713630816e-05, 'hidden1': 76, 'hidden2': 64, 'activation': 'LeakyReLU'}. Best is trial 1 with value: 1.7463832806937303.\n",
            "[I 2025-05-31 23:23:14,162] Trial 6 finished with value: 2.229731230796138 and parameters: {'lr': 1.0553901576106257e-05, 'hidden1': 151, 'hidden2': 73, 'activation': 'ReLU'}. Best is trial 1 with value: 1.7463832806937303.\n",
            "[I 2025-05-31 23:23:18,811] Trial 7 finished with value: 2.028557612926145 and parameters: {'lr': 0.007642194416597603, 'hidden1': 182, 'hidden2': 66, 'activation': 'ReLU'}. Best is trial 1 with value: 1.7463832806937303.\n",
            "[I 2025-05-31 23:23:23,277] Trial 8 finished with value: 1.681378133689301 and parameters: {'lr': 0.0027425785488339204, 'hidden1': 87, 'hidden2': 228, 'activation': 'ELU'}. Best is trial 8 with value: 1.681378133689301.\n",
            "[I 2025-05-31 23:23:27,830] Trial 9 finished with value: 2.1644826901109915 and parameters: {'lr': 2.9163136308812567e-05, 'hidden1': 75, 'hidden2': 192, 'activation': 'ReLU'}. Best is trial 8 with value: 1.681378133689301.\n",
            "[I 2025-05-31 23:23:32,562] Trial 10 finished with value: 1.6141417101968694 and parameters: {'lr': 0.0023183331412213555, 'hidden1': 252, 'hidden2': 206, 'activation': 'ELU'}. Best is trial 10 with value: 1.6141417101968694.\n",
            "[I 2025-05-31 23:23:37,198] Trial 11 finished with value: 1.616151065766057 and parameters: {'lr': 0.0022762753719986002, 'hidden1': 244, 'hidden2': 212, 'activation': 'ELU'}. Best is trial 10 with value: 1.6141417101968694.\n",
            "[I 2025-05-31 23:23:42,054] Trial 12 finished with value: 1.603159893917132 and parameters: {'lr': 0.001449830337580063, 'hidden1': 255, 'hidden2': 202, 'activation': 'ELU'}. Best is trial 12 with value: 1.603159893917132.\n",
            "[I 2025-05-31 23:23:46,756] Trial 13 finished with value: 1.6257992499991307 and parameters: {'lr': 0.0009381421374335846, 'hidden1': 256, 'hidden2': 189, 'activation': 'ELU'}. Best is trial 12 with value: 1.603159893917132.\n",
            "[I 2025-05-31 23:23:51,289] Trial 14 finished with value: 1.6183818216565289 and parameters: {'lr': 0.0007722429774782269, 'hidden1': 222, 'hidden2': 187, 'activation': 'ELU'}. Best is trial 12 with value: 1.603159893917132.\n",
            "[I 2025-05-31 23:23:56,089] Trial 15 finished with value: 2.214166586912131 and parameters: {'lr': 0.00897129302600429, 'hidden1': 222, 'hidden2': 213, 'activation': 'ELU'}. Best is trial 12 with value: 1.603159893917132.\n",
            "[I 2025-05-31 23:24:00,905] Trial 16 finished with value: 1.6359319717069216 and parameters: {'lr': 0.000683334944927158, 'hidden1': 210, 'hidden2': 140, 'activation': 'ELU'}. Best is trial 12 with value: 1.603159893917132.\n",
            "[I 2025-05-31 23:24:05,615] Trial 17 finished with value: 1.6563875373405745 and parameters: {'lr': 0.0029005204665247426, 'hidden1': 233, 'hidden2': 109, 'activation': 'ELU'}. Best is trial 12 with value: 1.603159893917132.\n",
            "[I 2025-05-31 23:24:10,742] Trial 18 finished with value: 1.624174748794942 and parameters: {'lr': 0.0013806648024939465, 'hidden1': 199, 'hidden2': 171, 'activation': 'ELU'}. Best is trial 12 with value: 1.603159893917132.\n",
            "[I 2025-05-31 23:24:15,703] Trial 19 finished with value: 1.656452308727216 and parameters: {'lr': 0.0003772003284794666, 'hidden1': 251, 'hidden2': 213, 'activation': 'ELU'}. Best is trial 12 with value: 1.603159893917132.\n",
            "[I 2025-05-31 23:24:20,400] Trial 20 finished with value: 1.7620920893512195 and parameters: {'lr': 0.004074197308439025, 'hidden1': 154, 'hidden2': 230, 'activation': 'ELU'}. Best is trial 12 with value: 1.603159893917132.\n",
            "[I 2025-05-31 23:24:25,435] Trial 21 finished with value: 1.5953531974478612 and parameters: {'lr': 0.0021725691822659663, 'hidden1': 239, 'hidden2': 207, 'activation': 'ELU'}. Best is trial 21 with value: 1.5953531974478612.\n",
            "[I 2025-05-31 23:24:30,569] Trial 22 finished with value: 1.6096759461149384 and parameters: {'lr': 0.001560512706014264, 'hidden1': 235, 'hidden2': 200, 'activation': 'ELU'}. Best is trial 21 with value: 1.5953531974478612.\n",
            "[I 2025-05-31 23:24:35,782] Trial 23 finished with value: 1.6500006084200702 and parameters: {'lr': 0.0004415795534439147, 'hidden1': 232, 'hidden2': 175, 'activation': 'ELU'}. Best is trial 21 with value: 1.5953531974478612.\n",
            "[I 2025-05-31 23:24:40,736] Trial 24 finished with value: 1.5817339661755139 and parameters: {'lr': 0.0014542920249850466, 'hidden1': 208, 'hidden2': 201, 'activation': 'ELU'}. Best is trial 24 with value: 1.5817339661755139.\n",
            "[I 2025-05-31 23:24:46,052] Trial 25 finished with value: 1.8440055560462083 and parameters: {'lr': 0.004819269572832013, 'hidden1': 206, 'hidden2': 226, 'activation': 'LeakyReLU'}. Best is trial 24 with value: 1.5817339661755139.\n",
            "[I 2025-05-31 23:24:50,842] Trial 26 finished with value: 1.5736108407189575 and parameters: {'lr': 0.001303357500064875, 'hidden1': 224, 'hidden2': 176, 'activation': 'ELU'}. Best is trial 26 with value: 1.5736108407189575.\n",
            "[I 2025-05-31 23:24:55,391] Trial 27 finished with value: 1.6369969165777858 and parameters: {'lr': 0.0007366634741857953, 'hidden1': 168, 'hidden2': 177, 'activation': 'ELU'}. Best is trial 26 with value: 1.5736108407189575.\n",
            "[I 2025-05-31 23:24:59,812] Trial 28 finished with value: 1.836253051516376 and parameters: {'lr': 0.005048715961041637, 'hidden1': 216, 'hidden2': 142, 'activation': 'ELU'}. Best is trial 26 with value: 1.5736108407189575.\n",
            "[I 2025-05-31 23:25:04,155] Trial 29 finished with value: 1.6170813886425164 and parameters: {'lr': 0.0011928564910448482, 'hidden1': 196, 'hidden2': 254, 'activation': 'LeakyReLU'}. Best is trial 26 with value: 1.5736108407189575.\n"
          ]
        }
      ],
      "source": [
        "study = optuna.create_study(direction=\"minimize\")\n",
        "study.optimize(objective, n_trials=30)"
      ]
    },
    {
      "cell_type": "code",
      "execution_count": 168,
      "metadata": {
        "colab": {
          "base_uri": "https://localhost:8080/"
        },
        "id": "-RDeJnibl1zE",
        "outputId": "c8fd5b51-768e-4c00-e69d-5028e03d2f8c"
      },
      "outputs": [
        {
          "name": "stdout",
          "output_type": "stream",
          "text": [
            "Melhores hiperparâmetros:\n",
            "{'lr': 0.001303357500064875, 'hidden1': 224, 'hidden2': 176, 'activation': 'ELU'}\n"
          ]
        }
      ],
      "source": [
        "print(\"Melhores hiperparâmetros:\")\n",
        "print(study.best_params)"
      ]
    },
    {
      "cell_type": "code",
      "execution_count": 169,
      "metadata": {
        "id": "tyat2KDLL92I"
      },
      "outputs": [],
      "source": [
        "#@title Hyperparameters\n",
        "num_classes = 10\n",
        "\n",
        "learning_rate = 0.0007\n",
        "num_epochs = 30\n",
        "hidden1 = 164\n",
        "hidden2 = 188\n",
        "\n",
        "activation_function = nn.ELU()\n",
        "\n",
        "loss_function = nn.CrossEntropyLoss()"
      ]
    },
    {
      "cell_type": "code",
      "execution_count": 170,
      "metadata": {
        "id": "_NHf0ZLJbYWd"
      },
      "outputs": [],
      "source": [
        "def evaluate(model, val_loader, loss_function):\n",
        "    model.eval()\n",
        "    val_loss = 0.0\n",
        "    with torch.no_grad():\n",
        "        for images, labels in val_loader:\n",
        "            images = images.view(-1, input_size).to(device)\n",
        "            labels = labels.to(device)\n",
        "            outputs = model(images)\n",
        "            loss = loss_function(outputs, labels)\n",
        "            val_loss += loss.item()\n",
        "    model.train()\n",
        "    return val_loss / len(val_loader)"
      ]
    },
    {
      "cell_type": "code",
      "execution_count": 171,
      "metadata": {
        "colab": {
          "base_uri": "https://localhost:8080/"
        },
        "id": "XjTJpiboLmSF",
        "outputId": "112cb28e-7492-4d8c-c7ca-aba13a9be96e"
      },
      "outputs": [
        {
          "name": "stdout",
          "output_type": "stream",
          "text": [
            "cuda\n"
          ]
        },
        {
          "name": "stderr",
          "output_type": "stream",
          "text": [
            "  0%|          | 0/30 [00:10<?, ?it/s]"
          ]
        },
        {
          "name": "stdout",
          "output_type": "stream",
          "text": [
            " Epoch 1/30, Step 1000/2500, Loss: 2.1034328937530518\n"
          ]
        },
        {
          "name": "stderr",
          "output_type": "stream",
          "text": [
            "  0%|          | 0/30 [00:28<?, ?it/s]"
          ]
        },
        {
          "name": "stdout",
          "output_type": "stream",
          "text": [
            " Epoch 1/30, Step 2000/2500, Loss: 1.6926900148391724\n"
          ]
        },
        {
          "name": "stderr",
          "output_type": "stream",
          "text": [
            "  0%|          | 0/30 [00:37<?, ?it/s]"
          ]
        },
        {
          "name": "stdout",
          "output_type": "stream",
          "text": [
            "Epoch 1 average loss: 1.7140\n"
          ]
        },
        {
          "name": "stderr",
          "output_type": "stream",
          "text": [
            "  3%|▎         | 1/30 [00:46<22:29, 46.54s/it]"
          ]
        },
        {
          "name": "stdout",
          "output_type": "stream",
          "text": [
            "Epoch 1 validation loss: 1.5550\n"
          ]
        },
        {
          "name": "stderr",
          "output_type": "stream",
          "text": [
            "  3%|▎         | 1/30 [01:04<22:29, 46.54s/it]"
          ]
        },
        {
          "name": "stdout",
          "output_type": "stream",
          "text": [
            " Epoch 2/30, Step 1000/2500, Loss: 1.8296998739242554\n"
          ]
        },
        {
          "name": "stderr",
          "output_type": "stream",
          "text": [
            "  3%|▎         | 1/30 [01:22<22:29, 46.54s/it]"
          ]
        },
        {
          "name": "stdout",
          "output_type": "stream",
          "text": [
            " Epoch 2/30, Step 2000/2500, Loss: 2.1345417499542236\n"
          ]
        },
        {
          "name": "stderr",
          "output_type": "stream",
          "text": [
            "  3%|▎         | 1/30 [01:30<22:29, 46.54s/it]"
          ]
        },
        {
          "name": "stdout",
          "output_type": "stream",
          "text": [
            "Epoch 2 average loss: 1.5493\n"
          ]
        },
        {
          "name": "stderr",
          "output_type": "stream",
          "text": [
            "  7%|▋         | 2/30 [01:34<22:03, 47.26s/it]"
          ]
        },
        {
          "name": "stdout",
          "output_type": "stream",
          "text": [
            "Epoch 2 validation loss: 1.4755\n"
          ]
        },
        {
          "name": "stderr",
          "output_type": "stream",
          "text": [
            "  7%|▋         | 2/30 [01:44<22:03, 47.26s/it]"
          ]
        },
        {
          "name": "stdout",
          "output_type": "stream",
          "text": [
            " Epoch 3/30, Step 1000/2500, Loss: 1.8945624828338623\n"
          ]
        },
        {
          "name": "stderr",
          "output_type": "stream",
          "text": [
            "  7%|▋         | 2/30 [02:02<22:03, 47.26s/it]"
          ]
        },
        {
          "name": "stdout",
          "output_type": "stream",
          "text": [
            " Epoch 3/30, Step 2000/2500, Loss: 1.8060202598571777\n"
          ]
        },
        {
          "name": "stderr",
          "output_type": "stream",
          "text": [
            "  7%|▋         | 2/30 [02:11<22:03, 47.26s/it]"
          ]
        },
        {
          "name": "stdout",
          "output_type": "stream",
          "text": [
            "Epoch 3 average loss: 1.4730\n"
          ]
        },
        {
          "name": "stderr",
          "output_type": "stream",
          "text": [
            " 10%|█         | 3/30 [02:19<20:49, 46.29s/it]"
          ]
        },
        {
          "name": "stdout",
          "output_type": "stream",
          "text": [
            "Epoch 3 validation loss: 1.4487\n"
          ]
        },
        {
          "name": "stderr",
          "output_type": "stream",
          "text": [
            " 10%|█         | 3/30 [02:32<20:49, 46.29s/it]"
          ]
        },
        {
          "name": "stdout",
          "output_type": "stream",
          "text": [
            " Epoch 4/30, Step 1000/2500, Loss: 1.0379341840744019\n"
          ]
        },
        {
          "name": "stderr",
          "output_type": "stream",
          "text": [
            " 10%|█         | 3/30 [02:50<20:49, 46.29s/it]"
          ]
        },
        {
          "name": "stdout",
          "output_type": "stream",
          "text": [
            " Epoch 4/30, Step 2000/2500, Loss: 1.3480435609817505\n"
          ]
        },
        {
          "name": "stderr",
          "output_type": "stream",
          "text": [
            " 10%|█         | 3/30 [02:59<20:49, 46.29s/it]"
          ]
        },
        {
          "name": "stdout",
          "output_type": "stream",
          "text": [
            "Epoch 4 average loss: 1.4189\n"
          ]
        },
        {
          "name": "stderr",
          "output_type": "stream",
          "text": [
            " 13%|█▎        | 4/30 [03:07<20:23, 47.05s/it]"
          ]
        },
        {
          "name": "stdout",
          "output_type": "stream",
          "text": [
            "Epoch 4 validation loss: 1.3957\n"
          ]
        },
        {
          "name": "stderr",
          "output_type": "stream",
          "text": [
            " 13%|█▎        | 4/30 [03:25<20:23, 47.05s/it]"
          ]
        },
        {
          "name": "stdout",
          "output_type": "stream",
          "text": [
            " Epoch 5/30, Step 1000/2500, Loss: 1.4477136135101318\n"
          ]
        },
        {
          "name": "stderr",
          "output_type": "stream",
          "text": [
            " 13%|█▎        | 4/30 [03:43<20:23, 47.05s/it]"
          ]
        },
        {
          "name": "stdout",
          "output_type": "stream",
          "text": [
            " Epoch 5/30, Step 2000/2500, Loss: 1.3338603973388672\n"
          ]
        },
        {
          "name": "stderr",
          "output_type": "stream",
          "text": [
            " 13%|█▎        | 4/30 [03:52<20:23, 47.05s/it]"
          ]
        },
        {
          "name": "stdout",
          "output_type": "stream",
          "text": [
            "Epoch 5 average loss: 1.3689\n"
          ]
        },
        {
          "name": "stderr",
          "output_type": "stream",
          "text": [
            " 17%|█▋        | 5/30 [04:01<20:33, 49.35s/it]"
          ]
        },
        {
          "name": "stdout",
          "output_type": "stream",
          "text": [
            "Epoch 5 validation loss: 1.4208\n"
          ]
        },
        {
          "name": "stderr",
          "output_type": "stream",
          "text": [
            " 17%|█▋        | 5/30 [04:19<20:33, 49.35s/it]"
          ]
        },
        {
          "name": "stdout",
          "output_type": "stream",
          "text": [
            " Epoch 6/30, Step 1000/2500, Loss: 1.30569589138031\n"
          ]
        },
        {
          "name": "stderr",
          "output_type": "stream",
          "text": [
            " 17%|█▋        | 5/30 [04:32<20:33, 49.35s/it]"
          ]
        },
        {
          "name": "stdout",
          "output_type": "stream",
          "text": [
            " Epoch 6/30, Step 2000/2500, Loss: 1.5072376728057861\n"
          ]
        },
        {
          "name": "stderr",
          "output_type": "stream",
          "text": [
            " 17%|█▋        | 5/30 [04:40<20:33, 49.35s/it]"
          ]
        },
        {
          "name": "stdout",
          "output_type": "stream",
          "text": [
            "Epoch 6 average loss: 1.3359\n"
          ]
        },
        {
          "name": "stderr",
          "output_type": "stream",
          "text": [
            " 20%|██        | 6/30 [04:49<19:37, 49.07s/it]"
          ]
        },
        {
          "name": "stdout",
          "output_type": "stream",
          "text": [
            "Epoch 6 validation loss: 1.3960\n"
          ]
        },
        {
          "name": "stderr",
          "output_type": "stream",
          "text": [
            " 20%|██        | 6/30 [05:07<19:37, 49.07s/it]"
          ]
        },
        {
          "name": "stdout",
          "output_type": "stream",
          "text": [
            " Epoch 7/30, Step 1000/2500, Loss: 1.6004917621612549\n"
          ]
        },
        {
          "name": "stderr",
          "output_type": "stream",
          "text": [
            " 20%|██        | 6/30 [05:25<19:37, 49.07s/it]"
          ]
        },
        {
          "name": "stdout",
          "output_type": "stream",
          "text": [
            " Epoch 7/30, Step 2000/2500, Loss: 1.540751338005066\n"
          ]
        },
        {
          "name": "stderr",
          "output_type": "stream",
          "text": [
            " 20%|██        | 6/30 [05:35<19:37, 49.07s/it]"
          ]
        },
        {
          "name": "stdout",
          "output_type": "stream",
          "text": [
            "Epoch 7 average loss: 1.3101\n"
          ]
        },
        {
          "name": "stderr",
          "output_type": "stream",
          "text": [
            " 23%|██▎       | 7/30 [05:43<19:26, 50.72s/it]"
          ]
        },
        {
          "name": "stdout",
          "output_type": "stream",
          "text": [
            "Epoch 7 validation loss: 1.3643\n"
          ]
        },
        {
          "name": "stderr",
          "output_type": "stream",
          "text": [
            " 23%|██▎       | 7/30 [06:01<19:26, 50.72s/it]"
          ]
        },
        {
          "name": "stdout",
          "output_type": "stream",
          "text": [
            " Epoch 8/30, Step 1000/2500, Loss: 1.1528279781341553\n"
          ]
        },
        {
          "name": "stderr",
          "output_type": "stream",
          "text": [
            " 23%|██▎       | 7/30 [06:19<19:26, 50.72s/it]"
          ]
        },
        {
          "name": "stdout",
          "output_type": "stream",
          "text": [
            " Epoch 8/30, Step 2000/2500, Loss: 1.121891736984253\n"
          ]
        },
        {
          "name": "stderr",
          "output_type": "stream",
          "text": [
            " 23%|██▎       | 7/30 [06:28<19:26, 50.72s/it]"
          ]
        },
        {
          "name": "stdout",
          "output_type": "stream",
          "text": [
            "Epoch 8 average loss: 1.2769\n"
          ]
        },
        {
          "name": "stderr",
          "output_type": "stream",
          "text": [
            " 27%|██▋       | 8/30 [06:36<18:51, 51.45s/it]"
          ]
        },
        {
          "name": "stdout",
          "output_type": "stream",
          "text": [
            "Epoch 8 validation loss: 1.3727\n"
          ]
        },
        {
          "name": "stderr",
          "output_type": "stream",
          "text": [
            " 27%|██▋       | 8/30 [06:54<18:51, 51.45s/it]"
          ]
        },
        {
          "name": "stdout",
          "output_type": "stream",
          "text": [
            " Epoch 9/30, Step 1000/2500, Loss: 1.391653299331665\n"
          ]
        },
        {
          "name": "stderr",
          "output_type": "stream",
          "text": [
            " 27%|██▋       | 8/30 [07:12<18:51, 51.45s/it]"
          ]
        },
        {
          "name": "stdout",
          "output_type": "stream",
          "text": [
            " Epoch 9/30, Step 2000/2500, Loss: 1.0485974550247192\n"
          ]
        },
        {
          "name": "stderr",
          "output_type": "stream",
          "text": [
            " 27%|██▋       | 8/30 [07:22<18:51, 51.45s/it]"
          ]
        },
        {
          "name": "stdout",
          "output_type": "stream",
          "text": [
            "Epoch 9 average loss: 1.2558\n"
          ]
        },
        {
          "name": "stderr",
          "output_type": "stream",
          "text": [
            " 30%|███       | 9/30 [07:30<18:15, 52.15s/it]"
          ]
        },
        {
          "name": "stdout",
          "output_type": "stream",
          "text": [
            "Epoch 9 validation loss: 1.3934\n"
          ]
        },
        {
          "name": "stderr",
          "output_type": "stream",
          "text": [
            " 30%|███       | 9/30 [07:48<18:15, 52.15s/it]"
          ]
        },
        {
          "name": "stdout",
          "output_type": "stream",
          "text": [
            " Epoch 10/30, Step 1000/2500, Loss: 1.206312656402588\n"
          ]
        },
        {
          "name": "stderr",
          "output_type": "stream",
          "text": [
            " 30%|███       | 9/30 [08:05<18:15, 52.15s/it]"
          ]
        },
        {
          "name": "stdout",
          "output_type": "stream",
          "text": [
            " Epoch 10/30, Step 2000/2500, Loss: 1.6473320722579956\n"
          ]
        },
        {
          "name": "stderr",
          "output_type": "stream",
          "text": [
            " 30%|███       | 9/30 [08:15<18:15, 52.15s/it]"
          ]
        },
        {
          "name": "stdout",
          "output_type": "stream",
          "text": [
            "Epoch 10 average loss: 1.2333\n"
          ]
        },
        {
          "name": "stderr",
          "output_type": "stream",
          "text": [
            " 33%|███▎      | 10/30 [08:23<17:28, 52.44s/it]"
          ]
        },
        {
          "name": "stdout",
          "output_type": "stream",
          "text": [
            "Epoch 10 validation loss: 1.3591\n"
          ]
        },
        {
          "name": "stderr",
          "output_type": "stream",
          "text": [
            " 33%|███▎      | 10/30 [08:41<17:28, 52.44s/it]"
          ]
        },
        {
          "name": "stdout",
          "output_type": "stream",
          "text": [
            " Epoch 11/30, Step 1000/2500, Loss: 1.4296425580978394\n"
          ]
        },
        {
          "name": "stderr",
          "output_type": "stream",
          "text": [
            " 33%|███▎      | 10/30 [08:54<17:28, 52.44s/it]"
          ]
        },
        {
          "name": "stdout",
          "output_type": "stream",
          "text": [
            " Epoch 11/30, Step 2000/2500, Loss: 1.1557228565216064\n"
          ]
        },
        {
          "name": "stderr",
          "output_type": "stream",
          "text": [
            " 33%|███▎      | 10/30 [09:03<17:28, 52.44s/it]"
          ]
        },
        {
          "name": "stdout",
          "output_type": "stream",
          "text": [
            "Epoch 11 average loss: 1.2150\n"
          ]
        },
        {
          "name": "stderr",
          "output_type": "stream",
          "text": [
            " 37%|███▋      | 11/30 [09:12<16:13, 51.26s/it]"
          ]
        },
        {
          "name": "stdout",
          "output_type": "stream",
          "text": [
            "Epoch 11 validation loss: 1.3705\n"
          ]
        },
        {
          "name": "stderr",
          "output_type": "stream",
          "text": [
            " 37%|███▋      | 11/30 [09:30<16:13, 51.26s/it]"
          ]
        },
        {
          "name": "stdout",
          "output_type": "stream",
          "text": [
            " Epoch 12/30, Step 1000/2500, Loss: 1.0322191715240479\n"
          ]
        },
        {
          "name": "stderr",
          "output_type": "stream",
          "text": [
            " 37%|███▋      | 11/30 [09:47<16:13, 51.26s/it]"
          ]
        },
        {
          "name": "stdout",
          "output_type": "stream",
          "text": [
            " Epoch 12/30, Step 2000/2500, Loss: 2.085726499557495\n"
          ]
        },
        {
          "name": "stderr",
          "output_type": "stream",
          "text": [
            " 37%|███▋      | 11/30 [09:57<16:13, 51.26s/it]"
          ]
        },
        {
          "name": "stdout",
          "output_type": "stream",
          "text": [
            "Epoch 12 average loss: 1.1959\n"
          ]
        },
        {
          "name": "stderr",
          "output_type": "stream",
          "text": [
            " 40%|████      | 12/30 [10:05<15:34, 51.94s/it]"
          ]
        },
        {
          "name": "stdout",
          "output_type": "stream",
          "text": [
            "Epoch 12 validation loss: 1.3562\n"
          ]
        },
        {
          "name": "stderr",
          "output_type": "stream",
          "text": [
            " 40%|████      | 12/30 [10:23<15:34, 51.94s/it]"
          ]
        },
        {
          "name": "stdout",
          "output_type": "stream",
          "text": [
            " Epoch 13/30, Step 1000/2500, Loss: 1.2091304063796997\n"
          ]
        },
        {
          "name": "stderr",
          "output_type": "stream",
          "text": [
            " 40%|████      | 12/30 [10:41<15:34, 51.94s/it]"
          ]
        },
        {
          "name": "stdout",
          "output_type": "stream",
          "text": [
            " Epoch 13/30, Step 2000/2500, Loss: 1.8735755681991577\n"
          ]
        },
        {
          "name": "stderr",
          "output_type": "stream",
          "text": [
            " 40%|████      | 12/30 [10:50<15:34, 51.94s/it]"
          ]
        },
        {
          "name": "stdout",
          "output_type": "stream",
          "text": [
            "Epoch 13 average loss: 1.1693\n"
          ]
        },
        {
          "name": "stderr",
          "output_type": "stream",
          "text": [
            " 43%|████▎     | 13/30 [10:56<14:40, 51.77s/it]"
          ]
        },
        {
          "name": "stdout",
          "output_type": "stream",
          "text": [
            "Epoch 13 validation loss: 1.3640\n"
          ]
        },
        {
          "name": "stderr",
          "output_type": "stream",
          "text": [
            " 43%|████▎     | 13/30 [11:06<14:40, 51.77s/it]"
          ]
        },
        {
          "name": "stdout",
          "output_type": "stream",
          "text": [
            " Epoch 14/30, Step 1000/2500, Loss: 1.3565441370010376\n"
          ]
        },
        {
          "name": "stderr",
          "output_type": "stream",
          "text": [
            " 43%|████▎     | 13/30 [11:23<14:40, 51.77s/it]"
          ]
        },
        {
          "name": "stdout",
          "output_type": "stream",
          "text": [
            " Epoch 14/30, Step 2000/2500, Loss: 1.330410122871399\n"
          ]
        },
        {
          "name": "stderr",
          "output_type": "stream",
          "text": [
            " 43%|████▎     | 13/30 [11:32<14:40, 51.77s/it]"
          ]
        },
        {
          "name": "stdout",
          "output_type": "stream",
          "text": [
            "Epoch 14 average loss: 1.1567\n"
          ]
        },
        {
          "name": "stderr",
          "output_type": "stream",
          "text": [
            " 47%|████▋     | 14/30 [11:40<13:10, 49.38s/it]"
          ]
        },
        {
          "name": "stdout",
          "output_type": "stream",
          "text": [
            "Epoch 14 validation loss: 1.3590\n"
          ]
        },
        {
          "name": "stderr",
          "output_type": "stream",
          "text": [
            " 47%|████▋     | 14/30 [11:58<13:10, 49.38s/it]"
          ]
        },
        {
          "name": "stdout",
          "output_type": "stream",
          "text": [
            " Epoch 15/30, Step 1000/2500, Loss: 0.6992118954658508\n"
          ]
        },
        {
          "name": "stderr",
          "output_type": "stream",
          "text": [
            " 47%|████▋     | 14/30 [12:16<13:10, 49.38s/it]"
          ]
        },
        {
          "name": "stdout",
          "output_type": "stream",
          "text": [
            " Epoch 15/30, Step 2000/2500, Loss: 1.0569181442260742\n"
          ]
        },
        {
          "name": "stderr",
          "output_type": "stream",
          "text": [
            " 47%|████▋     | 14/30 [12:25<13:10, 49.38s/it]"
          ]
        },
        {
          "name": "stdout",
          "output_type": "stream",
          "text": [
            "Epoch 15 average loss: 1.1417\n"
          ]
        },
        {
          "name": "stderr",
          "output_type": "stream",
          "text": [
            " 50%|█████     | 15/30 [12:34<12:39, 50.63s/it]"
          ]
        },
        {
          "name": "stdout",
          "output_type": "stream",
          "text": [
            "Epoch 15 validation loss: 1.3645\n"
          ]
        },
        {
          "name": "stderr",
          "output_type": "stream",
          "text": [
            " 50%|█████     | 15/30 [12:52<12:39, 50.63s/it]"
          ]
        },
        {
          "name": "stdout",
          "output_type": "stream",
          "text": [
            " Epoch 16/30, Step 1000/2500, Loss: 1.634013295173645\n"
          ]
        },
        {
          "name": "stderr",
          "output_type": "stream",
          "text": [
            " 50%|█████     | 15/30 [13:01<12:39, 50.63s/it]"
          ]
        },
        {
          "name": "stdout",
          "output_type": "stream",
          "text": [
            " Epoch 16/30, Step 2000/2500, Loss: 1.1673626899719238\n"
          ]
        },
        {
          "name": "stderr",
          "output_type": "stream",
          "text": [
            " 50%|█████     | 15/30 [13:05<12:39, 50.63s/it]"
          ]
        },
        {
          "name": "stdout",
          "output_type": "stream",
          "text": [
            "Epoch 16 average loss: 1.1303\n"
          ]
        },
        {
          "name": "stderr",
          "output_type": "stream",
          "text": [
            " 53%|█████▎    | 16/30 [13:09<10:42, 45.91s/it]"
          ]
        },
        {
          "name": "stdout",
          "output_type": "stream",
          "text": [
            "Epoch 16 validation loss: 1.3752\n"
          ]
        },
        {
          "name": "stderr",
          "output_type": "stream",
          "text": [
            " 53%|█████▎    | 16/30 [13:18<10:42, 45.91s/it]"
          ]
        },
        {
          "name": "stdout",
          "output_type": "stream",
          "text": [
            " Epoch 17/30, Step 1000/2500, Loss: 1.0170539617538452\n"
          ]
        },
        {
          "name": "stderr",
          "output_type": "stream",
          "text": [
            " 53%|█████▎    | 16/30 [13:26<10:42, 45.91s/it]"
          ]
        },
        {
          "name": "stdout",
          "output_type": "stream",
          "text": [
            " Epoch 17/30, Step 2000/2500, Loss: 0.7868446111679077\n"
          ]
        },
        {
          "name": "stderr",
          "output_type": "stream",
          "text": [
            " 53%|█████▎    | 16/30 [13:31<10:42, 45.91s/it]"
          ]
        },
        {
          "name": "stdout",
          "output_type": "stream",
          "text": [
            "Epoch 17 average loss: 1.1144\n"
          ]
        },
        {
          "name": "stderr",
          "output_type": "stream",
          "text": [
            " 57%|█████▋    | 17/30 [13:34<08:36, 39.74s/it]"
          ]
        },
        {
          "name": "stdout",
          "output_type": "stream",
          "text": [
            "Epoch 17 validation loss: 1.3464\n"
          ]
        },
        {
          "name": "stderr",
          "output_type": "stream",
          "text": [
            " 57%|█████▋    | 17/30 [13:43<08:36, 39.74s/it]"
          ]
        },
        {
          "name": "stdout",
          "output_type": "stream",
          "text": [
            " Epoch 18/30, Step 1000/2500, Loss: 0.7162991762161255\n"
          ]
        },
        {
          "name": "stderr",
          "output_type": "stream",
          "text": [
            " 57%|█████▋    | 17/30 [13:52<08:36, 39.74s/it]"
          ]
        },
        {
          "name": "stdout",
          "output_type": "stream",
          "text": [
            " Epoch 18/30, Step 2000/2500, Loss: 1.2571913003921509\n"
          ]
        },
        {
          "name": "stderr",
          "output_type": "stream",
          "text": [
            " 57%|█████▋    | 17/30 [13:56<08:36, 39.74s/it]"
          ]
        },
        {
          "name": "stdout",
          "output_type": "stream",
          "text": [
            "Epoch 18 average loss: 1.1014\n"
          ]
        },
        {
          "name": "stderr",
          "output_type": "stream",
          "text": [
            " 60%|██████    | 18/30 [13:59<07:04, 35.37s/it]"
          ]
        },
        {
          "name": "stdout",
          "output_type": "stream",
          "text": [
            "Epoch 18 validation loss: 1.3672\n"
          ]
        },
        {
          "name": "stderr",
          "output_type": "stream",
          "text": [
            " 60%|██████    | 18/30 [14:07<07:04, 35.37s/it]"
          ]
        },
        {
          "name": "stdout",
          "output_type": "stream",
          "text": [
            " Epoch 19/30, Step 1000/2500, Loss: 1.3315767049789429\n"
          ]
        },
        {
          "name": "stderr",
          "output_type": "stream",
          "text": [
            " 60%|██████    | 18/30 [14:15<07:04, 35.37s/it]"
          ]
        },
        {
          "name": "stdout",
          "output_type": "stream",
          "text": [
            " Epoch 19/30, Step 2000/2500, Loss: 0.7954974174499512\n"
          ]
        },
        {
          "name": "stderr",
          "output_type": "stream",
          "text": [
            " 60%|██████    | 18/30 [14:18<07:04, 35.37s/it]"
          ]
        },
        {
          "name": "stdout",
          "output_type": "stream",
          "text": [
            "Epoch 19 average loss: 1.0908\n"
          ]
        },
        {
          "name": "stderr",
          "output_type": "stream",
          "text": [
            " 63%|██████▎   | 19/30 [14:22<05:46, 31.51s/it]"
          ]
        },
        {
          "name": "stdout",
          "output_type": "stream",
          "text": [
            "Epoch 19 validation loss: 1.3695\n"
          ]
        },
        {
          "name": "stderr",
          "output_type": "stream",
          "text": [
            " 63%|██████▎   | 19/30 [14:31<05:46, 31.51s/it]"
          ]
        },
        {
          "name": "stdout",
          "output_type": "stream",
          "text": [
            " Epoch 20/30, Step 1000/2500, Loss: 1.6794394254684448\n"
          ]
        },
        {
          "name": "stderr",
          "output_type": "stream",
          "text": [
            " 63%|██████▎   | 19/30 [14:39<05:46, 31.51s/it]"
          ]
        },
        {
          "name": "stdout",
          "output_type": "stream",
          "text": [
            " Epoch 20/30, Step 2000/2500, Loss: 1.1581964492797852\n"
          ]
        },
        {
          "name": "stderr",
          "output_type": "stream",
          "text": [
            " 63%|██████▎   | 19/30 [14:44<05:46, 31.51s/it]"
          ]
        },
        {
          "name": "stdout",
          "output_type": "stream",
          "text": [
            "Epoch 20 average loss: 1.0755\n"
          ]
        },
        {
          "name": "stderr",
          "output_type": "stream",
          "text": [
            " 67%|██████▋   | 20/30 [14:48<04:58, 29.84s/it]"
          ]
        },
        {
          "name": "stdout",
          "output_type": "stream",
          "text": [
            "Epoch 20 validation loss: 1.3776\n"
          ]
        },
        {
          "name": "stderr",
          "output_type": "stream",
          "text": [
            " 67%|██████▋   | 20/30 [15:05<04:58, 29.84s/it]"
          ]
        },
        {
          "name": "stdout",
          "output_type": "stream",
          "text": [
            " Epoch 21/30, Step 1000/2500, Loss: 1.077221393585205\n"
          ]
        },
        {
          "name": "stderr",
          "output_type": "stream",
          "text": [
            " 67%|██████▋   | 20/30 [15:23<04:58, 29.84s/it]"
          ]
        },
        {
          "name": "stdout",
          "output_type": "stream",
          "text": [
            " Epoch 21/30, Step 2000/2500, Loss: 1.1240299940109253\n"
          ]
        },
        {
          "name": "stderr",
          "output_type": "stream",
          "text": [
            " 67%|██████▋   | 20/30 [15:31<04:58, 29.84s/it]"
          ]
        },
        {
          "name": "stdout",
          "output_type": "stream",
          "text": [
            "Epoch 21 average loss: 1.0673\n"
          ]
        },
        {
          "name": "stderr",
          "output_type": "stream",
          "text": [
            " 70%|███████   | 21/30 [15:35<05:15, 35.11s/it]"
          ]
        },
        {
          "name": "stdout",
          "output_type": "stream",
          "text": [
            "Epoch 21 validation loss: 1.3566\n"
          ]
        },
        {
          "name": "stderr",
          "output_type": "stream",
          "text": [
            " 70%|███████   | 21/30 [15:45<05:15, 35.11s/it]"
          ]
        },
        {
          "name": "stdout",
          "output_type": "stream",
          "text": [
            " Epoch 22/30, Step 1000/2500, Loss: 1.250174641609192\n"
          ]
        },
        {
          "name": "stderr",
          "output_type": "stream",
          "text": [
            " 70%|███████   | 21/30 [15:54<05:15, 35.11s/it]"
          ]
        },
        {
          "name": "stdout",
          "output_type": "stream",
          "text": [
            " Epoch 22/30, Step 2000/2500, Loss: 0.6288266181945801\n"
          ]
        },
        {
          "name": "stderr",
          "output_type": "stream",
          "text": [
            " 70%|███████   | 21/30 [15:58<05:15, 35.11s/it]"
          ]
        },
        {
          "name": "stdout",
          "output_type": "stream",
          "text": [
            "Epoch 22 average loss: 1.0516\n"
          ]
        },
        {
          "name": "stderr",
          "output_type": "stream",
          "text": [
            " 70%|███████   | 21/30 [16:03<06:52, 45.87s/it]"
          ]
        },
        {
          "name": "stdout",
          "output_type": "stream",
          "text": [
            "Epoch 22 validation loss: 1.3897\n",
            "Early stopping triggered.\n"
          ]
        },
        {
          "name": "stderr",
          "output_type": "stream",
          "text": [
            "\n"
          ]
        }
      ],
      "source": [
        "#@title Training loop\n",
        "device = torch.device(\"cuda\" if torch.cuda.is_available() else \"cpu\")\n",
        "print(device)\n",
        "\n",
        "# Build the model\n",
        "mlp = MLP(input_size,\n",
        "                hidden1= hidden1,\n",
        "                hidden2= hidden2,\n",
        "                num_classes = 10,\n",
        "                activation_function = activation_function)\n",
        "mlp.to(device)\n",
        "\n",
        "# Setting optimizer up\n",
        "optimizer = torch.optim.AdamW(mlp.parameters(), lr=learning_rate, weight_decay = 1e-4)\n",
        "\n",
        "# Early stopping setup\n",
        "best_loss = float('inf')\n",
        "patience = 5\n",
        "patience_counter = 0\n",
        "best_model_state = None\n",
        "\n",
        "train_losses = []\n",
        "val_losses = []\n",
        "\n",
        "# Start training epochs loop\n",
        "for epoch in tqdm(range(num_epochs)):\n",
        "  epoch_loss = 0.0\n",
        "  for i, (images, labels) in enumerate(train_loader):\n",
        "    images = images.view(-1,input_size).to(device) # flattenning images\n",
        "    labels = labels.to(device)\n",
        "\n",
        "    # Forward pass\n",
        "    optimizer.zero_grad()\n",
        "    outputs = mlp(images)\n",
        "\n",
        "    # Backward pass\n",
        "    loss = loss_function(outputs, labels)\n",
        "    loss.backward()\n",
        "    optimizer.step()\n",
        "\n",
        "    epoch_loss += loss.item()\n",
        "\n",
        "    if (i+1) % 1000 == 0:\n",
        "      tqdm.write(f' Epoch {epoch + 1}/{num_epochs}, Step {i+1}/{len(train_dataset) // batch_size}, Loss: {loss}')\n",
        "\n",
        "  epoch_loss /= len(train_loader)\n",
        "  tqdm.write(f'Epoch {epoch+1} average loss: {epoch_loss:.4f}')\n",
        "  train_losses.append(epoch_loss)\n",
        "\n",
        "  val_loss = evaluate(mlp, val_loader, loss_function)\n",
        "  tqdm.write(f'Epoch {epoch+1} validation loss: {val_loss:.4f}')\n",
        "  val_losses.append(val_loss)\n",
        "\n",
        "  # Early stopping using loss value\n",
        "  if val_loss < best_loss:\n",
        "    best_loss = val_loss\n",
        "    patience_counter = 0\n",
        "    best_model_state = mlp.state_dict()\n",
        "  else:\n",
        "    patience_counter += 1\n",
        "    if patience_counter >= patience:\n",
        "      tqdm.write(\"Early stopping triggered.\")\n",
        "      break\n",
        "\n",
        "if best_model_state is not None:\n",
        "    mlp.load_state_dict(best_model_state)\n",
        "    torch.save(mlp.state_dict(), \"melhor_modelo.pth\")\n"
      ]
    },
    {
      "cell_type": "code",
      "execution_count": 173,
      "metadata": {
        "id": "zaxCer_mddbq"
      },
      "outputs": [
        {
          "data": {
            "image/png": "[encoded data removed]",
            "text/plain": [
              "<Figure size 1000x600 with 1 Axes>"
            ]
          },
          "metadata": {},
          "output_type": "display_data"
        }
      ],
      "source": [
        "plt.figure(figsize=(10,6))\n",
        "plt.plot(train_losses, label='Train Loss')\n",
        "plt.plot(val_losses, label='Validation Loss')\n",
        "plt.xlabel('Epoch')\n",
        "plt.ylabel('Loss')\n",
        "plt.title('Train vs Validation Loss')\n",
        "plt.legend()\n",
        "plt.grid(True)\n",
        "plt.show()"
      ]
    },
    {
      "cell_type": "code",
      "execution_count": 174,
      "metadata": {
        "colab": {
          "base_uri": "https://localhost:8080/"
        },
        "id": "vxYFc_r5KCzS",
        "outputId": "f7ea8fa5-087b-41ce-e286-de4a69659ba5"
      },
      "outputs": [
        {
          "name": "stdout",
          "output_type": "stream",
          "text": [
            "cuda\n"
          ]
        }
      ],
      "source": [
        "print(device)"
      ]
    },
    {
      "cell_type": "code",
      "execution_count": 175,
      "metadata": {
        "id": "13FaQlXcNvM6"
      },
      "outputs": [],
      "source": [
        "#@title Defining metrics helper\n",
        "\n",
        "def get_scores(targets, predictions):\n",
        "    return {\n",
        "        \"accuracy\": metrics.accuracy_score(targets, predictions),\n",
        "        \"balanced_accuracy\": metrics.balanced_accuracy_score(targets, predictions),\n",
        "        \"precision\": metrics.precision_score(targets, predictions, average=\"weighted\"),\n",
        "        \"recall\": metrics.recall_score(targets, predictions, average=\"weighted\"),\n",
        "        \"f1_score\": metrics.f1_score(targets, predictions, average=\"weighted\")\n",
        "    }"
      ]
    },
    {
      "cell_type": "code",
      "execution_count": 176,
      "metadata": {
        "colab": {
          "base_uri": "https://localhost:8080/"
        },
        "id": "jMA-DgwPhkVm",
        "outputId": "12804488-1ba5-46d7-cce9-a6238e7dba18"
      },
      "outputs": [
        {
          "name": "stdout",
          "output_type": "stream",
          "text": [
            "cuda\n",
            "Pesos carregados com sucesso.\n",
            "Scores of your model\n",
            " {'accuracy': 0.5352, 'balanced_accuracy': np.float64(0.5352), 'precision': 0.5379579079526892, 'recall': 0.5352, 'f1_score': 0.5333237077149121}\n"
          ]
        }
      ],
      "source": [
        "#@title Evaluate model (accuracy, precision, recall)\n",
        "device = torch.device(\"cuda\" if torch.cuda.is_available() else \"cpu\")\n",
        "print(device)\n",
        "\n",
        "mlp = MLP(input_size,\n",
        "          hidden1= hidden1,\n",
        "          hidden2= hidden2,\n",
        "          num_classes = 10,\n",
        "          activation_function = activation_function)\n",
        "\n",
        "mlp.to(device)\n",
        "\n",
        "if os.path.exists(\"melhor_modelo.pth\"):\n",
        "    mlp.load_state_dict(torch.load(\"melhor_modelo.pth\"))\n",
        "    print(\"Pesos carregados com sucesso.\")\n",
        "else:\n",
        "    print(\"Arquivo de pesos não encontrado. Modelo será inicializado do zero.\")\n",
        "\n",
        "mlp.eval()\n",
        "predictions = []\n",
        "labels = []\n",
        "for images, label in val_loader:\n",
        "  images = images.view(-1,input_size).to(device)\n",
        "  label = label.to(device)\n",
        "\n",
        "  output = mlp(images)\n",
        "  _, predicted = torch.max(output,1)\n",
        "\n",
        "  predictions.extend(predicted.cpu().numpy())\n",
        "  labels.extend(label.cpu().numpy())\n",
        "\n",
        "scores = get_scores(labels, predictions)\n",
        "print(\"Scores of your model\\n\", scores)"
      ]
    },
    {
      "cell_type": "code",
      "execution_count": 177,
      "metadata": {},
      "outputs": [
        {
          "data": {
            "image/png": "[encoded data removed]",
            "text/plain": [
              "<Figure size 640x480 with 2 Axes>"
            ]
          },
          "metadata": {},
          "output_type": "display_data"
        }
      ],
      "source": [
        "cm = confusion_matrix(labels, predictions)\n",
        "\n",
        "# Plotar a matriz de confusão\n",
        "disp = ConfusionMatrixDisplay(confusion_matrix=cm)\n",
        "disp.plot(cmap=plt.cm.Blues)  # pode mudar o colormap se quiser\n",
        "plt.title(\"Matriz de Confusão\")\n",
        "plt.show()"
      ]
    },
    {
      "cell_type": "code",
      "execution_count": 136,
      "metadata": {},
      "outputs": [
        {
          "name": "stdout",
          "output_type": "stream",
          "text": [
            "0: airplane\n",
            "1: automobile\n",
            "2: bird\n",
            "3: cat\n",
            "4: deer\n",
            "5: dog\n",
            "6: frog\n",
            "7: horse\n",
            "8: ship\n",
            "9: truck\n"
          ]
        }
      ],
      "source": [
        "for label in range(10):\n",
        "    print(f\"{label}: {test_dataset.classes[label]}\")"
      ]
    },
    {
      "cell_type": "code",
      "execution_count": 178,
      "metadata": {},
      "outputs": [
        {
          "name": "stderr",
          "output_type": "stream",
          "text": [
            "Clipping input data to the valid range for imshow with RGB data ([0..1] for floats or [0..255] for integers). Got range [-0.92526716..1.0537698].\n"
          ]
        },
        {
          "data": {
            "image/png": "[encoded data removed]",
            "text/plain": [
              "<Figure size 640x480 with 1 Axes>"
            ]
          },
          "metadata": {},
          "output_type": "display_data"
        },
        {
          "name": "stderr",
          "output_type": "stream",
          "text": [
            "Clipping input data to the valid range for imshow with RGB data ([0..1] for floats or [0..255] for integers). Got range [-1.1052287..1.0334064].\n"
          ]
        },
        {
          "data": {
            "image/png": "[encoded data removed]",
            "text/plain": [
              "<Figure size 640x480 with 1 Axes>"
            ]
          },
          "metadata": {},
          "output_type": "display_data"
        }
      ],
      "source": [
        "# Lista com nomes das classes (exemplo para CIFAR-10)\n",
        "class_names = ['airplane', 'automobile', 'bird', 'cat', 'deer',\n",
        "               'dog', 'frog', 'horse', 'ship', 'truck']\n",
        "\n",
        "# Detecta o dispositivo\n",
        "device = torch.device(\"cuda\" if torch.cuda.is_available() else \"cpu\")\n",
        "\n",
        "# Move o modelo para o dispositivo\n",
        "mlp.to(device)\n",
        "mlp.eval()\n",
        "\n",
        "correct_image = None\n",
        "incorrect_image = None\n",
        "\n",
        "# Sem gradientes para avaliação\n",
        "with torch.no_grad():\n",
        "    for images, labels in test_loader:\n",
        "        images = images.to(device)\n",
        "        labels = labels.to(device)\n",
        "\n",
        "        outputs = mlp(images)\n",
        "        _, preds = torch.max(outputs, 1)\n",
        "\n",
        "        for i in range(len(labels)):\n",
        "            if preds[i] == labels[i] and correct_image is None:\n",
        "                correct_image = images[i].cpu()\n",
        "                correct_label = labels[i].cpu()\n",
        "                predicted_correct = preds[i].cpu()\n",
        "            elif preds[i] != labels[i] and incorrect_image is None:\n",
        "                incorrect_image = images[i].cpu()\n",
        "                true_label = labels[i].cpu()\n",
        "                predicted_incorrect = preds[i].cpu()\n",
        "\n",
        "            if correct_image is not None and incorrect_image is not None:\n",
        "                break\n",
        "        if correct_image is not None and incorrect_image is not None:\n",
        "            break\n",
        "\n",
        "# Função para exibir imagem\n",
        "def show_image(img_tensor, title=\"\"):\n",
        "    img = img_tensor.permute(1, 2, 0)  # de (C, H, W) para (H, W, C)\n",
        "    plt.imshow(img.numpy())\n",
        "    plt.title(title)\n",
        "    plt.axis('off')\n",
        "    plt.show()\n",
        "\n",
        "# Mostra imagens com nomes das classes\n",
        "show_image(correct_image, f\"Correta: {class_names[predicted_correct.item()]}\")\n",
        "show_image(incorrect_image, f\"Incorreta: Previsto {class_names[predicted_incorrect.item()]}, Real {class_names[true_label.item()]}\")\n"
      ]
    },
    {
      "cell_type": "markdown",
      "metadata": {
        "id": "bA8HgFj-MjYc"
      },
      "source": [
        "# You can change/optimize this as you want\n",
        "- Different optimizers, activation functions, etc\n",
        "- Automatic hyperparameters optimization (Optuna)\n",
        "- Regularization techniques\n",
        "- Validation set to track metrics during epochs\n",
        "- Transform input data\n",
        "- ..."
      ]
    }
  ],
  "metadata": {
    "accelerator": "GPU",
    "colab": {
      "gpuType": "T4",
      "provenance": []
    },
    "kernelspec": {
      "display_name": "Python 3",
      "name": "python3"
    },
    "language_info": {
      "codemirror_mode": {
        "name": "ipython",
        "version": 3
      },
      "file_extension": ".py",
      "mimetype": "text/x-python",
      "name": "python",
      "nbconvert_exporter": "python",
      "pygments_lexer": "ipython3",
      "version": "3.13.3"
    }
  },
  "nbformat": 4,
  "nbformat_minor": 0
}
