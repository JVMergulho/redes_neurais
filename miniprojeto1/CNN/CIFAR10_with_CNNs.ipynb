{
  "cells": [
    {
      "cell_type": "markdown",
      "metadata": {
        "id": "BjND-9CP7R7n"
      },
      "source": [
        "# CIFAR10 with CNNs"
      ]
    },
    {
      "cell_type": "markdown",
      "metadata": {
        "id": "72Iz7FOH4wa6"
      },
      "source": [
        "Scores do modelo original:\n",
        "\n",
        " {'accuracy': 0.7136, 'balanced_accuracy': np.float64(0.7136000000000001), 'precision': 0.7141355730287995, 'recall': 0.7136, 'f1_score': 0.7133133029149751}"
      ]
    },
    {
      "cell_type": "code",
      "execution_count": null,
      "metadata": {
        "id": "_ErVptyZ7Npv"
      },
      "outputs": [],
      "source": [
        "#@title Libs\n",
        "\n",
        "import torch\n",
        "import torchvision\n",
        "import torch.nn as nn\n",
        "import torch.optim as optim\n",
        "import torchvision.transforms as transforms\n",
        "from  torch.utils.data import DataLoader, Subset\n",
        "\n",
        "import matplotlib.pyplot as plt\n",
        "import numpy as np\n",
        "\n",
        "from sklearn import metrics\n",
        "from sklearn.model_selection import StratifiedShuffleSplit\n",
        "from sklearn.metrics import confusion_matrix, ConfusionMatrixDisplay\n",
        "\n",
        "from tqdm import tqdm"
      ]
    },
    {
      "cell_type": "code",
      "execution_count": null,
      "metadata": {
        "id": "fcH-AHUK8eGn"
      },
      "outputs": [],
      "source": [
        "#@title Dataset Setup\n",
        "\n",
        "transform = transforms.Compose(\n",
        "    [transforms.ToTensor(),\n",
        "     transforms.Normalize((0.5, 0.5, 0.5), (0.5, 0.5, 0.5))])"
      ]
    },
    {
      "cell_type": "code",
      "execution_count": null,
      "metadata": {
        "colab": {
          "base_uri": "https://localhost:8080/"
        },
        "id": "_Y3k2WQG49Aq",
        "outputId": "5a8b84a0-5a13-48cf-a6c5-9347c9f333ce"
      },
      "outputs": [
        {
          "name": "stderr",
          "output_type": "stream",
          "text": [
            "100%|██████████| 170M/170M [00:04<00:00, 41.3MB/s]\n"
          ]
        }
      ],
      "source": [
        "train_val_dataset = torchvision.datasets.CIFAR10(root='./data', train=True,\n",
        "                                        download=True,  transform=transform)\n",
        "\n",
        "test_dataset = torchvision.datasets.CIFAR10(root='./data', train=False,\n",
        "                                        download=True,  transform=transform)\n",
        "\n",
        "classes = test_dataset.classes"
      ]
    },
    {
      "cell_type": "markdown",
      "metadata": {
        "id": "BX12ZIVi55G9"
      },
      "source": [
        "Gera val_dataset como subset balanceado de train_val_dataset\n"
      ]
    },
    {
      "cell_type": "code",
      "execution_count": null,
      "metadata": {
        "id": "5LEJKioP5Cnj"
      },
      "outputs": [],
      "source": [
        "# Extrai os rótulos\n",
        "targets = np.array(train_val_dataset.targets)\n",
        "\n",
        "# Cria o validador estratificado\n",
        "splitter = StratifiedShuffleSplit(n_splits=1, test_size=0.2, random_state=42)\n",
        "\n",
        "# Gera os índices\n",
        "for train_idx, val_idx in splitter.split(np.zeros(len(targets)), targets):\n",
        "    train_dataset = Subset(train_val_dataset, train_idx)\n",
        "    val_dataset = Subset(train_val_dataset, val_idx)"
      ]
    },
    {
      "cell_type": "code",
      "execution_count": null,
      "metadata": {
        "id": "TnEZtCirx2qJ"
      },
      "outputs": [],
      "source": [
        "def makeLoaders(batch_size):\n",
        "    train_loader = torch.utils.data.DataLoader(train_dataset, batch_size=batch_size, shuffle=True)\n",
        "    val_loader = torch.utils.data.DataLoader(val_dataset, batch_size=batch_size, shuffle=True)\n",
        "    test_loader = torch.utils.data.DataLoader(test_dataset, batch_size=batch_size, shuffle=False)\n",
        "\n",
        "    return train_loader, val_loader, test_loader"
      ]
    },
    {
      "cell_type": "markdown",
      "metadata": {
        "id": "oKNRwga27k4w"
      },
      "source": [
        "## Visualizar imagens"
      ]
    },
    {
      "cell_type": "code",
      "execution_count": null,
      "metadata": {
        "id": "OX18AVVr7Dxq"
      },
      "outputs": [],
      "source": [
        "def imshow(img):\n",
        "    img = img / 2 + 0.5     # desnormalizar\n",
        "    npimg = img.numpy()\n",
        "    plt.imshow(np.transpose(npimg, (1, 2, 0)))\n",
        "    plt.axis('off')"
      ]
    },
    {
      "cell_type": "code",
      "execution_count": null,
      "metadata": {
        "id": "rvuhTChk6-SA"
      },
      "outputs": [],
      "source": [
        "# Encontrar uma imagem de cada classe\n",
        "images_per_class = {}\n",
        "# Itera sobre o dataset até encontrar uma imagem para cada uma das 10 classes\n",
        "for img, label in test_dataset:\n",
        "    class_name = classes[label]\n",
        "    if class_name not in images_per_class:\n",
        "        images_per_class[class_name] = img\n",
        "    # Para de procurar quando já tiver uma imagem de cada classe\n",
        "    if len(images_per_class) == len(classes):\n",
        "        break"
      ]
    },
    {
      "cell_type": "code",
      "execution_count": null,
      "metadata": {
        "colab": {
          "base_uri": "https://localhost:8080/",
          "height": 429
        },
        "id": "I8tUsLpS63hy",
        "outputId": "2e2ce20d-4282-4a60-e94f-6e9e62478775"
      },
      "outputs": [
        {
          "data": {
            "image/png": "[encoded data removed]",
            "text/plain": [
              "<Figure size 1200x500 with 10 Axes>"
            ]
          },
          "metadata": {},
          "output_type": "display_data"
        }
      ],
      "source": [
        "# Criar uma figura para exibir as imagens\n",
        "fig = plt.figure(figsize=(12, 5))\n",
        "\n",
        "# Exibe uma imagem para cada classe\n",
        "for i, class_name in enumerate(classes):\n",
        "    ax = fig.add_subplot(2, 5, i + 1) # Cria uma grade 2x5 de subplots\n",
        "    ax.set_title(class_name)\n",
        "    imshow(images_per_class[class_name])\n",
        "\n",
        "plt.show()"
      ]
    },
    {
      "cell_type": "markdown",
      "metadata": {
        "id": "6EZqIY5yam_a"
      },
      "source": [
        "### Defining the CNN model\n",
        "Here we adapt the LeNet-5 architecture introduced in [*Gradient-based learning applied to document recognition*](https://ieeexplore.ieee.org/document/726791), originally developed to classify handwritten digits.\n",
        "\n",
        "![lenet5](https://www.researchgate.net/publication/359784095/figure/fig2/AS:11431281079624737@1660789284522/Example-of-a-CNN-LeNet-5-14-is-able-to-identify-handwritten-digits-for-zip-code.png)\n",
        "\n",
        "\n",
        "The main change we made here is the number of in/out channels, kernel sizes, padding, etc (enabling better results). It has 2 convolutional layers followed by 2 pooling (subsampling) layers. After the conv. blocks, we pass the feature maps through 2 hidden fully-connected layers to get the most activated neuron with the softmax function. If you want a more detailed explanation, [check this link](https://www.datasciencecentral.com/lenet-5-a-classic-cnn-architecture/) or reach us on Discord :)"
      ]
    },
    {
      "cell_type": "code",
      "execution_count": null,
      "metadata": {
        "id": "KLjycMiT8zo-"
      },
      "outputs": [],
      "source": [
        "class FlexibleCNN(nn.Module):\n",
        "    \"\"\"\n",
        "    Uma classe de CNN flexível com entrada para imagens de 3 canais e 32x32 pixels.\n",
        "    \"\"\"\n",
        "    def __init__(self, config):\n",
        "        super(FlexibleCNN, self).__init__()\n",
        "        self.config = config\n",
        "\n",
        "        # Valores de entrada fixos\n",
        "        initial_in_channels = 3\n",
        "        img_height = 32\n",
        "        img_width = 32\n",
        "\n",
        "        # 1. Camadas de extração de características\n",
        "        features_layers = []\n",
        "        in_channels = initial_in_channels # Começa com o valor inicial\n",
        "\n",
        "        for out_channels, k, s, p in self.config['conv_layers']:\n",
        "            features_layers.append(\n",
        "                nn.Conv2d(\n",
        "                    in_channels=in_channels,\n",
        "                    out_channels=out_channels,\n",
        "                    kernel_size=k,\n",
        "                    stride=s,\n",
        "                    padding=p\n",
        "                )\n",
        "            )\n",
        "            features_layers.append(nn.ReLU())\n",
        "            if self.config.get('pool_kernel_size'):\n",
        "                features_layers.append(\n",
        "                    nn.MaxPool2d(\n",
        "                        kernel_size=self.config['pool_kernel_size'],\n",
        "                        stride=self.config.get('pool_stride', self.config['pool_kernel_size'])\n",
        "                    )\n",
        "                )\n",
        "            in_channels = out_channels # Atualiza para a próxima camada do loop\n",
        "\n",
        "        self.features = nn.Sequential(*features_layers)\n",
        "\n",
        "        # 2. Calcular o tamanho da saída do extrator de features\n",
        "        with torch.no_grad():\n",
        "            dummy_input = torch.zeros(1, initial_in_channels, img_height, img_width)\n",
        "            dummy_output = self.features(dummy_input)\n",
        "            self.flattened_features_size = dummy_output.view(-1).shape[0]\n",
        "\n",
        "        # 3. Construir o Classificador\n",
        "        classifier_layers = []\n",
        "        in_features = self.flattened_features_size\n",
        "\n",
        "        for out_features, dropout_rate in self.config.get('fc_layers', []):\n",
        "            classifier_layers.append(nn.Linear(in_features, out_features))\n",
        "            classifier_layers.append(nn.ReLU())\n",
        "            if dropout_rate > 0:\n",
        "                classifier_layers.append(nn.Dropout(p=dropout_rate))\n",
        "            in_features = out_features\n",
        "\n",
        "        classifier_layers.append(nn.Linear(in_features, self.config['output_size']))\n",
        "        self.classifier = nn.Sequential(*classifier_layers)\n",
        "\n",
        "    def forward(self, x):\n",
        "        # O assert foi removido para simplificar, mas pode ser útil para debug\n",
        "        x = self.features(x)\n",
        "        x = x.view(x.size(0), -1)\n",
        "        x = self.classifier(x)\n",
        "        return x"
      ]
    },
    {
      "cell_type": "markdown",
      "metadata": {
        "id": "D9gWCNSXx2qK"
      },
      "source": [
        "## Evaluation helper functions"
      ]
    },
    {
      "cell_type": "code",
      "execution_count": null,
      "metadata": {
        "id": "13FaQlXcNvM6"
      },
      "outputs": [],
      "source": [
        "#@title Defining metrics helper\n",
        "\n",
        "def get_scores(targets, predictions):\n",
        "    return {\n",
        "        \"accuracy\": metrics.accuracy_score(targets, predictions),\n",
        "        \"balanced_accuracy\": metrics.balanced_accuracy_score(targets, predictions),\n",
        "        \"precision\": metrics.precision_score(targets, predictions, average=\"weighted\"),\n",
        "        \"recall\": metrics.recall_score(targets, predictions, average=\"weighted\"),\n",
        "        \"f1_score\": metrics.f1_score(targets, predictions, average=\"weighted\")\n",
        "    }"
      ]
    },
    {
      "cell_type": "code",
      "execution_count": null,
      "metadata": {
        "id": "w_0EDbFZ-Qoi"
      },
      "outputs": [],
      "source": [
        "def evaluate(net, loader, loss_function):\n",
        "    device = torch.device(\"cuda\" if torch.cuda.is_available() else \"cpu\")\n",
        "\n",
        "    net.eval()\n",
        "    val_loss = 0.0\n",
        "    with torch.no_grad():\n",
        "        for images, labels in loader:\n",
        "            images = images.to(device)\n",
        "            labels = labels.to(device)\n",
        "            outputs = net(images)\n",
        "            loss = loss_function(outputs, labels)\n",
        "            val_loss += loss.item()\n",
        "    net.train()\n",
        "    return val_loss / len(loader)"
      ]
    },
    {
      "cell_type": "code",
      "execution_count": null,
      "metadata": {
        "id": "9gXf_iZ7x2qK"
      },
      "outputs": [],
      "source": [
        "#@title Evaluate model (accuracy, precision, recall, etc)\n",
        "\n",
        "def makePredictions(net, test_loader):\n",
        "  device = torch.device(\"cuda\" if torch.cuda.is_available() else \"cpu\")\n",
        "\n",
        "  net.eval()\n",
        "  predictions = []\n",
        "  labels = []\n",
        "  for images, label in test_loader:\n",
        "    images = images.to(device)\n",
        "    label = label.to(device)\n",
        "\n",
        "    output = net(images)\n",
        "    _, predicted = torch.max(output,1)\n",
        "\n",
        "    predictions.extend(predicted.cpu().numpy())\n",
        "    labels.extend(label.cpu().numpy())\n",
        "\n",
        "  return labels, predictions"
      ]
    },
    {
      "cell_type": "code",
      "execution_count": null,
      "metadata": {
        "id": "VuyWWW2UCGT7"
      },
      "outputs": [],
      "source": [
        "def plotLoss(train_losses, val_losses):\n",
        "    plt.plot(train_losses, label='Treinamento')\n",
        "    plt.plot(val_losses, label='Validação')\n",
        "    plt.xlabel('Época')\n",
        "    plt.ylabel('Loss')\n",
        "    plt.title('Loss de Treinamento e Validação')\n",
        "    plt.legend()\n",
        "    plt.grid(True)\n",
        "    plt.show()"
      ]
    },
    {
      "cell_type": "markdown",
      "metadata": {
        "id": "4MZF-2H0GeK5"
      },
      "source": [
        "## Train Loop"
      ]
    },
    {
      "cell_type": "code",
      "execution_count": null,
      "metadata": {
        "id": "XjTJpiboLmSF"
      },
      "outputs": [],
      "source": [
        "device = torch.device(\"cuda\" if torch.cuda.is_available() else \"cpu\")\n",
        "\n",
        "def train_model(net, train_loader, val_loader, criterion, optimizer, device, num_epochs=20, patience=3):\n",
        "    net.to(device)\n",
        "\n",
        "    train_losses = []\n",
        "    val_losses = []\n",
        "\n",
        "    best_loss = float('inf')\n",
        "    best_model_state = None\n",
        "    patience_counter = 0\n",
        "\n",
        "    for epoch in tqdm(range(num_epochs)):\n",
        "        net.train()\n",
        "        epoch_loss = 0.0\n",
        "\n",
        "        for i, (inputs, labels) in enumerate(train_loader, 0):\n",
        "            inputs, labels = inputs.to(device), labels.to(device)\n",
        "\n",
        "            optimizer.zero_grad()\n",
        "            outputs = net(inputs)\n",
        "            loss = criterion(outputs, labels)\n",
        "            loss.backward()\n",
        "            optimizer.step()\n",
        "\n",
        "            epoch_loss += loss.item()\n",
        "\n",
        "            if (i + 1) % 1000 == 0:\n",
        "              tqdm.write(f'Epoch {epoch + 1}/{num_epochs}, Step {i + 1}/{len(train_loader)}, Loss: {loss:.4f}')\n",
        "\n",
        "        avg_train_loss = epoch_loss / len(train_loader)\n",
        "        train_losses.append(avg_train_loss)\n",
        "\n",
        "        # Validação\n",
        "        net.eval()\n",
        "        val_loss = 0.0\n",
        "        with torch.no_grad():\n",
        "            for inputs, labels in val_loader:\n",
        "                inputs, labels = inputs.to(device), labels.to(device)\n",
        "                outputs = net(inputs)\n",
        "                loss = criterion(outputs, labels)\n",
        "                val_loss += loss.item()\n",
        "\n",
        "        avg_val_loss = val_loss / len(val_loader)\n",
        "        val_losses.append(avg_val_loss)\n",
        "\n",
        "        tqdm.write(f'Epoch {epoch+1} completed. Train Loss: {avg_train_loss:.4f} | Val Loss: {avg_val_loss:.4f}')\n",
        "\n",
        "        # Early stopping\n",
        "        if avg_val_loss < best_loss:\n",
        "            best_loss = avg_val_loss\n",
        "            best_model_state = net.state_dict()\n",
        "            patience_counter = 0\n",
        "        else:\n",
        "            patience_counter += 1\n",
        "            if patience_counter >= patience:\n",
        "                tqdm.write(f\"Early stopping at epoch {epoch+1}\")\n",
        "                break\n",
        "\n",
        "    # Restaura melhor modelo encontrado\n",
        "    if best_model_state is not None:\n",
        "        net.load_state_dict(best_model_state)\n",
        "\n",
        "    return net, train_losses, val_losses"
      ]
    },
    {
      "cell_type": "markdown",
      "metadata": {
        "id": "-S4JQnvAx2qK"
      },
      "source": [
        "## Experiment 1"
      ]
    },
    {
      "cell_type": "code",
      "execution_count": null,
      "metadata": {
        "id": "tyat2KDLL92I"
      },
      "outputs": [],
      "source": [
        "#@title Hyperparameters\n",
        "\n",
        "learning_rate = 0.001\n",
        "num_epochs = 50\n",
        "batch_size = 32\n",
        "patience = 5"
      ]
    },
    {
      "cell_type": "code",
      "execution_count": null,
      "metadata": {
        "id": "iZWOW-EAx2qK"
      },
      "outputs": [],
      "source": [
        "train_loader, val_loader, test_loader = makeLoaders(batch_size)"
      ]
    },
    {
      "cell_type": "code",
      "execution_count": null,
      "metadata": {
        "id": "qKcx-VUZCcBo"
      },
      "outputs": [],
      "source": [
        "config1 = {\n",
        "    'conv_layers': [\n",
        "        (32, 3, 1, 1),\n",
        "        (64, 3, 1, 1)\n",
        "    ],\n",
        "    'pool_kernel_size': 2,\n",
        "    'pool_stride': 2,\n",
        "    'fc_layers': [\n",
        "        (120, 0.0),\n",
        "        (84, 0.0)\n",
        "    ],\n",
        "    'output_size': 10\n",
        "}\n",
        "\n",
        "# Criando o modelo\n",
        "model1 = FlexibleCNN(config1)"
      ]
    },
    {
      "cell_type": "code",
      "execution_count": null,
      "metadata": {
        "colab": {
          "base_uri": "https://localhost:8080/"
        },
        "id": "NpXXmwUbGFcv",
        "outputId": "d328a6a1-39f7-4248-ac05-e6d7c7f75e7b"
      },
      "outputs": [
        {
          "name": "stderr",
          "output_type": "stream",
          "text": [
            "  0%|          | 0/50 [00:17<?, ?it/s]"
          ]
        },
        {
          "name": "stdout",
          "output_type": "stream",
          "text": [
            "Epoch 1/50, Step 1000/1250, Loss: 1.0847\n"
          ]
        },
        {
          "name": "stderr",
          "output_type": "stream",
          "text": [
            "  2%|▏         | 1/50 [00:26<21:27, 26.27s/it]"
          ]
        },
        {
          "name": "stdout",
          "output_type": "stream",
          "text": [
            "Epoch 1 completed. Train Loss: 1.3818 | Val Loss: 1.1235\n"
          ]
        },
        {
          "name": "stderr",
          "output_type": "stream",
          "text": [
            "  2%|▏         | 1/50 [00:43<21:27, 26.27s/it]"
          ]
        },
        {
          "name": "stdout",
          "output_type": "stream",
          "text": [
            "Epoch 2/50, Step 1000/1250, Loss: 0.6318\n"
          ]
        },
        {
          "name": "stderr",
          "output_type": "stream",
          "text": [
            "  4%|▍         | 2/50 [00:51<20:27, 25.57s/it]"
          ]
        },
        {
          "name": "stdout",
          "output_type": "stream",
          "text": [
            "Epoch 2 completed. Train Loss: 0.9913 | Val Loss: 0.9895\n"
          ]
        },
        {
          "name": "stderr",
          "output_type": "stream",
          "text": [
            "  4%|▍         | 2/50 [01:07<20:27, 25.57s/it]"
          ]
        },
        {
          "name": "stdout",
          "output_type": "stream",
          "text": [
            "Epoch 3/50, Step 1000/1250, Loss: 0.9587\n"
          ]
        },
        {
          "name": "stderr",
          "output_type": "stream",
          "text": [
            "  6%|▌         | 3/50 [01:16<19:50, 25.33s/it]"
          ]
        },
        {
          "name": "stdout",
          "output_type": "stream",
          "text": [
            "Epoch 3 completed. Train Loss: 0.8217 | Val Loss: 0.8844\n"
          ]
        },
        {
          "name": "stderr",
          "output_type": "stream",
          "text": [
            "  6%|▌         | 3/50 [01:33<19:50, 25.33s/it]"
          ]
        },
        {
          "name": "stdout",
          "output_type": "stream",
          "text": [
            "Epoch 4/50, Step 1000/1250, Loss: 0.4812\n"
          ]
        },
        {
          "name": "stderr",
          "output_type": "stream",
          "text": [
            "  8%|▊         | 4/50 [01:41<19:12, 25.05s/it]"
          ]
        },
        {
          "name": "stdout",
          "output_type": "stream",
          "text": [
            "Epoch 4 completed. Train Loss: 0.7038 | Val Loss: 0.8535\n"
          ]
        },
        {
          "name": "stderr",
          "output_type": "stream",
          "text": [
            "  8%|▊         | 4/50 [01:56<19:12, 25.05s/it]"
          ]
        },
        {
          "name": "stdout",
          "output_type": "stream",
          "text": [
            "Epoch 5/50, Step 1000/1250, Loss: 0.7709\n"
          ]
        },
        {
          "name": "stderr",
          "output_type": "stream",
          "text": [
            " 10%|█         | 5/50 [02:05<18:35, 24.78s/it]"
          ]
        },
        {
          "name": "stdout",
          "output_type": "stream",
          "text": [
            "Epoch 5 completed. Train Loss: 0.5957 | Val Loss: 0.9403\n"
          ]
        },
        {
          "name": "stderr",
          "output_type": "stream",
          "text": [
            " 10%|█         | 5/50 [02:21<18:35, 24.78s/it]"
          ]
        },
        {
          "name": "stdout",
          "output_type": "stream",
          "text": [
            "Epoch 6/50, Step 1000/1250, Loss: 0.7013\n"
          ]
        },
        {
          "name": "stderr",
          "output_type": "stream",
          "text": [
            " 12%|█▏        | 6/50 [02:30<18:10, 24.79s/it]"
          ]
        },
        {
          "name": "stdout",
          "output_type": "stream",
          "text": [
            "Epoch 6 completed. Train Loss: 0.5004 | Val Loss: 0.8795\n"
          ]
        },
        {
          "name": "stderr",
          "output_type": "stream",
          "text": [
            " 12%|█▏        | 6/50 [02:46<18:10, 24.79s/it]"
          ]
        },
        {
          "name": "stdout",
          "output_type": "stream",
          "text": [
            "Epoch 7/50, Step 1000/1250, Loss: 0.6888\n"
          ]
        },
        {
          "name": "stderr",
          "output_type": "stream",
          "text": [
            " 14%|█▍        | 7/50 [02:55<17:58, 25.07s/it]"
          ]
        },
        {
          "name": "stdout",
          "output_type": "stream",
          "text": [
            "Epoch 7 completed. Train Loss: 0.4138 | Val Loss: 0.9305\n"
          ]
        },
        {
          "name": "stderr",
          "output_type": "stream",
          "text": [
            " 14%|█▍        | 7/50 [03:12<17:58, 25.07s/it]"
          ]
        },
        {
          "name": "stdout",
          "output_type": "stream",
          "text": [
            "Epoch 8/50, Step 1000/1250, Loss: 0.2996\n"
          ]
        },
        {
          "name": "stderr",
          "output_type": "stream",
          "text": [
            " 16%|█▌        | 8/50 [03:21<17:41, 25.27s/it]"
          ]
        },
        {
          "name": "stdout",
          "output_type": "stream",
          "text": [
            "Epoch 8 completed. Train Loss: 0.3401 | Val Loss: 1.0136\n"
          ]
        },
        {
          "name": "stderr",
          "output_type": "stream",
          "text": [
            " 16%|█▌        | 8/50 [03:38<17:41, 25.27s/it]"
          ]
        },
        {
          "name": "stdout",
          "output_type": "stream",
          "text": [
            "Epoch 9/50, Step 1000/1250, Loss: 0.1819\n"
          ]
        },
        {
          "name": "stderr",
          "output_type": "stream",
          "text": [
            " 16%|█▌        | 8/50 [03:47<19:54, 28.44s/it]"
          ]
        },
        {
          "name": "stdout",
          "output_type": "stream",
          "text": [
            "Epoch 9 completed. Train Loss: 0.2706 | Val Loss: 1.1412\n",
            "Early stopping at epoch 9\n"
          ]
        },
        {
          "name": "stderr",
          "output_type": "stream",
          "text": [
            "\n"
          ]
        }
      ],
      "source": [
        "optimizer = optim.Adam(model1.parameters(), lr=learning_rate)\n",
        "criterion = nn.CrossEntropyLoss()\n",
        "\n",
        "trained_CNN, train_losses, val_losses = train_model(model1,\n",
        "                                                    train_loader,\n",
        "                                                    val_loader,\n",
        "                                                    criterion,\n",
        "                                                    optimizer,\n",
        "                                                    device,\n",
        "                                                    num_epochs,\n",
        "                                                    patience)"
      ]
    },
    {
      "cell_type": "markdown",
      "metadata": {
        "id": "C4fpOwP-x2qK"
      },
      "source": [
        "## Experiment 1 results"
      ]
    },
    {
      "cell_type": "code",
      "execution_count": null,
      "metadata": {
        "colab": {
          "base_uri": "https://localhost:8080/",
          "height": 474
        },
        "id": "YqhMWp0XIvsI",
        "outputId": "33af90ec-a233-49cc-f9c8-fa67a222f3ce"
      },
      "outputs": [
        {
          "data": {
            "image/png": "[encoded data removed]",
            "text/plain": [
              "<Figure size 640x480 with 1 Axes>"
            ]
          },
          "metadata": {},
          "output_type": "display_data"
        }
      ],
      "source": [
        "plotLoss(train_losses, val_losses)"
      ]
    },
    {
      "cell_type": "code",
      "execution_count": null,
      "metadata": {
        "id": "dQx13cEIIkq8"
      },
      "outputs": [],
      "source": [
        "torch.save(model1.state_dict(), \"model1_trained2.pth\")"
      ]
    },
    {
      "cell_type": "code",
      "execution_count": null,
      "metadata": {
        "colab": {
          "base_uri": "https://localhost:8080/"
        },
        "id": "qRV3scKkItpp",
        "outputId": "aa5c9f43-adaf-4437-9cbb-ce7a2bfc8e65"
      },
      "outputs": [
        {
          "data": {
            "text/plain": [
              "<All keys matched successfully>"
            ]
          },
          "execution_count": 22,
          "metadata": {},
          "output_type": "execute_result"
        }
      ],
      "source": [
        "device = torch.device(\"cuda\" if torch.cuda.is_available() else \"cpu\")\n",
        "\n",
        "model1 = FlexibleCNN(config1)\n",
        "model1.to(device)\n",
        "\n",
        "model1.load_state_dict(torch.load(\"model1_trained.pth\", weights_only=True))"
      ]
    },
    {
      "cell_type": "code",
      "execution_count": null,
      "metadata": {
        "colab": {
          "base_uri": "https://localhost:8080/"
        },
        "id": "lw6GWhmer78h",
        "outputId": "57f1f054-a88f-4350-9a51-997845807372"
      },
      "outputs": [
        {
          "name": "stdout",
          "output_type": "stream",
          "text": [
            "Scores of your model\n",
            " {'accuracy': 0.6834, 'balanced_accuracy': 0.6834, 'precision': 0.6817896719656583, 'recall': 0.6834, 'f1_score': 0.6813534982457458}\n"
          ]
        }
      ],
      "source": [
        "#@title Evaluate model (accuracy, precision, recall, etc)\n",
        "labels, predictions = makePredictions(model1, test_loader)\n",
        "\n",
        "scores = get_scores(labels, predictions)\n",
        "print(\"Scores of your model\\n\", scores)"
      ]
    },
    {
      "cell_type": "markdown",
      "metadata": {
        "id": "Y6BaWVc2x2qK"
      },
      "source": [
        "Scores of your model\n",
        " {'accuracy': 0.6834, 'balanced_accuracy': 0.6834, 'precision': 0.6817896719656583, 'recall': 0.6834, 'f1_score': 0.6813534982457458}\n"
      ]
    },
    {
      "cell_type": "code",
      "execution_count": null,
      "metadata": {
        "id": "s5QO-xXix2qK",
        "outputId": "45ff196e-b72d-4cc4-c096-7fd3aff0a2bd"
      },
      "outputs": [
        {
          "data": {
            "image/png": "[encoded data removed]",
            "text/plain": [
              "<Figure size 640x480 with 2 Axes>"
            ]
          },
          "metadata": {},
          "output_type": "display_data"
        }
      ],
      "source": [
        "# Lista com nomes das classes (exemplo para CIFAR-10)\n",
        "class_names = ['airplane', 'automobile', 'bird', 'cat', 'deer',\n",
        "               'dog', 'frog', 'horse', 'ship', 'truck']\n",
        "\n",
        "cm = confusion_matrix(labels, predictions)\n",
        "\n",
        "# Plotar a matriz de confusão\n",
        "disp = ConfusionMatrixDisplay(confusion_matrix=cm,\n",
        "                              display_labels=class_names)\n",
        "disp.plot(cmap=plt.cm.Blues, xticks_rotation=45)  # pode mudar o colormap se quiser\n",
        "plt.title(\"Matriz de Confusão\")\n",
        "plt.show()"
      ]
    },
    {
      "cell_type": "markdown",
      "metadata": {
        "id": "vaQKQ4xDx2qL"
      },
      "source": [
        "## Experiment 2"
      ]
    },
    {
      "cell_type": "markdown",
      "metadata": {
        "id": "R-7B57KIx2qL"
      },
      "source": [
        "Diminuir o learning rate"
      ]
    },
    {
      "cell_type": "code",
      "execution_count": null,
      "metadata": {
        "id": "AAmzmyzfx2qL"
      },
      "outputs": [],
      "source": [
        "learning_rate = 0.0001\n",
        "num_epochs = 50\n",
        "batch_size = 32\n",
        "patience = 5\n",
        "\n",
        "train_loader, val_loader, test_loader = makeLoaders(batch_size)"
      ]
    },
    {
      "cell_type": "code",
      "execution_count": null,
      "metadata": {
        "id": "5bq7yZZ1x2qL"
      },
      "outputs": [],
      "source": [
        "config1 = {\n",
        "    'conv_layers': [\n",
        "        (32, 3, 1, 1),\n",
        "        (64, 3, 1, 1)\n",
        "    ],\n",
        "    'pool_kernel_size': 2,\n",
        "    'pool_stride': 2,\n",
        "    'fc_layers': [\n",
        "        (120, 0.0),\n",
        "        (84, 0.0)\n",
        "    ],\n",
        "    'output_size': 10\n",
        "}\n",
        "\n",
        "# Criando o modelo\n",
        "model2 = FlexibleCNN(config1)\n",
        "\n",
        "optimizer = optim.Adam(model2.parameters(), lr=learning_rate)\n",
        "criterion = nn.CrossEntropyLoss()"
      ]
    },
    {
      "cell_type": "code",
      "execution_count": null,
      "metadata": {
        "id": "--IoFYnsx2qL",
        "outputId": "da889d5e-a476-4a58-f603-85e83e1b9f1e"
      },
      "outputs": [
        {
          "name": "stderr",
          "output_type": "stream",
          "text": [
            "  0%|          | 0/50 [00:12<?, ?it/s]"
          ]
        },
        {
          "name": "stdout",
          "output_type": "stream",
          "text": [
            "Epoch 1/50, Step 1000/1250, Loss: 1.5811\n"
          ]
        },
        {
          "name": "stderr",
          "output_type": "stream",
          "text": [
            "  2%|▏         | 1/50 [00:17<14:33, 17.83s/it]"
          ]
        },
        {
          "name": "stdout",
          "output_type": "stream",
          "text": [
            "Epoch 1 completed. Train Loss: 1.7610 | Val Loss: 1.5436\n"
          ]
        },
        {
          "name": "stderr",
          "output_type": "stream",
          "text": [
            "  2%|▏         | 1/50 [00:29<14:33, 17.83s/it]"
          ]
        },
        {
          "name": "stdout",
          "output_type": "stream",
          "text": [
            "Epoch 2/50, Step 1000/1250, Loss: 1.3359\n"
          ]
        },
        {
          "name": "stderr",
          "output_type": "stream",
          "text": [
            "  4%|▍         | 2/50 [00:34<13:49, 17.29s/it]"
          ]
        },
        {
          "name": "stdout",
          "output_type": "stream",
          "text": [
            "Epoch 2 completed. Train Loss: 1.4540 | Val Loss: 1.3899\n"
          ]
        },
        {
          "name": "stderr",
          "output_type": "stream",
          "text": [
            "  4%|▍         | 2/50 [00:45<13:49, 17.29s/it]"
          ]
        },
        {
          "name": "stdout",
          "output_type": "stream",
          "text": [
            "Epoch 3/50, Step 1000/1250, Loss: 1.2491\n"
          ]
        },
        {
          "name": "stderr",
          "output_type": "stream",
          "text": [
            "  6%|▌         | 3/50 [00:51<13:23, 17.09s/it]"
          ]
        },
        {
          "name": "stdout",
          "output_type": "stream",
          "text": [
            "Epoch 3 completed. Train Loss: 1.3465 | Val Loss: 1.3112\n"
          ]
        },
        {
          "name": "stderr",
          "output_type": "stream",
          "text": [
            "  6%|▌         | 3/50 [01:03<13:23, 17.09s/it]"
          ]
        },
        {
          "name": "stdout",
          "output_type": "stream",
          "text": [
            "Epoch 4/50, Step 1000/1250, Loss: 1.4880\n"
          ]
        },
        {
          "name": "stderr",
          "output_type": "stream",
          "text": [
            "  8%|▊         | 4/50 [01:08<13:06, 17.09s/it]"
          ]
        },
        {
          "name": "stdout",
          "output_type": "stream",
          "text": [
            "Epoch 4 completed. Train Loss: 1.2668 | Val Loss: 1.2551\n"
          ]
        },
        {
          "name": "stderr",
          "output_type": "stream",
          "text": [
            "  8%|▊         | 4/50 [01:19<13:06, 17.09s/it]"
          ]
        },
        {
          "name": "stdout",
          "output_type": "stream",
          "text": [
            "Epoch 5/50, Step 1000/1250, Loss: 0.7146\n"
          ]
        },
        {
          "name": "stderr",
          "output_type": "stream",
          "text": [
            " 10%|█         | 5/50 [01:25<12:47, 17.05s/it]"
          ]
        },
        {
          "name": "stdout",
          "output_type": "stream",
          "text": [
            "Epoch 5 completed. Train Loss: 1.2023 | Val Loss: 1.1940\n"
          ]
        },
        {
          "name": "stderr",
          "output_type": "stream",
          "text": [
            " 10%|█         | 5/50 [01:37<12:47, 17.05s/it]"
          ]
        },
        {
          "name": "stdout",
          "output_type": "stream",
          "text": [
            "Epoch 6/50, Step 1000/1250, Loss: 0.9474\n"
          ]
        },
        {
          "name": "stderr",
          "output_type": "stream",
          "text": [
            " 12%|█▏        | 6/50 [01:42<12:30, 17.05s/it]"
          ]
        },
        {
          "name": "stdout",
          "output_type": "stream",
          "text": [
            "Epoch 6 completed. Train Loss: 1.1465 | Val Loss: 1.1402\n"
          ]
        },
        {
          "name": "stderr",
          "output_type": "stream",
          "text": [
            " 12%|█▏        | 6/50 [01:54<12:30, 17.05s/it]"
          ]
        },
        {
          "name": "stdout",
          "output_type": "stream",
          "text": [
            "Epoch 7/50, Step 1000/1250, Loss: 0.8789\n"
          ]
        },
        {
          "name": "stderr",
          "output_type": "stream",
          "text": [
            " 14%|█▍        | 7/50 [01:59<12:15, 17.10s/it]"
          ]
        },
        {
          "name": "stdout",
          "output_type": "stream",
          "text": [
            "Epoch 7 completed. Train Loss: 1.0930 | Val Loss: 1.1132\n"
          ]
        },
        {
          "name": "stderr",
          "output_type": "stream",
          "text": [
            " 14%|█▍        | 7/50 [02:11<12:15, 17.10s/it]"
          ]
        },
        {
          "name": "stdout",
          "output_type": "stream",
          "text": [
            "Epoch 8/50, Step 1000/1250, Loss: 0.9707\n"
          ]
        },
        {
          "name": "stderr",
          "output_type": "stream",
          "text": [
            " 16%|█▌        | 8/50 [02:16<11:54, 17.01s/it]"
          ]
        },
        {
          "name": "stdout",
          "output_type": "stream",
          "text": [
            "Epoch 8 completed. Train Loss: 1.0452 | Val Loss: 1.0843\n"
          ]
        },
        {
          "name": "stderr",
          "output_type": "stream",
          "text": [
            " 16%|█▌        | 8/50 [02:28<11:54, 17.01s/it]"
          ]
        },
        {
          "name": "stdout",
          "output_type": "stream",
          "text": [
            "Epoch 9/50, Step 1000/1250, Loss: 0.6057\n"
          ]
        },
        {
          "name": "stderr",
          "output_type": "stream",
          "text": [
            " 18%|█▊        | 9/50 [02:33<11:38, 17.03s/it]"
          ]
        },
        {
          "name": "stdout",
          "output_type": "stream",
          "text": [
            "Epoch 9 completed. Train Loss: 1.0034 | Val Loss: 1.0469\n"
          ]
        },
        {
          "name": "stderr",
          "output_type": "stream",
          "text": [
            " 18%|█▊        | 9/50 [02:45<11:38, 17.03s/it]"
          ]
        },
        {
          "name": "stdout",
          "output_type": "stream",
          "text": [
            "Epoch 10/50, Step 1000/1250, Loss: 1.3411\n"
          ]
        },
        {
          "name": "stderr",
          "output_type": "stream",
          "text": [
            " 20%|██        | 10/50 [02:50<11:21, 17.04s/it]"
          ]
        },
        {
          "name": "stdout",
          "output_type": "stream",
          "text": [
            "Epoch 10 completed. Train Loss: 0.9646 | Val Loss: 1.0307\n"
          ]
        },
        {
          "name": "stderr",
          "output_type": "stream",
          "text": [
            " 20%|██        | 10/50 [03:02<11:21, 17.04s/it]"
          ]
        },
        {
          "name": "stdout",
          "output_type": "stream",
          "text": [
            "Epoch 11/50, Step 1000/1250, Loss: 0.9521\n"
          ]
        },
        {
          "name": "stderr",
          "output_type": "stream",
          "text": [
            " 22%|██▏       | 11/50 [03:07<11:02, 16.98s/it]"
          ]
        },
        {
          "name": "stdout",
          "output_type": "stream",
          "text": [
            "Epoch 11 completed. Train Loss: 0.9273 | Val Loss: 0.9976\n"
          ]
        },
        {
          "name": "stderr",
          "output_type": "stream",
          "text": [
            " 22%|██▏       | 11/50 [03:18<11:02, 16.98s/it]"
          ]
        },
        {
          "name": "stdout",
          "output_type": "stream",
          "text": [
            "Epoch 12/50, Step 1000/1250, Loss: 0.6940\n"
          ]
        },
        {
          "name": "stderr",
          "output_type": "stream",
          "text": [
            " 24%|██▍       | 12/50 [03:24<10:44, 16.96s/it]"
          ]
        },
        {
          "name": "stdout",
          "output_type": "stream",
          "text": [
            "Epoch 12 completed. Train Loss: 0.8947 | Val Loss: 0.9962\n"
          ]
        },
        {
          "name": "stderr",
          "output_type": "stream",
          "text": [
            " 24%|██▍       | 12/50 [03:35<10:44, 16.96s/it]"
          ]
        },
        {
          "name": "stdout",
          "output_type": "stream",
          "text": [
            "Epoch 13/50, Step 1000/1250, Loss: 0.7141\n"
          ]
        },
        {
          "name": "stderr",
          "output_type": "stream",
          "text": [
            " 26%|██▌       | 13/50 [03:41<10:26, 16.94s/it]"
          ]
        },
        {
          "name": "stdout",
          "output_type": "stream",
          "text": [
            "Epoch 13 completed. Train Loss: 0.8645 | Val Loss: 0.9651\n"
          ]
        },
        {
          "name": "stderr",
          "output_type": "stream",
          "text": [
            " 26%|██▌       | 13/50 [03:52<10:26, 16.94s/it]"
          ]
        },
        {
          "name": "stdout",
          "output_type": "stream",
          "text": [
            "Epoch 14/50, Step 1000/1250, Loss: 0.6127\n"
          ]
        },
        {
          "name": "stderr",
          "output_type": "stream",
          "text": [
            " 28%|██▊       | 14/50 [03:58<10:10, 16.95s/it]"
          ]
        },
        {
          "name": "stdout",
          "output_type": "stream",
          "text": [
            "Epoch 14 completed. Train Loss: 0.8354 | Val Loss: 0.9561\n"
          ]
        },
        {
          "name": "stderr",
          "output_type": "stream",
          "text": [
            " 28%|██▊       | 14/50 [04:09<10:10, 16.95s/it]"
          ]
        },
        {
          "name": "stdout",
          "output_type": "stream",
          "text": [
            "Epoch 15/50, Step 1000/1250, Loss: 0.7730\n"
          ]
        },
        {
          "name": "stderr",
          "output_type": "stream",
          "text": [
            " 30%|███       | 15/50 [04:15<09:51, 16.91s/it]"
          ]
        },
        {
          "name": "stdout",
          "output_type": "stream",
          "text": [
            "Epoch 15 completed. Train Loss: 0.8086 | Val Loss: 0.9339\n"
          ]
        },
        {
          "name": "stderr",
          "output_type": "stream",
          "text": [
            " 30%|███       | 15/50 [04:26<09:51, 16.91s/it]"
          ]
        },
        {
          "name": "stdout",
          "output_type": "stream",
          "text": [
            "Epoch 16/50, Step 1000/1250, Loss: 0.5296\n"
          ]
        },
        {
          "name": "stderr",
          "output_type": "stream",
          "text": [
            " 32%|███▏      | 16/50 [04:32<09:34, 16.89s/it]"
          ]
        },
        {
          "name": "stdout",
          "output_type": "stream",
          "text": [
            "Epoch 16 completed. Train Loss: 0.7838 | Val Loss: 0.9557\n"
          ]
        },
        {
          "name": "stderr",
          "output_type": "stream",
          "text": [
            " 32%|███▏      | 16/50 [04:43<09:34, 16.89s/it]"
          ]
        },
        {
          "name": "stdout",
          "output_type": "stream",
          "text": [
            "Epoch 17/50, Step 1000/1250, Loss: 0.7410\n"
          ]
        },
        {
          "name": "stderr",
          "output_type": "stream",
          "text": [
            " 34%|███▍      | 17/50 [04:48<09:15, 16.85s/it]"
          ]
        },
        {
          "name": "stdout",
          "output_type": "stream",
          "text": [
            "Epoch 17 completed. Train Loss: 0.7591 | Val Loss: 0.9256\n"
          ]
        },
        {
          "name": "stderr",
          "output_type": "stream",
          "text": [
            " 34%|███▍      | 17/50 [05:00<09:15, 16.85s/it]"
          ]
        },
        {
          "name": "stdout",
          "output_type": "stream",
          "text": [
            "Epoch 18/50, Step 1000/1250, Loss: 0.6086\n"
          ]
        },
        {
          "name": "stderr",
          "output_type": "stream",
          "text": [
            " 36%|███▌      | 18/50 [05:05<08:59, 16.86s/it]"
          ]
        },
        {
          "name": "stdout",
          "output_type": "stream",
          "text": [
            "Epoch 18 completed. Train Loss: 0.7353 | Val Loss: 0.9160\n"
          ]
        },
        {
          "name": "stderr",
          "output_type": "stream",
          "text": [
            " 36%|███▌      | 18/50 [05:17<08:59, 16.86s/it]"
          ]
        },
        {
          "name": "stdout",
          "output_type": "stream",
          "text": [
            "Epoch 19/50, Step 1000/1250, Loss: 0.7741\n"
          ]
        },
        {
          "name": "stderr",
          "output_type": "stream",
          "text": [
            " 38%|███▊      | 19/50 [05:22<08:44, 16.90s/it]"
          ]
        },
        {
          "name": "stdout",
          "output_type": "stream",
          "text": [
            "Epoch 19 completed. Train Loss: 0.7118 | Val Loss: 0.9095\n"
          ]
        },
        {
          "name": "stderr",
          "output_type": "stream",
          "text": [
            " 38%|███▊      | 19/50 [05:34<08:44, 16.90s/it]"
          ]
        },
        {
          "name": "stdout",
          "output_type": "stream",
          "text": [
            "Epoch 20/50, Step 1000/1250, Loss: 0.5819\n"
          ]
        },
        {
          "name": "stderr",
          "output_type": "stream",
          "text": [
            " 40%|████      | 20/50 [05:39<08:27, 16.93s/it]"
          ]
        },
        {
          "name": "stdout",
          "output_type": "stream",
          "text": [
            "Epoch 20 completed. Train Loss: 0.6885 | Val Loss: 0.9085\n"
          ]
        },
        {
          "name": "stderr",
          "output_type": "stream",
          "text": [
            " 40%|████      | 20/50 [05:50<08:27, 16.93s/it]"
          ]
        },
        {
          "name": "stdout",
          "output_type": "stream",
          "text": [
            "Epoch 21/50, Step 1000/1250, Loss: 0.4198\n"
          ]
        },
        {
          "name": "stderr",
          "output_type": "stream",
          "text": [
            " 42%|████▏     | 21/50 [05:56<08:08, 16.84s/it]"
          ]
        },
        {
          "name": "stdout",
          "output_type": "stream",
          "text": [
            "Epoch 21 completed. Train Loss: 0.6658 | Val Loss: 0.9132\n"
          ]
        },
        {
          "name": "stderr",
          "output_type": "stream",
          "text": [
            " 42%|████▏     | 21/50 [06:07<08:08, 16.84s/it]"
          ]
        },
        {
          "name": "stdout",
          "output_type": "stream",
          "text": [
            "Epoch 22/50, Step 1000/1250, Loss: 0.7405\n"
          ]
        },
        {
          "name": "stderr",
          "output_type": "stream",
          "text": [
            " 44%|████▍     | 22/50 [06:13<07:51, 16.83s/it]"
          ]
        },
        {
          "name": "stdout",
          "output_type": "stream",
          "text": [
            "Epoch 22 completed. Train Loss: 0.6424 | Val Loss: 0.9077\n"
          ]
        },
        {
          "name": "stderr",
          "output_type": "stream",
          "text": [
            " 44%|████▍     | 22/50 [06:24<07:51, 16.83s/it]"
          ]
        },
        {
          "name": "stdout",
          "output_type": "stream",
          "text": [
            "Epoch 23/50, Step 1000/1250, Loss: 0.5145\n"
          ]
        },
        {
          "name": "stderr",
          "output_type": "stream",
          "text": [
            " 46%|████▌     | 23/50 [06:29<07:33, 16.78s/it]"
          ]
        },
        {
          "name": "stdout",
          "output_type": "stream",
          "text": [
            "Epoch 23 completed. Train Loss: 0.6228 | Val Loss: 0.9235\n"
          ]
        },
        {
          "name": "stderr",
          "output_type": "stream",
          "text": [
            " 46%|████▌     | 23/50 [06:41<07:33, 16.78s/it]"
          ]
        },
        {
          "name": "stdout",
          "output_type": "stream",
          "text": [
            "Epoch 24/50, Step 1000/1250, Loss: 0.8067\n"
          ]
        },
        {
          "name": "stderr",
          "output_type": "stream",
          "text": [
            " 48%|████▊     | 24/50 [06:46<07:15, 16.73s/it]"
          ]
        },
        {
          "name": "stdout",
          "output_type": "stream",
          "text": [
            "Epoch 24 completed. Train Loss: 0.6031 | Val Loss: 0.9059\n"
          ]
        },
        {
          "name": "stderr",
          "output_type": "stream",
          "text": [
            " 48%|████▊     | 24/50 [06:57<07:15, 16.73s/it]"
          ]
        },
        {
          "name": "stdout",
          "output_type": "stream",
          "text": [
            "Epoch 25/50, Step 1000/1250, Loss: 0.7158\n"
          ]
        },
        {
          "name": "stderr",
          "output_type": "stream",
          "text": [
            " 50%|█████     | 25/50 [07:03<06:57, 16.69s/it]"
          ]
        },
        {
          "name": "stdout",
          "output_type": "stream",
          "text": [
            "Epoch 25 completed. Train Loss: 0.5804 | Val Loss: 0.9079\n"
          ]
        },
        {
          "name": "stderr",
          "output_type": "stream",
          "text": [
            " 50%|█████     | 25/50 [07:14<06:57, 16.69s/it]"
          ]
        },
        {
          "name": "stdout",
          "output_type": "stream",
          "text": [
            "Epoch 26/50, Step 1000/1250, Loss: 0.5276\n"
          ]
        },
        {
          "name": "stderr",
          "output_type": "stream",
          "text": [
            " 52%|█████▏    | 26/50 [07:19<06:38, 16.61s/it]"
          ]
        },
        {
          "name": "stdout",
          "output_type": "stream",
          "text": [
            "Epoch 26 completed. Train Loss: 0.5591 | Val Loss: 0.9417\n"
          ]
        },
        {
          "name": "stderr",
          "output_type": "stream",
          "text": [
            " 52%|█████▏    | 26/50 [07:30<06:38, 16.61s/it]"
          ]
        },
        {
          "name": "stdout",
          "output_type": "stream",
          "text": [
            "Epoch 27/50, Step 1000/1250, Loss: 0.4083\n"
          ]
        },
        {
          "name": "stderr",
          "output_type": "stream",
          "text": [
            " 54%|█████▍    | 27/50 [07:36<06:22, 16.63s/it]"
          ]
        },
        {
          "name": "stdout",
          "output_type": "stream",
          "text": [
            "Epoch 27 completed. Train Loss: 0.5400 | Val Loss: 0.9326\n"
          ]
        },
        {
          "name": "stderr",
          "output_type": "stream",
          "text": [
            " 54%|█████▍    | 27/50 [07:47<06:22, 16.63s/it]"
          ]
        },
        {
          "name": "stdout",
          "output_type": "stream",
          "text": [
            "Epoch 28/50, Step 1000/1250, Loss: 0.5458\n"
          ]
        },
        {
          "name": "stderr",
          "output_type": "stream",
          "text": [
            " 56%|█████▌    | 28/50 [07:53<06:07, 16.71s/it]"
          ]
        },
        {
          "name": "stdout",
          "output_type": "stream",
          "text": [
            "Epoch 28 completed. Train Loss: 0.5194 | Val Loss: 0.9589\n"
          ]
        },
        {
          "name": "stderr",
          "output_type": "stream",
          "text": [
            " 56%|█████▌    | 28/50 [08:04<06:07, 16.71s/it]"
          ]
        },
        {
          "name": "stdout",
          "output_type": "stream",
          "text": [
            "Epoch 29/50, Step 1000/1250, Loss: 0.6419\n"
          ]
        },
        {
          "name": "stderr",
          "output_type": "stream",
          "text": [
            " 56%|█████▌    | 28/50 [08:10<06:25, 17.51s/it]"
          ]
        },
        {
          "name": "stdout",
          "output_type": "stream",
          "text": [
            "Epoch 29 completed. Train Loss: 0.4981 | Val Loss: 0.9436\n",
            "Early stopping at epoch 29\n"
          ]
        },
        {
          "name": "stderr",
          "output_type": "stream",
          "text": [
            "\n"
          ]
        }
      ],
      "source": [
        "trained_CNN, train_losses, val_losses = train_model(model2,\n",
        "                                                    train_loader,\n",
        "                                                    val_loader,\n",
        "                                                    criterion,\n",
        "                                                    optimizer,\n",
        "                                                    device,\n",
        "                                                    num_epochs,\n",
        "                                                    patience)"
      ]
    },
    {
      "cell_type": "code",
      "execution_count": null,
      "metadata": {
        "id": "P3L5Pixlx2qL",
        "outputId": "8793b168-314b-404d-fa02-456ea38ea887"
      },
      "outputs": [
        {
          "data": {
            "image/png": "[encoded data removed]",
            "text/plain": [
              "<Figure size 640x480 with 1 Axes>"
            ]
          },
          "metadata": {},
          "output_type": "display_data"
        }
      ],
      "source": [
        "plotLoss(train_losses, val_losses)"
      ]
    },
    {
      "cell_type": "code",
      "execution_count": null,
      "metadata": {
        "id": "5ffSas_ix2qP",
        "outputId": "227ee02c-3fd2-4a97-c4a1-98dd00fe3785"
      },
      "outputs": [
        {
          "name": "stdout",
          "output_type": "stream",
          "text": [
            "Scores of your model\n",
            " {'accuracy': 0.6932, 'balanced_accuracy': 0.6931999999999999, 'precision': 0.6954373416965544, 'recall': 0.6932, 'f1_score': 0.6913819540778005}\n"
          ]
        }
      ],
      "source": [
        "labels, predictions = makePredictions(model2, test_loader)\n",
        "\n",
        "scores = get_scores(labels, predictions)\n",
        "print(\"Scores of your model\\n\", scores)"
      ]
    },
    {
      "cell_type": "markdown",
      "metadata": {
        "id": "2yZVu4knx2qP"
      },
      "source": [
        "## Experiment 3"
      ]
    },
    {
      "cell_type": "markdown",
      "metadata": {
        "id": "aHe1hy_-x2qP"
      },
      "source": [
        "Adicionar dropout para diminuir o overfitting"
      ]
    },
    {
      "cell_type": "code",
      "execution_count": null,
      "metadata": {
        "id": "BAdP0ncsx2qP"
      },
      "outputs": [],
      "source": [
        "learning_rate = 0.0001\n",
        "num_epochs = 50\n",
        "batch_size = 32\n",
        "patience = 5\n",
        "\n",
        "train_loader, val_loader, test_loader = makeLoaders(batch_size)"
      ]
    },
    {
      "cell_type": "code",
      "execution_count": null,
      "metadata": {
        "id": "UethepI9x2qP"
      },
      "outputs": [],
      "source": [
        "config2 = {\n",
        "    'conv_layers': [\n",
        "        (32, 3, 1, 1),\n",
        "        (64, 3, 1, 1)\n",
        "    ],\n",
        "    'pool_kernel_size': 2,\n",
        "    'pool_stride': 2,\n",
        "    'fc_layers': [\n",
        "        (120, 0.2),\n",
        "        (84, 0.2)\n",
        "    ],\n",
        "    'output_size': 10\n",
        "}\n",
        "\n",
        "# Criando o modelo\n",
        "model3 = FlexibleCNN(config2)\n",
        "\n",
        "optimizer = optim.Adam(model3.parameters(), lr=learning_rate)\n",
        "criterion = nn.CrossEntropyLoss()"
      ]
    },
    {
      "cell_type": "code",
      "execution_count": null,
      "metadata": {
        "id": "R4AcH7Hux2qP",
        "outputId": "9f6d308f-9583-439a-cc1c-949c4a75e567"
      },
      "outputs": [
        {
          "name": "stderr",
          "output_type": "stream",
          "text": [
            "  0%|          | 0/50 [00:11<?, ?it/s]"
          ]
        },
        {
          "name": "stdout",
          "output_type": "stream",
          "text": [
            "Epoch 1/50, Step 1000/1250, Loss: 1.5667\n"
          ]
        },
        {
          "name": "stderr",
          "output_type": "stream",
          "text": [
            "  2%|▏         | 1/50 [00:16<13:48, 16.90s/it]"
          ]
        },
        {
          "name": "stdout",
          "output_type": "stream",
          "text": [
            "Epoch 1 completed. Train Loss: 1.8439 | Val Loss: 1.5538\n"
          ]
        },
        {
          "name": "stderr",
          "output_type": "stream",
          "text": [
            "  2%|▏         | 1/50 [00:28<13:48, 16.90s/it]"
          ]
        },
        {
          "name": "stdout",
          "output_type": "stream",
          "text": [
            "Epoch 2/50, Step 1000/1250, Loss: 1.5844\n"
          ]
        },
        {
          "name": "stderr",
          "output_type": "stream",
          "text": [
            "  4%|▍         | 2/50 [00:34<13:56, 17.42s/it]"
          ]
        },
        {
          "name": "stdout",
          "output_type": "stream",
          "text": [
            "Epoch 2 completed. Train Loss: 1.5274 | Val Loss: 1.3970\n"
          ]
        },
        {
          "name": "stderr",
          "output_type": "stream",
          "text": [
            "  4%|▍         | 2/50 [00:46<13:56, 17.42s/it]"
          ]
        },
        {
          "name": "stdout",
          "output_type": "stream",
          "text": [
            "Epoch 3/50, Step 1000/1250, Loss: 1.2377\n"
          ]
        },
        {
          "name": "stderr",
          "output_type": "stream",
          "text": [
            "  6%|▌         | 3/50 [00:52<13:43, 17.52s/it]"
          ]
        },
        {
          "name": "stdout",
          "output_type": "stream",
          "text": [
            "Epoch 3 completed. Train Loss: 1.4188 | Val Loss: 1.3137\n"
          ]
        },
        {
          "name": "stderr",
          "output_type": "stream",
          "text": [
            "  6%|▌         | 3/50 [01:03<13:43, 17.52s/it]"
          ]
        },
        {
          "name": "stdout",
          "output_type": "stream",
          "text": [
            "Epoch 4/50, Step 1000/1250, Loss: 1.6308\n"
          ]
        },
        {
          "name": "stderr",
          "output_type": "stream",
          "text": [
            "  8%|▊         | 4/50 [01:09<13:19, 17.39s/it]"
          ]
        },
        {
          "name": "stdout",
          "output_type": "stream",
          "text": [
            "Epoch 4 completed. Train Loss: 1.3390 | Val Loss: 1.2548\n"
          ]
        },
        {
          "name": "stderr",
          "output_type": "stream",
          "text": [
            "  8%|▊         | 4/50 [01:20<13:19, 17.39s/it]"
          ]
        },
        {
          "name": "stdout",
          "output_type": "stream",
          "text": [
            "Epoch 5/50, Step 1000/1250, Loss: 1.3819\n"
          ]
        },
        {
          "name": "stderr",
          "output_type": "stream",
          "text": [
            " 10%|█         | 5/50 [01:26<12:50, 17.13s/it]"
          ]
        },
        {
          "name": "stdout",
          "output_type": "stream",
          "text": [
            "Epoch 5 completed. Train Loss: 1.2822 | Val Loss: 1.2287\n"
          ]
        },
        {
          "name": "stderr",
          "output_type": "stream",
          "text": [
            " 10%|█         | 5/50 [01:37<12:50, 17.13s/it]"
          ]
        },
        {
          "name": "stdout",
          "output_type": "stream",
          "text": [
            "Epoch 6/50, Step 1000/1250, Loss: 0.8351\n"
          ]
        },
        {
          "name": "stderr",
          "output_type": "stream",
          "text": [
            " 12%|█▏        | 6/50 [01:42<12:25, 16.94s/it]"
          ]
        },
        {
          "name": "stdout",
          "output_type": "stream",
          "text": [
            "Epoch 6 completed. Train Loss: 1.2266 | Val Loss: 1.1450\n"
          ]
        },
        {
          "name": "stderr",
          "output_type": "stream",
          "text": [
            " 12%|█▏        | 6/50 [01:53<12:25, 16.94s/it]"
          ]
        },
        {
          "name": "stdout",
          "output_type": "stream",
          "text": [
            "Epoch 7/50, Step 1000/1250, Loss: 1.5058\n"
          ]
        },
        {
          "name": "stderr",
          "output_type": "stream",
          "text": [
            " 14%|█▍        | 7/50 [01:59<12:04, 16.85s/it]"
          ]
        },
        {
          "name": "stdout",
          "output_type": "stream",
          "text": [
            "Epoch 7 completed. Train Loss: 1.1772 | Val Loss: 1.1295\n"
          ]
        },
        {
          "name": "stderr",
          "output_type": "stream",
          "text": [
            " 14%|█▍        | 7/50 [02:10<12:04, 16.85s/it]"
          ]
        },
        {
          "name": "stdout",
          "output_type": "stream",
          "text": [
            "Epoch 8/50, Step 1000/1250, Loss: 0.8592\n"
          ]
        },
        {
          "name": "stderr",
          "output_type": "stream",
          "text": [
            " 16%|█▌        | 8/50 [02:16<11:45, 16.79s/it]"
          ]
        },
        {
          "name": "stdout",
          "output_type": "stream",
          "text": [
            "Epoch 8 completed. Train Loss: 1.1342 | Val Loss: 1.0799\n"
          ]
        },
        {
          "name": "stderr",
          "output_type": "stream",
          "text": [
            " 16%|█▌        | 8/50 [02:27<11:45, 16.79s/it]"
          ]
        },
        {
          "name": "stdout",
          "output_type": "stream",
          "text": [
            "Epoch 9/50, Step 1000/1250, Loss: 1.2255\n"
          ]
        },
        {
          "name": "stderr",
          "output_type": "stream",
          "text": [
            " 18%|█▊        | 9/50 [02:32<11:24, 16.70s/it]"
          ]
        },
        {
          "name": "stdout",
          "output_type": "stream",
          "text": [
            "Epoch 9 completed. Train Loss: 1.0939 | Val Loss: 1.0429\n"
          ]
        },
        {
          "name": "stderr",
          "output_type": "stream",
          "text": [
            " 18%|█▊        | 9/50 [02:43<11:24, 16.70s/it]"
          ]
        },
        {
          "name": "stdout",
          "output_type": "stream",
          "text": [
            "Epoch 10/50, Step 1000/1250, Loss: 0.9510\n"
          ]
        },
        {
          "name": "stderr",
          "output_type": "stream",
          "text": [
            " 20%|██        | 10/50 [02:48<11:03, 16.60s/it]"
          ]
        },
        {
          "name": "stdout",
          "output_type": "stream",
          "text": [
            "Epoch 10 completed. Train Loss: 1.0574 | Val Loss: 1.0479\n"
          ]
        },
        {
          "name": "stderr",
          "output_type": "stream",
          "text": [
            " 20%|██        | 10/50 [02:59<11:03, 16.60s/it]"
          ]
        },
        {
          "name": "stdout",
          "output_type": "stream",
          "text": [
            "Epoch 11/50, Step 1000/1250, Loss: 0.8078\n"
          ]
        },
        {
          "name": "stderr",
          "output_type": "stream",
          "text": [
            " 22%|██▏       | 11/50 [03:05<10:45, 16.54s/it]"
          ]
        },
        {
          "name": "stdout",
          "output_type": "stream",
          "text": [
            "Epoch 11 completed. Train Loss: 1.0225 | Val Loss: 1.0002\n"
          ]
        },
        {
          "name": "stderr",
          "output_type": "stream",
          "text": [
            " 22%|██▏       | 11/50 [03:16<10:45, 16.54s/it]"
          ]
        },
        {
          "name": "stdout",
          "output_type": "stream",
          "text": [
            "Epoch 12/50, Step 1000/1250, Loss: 0.4551\n"
          ]
        },
        {
          "name": "stderr",
          "output_type": "stream",
          "text": [
            " 24%|██▍       | 12/50 [03:21<10:28, 16.54s/it]"
          ]
        },
        {
          "name": "stdout",
          "output_type": "stream",
          "text": [
            "Epoch 12 completed. Train Loss: 0.9875 | Val Loss: 0.9871\n"
          ]
        },
        {
          "name": "stderr",
          "output_type": "stream",
          "text": [
            " 24%|██▍       | 12/50 [03:32<10:28, 16.54s/it]"
          ]
        },
        {
          "name": "stdout",
          "output_type": "stream",
          "text": [
            "Epoch 13/50, Step 1000/1250, Loss: 0.9081\n"
          ]
        },
        {
          "name": "stderr",
          "output_type": "stream",
          "text": [
            " 26%|██▌       | 13/50 [03:38<10:12, 16.55s/it]"
          ]
        },
        {
          "name": "stdout",
          "output_type": "stream",
          "text": [
            "Epoch 13 completed. Train Loss: 0.9626 | Val Loss: 0.9662\n"
          ]
        },
        {
          "name": "stderr",
          "output_type": "stream",
          "text": [
            " 26%|██▌       | 13/50 [03:50<10:12, 16.55s/it]"
          ]
        },
        {
          "name": "stdout",
          "output_type": "stream",
          "text": [
            "Epoch 14/50, Step 1000/1250, Loss: 0.7623\n"
          ]
        },
        {
          "name": "stderr",
          "output_type": "stream",
          "text": [
            " 28%|██▊       | 14/50 [03:55<10:05, 16.81s/it]"
          ]
        },
        {
          "name": "stdout",
          "output_type": "stream",
          "text": [
            "Epoch 14 completed. Train Loss: 0.9323 | Val Loss: 0.9660\n"
          ]
        },
        {
          "name": "stderr",
          "output_type": "stream",
          "text": [
            " 28%|██▊       | 14/50 [04:07<10:05, 16.81s/it]"
          ]
        },
        {
          "name": "stdout",
          "output_type": "stream",
          "text": [
            "Epoch 15/50, Step 1000/1250, Loss: 1.0897\n"
          ]
        },
        {
          "name": "stderr",
          "output_type": "stream",
          "text": [
            " 30%|███       | 15/50 [04:13<09:51, 16.91s/it]"
          ]
        },
        {
          "name": "stdout",
          "output_type": "stream",
          "text": [
            "Epoch 15 completed. Train Loss: 0.9029 | Val Loss: 0.9334\n"
          ]
        },
        {
          "name": "stderr",
          "output_type": "stream",
          "text": [
            " 30%|███       | 15/50 [04:24<09:51, 16.91s/it]"
          ]
        },
        {
          "name": "stdout",
          "output_type": "stream",
          "text": [
            "Epoch 16/50, Step 1000/1250, Loss: 0.6132\n"
          ]
        },
        {
          "name": "stderr",
          "output_type": "stream",
          "text": [
            " 32%|███▏      | 16/50 [04:30<09:35, 16.94s/it]"
          ]
        },
        {
          "name": "stdout",
          "output_type": "stream",
          "text": [
            "Epoch 16 completed. Train Loss: 0.8810 | Val Loss: 0.9370\n"
          ]
        },
        {
          "name": "stderr",
          "output_type": "stream",
          "text": [
            " 32%|███▏      | 16/50 [04:41<09:35, 16.94s/it]"
          ]
        },
        {
          "name": "stdout",
          "output_type": "stream",
          "text": [
            "Epoch 17/50, Step 1000/1250, Loss: 0.9251\n"
          ]
        },
        {
          "name": "stderr",
          "output_type": "stream",
          "text": [
            " 34%|███▍      | 17/50 [04:46<09:14, 16.81s/it]"
          ]
        },
        {
          "name": "stdout",
          "output_type": "stream",
          "text": [
            "Epoch 17 completed. Train Loss: 0.8574 | Val Loss: 0.9103\n"
          ]
        },
        {
          "name": "stderr",
          "output_type": "stream",
          "text": [
            " 34%|███▍      | 17/50 [04:57<09:14, 16.81s/it]"
          ]
        },
        {
          "name": "stdout",
          "output_type": "stream",
          "text": [
            "Epoch 18/50, Step 1000/1250, Loss: 1.1147\n"
          ]
        },
        {
          "name": "stderr",
          "output_type": "stream",
          "text": [
            " 36%|███▌      | 18/50 [05:03<08:55, 16.75s/it]"
          ]
        },
        {
          "name": "stdout",
          "output_type": "stream",
          "text": [
            "Epoch 18 completed. Train Loss: 0.8294 | Val Loss: 0.9036\n"
          ]
        },
        {
          "name": "stderr",
          "output_type": "stream",
          "text": [
            " 36%|███▌      | 18/50 [05:14<08:55, 16.75s/it]"
          ]
        },
        {
          "name": "stdout",
          "output_type": "stream",
          "text": [
            "Epoch 19/50, Step 1000/1250, Loss: 0.8921\n"
          ]
        },
        {
          "name": "stderr",
          "output_type": "stream",
          "text": [
            " 38%|███▊      | 19/50 [05:19<08:37, 16.70s/it]"
          ]
        },
        {
          "name": "stdout",
          "output_type": "stream",
          "text": [
            "Epoch 19 completed. Train Loss: 0.8092 | Val Loss: 0.9028\n"
          ]
        },
        {
          "name": "stderr",
          "output_type": "stream",
          "text": [
            " 38%|███▊      | 19/50 [05:30<08:37, 16.70s/it]"
          ]
        },
        {
          "name": "stdout",
          "output_type": "stream",
          "text": [
            "Epoch 20/50, Step 1000/1250, Loss: 0.7207\n"
          ]
        },
        {
          "name": "stderr",
          "output_type": "stream",
          "text": [
            " 40%|████      | 20/50 [05:36<08:18, 16.63s/it]"
          ]
        },
        {
          "name": "stdout",
          "output_type": "stream",
          "text": [
            "Epoch 20 completed. Train Loss: 0.7909 | Val Loss: 0.8880\n"
          ]
        },
        {
          "name": "stderr",
          "output_type": "stream",
          "text": [
            " 40%|████      | 20/50 [05:47<08:18, 16.63s/it]"
          ]
        },
        {
          "name": "stdout",
          "output_type": "stream",
          "text": [
            "Epoch 21/50, Step 1000/1250, Loss: 0.7204\n"
          ]
        },
        {
          "name": "stderr",
          "output_type": "stream",
          "text": [
            " 42%|████▏     | 21/50 [05:52<07:59, 16.55s/it]"
          ]
        },
        {
          "name": "stdout",
          "output_type": "stream",
          "text": [
            "Epoch 21 completed. Train Loss: 0.7675 | Val Loss: 0.8917\n"
          ]
        },
        {
          "name": "stderr",
          "output_type": "stream",
          "text": [
            " 42%|████▏     | 21/50 [06:03<07:59, 16.55s/it]"
          ]
        },
        {
          "name": "stdout",
          "output_type": "stream",
          "text": [
            "Epoch 22/50, Step 1000/1250, Loss: 0.8035\n"
          ]
        },
        {
          "name": "stderr",
          "output_type": "stream",
          "text": [
            " 44%|████▍     | 22/50 [06:08<07:40, 16.46s/it]"
          ]
        },
        {
          "name": "stdout",
          "output_type": "stream",
          "text": [
            "Epoch 22 completed. Train Loss: 0.7499 | Val Loss: 0.8733\n"
          ]
        },
        {
          "name": "stderr",
          "output_type": "stream",
          "text": [
            " 44%|████▍     | 22/50 [06:19<07:40, 16.46s/it]"
          ]
        },
        {
          "name": "stdout",
          "output_type": "stream",
          "text": [
            "Epoch 23/50, Step 1000/1250, Loss: 0.7199\n"
          ]
        },
        {
          "name": "stderr",
          "output_type": "stream",
          "text": [
            " 46%|████▌     | 23/50 [06:25<07:24, 16.47s/it]"
          ]
        },
        {
          "name": "stdout",
          "output_type": "stream",
          "text": [
            "Epoch 23 completed. Train Loss: 0.7220 | Val Loss: 0.8768\n"
          ]
        },
        {
          "name": "stderr",
          "output_type": "stream",
          "text": [
            " 46%|████▌     | 23/50 [06:36<07:24, 16.47s/it]"
          ]
        },
        {
          "name": "stdout",
          "output_type": "stream",
          "text": [
            "Epoch 24/50, Step 1000/1250, Loss: 0.6686\n"
          ]
        },
        {
          "name": "stderr",
          "output_type": "stream",
          "text": [
            " 48%|████▊     | 24/50 [06:41<07:09, 16.53s/it]"
          ]
        },
        {
          "name": "stdout",
          "output_type": "stream",
          "text": [
            "Epoch 24 completed. Train Loss: 0.7071 | Val Loss: 0.8726\n"
          ]
        },
        {
          "name": "stderr",
          "output_type": "stream",
          "text": [
            " 48%|████▊     | 24/50 [06:52<07:09, 16.53s/it]"
          ]
        },
        {
          "name": "stdout",
          "output_type": "stream",
          "text": [
            "Epoch 25/50, Step 1000/1250, Loss: 0.4286\n"
          ]
        },
        {
          "name": "stderr",
          "output_type": "stream",
          "text": [
            " 50%|█████     | 25/50 [06:58<06:52, 16.48s/it]"
          ]
        },
        {
          "name": "stdout",
          "output_type": "stream",
          "text": [
            "Epoch 25 completed. Train Loss: 0.6893 | Val Loss: 0.8862\n"
          ]
        },
        {
          "name": "stderr",
          "output_type": "stream",
          "text": [
            " 50%|█████     | 25/50 [07:09<06:52, 16.48s/it]"
          ]
        },
        {
          "name": "stdout",
          "output_type": "stream",
          "text": [
            "Epoch 26/50, Step 1000/1250, Loss: 0.7701\n"
          ]
        },
        {
          "name": "stderr",
          "output_type": "stream",
          "text": [
            " 52%|█████▏    | 26/50 [07:14<06:33, 16.41s/it]"
          ]
        },
        {
          "name": "stdout",
          "output_type": "stream",
          "text": [
            "Epoch 26 completed. Train Loss: 0.6696 | Val Loss: 0.8701\n"
          ]
        },
        {
          "name": "stderr",
          "output_type": "stream",
          "text": [
            " 52%|█████▏    | 26/50 [07:25<06:33, 16.41s/it]"
          ]
        },
        {
          "name": "stdout",
          "output_type": "stream",
          "text": [
            "Epoch 27/50, Step 1000/1250, Loss: 0.7747\n"
          ]
        },
        {
          "name": "stderr",
          "output_type": "stream",
          "text": [
            " 54%|█████▍    | 27/50 [07:30<06:16, 16.37s/it]"
          ]
        },
        {
          "name": "stdout",
          "output_type": "stream",
          "text": [
            "Epoch 27 completed. Train Loss: 0.6426 | Val Loss: 0.8682\n"
          ]
        },
        {
          "name": "stderr",
          "output_type": "stream",
          "text": [
            " 54%|█████▍    | 27/50 [07:41<06:16, 16.37s/it]"
          ]
        },
        {
          "name": "stdout",
          "output_type": "stream",
          "text": [
            "Epoch 28/50, Step 1000/1250, Loss: 0.7360\n"
          ]
        },
        {
          "name": "stderr",
          "output_type": "stream",
          "text": [
            " 56%|█████▌    | 28/50 [07:47<06:01, 16.43s/it]"
          ]
        },
        {
          "name": "stdout",
          "output_type": "stream",
          "text": [
            "Epoch 28 completed. Train Loss: 0.6297 | Val Loss: 0.8665\n"
          ]
        },
        {
          "name": "stderr",
          "output_type": "stream",
          "text": [
            " 56%|█████▌    | 28/50 [07:58<06:01, 16.43s/it]"
          ]
        },
        {
          "name": "stdout",
          "output_type": "stream",
          "text": [
            "Epoch 29/50, Step 1000/1250, Loss: 0.6490\n"
          ]
        },
        {
          "name": "stderr",
          "output_type": "stream",
          "text": [
            " 58%|█████▊    | 29/50 [08:04<05:46, 16.50s/it]"
          ]
        },
        {
          "name": "stdout",
          "output_type": "stream",
          "text": [
            "Epoch 29 completed. Train Loss: 0.6093 | Val Loss: 0.8647\n"
          ]
        },
        {
          "name": "stderr",
          "output_type": "stream",
          "text": [
            " 58%|█████▊    | 29/50 [08:15<05:46, 16.50s/it]"
          ]
        },
        {
          "name": "stdout",
          "output_type": "stream",
          "text": [
            "Epoch 30/50, Step 1000/1250, Loss: 0.6459\n"
          ]
        },
        {
          "name": "stderr",
          "output_type": "stream",
          "text": [
            " 60%|██████    | 30/50 [08:20<05:29, 16.46s/it]"
          ]
        },
        {
          "name": "stdout",
          "output_type": "stream",
          "text": [
            "Epoch 30 completed. Train Loss: 0.5916 | Val Loss: 0.8741\n"
          ]
        },
        {
          "name": "stderr",
          "output_type": "stream",
          "text": [
            " 60%|██████    | 30/50 [08:31<05:29, 16.46s/it]"
          ]
        },
        {
          "name": "stdout",
          "output_type": "stream",
          "text": [
            "Epoch 31/50, Step 1000/1250, Loss: 0.4459\n"
          ]
        },
        {
          "name": "stderr",
          "output_type": "stream",
          "text": [
            " 62%|██████▏   | 31/50 [08:36<05:11, 16.41s/it]"
          ]
        },
        {
          "name": "stdout",
          "output_type": "stream",
          "text": [
            "Epoch 31 completed. Train Loss: 0.5737 | Val Loss: 0.8678\n"
          ]
        },
        {
          "name": "stderr",
          "output_type": "stream",
          "text": [
            " 62%|██████▏   | 31/50 [08:47<05:11, 16.41s/it]"
          ]
        },
        {
          "name": "stdout",
          "output_type": "stream",
          "text": [
            "Epoch 32/50, Step 1000/1250, Loss: 0.6674\n"
          ]
        },
        {
          "name": "stderr",
          "output_type": "stream",
          "text": [
            " 64%|██████▍   | 32/50 [08:53<04:56, 16.48s/it]"
          ]
        },
        {
          "name": "stdout",
          "output_type": "stream",
          "text": [
            "Epoch 32 completed. Train Loss: 0.5502 | Val Loss: 0.8851\n"
          ]
        },
        {
          "name": "stderr",
          "output_type": "stream",
          "text": [
            " 64%|██████▍   | 32/50 [09:04<04:56, 16.48s/it]"
          ]
        },
        {
          "name": "stdout",
          "output_type": "stream",
          "text": [
            "Epoch 33/50, Step 1000/1250, Loss: 0.3232\n"
          ]
        },
        {
          "name": "stderr",
          "output_type": "stream",
          "text": [
            " 66%|██████▌   | 33/50 [09:10<04:42, 16.61s/it]"
          ]
        },
        {
          "name": "stdout",
          "output_type": "stream",
          "text": [
            "Epoch 33 completed. Train Loss: 0.5426 | Val Loss: 0.8834\n"
          ]
        },
        {
          "name": "stderr",
          "output_type": "stream",
          "text": [
            " 66%|██████▌   | 33/50 [09:21<04:42, 16.61s/it]"
          ]
        },
        {
          "name": "stdout",
          "output_type": "stream",
          "text": [
            "Epoch 34/50, Step 1000/1250, Loss: 0.2317\n"
          ]
        },
        {
          "name": "stderr",
          "output_type": "stream",
          "text": [
            " 66%|██████▌   | 33/50 [09:26<04:51, 17.17s/it]"
          ]
        },
        {
          "name": "stdout",
          "output_type": "stream",
          "text": [
            "Epoch 34 completed. Train Loss: 0.5203 | Val Loss: 0.9071\n",
            "Early stopping at epoch 34\n"
          ]
        },
        {
          "name": "stderr",
          "output_type": "stream",
          "text": [
            "\n"
          ]
        }
      ],
      "source": [
        "trained_CNN, train_losses, val_losses = train_model(model3,\n",
        "                                                    train_loader,\n",
        "                                                    val_loader,\n",
        "                                                    criterion,\n",
        "                                                    optimizer,\n",
        "                                                    device,\n",
        "                                                    num_epochs,\n",
        "                                                    patience)"
      ]
    },
    {
      "cell_type": "code",
      "execution_count": null,
      "metadata": {
        "id": "b-2XCX0Lx2qP",
        "outputId": "617cb490-7f24-4e41-dbd6-ee3b32598864"
      },
      "outputs": [
        {
          "data": {
            "image/png": "[encoded data removed]",
            "text/plain": [
              "<Figure size 640x480 with 1 Axes>"
            ]
          },
          "metadata": {},
          "output_type": "display_data"
        }
      ],
      "source": [
        "plotLoss(train_losses, val_losses)"
      ]
    },
    {
      "cell_type": "code",
      "execution_count": null,
      "metadata": {
        "id": "XPxEFxYWx2qP",
        "outputId": "bdc41de0-6bd7-4575-e112-610897a52f61"
      },
      "outputs": [
        {
          "name": "stdout",
          "output_type": "stream",
          "text": [
            "Scores of your model\n",
            " {'accuracy': 0.6932, 'balanced_accuracy': 0.6931999999999999, 'precision': 0.6954373416965544, 'recall': 0.6932, 'f1_score': 0.6913819540778005}\n"
          ]
        }
      ],
      "source": [
        "labels, predictions = makePredictions(model2, test_loader)\n",
        "\n",
        "scores = get_scores(labels, predictions)\n",
        "print(\"Scores of your model\\n\", scores)"
      ]
    },
    {
      "cell_type": "markdown",
      "metadata": {
        "id": "5V9ckadvy2S3"
      },
      "source": []
    },
    {
      "cell_type": "markdown",
      "metadata": {},
      "source": [
        "## Experimento AM1"
      ]
    },
    {
      "cell_type": "markdown",
      "metadata": {
        "id": "egy9Y5MIWT4L"
      },
      "source": [
        "Pego o experimento 1 é aumentando apenas o bach_size para 128"
      ]
    },
    {
      "cell_type": "code",
      "execution_count": null,
      "metadata": {
        "id": "4agxHgtAWfZe"
      },
      "outputs": [],
      "source": [
        "#@title Hyperparameters\n",
        "\n",
        "learning_rate = 0.001\n",
        "num_epochs = 50\n",
        "batch_size = 128\n",
        "patience = 5"
      ]
    },
    {
      "cell_type": "code",
      "execution_count": null,
      "metadata": {
        "id": "uyOxnf75WlB5"
      },
      "outputs": [],
      "source": [
        "train_loader, val_loader, test_loader = makeLoaders(batch_size)"
      ]
    },
    {
      "cell_type": "code",
      "execution_count": null,
      "metadata": {
        "id": "BoS4k7PpWl2a"
      },
      "outputs": [],
      "source": [
        "config1 = {\n",
        "    'conv_layers': [\n",
        "        (32, 3, 1, 1),\n",
        "        (64, 3, 1, 1)\n",
        "    ],\n",
        "    'pool_kernel_size': 2,\n",
        "    'pool_stride': 2,\n",
        "    'fc_layers': [\n",
        "        (120, 0.0),\n",
        "        (84, 0.0)\n",
        "    ],\n",
        "    'output_size': 10\n",
        "}\n",
        "\n",
        "# Criando o modelo\n",
        "model1 = FlexibleCNN(config1)"
      ]
    },
    {
      "cell_type": "code",
      "execution_count": null,
      "metadata": {
        "colab": {
          "base_uri": "https://localhost:8080/"
        },
        "id": "-AcbIQy2WoUW",
        "outputId": "63820763-b8f9-438b-bbd5-8b4de97be7ae"
      },
      "outputs": [
        {
          "name": "stderr",
          "output_type": "stream",
          "text": [
            "  2%|▏         | 1/50 [00:13<11:12, 13.72s/it]"
          ]
        },
        {
          "name": "stdout",
          "output_type": "stream",
          "text": [
            "Epoch 1 completed. Train Loss: 1.5203 | Val Loss: 1.2567\n"
          ]
        },
        {
          "name": "stderr",
          "output_type": "stream",
          "text": [
            "  4%|▍         | 2/50 [00:26<10:44, 13.43s/it]"
          ]
        },
        {
          "name": "stdout",
          "output_type": "stream",
          "text": [
            "Epoch 2 completed. Train Loss: 1.1367 | Val Loss: 1.0686\n"
          ]
        },
        {
          "name": "stderr",
          "output_type": "stream",
          "text": [
            "  6%|▌         | 3/50 [00:40<10:30, 13.43s/it]"
          ]
        },
        {
          "name": "stdout",
          "output_type": "stream",
          "text": [
            "Epoch 3 completed. Train Loss: 0.9750 | Val Loss: 0.9476\n"
          ]
        },
        {
          "name": "stderr",
          "output_type": "stream",
          "text": [
            "  8%|▊         | 4/50 [00:53<10:16, 13.41s/it]"
          ]
        },
        {
          "name": "stdout",
          "output_type": "stream",
          "text": [
            "Epoch 4 completed. Train Loss: 0.8573 | Val Loss: 0.9016\n"
          ]
        },
        {
          "name": "stderr",
          "output_type": "stream",
          "text": [
            " 10%|█         | 5/50 [01:06<09:57, 13.27s/it]"
          ]
        },
        {
          "name": "stdout",
          "output_type": "stream",
          "text": [
            "Epoch 5 completed. Train Loss: 0.7690 | Val Loss: 0.9569\n"
          ]
        },
        {
          "name": "stderr",
          "output_type": "stream",
          "text": [
            " 12%|█▏        | 6/50 [01:19<09:41, 13.21s/it]"
          ]
        },
        {
          "name": "stdout",
          "output_type": "stream",
          "text": [
            "Epoch 6 completed. Train Loss: 0.6810 | Val Loss: 0.9030\n"
          ]
        },
        {
          "name": "stderr",
          "output_type": "stream",
          "text": [
            " 14%|█▍        | 7/50 [01:33<09:31, 13.29s/it]"
          ]
        },
        {
          "name": "stdout",
          "output_type": "stream",
          "text": [
            "Epoch 7 completed. Train Loss: 0.5982 | Val Loss: 0.8627\n"
          ]
        },
        {
          "name": "stderr",
          "output_type": "stream",
          "text": [
            " 16%|█▌        | 8/50 [01:46<09:15, 13.22s/it]"
          ]
        },
        {
          "name": "stdout",
          "output_type": "stream",
          "text": [
            "Epoch 8 completed. Train Loss: 0.5203 | Val Loss: 0.8832\n"
          ]
        },
        {
          "name": "stderr",
          "output_type": "stream",
          "text": [
            " 18%|█▊        | 9/50 [01:59<08:58, 13.13s/it]"
          ]
        },
        {
          "name": "stdout",
          "output_type": "stream",
          "text": [
            "Epoch 9 completed. Train Loss: 0.4451 | Val Loss: 0.9257\n"
          ]
        },
        {
          "name": "stderr",
          "output_type": "stream",
          "text": [
            " 20%|██        | 10/50 [02:12<08:49, 13.23s/it]"
          ]
        },
        {
          "name": "stdout",
          "output_type": "stream",
          "text": [
            "Epoch 10 completed. Train Loss: 0.3702 | Val Loss: 1.0038\n"
          ]
        },
        {
          "name": "stderr",
          "output_type": "stream",
          "text": [
            " 22%|██▏       | 11/50 [02:25<08:34, 13.20s/it]"
          ]
        },
        {
          "name": "stdout",
          "output_type": "stream",
          "text": [
            "Epoch 11 completed. Train Loss: 0.3060 | Val Loss: 1.0394\n"
          ]
        },
        {
          "name": "stderr",
          "output_type": "stream",
          "text": [
            " 22%|██▏       | 11/50 [02:38<09:23, 14.45s/it]"
          ]
        },
        {
          "name": "stdout",
          "output_type": "stream",
          "text": [
            "Epoch 12 completed. Train Loss: 0.2437 | Val Loss: 1.1220\n",
            "Early stopping at epoch 12\n"
          ]
        },
        {
          "name": "stderr",
          "output_type": "stream",
          "text": [
            "\n"
          ]
        }
      ],
      "source": [
        "optimizer = optim.Adam(model1.parameters(), lr=learning_rate)\n",
        "criterion = nn.CrossEntropyLoss()\n",
        "\n",
        "trained_CNN, train_losses, val_losses = train_model(model1,\n",
        "                                                    train_loader,\n",
        "                                                    val_loader,\n",
        "                                                    criterion,\n",
        "                                                    optimizer,\n",
        "                                                    device,\n",
        "                                                    num_epochs,\n",
        "                                                    patience)"
      ]
    },
    {
      "cell_type": "code",
      "execution_count": null,
      "metadata": {
        "colab": {
          "base_uri": "https://localhost:8080/",
          "height": 474
        },
        "id": "gG1vYh8PWxko",
        "outputId": "73309594-a4fe-46bb-d358-6d5479594b6f"
      },
      "outputs": [
        {
          "data": {
            "image/png": "[encoded data removed]",
            "text/plain": [
              "<Figure size 640x480 with 1 Axes>"
            ]
          },
          "metadata": {},
          "output_type": "display_data"
        }
      ],
      "source": [
        "plotLoss(train_losses, val_losses)"
      ]
    },
    {
      "cell_type": "code",
      "execution_count": null,
      "metadata": {
        "id": "rAzx1A6oWyFo"
      },
      "outputs": [],
      "source": [
        "torch.save(model1.state_dict(), \"model1_trained2.pth\")"
      ]
    },
    {
      "cell_type": "code",
      "execution_count": null,
      "metadata": {
        "colab": {
          "base_uri": "https://localhost:8080/"
        },
        "id": "5nOFHkwhW33z",
        "outputId": "38c2bc6a-c1df-4488-ae95-75ee029398f1"
      },
      "outputs": [
        {
          "data": {
            "text/plain": [
              "<All keys matched successfully>"
            ]
          },
          "execution_count": 30,
          "metadata": {},
          "output_type": "execute_result"
        }
      ],
      "source": [
        "device = torch.device(\"cuda\" if torch.cuda.is_available() else \"cpu\")\n",
        "\n",
        "model1 = FlexibleCNN(config1)\n",
        "model1.to(device)\n",
        "\n",
        "model1.load_state_dict(torch.load(\"model1_trained2.pth\", weights_only=True))"
      ]
    },
    {
      "cell_type": "code",
      "execution_count": null,
      "metadata": {
        "id": "zmC_l_yeW_s1"
      },
      "outputs": [],
      "source": []
    },
    {
      "cell_type": "code",
      "execution_count": null,
      "metadata": {
        "colab": {
          "base_uri": "https://localhost:8080/"
        },
        "id": "hmsrUCAGW6gA",
        "outputId": "5a773676-79ca-4415-aba5-e8c93a84f6c0"
      },
      "outputs": [
        {
          "name": "stdout",
          "output_type": "stream",
          "text": [
            "Scores of your model\n",
            " {'accuracy': 0.7058, 'balanced_accuracy': np.float64(0.7058), 'precision': 0.7071710026655305, 'recall': 0.7058, 'f1_score': 0.705002459714131}\n"
          ]
        }
      ],
      "source": [
        "#@title Evaluate model (accuracy, precision, recall, etc)\n",
        "labels, predictions = makePredictions(model1, test_loader)\n",
        "\n",
        "scores = get_scores(labels, predictions)\n",
        "print(\"Scores of your model\\n\", scores)"
      ]
    },
    {
      "cell_type": "markdown",
      "metadata": {
        "id": "aJ4Nt1W6YcyZ"
      },
      "source": [
        "Houve um aumento de 2% percentual ao experimento 1"
      ]
    },
    {
      "cell_type": "code",
      "execution_count": null,
      "metadata": {
        "colab": {
          "base_uri": "https://localhost:8080/",
          "height": 523
        },
        "id": "Gh7W6V3jYVCk",
        "outputId": "08fc7870-4f22-476b-fcb2-17a6ae5cca64"
      },
      "outputs": [
        {
          "data": {
            "image/png": "[encoded data removed]",
            "text/plain": [
              "<Figure size 640x480 with 2 Axes>"
            ]
          },
          "metadata": {},
          "output_type": "display_data"
        }
      ],
      "source": [
        "# Lista com nomes das classes (exemplo para CIFAR-10)\n",
        "class_names = ['airplane', 'automobile', 'bird', 'cat', 'deer',\n",
        "               'dog', 'frog', 'horse', 'ship', 'truck']\n",
        "\n",
        "cm = confusion_matrix(labels, predictions)\n",
        "\n",
        "# Plotar a matriz de confusão\n",
        "disp = ConfusionMatrixDisplay(confusion_matrix=cm,\n",
        "                              display_labels=class_names)\n",
        "disp.plot(cmap=plt.cm.Blues, xticks_rotation=45)  # pode mudar o colormap se quiser\n",
        "plt.title(\"Matriz de Confusão\")\n",
        "plt.show()"
      ]
    },
    {
      "cell_type": "markdown",
      "metadata": {
        "id": "1cDyHMzq-prL"
      },
      "source": [
        "## Experimento AM2\n"
      ]
    },
    {
      "cell_type": "markdown",
      "metadata": {
        "id": "w6hvhzhbCjIO"
      },
      "source": [
        "Pegado mudanças do experimento 3 e aumentado o batch_size para 64"
      ]
    },
    {
      "cell_type": "code",
      "execution_count": null,
      "metadata": {
        "id": "1boUYLxrAsW_"
      },
      "outputs": [],
      "source": [
        "learning_rate = 0.0001\n",
        "num_epochs = 50\n",
        "batch_size = 64\n",
        "patience = 5\n",
        "\n",
        "train_loader, val_loader, test_loader = makeLoaders(batch_size)"
      ]
    },
    {
      "cell_type": "code",
      "execution_count": null,
      "metadata": {
        "id": "rzc0TO_6Azil"
      },
      "outputs": [],
      "source": [
        "config3 = {\n",
        "    'conv_layers': [\n",
        "        (32, 3, 1, 1),\n",
        "        (64, 3, 1, 1)\n",
        "    ],\n",
        "    'pool_kernel_size': 2,\n",
        "    'pool_stride': 2,\n",
        "    'fc_layers': [\n",
        "        (120, 0.2),\n",
        "        (84, 0.2)\n",
        "    ],\n",
        "    'output_size': 10\n",
        "}\n",
        "\n",
        "# Criando o modelo\n",
        "model4 = FlexibleCNN(config3)\n",
        "\n",
        "optimizer = optim.Adam(model4.parameters(), lr=learning_rate)\n",
        "criterion = nn.CrossEntropyLoss()"
      ]
    },
    {
      "cell_type": "code",
      "execution_count": null,
      "metadata": {
        "colab": {
          "base_uri": "https://localhost:8080/"
        },
        "id": "ErJgtU-tA_Gr",
        "outputId": "d23dd681-db4a-45ba-c2dd-f37f8e9f397a"
      },
      "outputs": [
        {
          "name": "stderr",
          "output_type": "stream",
          "text": [
            "  2%|▏         | 1/50 [00:15<12:27, 15.25s/it]"
          ]
        },
        {
          "name": "stdout",
          "output_type": "stream",
          "text": [
            "Epoch 1 completed. Train Loss: 1.9088 | Val Loss: 1.6134\n"
          ]
        },
        {
          "name": "stderr",
          "output_type": "stream",
          "text": [
            "  4%|▍         | 2/50 [00:29<11:40, 14.59s/it]"
          ]
        },
        {
          "name": "stdout",
          "output_type": "stream",
          "text": [
            "Epoch 2 completed. Train Loss: 1.6128 | Val Loss: 1.4723\n"
          ]
        },
        {
          "name": "stderr",
          "output_type": "stream",
          "text": [
            "  6%|▌         | 3/50 [00:43<11:12, 14.32s/it]"
          ]
        },
        {
          "name": "stdout",
          "output_type": "stream",
          "text": [
            "Epoch 3 completed. Train Loss: 1.5020 | Val Loss: 1.3891\n"
          ]
        },
        {
          "name": "stderr",
          "output_type": "stream",
          "text": [
            "  8%|▊         | 4/50 [00:57<10:50, 14.15s/it]"
          ]
        },
        {
          "name": "stdout",
          "output_type": "stream",
          "text": [
            "Epoch 4 completed. Train Loss: 1.4279 | Val Loss: 1.3460\n"
          ]
        },
        {
          "name": "stderr",
          "output_type": "stream",
          "text": [
            " 10%|█         | 5/50 [01:11<10:32, 14.05s/it]"
          ]
        },
        {
          "name": "stdout",
          "output_type": "stream",
          "text": [
            "Epoch 5 completed. Train Loss: 1.3715 | Val Loss: 1.2840\n"
          ]
        },
        {
          "name": "stderr",
          "output_type": "stream",
          "text": [
            " 12%|█▏        | 6/50 [01:25<10:20, 14.11s/it]"
          ]
        },
        {
          "name": "stdout",
          "output_type": "stream",
          "text": [
            "Epoch 6 completed. Train Loss: 1.3134 | Val Loss: 1.2399\n"
          ]
        },
        {
          "name": "stderr",
          "output_type": "stream",
          "text": [
            " 14%|█▍        | 7/50 [01:39<10:09, 14.16s/it]"
          ]
        },
        {
          "name": "stdout",
          "output_type": "stream",
          "text": [
            "Epoch 7 completed. Train Loss: 1.2687 | Val Loss: 1.1980\n"
          ]
        },
        {
          "name": "stderr",
          "output_type": "stream",
          "text": [
            " 16%|█▌        | 8/50 [01:53<09:54, 14.15s/it]"
          ]
        },
        {
          "name": "stdout",
          "output_type": "stream",
          "text": [
            "Epoch 8 completed. Train Loss: 1.2258 | Val Loss: 1.1676\n"
          ]
        },
        {
          "name": "stderr",
          "output_type": "stream",
          "text": [
            " 18%|█▊        | 9/50 [02:07<09:41, 14.17s/it]"
          ]
        },
        {
          "name": "stdout",
          "output_type": "stream",
          "text": [
            "Epoch 9 completed. Train Loss: 1.1901 | Val Loss: 1.1525\n"
          ]
        },
        {
          "name": "stderr",
          "output_type": "stream",
          "text": [
            " 20%|██        | 10/50 [02:22<09:26, 14.16s/it]"
          ]
        },
        {
          "name": "stdout",
          "output_type": "stream",
          "text": [
            "Epoch 10 completed. Train Loss: 1.1519 | Val Loss: 1.1120\n"
          ]
        },
        {
          "name": "stderr",
          "output_type": "stream",
          "text": [
            " 22%|██▏       | 11/50 [02:36<09:10, 14.12s/it]"
          ]
        },
        {
          "name": "stdout",
          "output_type": "stream",
          "text": [
            "Epoch 11 completed. Train Loss: 1.1209 | Val Loss: 1.0849\n"
          ]
        },
        {
          "name": "stderr",
          "output_type": "stream",
          "text": [
            " 24%|██▍       | 12/50 [02:50<08:59, 14.21s/it]"
          ]
        },
        {
          "name": "stdout",
          "output_type": "stream",
          "text": [
            "Epoch 12 completed. Train Loss: 1.0914 | Val Loss: 1.0631\n"
          ]
        },
        {
          "name": "stderr",
          "output_type": "stream",
          "text": [
            " 26%|██▌       | 13/50 [03:04<08:45, 14.19s/it]"
          ]
        },
        {
          "name": "stdout",
          "output_type": "stream",
          "text": [
            "Epoch 13 completed. Train Loss: 1.0624 | Val Loss: 1.0366\n"
          ]
        },
        {
          "name": "stderr",
          "output_type": "stream",
          "text": [
            " 28%|██▊       | 14/50 [03:18<08:30, 14.17s/it]"
          ]
        },
        {
          "name": "stdout",
          "output_type": "stream",
          "text": [
            "Epoch 14 completed. Train Loss: 1.0390 | Val Loss: 1.0238\n"
          ]
        },
        {
          "name": "stderr",
          "output_type": "stream",
          "text": [
            " 30%|███       | 15/50 [03:32<08:15, 14.16s/it]"
          ]
        },
        {
          "name": "stdout",
          "output_type": "stream",
          "text": [
            "Epoch 15 completed. Train Loss: 1.0127 | Val Loss: 1.0071\n"
          ]
        },
        {
          "name": "stderr",
          "output_type": "stream",
          "text": [
            " 32%|███▏      | 16/50 [03:46<07:59, 14.11s/it]"
          ]
        },
        {
          "name": "stdout",
          "output_type": "stream",
          "text": [
            "Epoch 16 completed. Train Loss: 0.9890 | Val Loss: 0.9967\n"
          ]
        },
        {
          "name": "stderr",
          "output_type": "stream",
          "text": [
            " 34%|███▍      | 17/50 [04:01<07:48, 14.19s/it]"
          ]
        },
        {
          "name": "stdout",
          "output_type": "stream",
          "text": [
            "Epoch 17 completed. Train Loss: 0.9658 | Val Loss: 0.9737\n"
          ]
        },
        {
          "name": "stderr",
          "output_type": "stream",
          "text": [
            " 36%|███▌      | 18/50 [04:15<07:33, 14.17s/it]"
          ]
        },
        {
          "name": "stdout",
          "output_type": "stream",
          "text": [
            "Epoch 18 completed. Train Loss: 0.9481 | Val Loss: 0.9740\n"
          ]
        },
        {
          "name": "stderr",
          "output_type": "stream",
          "text": [
            " 38%|███▊      | 19/50 [04:29<07:19, 14.17s/it]"
          ]
        },
        {
          "name": "stdout",
          "output_type": "stream",
          "text": [
            "Epoch 19 completed. Train Loss: 0.9233 | Val Loss: 0.9640\n"
          ]
        },
        {
          "name": "stderr",
          "output_type": "stream",
          "text": [
            " 40%|████      | 20/50 [04:43<06:58, 13.95s/it]"
          ]
        },
        {
          "name": "stdout",
          "output_type": "stream",
          "text": [
            "Epoch 20 completed. Train Loss: 0.9027 | Val Loss: 0.9517\n"
          ]
        },
        {
          "name": "stderr",
          "output_type": "stream",
          "text": [
            " 42%|████▏     | 21/50 [04:56<06:40, 13.80s/it]"
          ]
        },
        {
          "name": "stdout",
          "output_type": "stream",
          "text": [
            "Epoch 21 completed. Train Loss: 0.8823 | Val Loss: 0.9315\n"
          ]
        },
        {
          "name": "stderr",
          "output_type": "stream",
          "text": [
            " 44%|████▍     | 22/50 [05:10<06:25, 13.77s/it]"
          ]
        },
        {
          "name": "stdout",
          "output_type": "stream",
          "text": [
            "Epoch 22 completed. Train Loss: 0.8642 | Val Loss: 0.9205\n"
          ]
        },
        {
          "name": "stderr",
          "output_type": "stream",
          "text": [
            " 46%|████▌     | 23/50 [05:24<06:16, 13.95s/it]"
          ]
        },
        {
          "name": "stdout",
          "output_type": "stream",
          "text": [
            "Epoch 23 completed. Train Loss: 0.8425 | Val Loss: 0.9161\n"
          ]
        },
        {
          "name": "stderr",
          "output_type": "stream",
          "text": [
            " 48%|████▊     | 24/50 [05:38<06:04, 14.03s/it]"
          ]
        },
        {
          "name": "stdout",
          "output_type": "stream",
          "text": [
            "Epoch 24 completed. Train Loss: 0.8276 | Val Loss: 0.9081\n"
          ]
        },
        {
          "name": "stderr",
          "output_type": "stream",
          "text": [
            " 50%|█████     | 25/50 [05:52<05:50, 14.01s/it]"
          ]
        },
        {
          "name": "stdout",
          "output_type": "stream",
          "text": [
            "Epoch 25 completed. Train Loss: 0.8101 | Val Loss: 0.8972\n"
          ]
        },
        {
          "name": "stderr",
          "output_type": "stream",
          "text": [
            " 52%|█████▏    | 26/50 [06:06<05:35, 13.97s/it]"
          ]
        },
        {
          "name": "stdout",
          "output_type": "stream",
          "text": [
            "Epoch 26 completed. Train Loss: 0.7900 | Val Loss: 0.9023\n"
          ]
        },
        {
          "name": "stderr",
          "output_type": "stream",
          "text": [
            " 54%|█████▍    | 27/50 [06:20<05:19, 13.88s/it]"
          ]
        },
        {
          "name": "stdout",
          "output_type": "stream",
          "text": [
            "Epoch 27 completed. Train Loss: 0.7763 | Val Loss: 0.8871\n"
          ]
        },
        {
          "name": "stderr",
          "output_type": "stream",
          "text": [
            " 56%|█████▌    | 28/50 [06:34<05:06, 13.93s/it]"
          ]
        },
        {
          "name": "stdout",
          "output_type": "stream",
          "text": [
            "Epoch 28 completed. Train Loss: 0.7547 | Val Loss: 0.8984\n"
          ]
        },
        {
          "name": "stderr",
          "output_type": "stream",
          "text": [
            " 58%|█████▊    | 29/50 [06:48<04:56, 14.14s/it]"
          ]
        },
        {
          "name": "stdout",
          "output_type": "stream",
          "text": [
            "Epoch 29 completed. Train Loss: 0.7432 | Val Loss: 0.8933\n"
          ]
        },
        {
          "name": "stderr",
          "output_type": "stream",
          "text": [
            " 60%|██████    | 30/50 [07:02<04:41, 14.08s/it]"
          ]
        },
        {
          "name": "stdout",
          "output_type": "stream",
          "text": [
            "Epoch 30 completed. Train Loss: 0.7257 | Val Loss: 0.8844\n"
          ]
        },
        {
          "name": "stderr",
          "output_type": "stream",
          "text": [
            " 62%|██████▏   | 31/50 [07:16<04:25, 13.98s/it]"
          ]
        },
        {
          "name": "stdout",
          "output_type": "stream",
          "text": [
            "Epoch 31 completed. Train Loss: 0.7120 | Val Loss: 0.8727\n"
          ]
        },
        {
          "name": "stderr",
          "output_type": "stream",
          "text": [
            " 64%|██████▍   | 32/50 [07:30<04:10, 13.92s/it]"
          ]
        },
        {
          "name": "stdout",
          "output_type": "stream",
          "text": [
            "Epoch 32 completed. Train Loss: 0.6913 | Val Loss: 0.8818\n"
          ]
        },
        {
          "name": "stderr",
          "output_type": "stream",
          "text": [
            " 66%|██████▌   | 33/50 [07:44<03:56, 13.90s/it]"
          ]
        },
        {
          "name": "stdout",
          "output_type": "stream",
          "text": [
            "Epoch 33 completed. Train Loss: 0.6809 | Val Loss: 0.8700\n"
          ]
        },
        {
          "name": "stderr",
          "output_type": "stream",
          "text": [
            " 68%|██████▊   | 34/50 [07:58<03:41, 13.85s/it]"
          ]
        },
        {
          "name": "stdout",
          "output_type": "stream",
          "text": [
            "Epoch 34 completed. Train Loss: 0.6621 | Val Loss: 0.8759\n"
          ]
        },
        {
          "name": "stderr",
          "output_type": "stream",
          "text": [
            " 70%|███████   | 35/50 [08:12<03:31, 14.09s/it]"
          ]
        },
        {
          "name": "stdout",
          "output_type": "stream",
          "text": [
            "Epoch 35 completed. Train Loss: 0.6469 | Val Loss: 0.8845\n"
          ]
        },
        {
          "name": "stderr",
          "output_type": "stream",
          "text": [
            " 72%|███████▏  | 36/50 [08:26<03:16, 14.04s/it]"
          ]
        },
        {
          "name": "stdout",
          "output_type": "stream",
          "text": [
            "Epoch 36 completed. Train Loss: 0.6346 | Val Loss: 0.8657\n"
          ]
        },
        {
          "name": "stderr",
          "output_type": "stream",
          "text": [
            " 74%|███████▍  | 37/50 [08:40<03:02, 14.02s/it]"
          ]
        },
        {
          "name": "stdout",
          "output_type": "stream",
          "text": [
            "Epoch 37 completed. Train Loss: 0.6216 | Val Loss: 0.8733\n"
          ]
        },
        {
          "name": "stderr",
          "output_type": "stream",
          "text": [
            " 76%|███████▌  | 38/50 [08:54<02:48, 14.03s/it]"
          ]
        },
        {
          "name": "stdout",
          "output_type": "stream",
          "text": [
            "Epoch 38 completed. Train Loss: 0.6095 | Val Loss: 0.8788\n"
          ]
        },
        {
          "name": "stderr",
          "output_type": "stream",
          "text": [
            " 78%|███████▊  | 39/50 [09:08<02:33, 13.98s/it]"
          ]
        },
        {
          "name": "stdout",
          "output_type": "stream",
          "text": [
            "Epoch 39 completed. Train Loss: 0.5941 | Val Loss: 0.8736\n"
          ]
        },
        {
          "name": "stderr",
          "output_type": "stream",
          "text": [
            " 80%|████████  | 40/50 [09:22<02:20, 14.03s/it]"
          ]
        },
        {
          "name": "stdout",
          "output_type": "stream",
          "text": [
            "Epoch 40 completed. Train Loss: 0.5788 | Val Loss: 0.8744\n"
          ]
        },
        {
          "name": "stderr",
          "output_type": "stream",
          "text": [
            " 80%|████████  | 40/50 [09:36<02:24, 14.42s/it]"
          ]
        },
        {
          "name": "stdout",
          "output_type": "stream",
          "text": [
            "Epoch 41 completed. Train Loss: 0.5641 | Val Loss: 0.8770\n",
            "Early stopping at epoch 41\n"
          ]
        },
        {
          "name": "stderr",
          "output_type": "stream",
          "text": [
            "\n"
          ]
        }
      ],
      "source": [
        "trained_CNN, train_losses, val_losses = train_model(model4,\n",
        "                                                    train_loader,\n",
        "                                                    val_loader,\n",
        "                                                    criterion,\n",
        "                                                    optimizer,\n",
        "                                                    device,\n",
        "                                                    num_epochs,\n",
        "                                                    patience)"
      ]
    },
    {
      "cell_type": "code",
      "execution_count": null,
      "metadata": {
        "colab": {
          "base_uri": "https://localhost:8080/",
          "height": 474
        },
        "id": "9mYMfAcoBKcL",
        "outputId": "cb40bcd4-8de1-4d16-b152-7ae365aceab3"
      },
      "outputs": [
        {
          "data": {
            "image/png": "[encoded data removed]",
            "text/plain": [
              "<Figure size 640x480 with 1 Axes>"
            ]
          },
          "metadata": {},
          "output_type": "display_data"
        }
      ],
      "source": [
        "plotLoss(train_losses, val_losses)"
      ]
    },
    {
      "cell_type": "code",
      "execution_count": null,
      "metadata": {
        "colab": {
          "base_uri": "https://localhost:8080/"
        },
        "id": "6x6HkNkVBLE5",
        "outputId": "8c333da8-58f3-44ba-e4ea-dcfe90c052ff"
      },
      "outputs": [
        {
          "name": "stdout",
          "output_type": "stream",
          "text": [
            "Scores of your model\n",
            " {'accuracy': 0.7089, 'balanced_accuracy': np.float64(0.7089), 'precision': 0.7084632229248892, 'recall': 0.7089, 'f1_score': 0.7068026615012711}\n"
          ]
        }
      ],
      "source": [
        "labels, predictions = makePredictions(model4, test_loader)\n",
        "\n",
        "scores = get_scores(labels, predictions)\n",
        "print(\"Scores of your model\\n\", scores)"
      ]
    },
    {
      "cell_type": "markdown",
      "metadata": {
        "id": "EZfb8D8xV7AI"
      },
      "source": [
        "Foi constado uma pequena melhoria para o experimento 3 (que tem uma acurácia de 69.3)"
      ]
    },
    {
      "cell_type": "code",
      "execution_count": null,
      "metadata": {
        "colab": {
          "base_uri": "https://localhost:8080/",
          "height": 523
        },
        "id": "G0PNdpL9XN2K",
        "outputId": "1e224983-0db8-4759-e1f4-426addf629f1"
      },
      "outputs": [
        {
          "data": {
            "image/png": "[encoded data removed]",
            "text/plain": [
              "<Figure size 640x480 with 2 Axes>"
            ]
          },
          "metadata": {},
          "output_type": "display_data"
        }
      ],
      "source": [
        "# Lista com nomes das classes (exemplo para CIFAR-10)\n",
        "class_names = ['airplane', 'automobile', 'bird', 'cat', 'deer',\n",
        "               'dog', 'frog', 'horse', 'ship', 'truck']\n",
        "\n",
        "cm = confusion_matrix(labels, predictions)\n",
        "\n",
        "# Plotar a matriz de confusão\n",
        "disp = ConfusionMatrixDisplay(confusion_matrix=cm,\n",
        "                              display_labels=class_names)\n",
        "disp.plot(cmap=plt.cm.Blues, xticks_rotation=45)  # pode mudar o colormap se quiser\n",
        "plt.title(\"Matriz de Confusão\")\n",
        "plt.show()"
      ]
    },
    {
      "cell_type": "markdown",
      "metadata": {
        "id": "9C3iUOjbZgAU"
      },
      "source": [
        "## Experimento AM3"
      ]
    },
    {
      "cell_type": "markdown",
      "metadata": {
        "id": "VkFXKV5pZuR3"
      },
      "source": [
        "Dado o experimento AM2, manter tudo igual e aumentar ainda mais o batch_size -- para 256."
      ]
    },
    {
      "cell_type": "code",
      "execution_count": null,
      "metadata": {
        "id": "uq1U5mMsZuR3"
      },
      "outputs": [],
      "source": [
        "learning_rate = 0.0001\n",
        "num_epochs = 100\n",
        "batch_size = 256\n",
        "patience = 5\n",
        "\n",
        "train_loader, val_loader, test_loader = makeLoaders(batch_size)"
      ]
    },
    {
      "cell_type": "code",
      "execution_count": null,
      "metadata": {
        "id": "FXN6GWiDZuR4"
      },
      "outputs": [],
      "source": [
        "config3 = {\n",
        "    'conv_layers': [\n",
        "        (32, 3, 1, 1),\n",
        "        (64, 3, 1, 1)\n",
        "    ],\n",
        "    'pool_kernel_size': 2,\n",
        "    'pool_stride': 2,\n",
        "    'fc_layers': [\n",
        "        (120, 0.2),\n",
        "        (84, 0.2)\n",
        "    ],\n",
        "    'output_size': 10\n",
        "}\n",
        "\n",
        "# Criando o modelo\n",
        "model4 = FlexibleCNN(config3)\n",
        "\n",
        "optimizer = optim.Adam(model4.parameters(), lr=learning_rate)\n",
        "criterion = nn.CrossEntropyLoss()"
      ]
    },
    {
      "cell_type": "code",
      "execution_count": null,
      "metadata": {
        "colab": {
          "base_uri": "https://localhost:8080/"
        },
        "id": "9ZtsumStZuR4",
        "outputId": "4de6b4fe-a737-4fc7-a7eb-bab0599cc4d2"
      },
      "outputs": [
        {
          "name": "stderr",
          "output_type": "stream",
          "text": [
            "  1%|          | 1/100 [00:13<21:51, 13.25s/it]"
          ]
        },
        {
          "name": "stdout",
          "output_type": "stream",
          "text": [
            "Epoch 1 completed. Train Loss: 2.0515 | Val Loss: 1.8290\n"
          ]
        },
        {
          "name": "stderr",
          "output_type": "stream",
          "text": [
            "  2%|▏         | 2/100 [00:26<21:37, 13.24s/it]"
          ]
        },
        {
          "name": "stdout",
          "output_type": "stream",
          "text": [
            "Epoch 2 completed. Train Loss: 1.7819 | Val Loss: 1.6254\n"
          ]
        },
        {
          "name": "stderr",
          "output_type": "stream",
          "text": [
            "  3%|▎         | 3/100 [00:39<21:20, 13.21s/it]"
          ]
        },
        {
          "name": "stdout",
          "output_type": "stream",
          "text": [
            "Epoch 3 completed. Train Loss: 1.6336 | Val Loss: 1.5351\n"
          ]
        },
        {
          "name": "stderr",
          "output_type": "stream",
          "text": [
            "  4%|▍         | 4/100 [00:53<21:17, 13.31s/it]"
          ]
        },
        {
          "name": "stdout",
          "output_type": "stream",
          "text": [
            "Epoch 4 completed. Train Loss: 1.5480 | Val Loss: 1.4543\n"
          ]
        },
        {
          "name": "stderr",
          "output_type": "stream",
          "text": [
            "  5%|▌         | 5/100 [01:06<21:16, 13.44s/it]"
          ]
        },
        {
          "name": "stdout",
          "output_type": "stream",
          "text": [
            "Epoch 5 completed. Train Loss: 1.4982 | Val Loss: 1.4230\n"
          ]
        },
        {
          "name": "stderr",
          "output_type": "stream",
          "text": [
            "  6%|▌         | 6/100 [01:20<20:58, 13.39s/it]"
          ]
        },
        {
          "name": "stdout",
          "output_type": "stream",
          "text": [
            "Epoch 6 completed. Train Loss: 1.4594 | Val Loss: 1.3813\n"
          ]
        },
        {
          "name": "stderr",
          "output_type": "stream",
          "text": [
            "  7%|▋         | 7/100 [01:33<20:36, 13.30s/it]"
          ]
        },
        {
          "name": "stdout",
          "output_type": "stream",
          "text": [
            "Epoch 7 completed. Train Loss: 1.4176 | Val Loss: 1.3483\n"
          ]
        },
        {
          "name": "stderr",
          "output_type": "stream",
          "text": [
            "  8%|▊         | 8/100 [01:46<20:15, 13.21s/it]"
          ]
        },
        {
          "name": "stdout",
          "output_type": "stream",
          "text": [
            "Epoch 8 completed. Train Loss: 1.3842 | Val Loss: 1.3057\n"
          ]
        },
        {
          "name": "stderr",
          "output_type": "stream",
          "text": [
            "  9%|▉         | 9/100 [01:59<19:58, 13.18s/it]"
          ]
        },
        {
          "name": "stdout",
          "output_type": "stream",
          "text": [
            "Epoch 9 completed. Train Loss: 1.3541 | Val Loss: 1.2867\n"
          ]
        },
        {
          "name": "stderr",
          "output_type": "stream",
          "text": [
            " 10%|█         | 10/100 [02:12<19:44, 13.16s/it]"
          ]
        },
        {
          "name": "stdout",
          "output_type": "stream",
          "text": [
            "Epoch 10 completed. Train Loss: 1.3326 | Val Loss: 1.2654\n"
          ]
        },
        {
          "name": "stderr",
          "output_type": "stream",
          "text": [
            " 11%|█         | 11/100 [02:25<19:26, 13.10s/it]"
          ]
        },
        {
          "name": "stdout",
          "output_type": "stream",
          "text": [
            "Epoch 11 completed. Train Loss: 1.3019 | Val Loss: 1.2552\n"
          ]
        },
        {
          "name": "stderr",
          "output_type": "stream",
          "text": [
            " 12%|█▏        | 12/100 [02:38<19:08, 13.05s/it]"
          ]
        },
        {
          "name": "stdout",
          "output_type": "stream",
          "text": [
            "Epoch 12 completed. Train Loss: 1.2790 | Val Loss: 1.2302\n"
          ]
        },
        {
          "name": "stderr",
          "output_type": "stream",
          "text": [
            " 13%|█▎        | 13/100 [02:51<18:48, 12.97s/it]"
          ]
        },
        {
          "name": "stdout",
          "output_type": "stream",
          "text": [
            "Epoch 13 completed. Train Loss: 1.2599 | Val Loss: 1.2034\n"
          ]
        },
        {
          "name": "stderr",
          "output_type": "stream",
          "text": [
            " 14%|█▍        | 14/100 [03:03<18:30, 12.91s/it]"
          ]
        },
        {
          "name": "stdout",
          "output_type": "stream",
          "text": [
            "Epoch 14 completed. Train Loss: 1.2367 | Val Loss: 1.1954\n"
          ]
        },
        {
          "name": "stderr",
          "output_type": "stream",
          "text": [
            " 15%|█▌        | 15/100 [03:16<18:21, 12.95s/it]"
          ]
        },
        {
          "name": "stdout",
          "output_type": "stream",
          "text": [
            "Epoch 15 completed. Train Loss: 1.2138 | Val Loss: 1.1700\n"
          ]
        },
        {
          "name": "stderr",
          "output_type": "stream",
          "text": [
            " 16%|█▌        | 16/100 [03:30<18:10, 12.99s/it]"
          ]
        },
        {
          "name": "stdout",
          "output_type": "stream",
          "text": [
            "Epoch 16 completed. Train Loss: 1.1954 | Val Loss: 1.1486\n"
          ]
        },
        {
          "name": "stderr",
          "output_type": "stream",
          "text": [
            " 17%|█▋        | 17/100 [03:42<17:50, 12.89s/it]"
          ]
        },
        {
          "name": "stdout",
          "output_type": "stream",
          "text": [
            "Epoch 17 completed. Train Loss: 1.1736 | Val Loss: 1.1329\n"
          ]
        },
        {
          "name": "stderr",
          "output_type": "stream",
          "text": [
            " 18%|█▊        | 18/100 [03:55<17:32, 12.84s/it]"
          ]
        },
        {
          "name": "stdout",
          "output_type": "stream",
          "text": [
            "Epoch 18 completed. Train Loss: 1.1598 | Val Loss: 1.1179\n"
          ]
        },
        {
          "name": "stderr",
          "output_type": "stream",
          "text": [
            " 19%|█▉        | 19/100 [04:08<17:17, 12.81s/it]"
          ]
        },
        {
          "name": "stdout",
          "output_type": "stream",
          "text": [
            "Epoch 19 completed. Train Loss: 1.1397 | Val Loss: 1.1114\n"
          ]
        },
        {
          "name": "stderr",
          "output_type": "stream",
          "text": [
            " 20%|██        | 20/100 [04:20<16:59, 12.75s/it]"
          ]
        },
        {
          "name": "stdout",
          "output_type": "stream",
          "text": [
            "Epoch 20 completed. Train Loss: 1.1245 | Val Loss: 1.1012\n"
          ]
        },
        {
          "name": "stderr",
          "output_type": "stream",
          "text": [
            " 21%|██        | 21/100 [04:33<16:46, 12.74s/it]"
          ]
        },
        {
          "name": "stdout",
          "output_type": "stream",
          "text": [
            "Epoch 21 completed. Train Loss: 1.1122 | Val Loss: 1.0771\n"
          ]
        },
        {
          "name": "stderr",
          "output_type": "stream",
          "text": [
            " 22%|██▏       | 22/100 [04:46<16:39, 12.82s/it]"
          ]
        },
        {
          "name": "stdout",
          "output_type": "stream",
          "text": [
            "Epoch 22 completed. Train Loss: 1.0936 | Val Loss: 1.0833\n"
          ]
        },
        {
          "name": "stderr",
          "output_type": "stream",
          "text": [
            " 23%|██▎       | 23/100 [04:59<16:25, 12.80s/it]"
          ]
        },
        {
          "name": "stdout",
          "output_type": "stream",
          "text": [
            "Epoch 23 completed. Train Loss: 1.0793 | Val Loss: 1.0689\n"
          ]
        },
        {
          "name": "stderr",
          "output_type": "stream",
          "text": [
            " 24%|██▍       | 24/100 [05:11<16:10, 12.77s/it]"
          ]
        },
        {
          "name": "stdout",
          "output_type": "stream",
          "text": [
            "Epoch 24 completed. Train Loss: 1.0658 | Val Loss: 1.0698\n"
          ]
        },
        {
          "name": "stderr",
          "output_type": "stream",
          "text": [
            " 25%|██▌       | 25/100 [05:24<15:57, 12.76s/it]"
          ]
        },
        {
          "name": "stdout",
          "output_type": "stream",
          "text": [
            "Epoch 25 completed. Train Loss: 1.0486 | Val Loss: 1.0373\n"
          ]
        },
        {
          "name": "stderr",
          "output_type": "stream",
          "text": [
            " 26%|██▌       | 26/100 [05:37<15:49, 12.83s/it]"
          ]
        },
        {
          "name": "stdout",
          "output_type": "stream",
          "text": [
            "Epoch 26 completed. Train Loss: 1.0347 | Val Loss: 1.0508\n"
          ]
        },
        {
          "name": "stderr",
          "output_type": "stream",
          "text": [
            " 27%|██▋       | 27/100 [05:50<15:41, 12.90s/it]"
          ]
        },
        {
          "name": "stdout",
          "output_type": "stream",
          "text": [
            "Epoch 27 completed. Train Loss: 1.0249 | Val Loss: 1.0228\n"
          ]
        },
        {
          "name": "stderr",
          "output_type": "stream",
          "text": [
            " 28%|██▊       | 28/100 [06:03<15:33, 12.96s/it]"
          ]
        },
        {
          "name": "stdout",
          "output_type": "stream",
          "text": [
            "Epoch 28 completed. Train Loss: 1.0105 | Val Loss: 1.0021\n"
          ]
        },
        {
          "name": "stderr",
          "output_type": "stream",
          "text": [
            " 29%|██▉       | 29/100 [06:17<15:25, 13.04s/it]"
          ]
        },
        {
          "name": "stdout",
          "output_type": "stream",
          "text": [
            "Epoch 29 completed. Train Loss: 1.0004 | Val Loss: 0.9982\n"
          ]
        },
        {
          "name": "stderr",
          "output_type": "stream",
          "text": [
            " 30%|███       | 30/100 [06:30<15:11, 13.01s/it]"
          ]
        },
        {
          "name": "stdout",
          "output_type": "stream",
          "text": [
            "Epoch 30 completed. Train Loss: 0.9836 | Val Loss: 1.0266\n"
          ]
        },
        {
          "name": "stderr",
          "output_type": "stream",
          "text": [
            " 31%|███       | 31/100 [06:42<14:54, 12.97s/it]"
          ]
        },
        {
          "name": "stdout",
          "output_type": "stream",
          "text": [
            "Epoch 31 completed. Train Loss: 0.9752 | Val Loss: 1.0058\n"
          ]
        },
        {
          "name": "stderr",
          "output_type": "stream",
          "text": [
            " 32%|███▏      | 32/100 [06:55<14:41, 12.97s/it]"
          ]
        },
        {
          "name": "stdout",
          "output_type": "stream",
          "text": [
            "Epoch 32 completed. Train Loss: 0.9614 | Val Loss: 0.9816\n"
          ]
        },
        {
          "name": "stderr",
          "output_type": "stream",
          "text": [
            " 33%|███▎      | 33/100 [07:08<14:27, 12.95s/it]"
          ]
        },
        {
          "name": "stdout",
          "output_type": "stream",
          "text": [
            "Epoch 33 completed. Train Loss: 0.9545 | Val Loss: 0.9720\n"
          ]
        },
        {
          "name": "stderr",
          "output_type": "stream",
          "text": [
            " 34%|███▍      | 34/100 [07:21<14:17, 12.99s/it]"
          ]
        },
        {
          "name": "stdout",
          "output_type": "stream",
          "text": [
            "Epoch 34 completed. Train Loss: 0.9404 | Val Loss: 0.9860\n"
          ]
        },
        {
          "name": "stderr",
          "output_type": "stream",
          "text": [
            " 35%|███▌      | 35/100 [07:34<14:03, 12.98s/it]"
          ]
        },
        {
          "name": "stdout",
          "output_type": "stream",
          "text": [
            "Epoch 35 completed. Train Loss: 0.9270 | Val Loss: 0.9677\n"
          ]
        },
        {
          "name": "stderr",
          "output_type": "stream",
          "text": [
            " 36%|███▌      | 36/100 [07:47<13:48, 12.95s/it]"
          ]
        },
        {
          "name": "stdout",
          "output_type": "stream",
          "text": [
            "Epoch 36 completed. Train Loss: 0.9241 | Val Loss: 0.9548\n"
          ]
        },
        {
          "name": "stderr",
          "output_type": "stream",
          "text": [
            " 37%|███▋      | 37/100 [08:00<13:32, 12.89s/it]"
          ]
        },
        {
          "name": "stdout",
          "output_type": "stream",
          "text": [
            "Epoch 37 completed. Train Loss: 0.9106 | Val Loss: 0.9433\n"
          ]
        },
        {
          "name": "stderr",
          "output_type": "stream",
          "text": [
            " 38%|███▊      | 38/100 [08:13<13:16, 12.84s/it]"
          ]
        },
        {
          "name": "stdout",
          "output_type": "stream",
          "text": [
            "Epoch 38 completed. Train Loss: 0.9003 | Val Loss: 0.9526\n"
          ]
        },
        {
          "name": "stderr",
          "output_type": "stream",
          "text": [
            " 39%|███▉      | 39/100 [08:26<13:04, 12.87s/it]"
          ]
        },
        {
          "name": "stdout",
          "output_type": "stream",
          "text": [
            "Epoch 39 completed. Train Loss: 0.8866 | Val Loss: 0.9312\n"
          ]
        },
        {
          "name": "stderr",
          "output_type": "stream",
          "text": [
            " 40%|████      | 40/100 [08:39<12:56, 12.94s/it]"
          ]
        },
        {
          "name": "stdout",
          "output_type": "stream",
          "text": [
            "Epoch 40 completed. Train Loss: 0.8791 | Val Loss: 0.9322\n"
          ]
        },
        {
          "name": "stderr",
          "output_type": "stream",
          "text": [
            " 41%|████      | 41/100 [08:52<12:43, 12.94s/it]"
          ]
        },
        {
          "name": "stdout",
          "output_type": "stream",
          "text": [
            "Epoch 41 completed. Train Loss: 0.8709 | Val Loss: 0.9321\n"
          ]
        },
        {
          "name": "stderr",
          "output_type": "stream",
          "text": [
            " 42%|████▏     | 42/100 [09:04<12:27, 12.88s/it]"
          ]
        },
        {
          "name": "stdout",
          "output_type": "stream",
          "text": [
            "Epoch 42 completed. Train Loss: 0.8573 | Val Loss: 0.9410\n"
          ]
        },
        {
          "name": "stderr",
          "output_type": "stream",
          "text": [
            " 43%|████▎     | 43/100 [09:17<12:13, 12.87s/it]"
          ]
        },
        {
          "name": "stdout",
          "output_type": "stream",
          "text": [
            "Epoch 43 completed. Train Loss: 0.8488 | Val Loss: 0.9252\n"
          ]
        },
        {
          "name": "stderr",
          "output_type": "stream",
          "text": [
            " 44%|████▍     | 44/100 [09:30<11:57, 12.81s/it]"
          ]
        },
        {
          "name": "stdout",
          "output_type": "stream",
          "text": [
            "Epoch 44 completed. Train Loss: 0.8390 | Val Loss: 0.9194\n"
          ]
        },
        {
          "name": "stderr",
          "output_type": "stream",
          "text": [
            " 45%|████▌     | 45/100 [09:43<11:42, 12.78s/it]"
          ]
        },
        {
          "name": "stdout",
          "output_type": "stream",
          "text": [
            "Epoch 45 completed. Train Loss: 0.8286 | Val Loss: 0.9395\n"
          ]
        },
        {
          "name": "stderr",
          "output_type": "stream",
          "text": [
            " 46%|████▌     | 46/100 [09:55<11:27, 12.72s/it]"
          ]
        },
        {
          "name": "stdout",
          "output_type": "stream",
          "text": [
            "Epoch 46 completed. Train Loss: 0.8176 | Val Loss: 0.9194\n"
          ]
        },
        {
          "name": "stderr",
          "output_type": "stream",
          "text": [
            " 47%|████▋     | 47/100 [10:08<11:15, 12.74s/it]"
          ]
        },
        {
          "name": "stdout",
          "output_type": "stream",
          "text": [
            "Epoch 47 completed. Train Loss: 0.8126 | Val Loss: 0.9090\n"
          ]
        },
        {
          "name": "stderr",
          "output_type": "stream",
          "text": [
            " 48%|████▊     | 48/100 [10:21<11:02, 12.75s/it]"
          ]
        },
        {
          "name": "stdout",
          "output_type": "stream",
          "text": [
            "Epoch 48 completed. Train Loss: 0.7994 | Val Loss: 0.9137\n"
          ]
        },
        {
          "name": "stderr",
          "output_type": "stream",
          "text": [
            " 49%|████▉     | 49/100 [10:33<10:49, 12.73s/it]"
          ]
        },
        {
          "name": "stdout",
          "output_type": "stream",
          "text": [
            "Epoch 49 completed. Train Loss: 0.7917 | Val Loss: 0.8970\n"
          ]
        },
        {
          "name": "stderr",
          "output_type": "stream",
          "text": [
            " 50%|█████     | 50/100 [10:47<10:43, 12.86s/it]"
          ]
        },
        {
          "name": "stdout",
          "output_type": "stream",
          "text": [
            "Epoch 50 completed. Train Loss: 0.7848 | Val Loss: 0.9106\n"
          ]
        },
        {
          "name": "stderr",
          "output_type": "stream",
          "text": [
            " 51%|█████     | 51/100 [10:59<10:29, 12.85s/it]"
          ]
        },
        {
          "name": "stdout",
          "output_type": "stream",
          "text": [
            "Epoch 51 completed. Train Loss: 0.7796 | Val Loss: 0.9024\n"
          ]
        },
        {
          "name": "stderr",
          "output_type": "stream",
          "text": [
            " 52%|█████▏    | 52/100 [11:12<10:14, 12.79s/it]"
          ]
        },
        {
          "name": "stdout",
          "output_type": "stream",
          "text": [
            "Epoch 52 completed. Train Loss: 0.7653 | Val Loss: 0.9003\n"
          ]
        },
        {
          "name": "stderr",
          "output_type": "stream",
          "text": [
            " 53%|█████▎    | 53/100 [11:25<10:02, 12.82s/it]"
          ]
        },
        {
          "name": "stdout",
          "output_type": "stream",
          "text": [
            "Epoch 53 completed. Train Loss: 0.7606 | Val Loss: 0.8999\n"
          ]
        },
        {
          "name": "stderr",
          "output_type": "stream",
          "text": [
            " 53%|█████▎    | 53/100 [11:38<10:19, 13.18s/it]"
          ]
        },
        {
          "name": "stdout",
          "output_type": "stream",
          "text": [
            "Epoch 54 completed. Train Loss: 0.7525 | Val Loss: 0.9032\n",
            "Early stopping at epoch 54\n"
          ]
        },
        {
          "name": "stderr",
          "output_type": "stream",
          "text": [
            "\n"
          ]
        }
      ],
      "source": [
        "trained_CNN, train_losses, val_losses = train_model(model4,\n",
        "                                                    train_loader,\n",
        "                                                    val_loader,\n",
        "                                                    criterion,\n",
        "                                                    optimizer,\n",
        "                                                    device,\n",
        "                                                    num_epochs,\n",
        "                                                    patience)"
      ]
    },
    {
      "cell_type": "markdown",
      "metadata": {
        "id": "6kr1fqAydApS"
      },
      "source": [
        "Provavelmete deveria ter colocado mais épocas, mudarei no futuro"
      ]
    },
    {
      "cell_type": "code",
      "execution_count": null,
      "metadata": {
        "colab": {
          "base_uri": "https://localhost:8080/",
          "height": 474
        },
        "id": "fnatdeq0ZuR4",
        "outputId": "4794e668-dc43-4bb0-fbde-5c3656c6c02f"
      },
      "outputs": [
        {
          "data": {
            "image/png": "[encoded data removed]",
            "text/plain": [
              "<Figure size 640x480 with 1 Axes>"
            ]
          },
          "metadata": {},
          "output_type": "display_data"
        }
      ],
      "source": [
        "plotLoss(train_losses, val_losses)"
      ]
    },
    {
      "cell_type": "code",
      "execution_count": null,
      "metadata": {
        "colab": {
          "base_uri": "https://localhost:8080/"
        },
        "id": "3J7zJXxiZuR4",
        "outputId": "b32f2b5f-07d9-4b87-b1b7-1c6133585dc1"
      },
      "outputs": [
        {
          "name": "stdout",
          "output_type": "stream",
          "text": [
            "Scores of your model\n",
            " {'accuracy': 0.6862, 'balanced_accuracy': np.float64(0.6862), 'precision': 0.6895249081613735, 'recall': 0.6862, 'f1_score': 0.6862434416830232}\n"
          ]
        }
      ],
      "source": [
        "labels, predictions = makePredictions(model4, test_loader)\n",
        "\n",
        "scores = get_scores(labels, predictions)\n",
        "print(\"Scores of your model\\n\", scores)"
      ]
    },
    {
      "cell_type": "markdown",
      "metadata": {
        "id": "jBjjSzPUZuR4"
      },
      "source": [
        "Houve uma queda no desempenho com o aumento muito grande do batch_size"
      ]
    },
    {
      "cell_type": "code",
      "execution_count": null,
      "metadata": {
        "colab": {
          "base_uri": "https://localhost:8080/",
          "height": 523
        },
        "id": "BSapJBHVZuR4",
        "outputId": "1e224983-0db8-4759-e1f4-426addf629f1"
      },
      "outputs": [
        {
          "data": {
            "image/png": "[encoded data removed]",
            "text/plain": [
              "<Figure size 640x480 with 2 Axes>"
            ]
          },
          "metadata": {},
          "output_type": "display_data"
        }
      ],
      "source": [
        "# Lista com nomes das classes (exemplo para CIFAR-10)\n",
        "class_names = ['airplane', 'automobile', 'bird', 'cat', 'deer',\n",
        "               'dog', 'frog', 'horse', 'ship', 'truck']\n",
        "\n",
        "cm = confusion_matrix(labels, predictions)\n",
        "\n",
        "# Plotar a matriz de confusão\n",
        "disp = ConfusionMatrixDisplay(confusion_matrix=cm,\n",
        "                              display_labels=class_names)\n",
        "disp.plot(cmap=plt.cm.Blues, xticks_rotation=45)  # pode mudar o colormap se quiser\n",
        "plt.title(\"Matriz de Confusão\")\n",
        "plt.show()"
      ]
    },
    {
      "cell_type": "markdown",
      "metadata": {
        "id": "bfDt2VAqx2qP"
      },
      "source": [
        "## Mostrar exemplos classificados corretamente e incorretamente"
      ]
    },
    {
      "cell_type": "code",
      "execution_count": null,
      "metadata": {
        "id": "2xHO1fi-x2qP"
      },
      "outputs": [],
      "source": [
        "# Função para desnormalizar e exibir em um subplot (sem plt.show())\n",
        "def imshow_subplot(ax, img_tensor, title=\"\"):\n",
        "    img = img_tensor.cpu().numpy()\n",
        "    # Desnormaliza a imagem\n",
        "    img = img / 2 + 0.5\n",
        "    # Converte de (C, H, W) para (H, W, C) para o matplotlib\n",
        "    img = np.transpose(img, (1, 2, 0))\n",
        "\n",
        "    ax.imshow(img)\n",
        "    ax.set_title(title, fontsize=10)\n",
        "    ax.axis('off')"
      ]
    },
    {
      "cell_type": "code",
      "execution_count": null,
      "metadata": {
        "colab": {
          "base_uri": "https://localhost:8080/",
          "height": 216
        },
        "id": "Nujapy5Ex2qQ",
        "outputId": "ee56413b-0946-4231-c5b6-6fca955322c0"
      },
      "outputs": [
        {
          "ename": "NameError",
          "evalue": "name 'model1' is not defined",
          "output_type": "error",
          "traceback": [
            "\u001b[0;31m---------------------------------------------------------------------------\u001b[0m",
            "\u001b[0;31mNameError\u001b[0m                                 Traceback (most recent call last)",
            "\u001b[0;32m<ipython-input-2-3324007030>\u001b[0m in \u001b[0;36m<cell line: 0>\u001b[0;34m()\u001b[0m\n\u001b[1;32m      6\u001b[0m \u001b[0mincorrect_pred_labels\u001b[0m \u001b[0;34m=\u001b[0m \u001b[0;34m[\u001b[0m\u001b[0;34m]\u001b[0m\u001b[0;34m\u001b[0m\u001b[0;34m\u001b[0m\u001b[0m\n\u001b[1;32m      7\u001b[0m \u001b[0;34m\u001b[0m\u001b[0m\n\u001b[0;32m----> 8\u001b[0;31m \u001b[0mmodel1\u001b[0m\u001b[0;34m.\u001b[0m\u001b[0meval\u001b[0m\u001b[0;34m(\u001b[0m\u001b[0;34m)\u001b[0m\u001b[0;34m\u001b[0m\u001b[0;34m\u001b[0m\u001b[0m\n\u001b[0m\u001b[1;32m      9\u001b[0m \u001b[0;34m\u001b[0m\u001b[0m\n\u001b[1;32m     10\u001b[0m \u001b[0;31m# Loop para encontrar as imagens\u001b[0m\u001b[0;34m\u001b[0m\u001b[0;34m\u001b[0m\u001b[0m\n",
            "\u001b[0;31mNameError\u001b[0m: name 'model1' is not defined"
          ]
        }
      ],
      "source": [
        "# Listas para armazenar os resultados\n",
        "correct_images = []\n",
        "correct_labels = []\n",
        "incorrect_images = []\n",
        "incorrect_true_labels = []\n",
        "incorrect_pred_labels = []\n",
        "\n",
        "model1.eval()\n",
        "\n",
        "# Loop para encontrar as imagens\n",
        "with torch.no_grad():\n",
        "    # Itera sobre o loader de teste\n",
        "    for images, labels in test_loader:\n",
        "        images = images.to(device)\n",
        "        labels = labels.to(device)\n",
        "\n",
        "        outputs = model1(images)\n",
        "        _, preds = torch.max(outputs, 1)\n",
        "\n",
        "        # Itera sobre o batch\n",
        "        for i in range(len(labels)):\n",
        "            if preds[i] == labels[i] and len(correct_images) < 5:\n",
        "                correct_images.append(images[i].cpu())\n",
        "                correct_labels.append(preds[i].cpu())\n",
        "\n",
        "            # Se a previsão está incorreta E ainda não temos 5\n",
        "            elif preds[i] != labels[i] and len(incorrect_images) < 5:\n",
        "                incorrect_images.append(images[i].cpu())\n",
        "                incorrect_true_labels.append(labels[i].cpu())\n",
        "                incorrect_pred_labels.append(preds[i].cpu())\n",
        "\n",
        "            # Condição de parada: para quando ambas as listas estiverem cheias\n",
        "            if len(correct_images) == 5 and len(incorrect_images) == 5:\n",
        "                break\n",
        "\n",
        "        # Para o loop principal também\n",
        "        if len(correct_images) == 5 and len(incorrect_images) == 5:\n",
        "            break\n",
        "\n",
        "print(f\"Encontradas {len(correct_images)} imagens corretas e {len(incorrect_images)} imagens incorretas.\")\n",
        "\n",
        "\n",
        "# Exibe as 5 previsões corretas\n",
        "fig_correct, axes_correct = plt.subplots(1, 5, figsize=(15, 3))\n",
        "fig_correct.suptitle(\"5 Previsões Corretas\", fontsize=16)\n",
        "\n",
        "for i, ax in enumerate(axes_correct):\n",
        "    if i < len(correct_images):\n",
        "        title = f\"Previsto:\\n{class_names[correct_labels[i].item()]}\"\n",
        "        imshow_subplot(ax, correct_images[i], title)\n",
        "plt.tight_layout(rect=[0, 0, 1, 0.95]) # Ajusta para o super-título\n",
        "plt.show()\n",
        "\n",
        "\n",
        "# Exibe as 5 previsões incorretas\n",
        "fig_incorrect, axes_incorrect = plt.subplots(1, 5, figsize=(15, 4)) # Um pouco mais de altura para o título duplo\n",
        "fig_incorrect.suptitle(\"5 Previsões Incorretas\", fontsize=16)\n",
        "\n",
        "for i, ax in enumerate(axes_incorrect):\n",
        "    if i < len(incorrect_images):\n",
        "        title = f\"Previsto: {class_names[incorrect_pred_labels[i].item()]}\\nReal: {class_names[incorrect_true_labels[i].item()]}\"\n",
        "        imshow_subplot(ax, incorrect_images[i], title)\n",
        "plt.tight_layout(rect=[0, 0, 1, 0.95])\n",
        "plt.show()"
      ]
    }
  ],
  "metadata": {
    "accelerator": "GPU",
    "colab": {
      "collapsed_sections": [
        "vaQKQ4xDx2qL",
        "2yZVu4knx2qP",
        "1cDyHMzq-prL",
        "9C3iUOjbZgAU",
        "bfDt2VAqx2qP"
      ],
      "gpuType": "T4",
      "provenance": []
    },
    "kernelspec": {
      "display_name": "Python 3",
      "name": "python3"
    },
    "language_info": {
      "name": "python"
    }
  },
  "nbformat": 4,
  "nbformat_minor": 0
}
